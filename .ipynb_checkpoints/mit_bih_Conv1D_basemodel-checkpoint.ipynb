{
 "cells": [
  {
   "cell_type": "code",
   "execution_count": 1,
   "metadata": {
    "execution": {
     "iopub.execute_input": "2021-10-22T16:45:36.028152Z",
     "iopub.status.busy": "2021-10-22T16:45:36.021122Z",
     "iopub.status.idle": "2021-10-22T16:45:45.076986Z",
     "shell.execute_reply": "2021-10-22T16:45:45.076986Z",
     "shell.execute_reply.started": "2021-10-22T16:45:36.028152Z"
    },
    "tags": []
   },
   "outputs": [],
   "source": [
    "import numpy as np\n",
    "import pandas as pd\n",
    "import tensorflow as tf\n",
    "import os\n",
    "\n",
    "from matplotlib import pyplot as plt\n",
    "%matplotlib inline\n",
    "%config InlineBackend.figure_format = 'retina'\n",
    "#%pdb"
   ]
  },
  {
   "cell_type": "code",
   "execution_count": 2,
   "metadata": {
    "execution": {
     "iopub.execute_input": "2021-10-22T16:45:45.076986Z",
     "iopub.status.busy": "2021-10-22T16:45:45.076986Z",
     "iopub.status.idle": "2021-10-22T16:45:47.754081Z",
     "shell.execute_reply": "2021-10-22T16:45:47.752116Z",
     "shell.execute_reply.started": "2021-10-22T16:45:45.076986Z"
    },
    "tags": []
   },
   "outputs": [
    {
     "name": "stdout",
     "output_type": "stream",
     "text": [
      "Num GPUs Available:  1\n"
     ]
    }
   ],
   "source": [
    "print(\"Num GPUs Available: \", len(tf.config.list_physical_devices('GPU')))"
   ]
  },
  {
   "cell_type": "markdown",
   "metadata": {},
   "source": [
    "https://www.analyticsvidhya.com/blog/2021/04/how-to-download-kaggle-datasets-using-jupyter-notebook/"
   ]
  },
  {
   "cell_type": "code",
   "execution_count": 3,
   "metadata": {
    "execution": {
     "iopub.execute_input": "2021-10-22T16:45:47.756078Z",
     "iopub.status.busy": "2021-10-22T16:45:47.756078Z",
     "iopub.status.idle": "2021-10-22T16:45:47.829073Z",
     "shell.execute_reply": "2021-10-22T16:45:47.827074Z",
     "shell.execute_reply.started": "2021-10-22T16:45:47.756078Z"
    },
    "tags": []
   },
   "outputs": [
    {
     "name": "stdout",
     "output_type": "stream",
     "text": [
      "Skipping, found downloaded files in \".\\mitbihcsv\" (use force=True to force download)\n"
     ]
    }
   ],
   "source": [
    "import opendatasets as od\n",
    "\n",
    "od.download(\"https://www.kaggle.com/mohammedfarag/mitbihcsv\")"
   ]
  },
  {
   "cell_type": "code",
   "execution_count": 4,
   "metadata": {
    "execution": {
     "iopub.execute_input": "2021-10-22T16:45:47.830074Z",
     "iopub.status.busy": "2021-10-22T16:45:47.830074Z",
     "iopub.status.idle": "2021-10-22T16:45:47.843074Z",
     "shell.execute_reply": "2021-10-22T16:45:47.842074Z",
     "shell.execute_reply.started": "2021-10-22T16:45:47.830074Z"
    },
    "tags": []
   },
   "outputs": [],
   "source": [
    "data_set_path=os.path.join(\"mitbihcsv\",\"mit_bih_data_set.csv\")"
   ]
  },
  {
   "cell_type": "code",
   "execution_count": 5,
   "metadata": {
    "execution": {
     "iopub.execute_input": "2021-10-22T16:45:47.845074Z",
     "iopub.status.busy": "2021-10-22T16:45:47.845074Z",
     "iopub.status.idle": "2021-10-22T16:45:50.794616Z",
     "shell.execute_reply": "2021-10-22T16:45:50.794616Z",
     "shell.execute_reply.started": "2021-10-22T16:45:47.845074Z"
    },
    "tags": []
   },
   "outputs": [],
   "source": [
    "data_set = pd.read_csv(data_set_path,dtype=float)"
   ]
  },
  {
   "cell_type": "markdown",
   "metadata": {},
   "source": [
    "https://physionet.org/content/mitdb/1.0.0/\n",
    "\n",
    "Background\n",
    "\n",
    "Since 1975, our laboratories at Boston's Beth Israel Hospital (now the Beth Israel Deaconess Medical Center) and at MIT have supported our own research into arrhythmia analysis and related subjects. One of the first major products of that effort was the MIT-BIH Arrhythmia Database, which we completed and began distributing in 1980. The database was the first generally available set of standard test material for evaluation of arrhythmia detectors, and has been used for that purpose as well as for basic research into cardiac dynamics at more than 500 sites worldwide. Originally, we distributed the database on 9-track half-inch digital tape at 800 and 1600 bpi, and on quarter-inch IRIG-format FM analog tape. In August, 1989, we produced a CD-ROM version of the database.\n",
    "\n",
    "Data Description\n",
    "\n",
    "The MIT-BIH Arrhythmia Database contains 48 half-hour excerpts of two-channel ambulatory ECG recordings, obtained from 47 subjects studied by the BIH Arrhythmia Laboratory between 1975 and 1979. Twenty-three recordings were chosen at random from a set of 4000 24-hour ambulatory ECG recordings collected from a mixed population of inpatients (about 60%) and outpatients (about 40%) at Boston's Beth Israel Hospital; the remaining 25 recordings were selected from the same set to include less common but clinically significant arrhythmias that would not be well-represented in a small random sample.\n",
    "\n",
    "The recordings were digitized at 360 samples per second per channel with 11-bit resolution over a 10 mV range. Two or more cardiologists independently annotated each record; disagreements were resolved to obtain the computer-readable reference annotations for each beat (approximately 110,000 annotations in all) included with the database."
   ]
  },
  {
   "cell_type": "code",
   "execution_count": 6,
   "metadata": {
    "execution": {
     "iopub.execute_input": "2021-10-22T16:45:50.794616Z",
     "iopub.status.busy": "2021-10-22T16:45:50.794616Z",
     "iopub.status.idle": "2021-10-22T16:45:50.811523Z",
     "shell.execute_reply": "2021-10-22T16:45:50.809560Z",
     "shell.execute_reply.started": "2021-10-22T16:45:50.794616Z"
    },
    "tags": []
   },
   "outputs": [],
   "source": [
    "num_classes=6"
   ]
  },
  {
   "cell_type": "code",
   "execution_count": 7,
   "metadata": {
    "execution": {
     "iopub.execute_input": "2021-10-22T16:45:50.813565Z",
     "iopub.status.busy": "2021-10-22T16:45:50.812563Z",
     "iopub.status.idle": "2021-10-22T16:45:50.825524Z",
     "shell.execute_reply": "2021-10-22T16:45:50.824533Z",
     "shell.execute_reply.started": "2021-10-22T16:45:50.813565Z"
    },
    "tags": []
   },
   "outputs": [
    {
     "data": {
      "text/plain": [
       "(42020, 320)"
      ]
     },
     "execution_count": 7,
     "metadata": {},
     "output_type": "execute_result"
    }
   ],
   "source": [
    "data_set.shape"
   ]
  },
  {
   "cell_type": "code",
   "execution_count": 8,
   "metadata": {
    "execution": {
     "iopub.execute_input": "2021-10-22T16:45:50.826524Z",
     "iopub.status.busy": "2021-10-22T16:45:50.826524Z",
     "iopub.status.idle": "2021-10-22T16:45:50.843531Z",
     "shell.execute_reply": "2021-10-22T16:45:50.839532Z",
     "shell.execute_reply.started": "2021-10-22T16:45:50.826524Z"
    },
    "tags": []
   },
   "outputs": [],
   "source": [
    "data_set_np = data_set.to_numpy()"
   ]
  },
  {
   "cell_type": "code",
   "execution_count": 9,
   "metadata": {
    "execution": {
     "iopub.execute_input": "2021-10-22T16:45:50.848534Z",
     "iopub.status.busy": "2021-10-22T16:45:50.847526Z",
     "iopub.status.idle": "2021-10-22T16:45:50.871527Z",
     "shell.execute_reply": "2021-10-22T16:45:50.869524Z",
     "shell.execute_reply.started": "2021-10-22T16:45:50.848534Z"
    },
    "tags": []
   },
   "outputs": [
    {
     "data": {
      "text/plain": [
       "(42020, 320)"
      ]
     },
     "execution_count": 9,
     "metadata": {},
     "output_type": "execute_result"
    }
   ],
   "source": [
    "data_set_np.shape"
   ]
  },
  {
   "cell_type": "code",
   "execution_count": 10,
   "metadata": {
    "execution": {
     "iopub.execute_input": "2021-10-22T16:45:50.875526Z",
     "iopub.status.busy": "2021-10-22T16:45:50.874541Z",
     "iopub.status.idle": "2021-10-22T16:45:50.886525Z",
     "shell.execute_reply": "2021-10-22T16:45:50.884564Z",
     "shell.execute_reply.started": "2021-10-22T16:45:50.874541Z"
    },
    "tags": []
   },
   "outputs": [],
   "source": [
    "X = data_set_np[:,:-1]"
   ]
  },
  {
   "cell_type": "code",
   "execution_count": 11,
   "metadata": {
    "execution": {
     "iopub.execute_input": "2021-10-22T16:45:50.889530Z",
     "iopub.status.busy": "2021-10-22T16:45:50.889530Z",
     "iopub.status.idle": "2021-10-22T16:45:50.901535Z",
     "shell.execute_reply": "2021-10-22T16:45:50.899529Z",
     "shell.execute_reply.started": "2021-10-22T16:45:50.889530Z"
    },
    "tags": []
   },
   "outputs": [],
   "source": [
    "y = data_set_np[:,-1]"
   ]
  },
  {
   "cell_type": "code",
   "execution_count": 12,
   "metadata": {
    "execution": {
     "iopub.execute_input": "2021-10-22T16:45:50.903526Z",
     "iopub.status.busy": "2021-10-22T16:45:50.902524Z",
     "iopub.status.idle": "2021-10-22T16:45:53.245885Z",
     "shell.execute_reply": "2021-10-22T16:45:53.244915Z",
     "shell.execute_reply.started": "2021-10-22T16:45:50.903526Z"
    },
    "tags": []
   },
   "outputs": [],
   "source": [
    "# prepare data for keras model\n",
    "\n",
    "from sklearn.preprocessing import StandardScaler\n",
    "from sklearn.model_selection import train_test_split\n",
    "\n",
    "scalar = StandardScaler()\n",
    "X = scalar.fit_transform(X)\n",
    "\n",
    "X_trn, X_tst, y_trn, y_tst = train_test_split(X, y, test_size=0.2,stratify=y, random_state=42)"
   ]
  },
  {
   "cell_type": "code",
   "execution_count": 13,
   "metadata": {
    "execution": {
     "iopub.execute_input": "2021-10-22T16:45:53.247933Z",
     "iopub.status.busy": "2021-10-22T16:45:53.247933Z",
     "iopub.status.idle": "2021-10-22T16:45:53.276880Z",
     "shell.execute_reply": "2021-10-22T16:45:53.274880Z",
     "shell.execute_reply.started": "2021-10-22T16:45:53.247933Z"
    }
   },
   "outputs": [],
   "source": [
    "from sklearn.preprocessing import OneHotEncoder\n",
    "enc = OneHotEncoder()\n",
    "\n",
    "enc.fit(y_trn.reshape(-1, 1))\n",
    "y_trn_oh = enc.transform(y_trn.reshape(-1, 1)).toarray()\n",
    "\n",
    "enc.fit(y_tst.reshape(-1, 1))\n",
    "y_tst_oh = enc.transform(y_tst.reshape(-1, 1)).toarray()"
   ]
  },
  {
   "cell_type": "code",
   "execution_count": 14,
   "metadata": {
    "execution": {
     "iopub.execute_input": "2021-10-22T16:45:53.279881Z",
     "iopub.status.busy": "2021-10-22T16:45:53.278879Z",
     "iopub.status.idle": "2021-10-22T16:45:53.321877Z",
     "shell.execute_reply": "2021-10-22T16:45:53.319880Z",
     "shell.execute_reply.started": "2021-10-22T16:45:53.279881Z"
    },
    "tags": []
   },
   "outputs": [],
   "source": [
    "#import tensorflow as tf\n",
    "#from tensorflow.keras.utils import to_categorical\n",
    "\n",
    "#y_trn_oh = to_categorical(y_trn)\n",
    "#y_tst_oh = to_categorical(y_tst)\n",
    "\n",
    "X_trn_tf = np.expand_dims(X_trn, axis=2)\n",
    "X_tst_tf = np.expand_dims(X_tst, axis=2)\n",
    "\n",
    "\n",
    "X_tst = X_tst.astype('float32')\n",
    "X_tst_tf = X_tst_tf.astype('float32')"
   ]
  },
  {
   "cell_type": "code",
   "execution_count": 15,
   "metadata": {
    "execution": {
     "iopub.execute_input": "2021-10-22T16:45:53.323880Z",
     "iopub.status.busy": "2021-10-22T16:45:53.323880Z",
     "iopub.status.idle": "2021-10-22T16:45:53.352881Z",
     "shell.execute_reply": "2021-10-22T16:45:53.349879Z",
     "shell.execute_reply.started": "2021-10-22T16:45:53.323880Z"
    },
    "tags": []
   },
   "outputs": [],
   "source": [
    "# Network\n",
    "def network(X_train,y_train,X_test,y_test):\n",
    "    \n",
    "    model = Sequential()\n",
    "\n",
    "    model.add(Conv1D(filters=32, kernel_size=8, activation='relu', \n",
    "                     strides=1, padding=\"valid\",input_shape=X_train[1,:].shape,\n",
    "                     name='Conv1DLayer1'))\n",
    "    model.add(BatchNormalization())\n",
    "    model.add(Dropout(0.2))\n",
    "    model.add(MaxPooling1D(pool_size=4, strides=2, padding='same'))\n",
    "    \n",
    "    model.add(Conv1D(filters=16, kernel_size=8, activation='relu', \n",
    "                     strides=1, padding=\"valid\", name='Conv1DLayer2'))\n",
    "    model.add(BatchNormalization())\n",
    "    model.add(Dropout(0.2))\n",
    "    model.add(MaxPooling1D(pool_size=4, strides=2, padding='same'))\n",
    "\n",
    "    model.add(Conv1D(filters=8, kernel_size=8, activation='relu', \n",
    "                     strides=1, padding=\"valid\", name='Conv1DLayer3'))\n",
    "    model.add(BatchNormalization())\n",
    "    model.add(Dropout(0.2))\n",
    "    model.add(MaxPooling1D(pool_size=4, strides=2, padding='same'))\n",
    "\n",
    "    #model.add(GRU(10,return_sequences=True))\n",
    "    \n",
    "    model.add(Flatten())\n",
    "    #model.add(GlobalAveragePooling1D())\n",
    "    model.add(Dense(num_classes, activation='softmax', name = 'OuputLayer'))\n",
    "    \n",
    "    opt = RMSprop(learning_rate=0.001)\n",
    "\n",
    "    model.compile(loss='categorical_crossentropy', optimizer=opt, \n",
    "                  metrics=['accuracy'])\n",
    "\n",
    "    callbacks = [EarlyStopping(monitor='val_loss', patience=10),\n",
    "                 ModelCheckpoint(filepath='./best_model.h5', monitor='val_accuracy', \n",
    "                                 save_best_only=True)]\n",
    "\n",
    "    # fit network\n",
    "    history=model.fit(X_train, y_train, epochs=50,callbacks=callbacks, \n",
    "                      batch_size=500,validation_split=0.2,shuffle=True)\n",
    "\n",
    "    model.load_weights('best_model.h5')\n",
    "    return(model,history)"
   ]
  },
  {
   "cell_type": "code",
   "execution_count": 16,
   "metadata": {
    "execution": {
     "iopub.execute_input": "2021-10-22T16:45:53.355880Z",
     "iopub.status.busy": "2021-10-22T16:45:53.355880Z",
     "iopub.status.idle": "2021-10-22T16:45:53.381883Z",
     "shell.execute_reply": "2021-10-22T16:45:53.379881Z",
     "shell.execute_reply.started": "2021-10-22T16:45:53.355880Z"
    },
    "tags": []
   },
   "outputs": [],
   "source": [
    "def evaluate_model(history,X_test,y_test,model):\n",
    "    scores = model.evaluate((X_test),y_test, verbose=0)\n",
    "    print(\"Accuracy: %.2f%%\" % (scores[1]*100))\n",
    "    \n",
    "    print(history)\n",
    "    fig1, ax_acc = plt.subplots()\n",
    "    plt.plot(history.history['accuracy'])\n",
    "    plt.plot(history.history['val_accuracy'])\n",
    "    plt.xlabel('Epoch')\n",
    "    plt.ylabel('Accuracy')\n",
    "    plt.title('Model - Accuracy')\n",
    "    plt.legend(['Training', 'Validation'], loc='lower right')\n",
    "    plt.show()\n",
    "    \n",
    "    fig2, ax_loss = plt.subplots()\n",
    "    plt.xlabel('Epoch')\n",
    "    plt.ylabel('Loss')\n",
    "    plt.title('Model- Loss')\n",
    "    plt.legend(['Training', 'Validation'], loc='upper right')\n",
    "    plt.plot(history.history['loss'])\n",
    "    plt.plot(history.history['val_loss'])\n",
    "    plt.show()\n",
    "    target_names=['0','1','2','3','4','5']\n",
    "    \n",
    "    y_true=[]\n",
    "    for element in y_test:\n",
    "        y_true.append(np.argmax(element))\n",
    "    prediction_proba=model.predict(X_test)\n",
    "    prediction=np.argmax(prediction_proba,axis=1)\n",
    "    cnf_matrix = confusion_matrix(y_true, prediction)"
   ]
  },
  {
   "cell_type": "code",
   "execution_count": 17,
   "metadata": {
    "execution": {
     "iopub.execute_input": "2021-10-22T16:45:53.384878Z",
     "iopub.status.busy": "2021-10-22T16:45:53.383880Z",
     "iopub.status.idle": "2021-10-22T16:48:06.018085Z",
     "shell.execute_reply": "2021-10-22T16:48:06.017084Z",
     "shell.execute_reply.started": "2021-10-22T16:45:53.383880Z"
    },
    "tags": []
   },
   "outputs": [
    {
     "name": "stdout",
     "output_type": "stream",
     "text": [
      "Epoch 1/50\n",
      "54/54 [==============================] - 11s 86ms/step - loss: 1.1083 - accuracy: 0.6369 - val_loss: 1.8735 - val_accuracy: 0.2991\n",
      "Epoch 2/50\n",
      "54/54 [==============================] - 3s 56ms/step - loss: 0.3140 - accuracy: 0.9128 - val_loss: 1.9597 - val_accuracy: 0.3394\n",
      "Epoch 3/50\n",
      "54/54 [==============================] - 3s 56ms/step - loss: 0.2054 - accuracy: 0.9411 - val_loss: 1.9115 - val_accuracy: 0.3239\n",
      "Epoch 4/50\n",
      "54/54 [==============================] - 3s 55ms/step - loss: 0.1510 - accuracy: 0.9544 - val_loss: 1.5517 - val_accuracy: 0.3522\n",
      "Epoch 5/50\n",
      "54/54 [==============================] - 3s 55ms/step - loss: 0.1216 - accuracy: 0.9631 - val_loss: 1.3377 - val_accuracy: 0.3902\n",
      "Epoch 6/50\n",
      "54/54 [==============================] - 3s 55ms/step - loss: 0.1068 - accuracy: 0.9696 - val_loss: 0.9238 - val_accuracy: 0.6178\n",
      "Epoch 7/50\n",
      "54/54 [==============================] - 3s 56ms/step - loss: 0.0916 - accuracy: 0.9739 - val_loss: 0.5228 - val_accuracy: 0.8055\n",
      "Epoch 8/50\n",
      "54/54 [==============================] - 3s 55ms/step - loss: 0.0770 - accuracy: 0.9781 - val_loss: 0.3378 - val_accuracy: 0.8919\n",
      "Epoch 9/50\n",
      "54/54 [==============================] - 3s 56ms/step - loss: 0.0676 - accuracy: 0.9807 - val_loss: 0.1763 - val_accuracy: 0.9532\n",
      "Epoch 10/50\n",
      "54/54 [==============================] - 3s 56ms/step - loss: 0.0672 - accuracy: 0.9805 - val_loss: 0.1358 - val_accuracy: 0.9579\n",
      "Epoch 11/50\n",
      "54/54 [==============================] - 3s 56ms/step - loss: 0.0583 - accuracy: 0.9826 - val_loss: 0.1042 - val_accuracy: 0.9692\n",
      "Epoch 12/50\n",
      "54/54 [==============================] - 3s 56ms/step - loss: 0.0552 - accuracy: 0.9839 - val_loss: 0.0884 - val_accuracy: 0.9732\n",
      "Epoch 13/50\n",
      "54/54 [==============================] - 3s 57ms/step - loss: 0.0516 - accuracy: 0.9847 - val_loss: 0.0723 - val_accuracy: 0.9781\n",
      "Epoch 14/50\n",
      "54/54 [==============================] - 3s 56ms/step - loss: 0.0471 - accuracy: 0.9870 - val_loss: 0.0574 - val_accuracy: 0.9830\n",
      "Epoch 15/50\n",
      "54/54 [==============================] - 3s 56ms/step - loss: 0.0449 - accuracy: 0.9859 - val_loss: 0.0632 - val_accuracy: 0.9825\n",
      "Epoch 16/50\n",
      "54/54 [==============================] - 3s 56ms/step - loss: 0.0404 - accuracy: 0.9885 - val_loss: 0.0766 - val_accuracy: 0.9781\n",
      "Epoch 17/50\n",
      "54/54 [==============================] - 3s 56ms/step - loss: 0.0438 - accuracy: 0.9869 - val_loss: 0.0493 - val_accuracy: 0.9881\n",
      "Epoch 18/50\n",
      "54/54 [==============================] - 3s 56ms/step - loss: 0.0400 - accuracy: 0.9886 - val_loss: 0.0658 - val_accuracy: 0.9801\n",
      "Epoch 19/50\n",
      "54/54 [==============================] - 3s 56ms/step - loss: 0.0375 - accuracy: 0.9872 - val_loss: 0.0526 - val_accuracy: 0.9838\n",
      "Epoch 20/50\n",
      "54/54 [==============================] - 3s 56ms/step - loss: 0.0390 - accuracy: 0.9882 - val_loss: 0.0755 - val_accuracy: 0.9772\n",
      "Epoch 21/50\n",
      "54/54 [==============================] - 3s 56ms/step - loss: 0.0357 - accuracy: 0.9882 - val_loss: 0.0680 - val_accuracy: 0.9795\n",
      "Epoch 22/50\n",
      "54/54 [==============================] - 3s 56ms/step - loss: 0.0352 - accuracy: 0.9896 - val_loss: 0.0436 - val_accuracy: 0.9877\n",
      "Epoch 23/50\n",
      "54/54 [==============================] - 3s 57ms/step - loss: 0.0345 - accuracy: 0.9896 - val_loss: 0.0562 - val_accuracy: 0.9830\n",
      "Epoch 24/50\n",
      "54/54 [==============================] - 3s 56ms/step - loss: 0.0315 - accuracy: 0.9906 - val_loss: 0.0482 - val_accuracy: 0.9862\n",
      "Epoch 25/50\n",
      "54/54 [==============================] - 3s 56ms/step - loss: 0.0332 - accuracy: 0.9898 - val_loss: 0.0495 - val_accuracy: 0.9865\n",
      "Epoch 26/50\n",
      "54/54 [==============================] - 3s 58ms/step - loss: 0.0309 - accuracy: 0.9904 - val_loss: 0.0459 - val_accuracy: 0.9883 0s - loss: 0.0307 - accuracy: 0. - ETA: 0s - loss: 0.0307 - accuracy: 0. - ETA: 0s - loss: 0.0308 - accuracy: \n",
      "Epoch 27/50\n",
      "54/54 [==============================] - 3s 59ms/step - loss: 0.0283 - accuracy: 0.9916 - val_loss: 0.0553 - val_accuracy: 0.9830\n",
      "Epoch 28/50\n",
      "54/54 [==============================] - 3s 57ms/step - loss: 0.0261 - accuracy: 0.9926 - val_loss: 0.0640 - val_accuracy: 0.9780\n",
      "Epoch 29/50\n",
      "54/54 [==============================] - 3s 56ms/step - loss: 0.0311 - accuracy: 0.9905 - val_loss: 0.0474 - val_accuracy: 0.9875\n",
      "Epoch 30/50\n",
      "54/54 [==============================] - 3s 56ms/step - loss: 0.0278 - accuracy: 0.9918 - val_loss: 0.0390 - val_accuracy: 0.9885\n",
      "Epoch 31/50\n",
      "54/54 [==============================] - 3s 56ms/step - loss: 0.0263 - accuracy: 0.9912 - val_loss: 0.0433 - val_accuracy: 0.9880\n",
      "Epoch 32/50\n",
      "54/54 [==============================] - 3s 56ms/step - loss: 0.0245 - accuracy: 0.9930 - val_loss: 0.0485 - val_accuracy: 0.9884\n",
      "Epoch 33/50\n",
      "54/54 [==============================] - 3s 56ms/step - loss: 0.0248 - accuracy: 0.9921 - val_loss: 0.0438 - val_accuracy: 0.9897\n",
      "Epoch 34/50\n",
      "54/54 [==============================] - 3s 56ms/step - loss: 0.0267 - accuracy: 0.9920 - val_loss: 0.0538 - val_accuracy: 0.9857\n",
      "Epoch 35/50\n",
      "54/54 [==============================] - 3s 56ms/step - loss: 0.0211 - accuracy: 0.9927 - val_loss: 0.0508 - val_accuracy: 0.9868\n",
      "Epoch 36/50\n",
      "54/54 [==============================] - 3s 55ms/step - loss: 0.0252 - accuracy: 0.9922 - val_loss: 0.0469 - val_accuracy: 0.9881\n",
      "Epoch 37/50\n",
      "54/54 [==============================] - 3s 56ms/step - loss: 0.0220 - accuracy: 0.9927 - val_loss: 0.0489 - val_accuracy: 0.9862\n",
      "Epoch 38/50\n",
      "54/54 [==============================] - 3s 56ms/step - loss: 0.0189 - accuracy: 0.9937 - val_loss: 0.0529 - val_accuracy: 0.9850\n",
      "Epoch 39/50\n",
      "54/54 [==============================] - 3s 57ms/step - loss: 0.0197 - accuracy: 0.9941 - val_loss: 0.0723 - val_accuracy: 0.9783\n",
      "Epoch 40/50\n",
      "54/54 [==============================] - 3s 56ms/step - loss: 0.0230 - accuracy: 0.9926 - val_loss: 0.0504 - val_accuracy: 0.9862\n"
     ]
    }
   ],
   "source": [
    "from tensorflow import keras\n",
    "from keras.models import Sequential\n",
    "from keras.layers import Dense, Flatten, ReLU, Dropout, GRU, LSTM, Conv1D, Input, MaxPooling1D, GlobalMaxPooling1D, GlobalAveragePooling1D, BatchNormalization\n",
    "from keras.optimizers import RMSprop\n",
    "from keras.callbacks import EarlyStopping, ModelCheckpoint\n",
    "from keras.preprocessing.image import ImageDataGenerator\n",
    "\n",
    "model,history=network(X_trn_tf,y_trn_oh,X_tst_tf,y_tst_oh)"
   ]
  },
  {
   "cell_type": "code",
   "execution_count": 18,
   "metadata": {
    "execution": {
     "iopub.execute_input": "2021-10-22T16:48:06.020084Z",
     "iopub.status.busy": "2021-10-22T16:48:06.020084Z",
     "iopub.status.idle": "2021-10-22T16:48:09.562517Z",
     "shell.execute_reply": "2021-10-22T16:48:09.562517Z",
     "shell.execute_reply.started": "2021-10-22T16:48:06.020084Z"
    },
    "tags": []
   },
   "outputs": [
    {
     "name": "stdout",
     "output_type": "stream",
     "text": [
      "Accuracy: 98.88%\n",
      "<tensorflow.python.keras.callbacks.History object at 0x00000297C19038E0>\n"
     ]
    },
    {
     "data": {
      "image/png": "[encoded data removed]",
      "text/plain": [
       "<Figure size 432x288 with 1 Axes>"
      ]
     },
     "metadata": {
      "image/png": {
       "height": 277,
       "width": 385
      },
      "needs_background": "light"
     },
     "output_type": "display_data"
    },
    {
     "data": {
      "image/png": "[encoded data removed]",
      "text/plain": [
       "<Figure size 432x288 with 1 Axes>"
      ]
     },
     "metadata": {
      "image/png": {
       "height": 277,
       "width": 392
      },
      "needs_background": "light"
     },
     "output_type": "display_data"
    },
    {
     "name": "stdout",
     "output_type": "stream",
     "text": [
      "Wall time: 3.52 s\n"
     ]
    }
   ],
   "source": [
    "%%time\n",
    "from sklearn.metrics import confusion_matrix\n",
    "\n",
    "evaluate_model(history,X_tst_tf,y_tst_oh,model)\n",
    "y_pred=model.predict(X_tst_tf)"
   ]
  },
  {
   "cell_type": "code",
   "execution_count": 19,
   "metadata": {
    "execution": {
     "iopub.execute_input": "2021-10-22T16:48:09.562517Z",
     "iopub.status.busy": "2021-10-22T16:48:09.562517Z",
     "iopub.status.idle": "2021-10-22T16:48:10.223786Z",
     "shell.execute_reply": "2021-10-22T16:48:10.222775Z",
     "shell.execute_reply.started": "2021-10-22T16:48:09.562517Z"
    },
    "tags": []
   },
   "outputs": [
    {
     "name": "stdout",
     "output_type": "stream",
     "text": [
      "Normalized confusion matrix\n"
     ]
    },
    {
     "data": {
      "image/png": "[encoded data removed]",
      "text/plain": [
       "<Figure size 720x720 with 2 Axes>"
      ]
     },
     "metadata": {
      "image/png": {
       "height": 712,
       "width": 681
      },
      "needs_background": "light"
     },
     "output_type": "display_data"
    }
   ],
   "source": [
    "import itertools\n",
    "def plot_confusion_matrix(cm, classes,\n",
    "                          normalize=False,\n",
    "                          title='Confusion matrix',\n",
    "                          cmap=plt.cm.Blues):\n",
    "    \"\"\"\n",
    "    This function prints and plots the confusion matrix.\n",
    "    Normalization can be applied by setting `normalize=True`.\n",
    "    \"\"\"\n",
    "    if normalize:\n",
    "        cm = cm.astype('float') / cm.sum(axis=1)[:, np.newaxis]\n",
    "        print(\"Normalized confusion matrix\")\n",
    "    else:\n",
    "        print('Confusion matrix, without normalization')\n",
    "\n",
    "    plt.imshow(cm, interpolation='nearest', cmap=cmap)\n",
    "    plt.title(title)\n",
    "    plt.colorbar()\n",
    "    tick_marks = np.arange(len(classes))\n",
    "    plt.xticks(tick_marks, classes, rotation=45)\n",
    "    plt.yticks(tick_marks, classes)\n",
    "\n",
    "    fmt = '.2f' if normalize else 'd'\n",
    "    thresh = cm.max() / 2.\n",
    "    for i, j in itertools.product(range(cm.shape[0]), range(cm.shape[1])):\n",
    "        plt.text(j, i, format(cm[i, j], fmt),\n",
    "                 horizontalalignment=\"center\",\n",
    "                 color=\"white\" if cm[i, j] > thresh else \"black\")\n",
    "\n",
    "    plt.tight_layout()\n",
    "    plt.ylabel('True label')\n",
    "    plt.xlabel('Predicted label')\n",
    "\n",
    "# Compute confusion matrix\n",
    "cnf_matrix = confusion_matrix(y_tst_oh.argmax(axis=1), y_pred.argmax(axis=1))\n",
    "np.set_printoptions(precision=2)\n",
    "\n",
    "# Plot non-normalized confusion matrix\n",
    "plt.figure(figsize=(10, 10))\n",
    "plot_confusion_matrix(cnf_matrix, classes=['N', 'L', 'R', 'A', 'V', '/'],normalize=True,\n",
    "                      title='Confusion matrix, with normalization')\n",
    "plt.show()    "
   ]
  },
  {
   "cell_type": "code",
   "execution_count": 20,
   "metadata": {
    "execution": {
     "iopub.execute_input": "2021-10-22T16:48:10.225754Z",
     "iopub.status.busy": "2021-10-22T16:48:10.225754Z",
     "iopub.status.idle": "2021-10-22T16:48:10.256750Z",
     "shell.execute_reply": "2021-10-22T16:48:10.252751Z",
     "shell.execute_reply.started": "2021-10-22T16:48:10.225754Z"
    },
    "tags": []
   },
   "outputs": [
    {
     "name": "stdout",
     "output_type": "stream",
     "text": [
      "Model: \"sequential\"\n",
      "_________________________________________________________________\n",
      "Layer (type)                 Output Shape              Param #   \n",
      "=================================================================\n",
      "Conv1DLayer1 (Conv1D)        (None, 312, 32)           288       \n",
      "_________________________________________________________________\n",
      "batch_normalization (BatchNo (None, 312, 32)           128       \n",
      "_________________________________________________________________\n",
      "dropout (Dropout)            (None, 312, 32)           0         \n",
      "_________________________________________________________________\n",
      "max_pooling1d (MaxPooling1D) (None, 156, 32)           0         \n",
      "_________________________________________________________________\n",
      "Conv1DLayer2 (Conv1D)        (None, 149, 16)           4112      \n",
      "_________________________________________________________________\n",
      "batch_normalization_1 (Batch (None, 149, 16)           64        \n",
      "_________________________________________________________________\n",
      "dropout_1 (Dropout)          (None, 149, 16)           0         \n",
      "_________________________________________________________________\n",
      "max_pooling1d_1 (MaxPooling1 (None, 75, 16)            0         \n",
      "_________________________________________________________________\n",
      "Conv1DLayer3 (Conv1D)        (None, 68, 8)             1032      \n",
      "_________________________________________________________________\n",
      "batch_normalization_2 (Batch (None, 68, 8)             32        \n",
      "_________________________________________________________________\n",
      "dropout_2 (Dropout)          (None, 68, 8)             0         \n",
      "_________________________________________________________________\n",
      "max_pooling1d_2 (MaxPooling1 (None, 34, 8)             0         \n",
      "_________________________________________________________________\n",
      "flatten (Flatten)            (None, 272)               0         \n",
      "_________________________________________________________________\n",
      "OuputLayer (Dense)           (None, 6)                 1638      \n",
      "=================================================================\n",
      "Total params: 7,294\n",
      "Trainable params: 7,182\n",
      "Non-trainable params: 112\n",
      "_________________________________________________________________\n"
     ]
    }
   ],
   "source": [
    "model.summary()"
   ]
  },
  {
   "cell_type": "code",
   "execution_count": 21,
   "metadata": {
    "execution": {
     "iopub.execute_input": "2021-10-22T16:48:10.259750Z",
     "iopub.status.busy": "2021-10-22T16:48:10.258750Z",
     "iopub.status.idle": "2021-10-22T16:48:11.970332Z",
     "shell.execute_reply": "2021-10-22T16:48:11.969360Z",
     "shell.execute_reply.started": "2021-10-22T16:48:10.259750Z"
    },
    "tags": []
   },
   "outputs": [
    {
     "name": "stdout",
     "output_type": "stream",
     "text": [
      "Accuracy: 0.9888148500713946\n"
     ]
    },
    {
     "data": {
      "image/png": "[encoded data removed]",
      "text/plain": [
       "<Figure size 648x648 with 1 Axes>"
      ]
     },
     "metadata": {
      "image/png": {
       "height": 557,
       "width": 560
      },
      "needs_background": "light"
     },
     "output_type": "display_data"
    }
   ],
   "source": [
    "import plotting\n",
    "\n",
    "from sklearn.metrics import accuracy_score\n",
    "\n",
    "classes = ['N', 'L', 'R', 'A', 'V', '/']\n",
    "\n",
    "y_keras = model.predict(X_tst_tf)\n",
    "print(\"Accuracy: {}\".format(accuracy_score(np.argmax(y_tst_oh, axis=1), np.argmax(y_keras, axis=1))))\n",
    "plt.figure(figsize=(9,9))\n",
    "_ = plotting.makeRoc(y_tst_oh, y_keras, classes)"
   ]
  },
  {
   "cell_type": "markdown",
   "metadata": {},
   "source": [
    "## Convert model to tflite"
   ]
  },
  {
   "cell_type": "code",
   "execution_count": 22,
   "metadata": {
    "execution": {
     "iopub.execute_input": "2021-10-22T16:48:11.972327Z",
     "iopub.status.busy": "2021-10-22T16:48:11.972327Z",
     "iopub.status.idle": "2021-10-22T16:48:16.931069Z",
     "shell.execute_reply": "2021-10-22T16:48:16.930193Z",
     "shell.execute_reply.started": "2021-10-22T16:48:11.972327Z"
    },
    "tags": []
   },
   "outputs": [
    {
     "name": "stdout",
     "output_type": "stream",
     "text": [
      "INFO:tensorflow:Assets written to: C:\\Users\\mmorsy\\AppData\\Local\\Temp\\tmp9k4ia0wh\\assets\n",
      "Float model size = 38KBs.\n"
     ]
    }
   ],
   "source": [
    "converter = tf.lite.TFLiteConverter.from_keras_model(model)\n",
    "float_tflite_model = converter.convert()\n",
    "\n",
    "float_model_size = len(float_tflite_model) / 1024\n",
    "print('Float model size = %dKBs.' % float_model_size)"
   ]
  },
  {
   "cell_type": "code",
   "execution_count": 23,
   "metadata": {
    "execution": {
     "iopub.execute_input": "2021-10-22T16:48:16.933096Z",
     "iopub.status.busy": "2021-10-22T16:48:16.932064Z",
     "iopub.status.idle": "2021-10-22T16:48:16.946065Z",
     "shell.execute_reply": "2021-10-22T16:48:16.945168Z",
     "shell.execute_reply.started": "2021-10-22T16:48:16.933096Z"
    },
    "tags": []
   },
   "outputs": [],
   "source": [
    "# Load TFLite model and allocate tensors.\n",
    "interpreter = tf.lite.Interpreter(model_content=float_tflite_model)\n",
    "interpreter.allocate_tensors()\n",
    "\n",
    "#get input and output tensors\n",
    "input_details = interpreter.get_input_details()\n",
    "output_details = interpreter.get_output_details()\n",
    "\n",
    "#Preprocess the image to required size and cast\n",
    "input_shape = input_details[0]['shape']\n",
    "input_data = np.expand_dims(X_tst_tf[0], 0)\n",
    "\n",
    "#set the tensor to point to the input data to be inferred\n",
    "input_index = interpreter.get_input_details()[0][\"index\"]\n",
    "interpreter.set_tensor(input_details[0]['index'], input_data)\n",
    "\n",
    "#Run the inference\n",
    "interpreter.invoke()\n",
    "output_details = interpreter.get_tensor(output_details[0]['index'])"
   ]
  },
  {
   "cell_type": "code",
   "execution_count": 24,
   "metadata": {
    "execution": {
     "iopub.execute_input": "2021-10-22T16:48:16.948062Z",
     "iopub.status.busy": "2021-10-22T16:48:16.948062Z",
     "iopub.status.idle": "2021-10-22T16:48:16.961104Z",
     "shell.execute_reply": "2021-10-22T16:48:16.960179Z",
     "shell.execute_reply.started": "2021-10-22T16:48:16.948062Z"
    },
    "tags": []
   },
   "outputs": [
    {
     "data": {
      "text/plain": [
       "array([[4.10e-03, 1.74e-02, 3.28e-02, 8.99e-01, 4.59e-02, 6.07e-04]],\n",
       "      dtype=float32)"
      ]
     },
     "execution_count": 24,
     "metadata": {},
     "output_type": "execute_result"
    }
   ],
   "source": [
    "output_details"
   ]
  },
  {
   "cell_type": "code",
   "execution_count": 25,
   "metadata": {
    "execution": {
     "iopub.execute_input": "2021-10-22T16:48:16.963062Z",
     "iopub.status.busy": "2021-10-22T16:48:16.963062Z",
     "iopub.status.idle": "2021-10-22T16:48:21.418802Z",
     "shell.execute_reply": "2021-10-22T16:48:21.418802Z",
     "shell.execute_reply.started": "2021-10-22T16:48:16.963062Z"
    },
    "tags": []
   },
   "outputs": [
    {
     "name": "stdout",
     "output_type": "stream",
     "text": [
      "INFO:tensorflow:Assets written to: C:\\Users\\mmorsy\\AppData\\Local\\Temp\\tmpizdsd_fs\\assets\n"
     ]
    },
    {
     "name": "stderr",
     "output_type": "stream",
     "text": [
      "INFO:tensorflow:Assets written to: C:\\Users\\mmorsy\\AppData\\Local\\Temp\\tmpizdsd_fs\\assets\n"
     ]
    },
    {
     "name": "stdout",
     "output_type": "stream",
     "text": [
      "Quantized model size = 19KBs,\n",
      "which is about 51% of the float model size.\n"
     ]
    }
   ],
   "source": [
    "# Re-convert the model to TF Lite using quantization.\n",
    "converter.optimizations = [tf.lite.Optimize.DEFAULT]\n",
    "#converter.target_spec.supported_types = [tf.float16]\n",
    "tflite_quantized_model = converter.convert()\n",
    "\n",
    "# Show model size in KBs.\n",
    "quantized_model_size = len(tflite_quantized_model) / 1024\n",
    "print('Quantized model size = %dKBs,' % quantized_model_size)\n",
    "print('which is about %d%% of the float model size.'\\\n",
    "      % (quantized_model_size * 100 / float_model_size))"
   ]
  },
  {
   "cell_type": "code",
   "execution_count": 26,
   "metadata": {
    "execution": {
     "iopub.execute_input": "2021-10-22T16:48:21.418802Z",
     "iopub.status.busy": "2021-10-22T16:48:21.418802Z",
     "iopub.status.idle": "2021-10-22T16:48:26.992708Z",
     "shell.execute_reply": "2021-10-22T16:48:26.991173Z",
     "shell.execute_reply.started": "2021-10-22T16:48:21.418802Z"
    },
    "tags": []
   },
   "outputs": [
    {
     "name": "stdout",
     "output_type": "stream",
     "text": [
      "Float model accuracy = 0.9888\n",
      "Quantized model accuracy = 0.9888\n",
      "Accuracy drop = 0.0000\n"
     ]
    }
   ],
   "source": [
    "# A helper function to evaluate the TF Lite model using \"test\" dataset.\n",
    "def evaluate_tflite_model(tflite_model):\n",
    "  # Initialize TFLite interpreter using the model.\n",
    "  interpreter = tf.lite.Interpreter(model_content=float_tflite_model)\n",
    "  interpreter.allocate_tensors()\n",
    "  input_tensor_index = interpreter.get_input_details()[0][\"index\"]\n",
    "  output = interpreter.tensor(interpreter.get_output_details()[0][\"index\"])\n",
    "\n",
    "  # Run predictions on every image in the \"test\" dataset.\n",
    "  prediction_outputs = []\n",
    "  for data in X_tst_tf:\n",
    "    # Pre-processing: add batch dimension and convert to float32 to match with\n",
    "    # the model's input data format.\n",
    "    test_data = np.expand_dims(data, axis=0).astype(np.float32)\n",
    "    interpreter.set_tensor(input_tensor_index, test_data)\n",
    "\n",
    "    # Run inference.\n",
    "    interpreter.invoke()\n",
    "\n",
    "    # Post-processing: remove batch dimension and find the digit with highest\n",
    "    # probability.\n",
    "    prediction = np.argmax(output()[0])\n",
    "    prediction_outputs.append(prediction)\n",
    "\n",
    "  # Compare prediction results with ground truth labels to calculate accuracy.\n",
    "  accurate_count = 0\n",
    "  for index in range(len(prediction_outputs)):\n",
    "    if prediction_outputs[index] == y_tst[index]:\n",
    "      accurate_count += 1\n",
    "  accuracy = accurate_count * 1.0 / len(prediction_outputs)\n",
    "\n",
    "  return accuracy\n",
    "\n",
    "# Evaluate the TF Lite float model. You'll find that its accurary is identical\n",
    "# to the original TF (Keras) model because they are essentially the same model\n",
    "# stored in different format.\n",
    "float_accuracy = evaluate_tflite_model(float_tflite_model)\n",
    "print('Float model accuracy = %.4f' % float_accuracy)\n",
    "\n",
    "# Evalualte the TF Lite quantized model.\n",
    "# Don't be surprised if you see quantized model accuracy is higher than\n",
    "# the original float model. It happens sometimes :)\n",
    "quantized_accuracy = evaluate_tflite_model(tflite_quantized_model)\n",
    "print('Quantized model accuracy = %.4f' % quantized_accuracy)\n",
    "print('Accuracy drop = %.4f' % (float_accuracy - quantized_accuracy))"
   ]
  },
  {
   "cell_type": "code",
   "execution_count": 27,
   "metadata": {
    "execution": {
     "iopub.execute_input": "2021-10-22T16:48:26.996699Z",
     "iopub.status.busy": "2021-10-22T16:48:26.996699Z",
     "iopub.status.idle": "2021-10-22T16:48:27.007708Z",
     "shell.execute_reply": "2021-10-22T16:48:27.006705Z",
     "shell.execute_reply.started": "2021-10-22T16:48:26.996699Z"
    },
    "tags": []
   },
   "outputs": [],
   "source": [
    "# Save the quantized model to file to the Downloads directory\n",
    "f = open('float32.tflite', \"wb\")\n",
    "f.write(tflite_quantized_model)\n",
    "f.close()"
   ]
  },
  {
   "cell_type": "code",
   "execution_count": 28,
   "metadata": {
    "execution": {
     "iopub.execute_input": "2021-10-22T16:48:27.009698Z",
     "iopub.status.busy": "2021-10-22T16:48:27.009698Z",
     "iopub.status.idle": "2021-10-22T16:48:27.023707Z",
     "shell.execute_reply": "2021-10-22T16:48:27.021782Z",
     "shell.execute_reply.started": "2021-10-22T16:48:27.009698Z"
    }
   },
   "outputs": [],
   "source": [
    "## Quantize model using qkeras"
   ]
  },
  {
   "cell_type": "code",
   "execution_count": 29,
   "metadata": {
    "execution": {
     "iopub.execute_input": "2021-10-22T16:48:27.024704Z",
     "iopub.status.busy": "2021-10-22T16:48:27.024704Z",
     "iopub.status.idle": "2021-10-22T16:48:27.846008Z",
     "shell.execute_reply": "2021-10-22T16:48:27.846008Z",
     "shell.execute_reply.started": "2021-10-22T16:48:27.024704Z"
    }
   },
   "outputs": [],
   "source": [
    "from __future__ import absolute_import\n",
    "from __future__ import division\n",
    "from __future__ import print_function\n",
    "\n",
    "from collections import defaultdict\n",
    "\n",
    "from qkeras import *"
   ]
  },
  {
   "cell_type": "code",
   "execution_count": 30,
   "metadata": {
    "execution": {
     "iopub.execute_input": "2021-10-22T16:48:27.846008Z",
     "iopub.status.busy": "2021-10-22T16:48:27.846008Z",
     "iopub.status.idle": "2021-10-22T16:48:27.863304Z",
     "shell.execute_reply": "2021-10-22T16:48:27.861294Z",
     "shell.execute_reply.started": "2021-10-22T16:48:27.846008Z"
    },
    "tags": []
   },
   "outputs": [],
   "source": [
    "def CreateQModel(X_train,y_train,X_test,y_test):\n",
    "    x = x_in = Input(shape = X_train[1,:].shape)\n",
    "    \n",
    "    x = QConv1D(filters=32, kernel_size=8, strides=1, padding=\"valid\",\n",
    "               kernel_quantizer=\"quantized_bits(4, 0, 1)\", \n",
    "               bias_quantizer=\"quantized_bits(4, 0, 1)\",\n",
    "               name=\"conv1d_1\")(x_in)\n",
    "    x = QActivation(\"quantized_relu(4)\", name=\"act_1\")(x)  \n",
    "    x = QBatchNormalization()(x)\n",
    "    x = Dropout(0.2)(x)\n",
    "    x = MaxPooling1D(pool_size=4, strides=2, padding='same')(x)\n",
    "\n",
    "    x = QConv1D(filters=16, kernel_size=8, strides=1, padding=\"valid\",\n",
    "               kernel_quantizer=\"quantized_bits(4, 0, 1)\", \n",
    "               bias_quantizer=\"quantized_bits(4, 0, 1)\",\n",
    "               name=\"conv1d_2\")(x)\n",
    "    x = QActivation(\"quantized_relu(4)\", name=\"act_2\")(x)  \n",
    "    x = QBatchNormalization()(x)\n",
    "    x = Dropout(0.2)(x)\n",
    "    x = MaxPooling1D(pool_size=4, strides=2, padding='same')(x)\n",
    "\n",
    "    x = QConv1D(filters=8, kernel_size=8, strides=1, padding=\"valid\",\n",
    "               kernel_quantizer=\"quantized_bits(4, 0, 1)\", \n",
    "               bias_quantizer=\"quantized_bits(4, 0, 1)\",\n",
    "               name=\"conv1d_3\")(x)\n",
    "    x = QActivation(\"quantized_relu(4)\", name=\"act_3\")(x)  \n",
    "    x = QBatchNormalization()(x)\n",
    "    x = Dropout(0.2)(x)\n",
    "    x = MaxPooling1D(pool_size=4, strides=2, padding='same')(x)\n",
    "    \n",
    "    x = Flatten(name=\"flatten\")(x)\n",
    "\n",
    "    x = QDense(num_classes,\n",
    "        kernel_quantizer=\"quantized_bits(4,0,1)\",\n",
    "        bias_quantizer=\"quantized_bits(4,0,1)\",\n",
    "        name=\"dense\")(x)\n",
    "    x = Activation(\"softmax\", name=\"softmax\")(x)\n",
    "    \n",
    "    qmodel = Model(inputs=x_in, outputs=x)\n",
    "    \n",
    "    opt = RMSprop(learning_rate=0.001)\n",
    "\n",
    "    qmodel.compile(loss='categorical_crossentropy', optimizer=opt, \n",
    "                  metrics=['accuracy'])\n",
    "\n",
    "    callbacks = [EarlyStopping(monitor='val_loss', patience=10),\n",
    "                 ModelCheckpoint(filepath='./best_qmodel.h5', monitor='val_accuracy', \n",
    "                                 save_best_only=True)]\n",
    "\n",
    "    # fit network\n",
    "    history=qmodel.fit(X_train, y_train, epochs=50,callbacks=callbacks, \n",
    "                      batch_size=500,validation_split=0.2,shuffle=True)\n",
    "\n",
    "    qmodel.load_weights('best_qmodel.h5')\n",
    "    return(qmodel,history)"
   ]
  },
  {
   "cell_type": "code",
   "execution_count": 31,
   "metadata": {
    "execution": {
     "iopub.execute_input": "2021-10-22T16:48:27.864301Z",
     "iopub.status.busy": "2021-10-22T16:48:27.864301Z",
     "iopub.status.idle": "2021-10-22T16:51:12.036433Z",
     "shell.execute_reply": "2021-10-22T16:51:12.034389Z",
     "shell.execute_reply.started": "2021-10-22T16:48:27.864301Z"
    },
    "tags": []
   },
   "outputs": [
    {
     "name": "stdout",
     "output_type": "stream",
     "text": [
      "Epoch 1/50\n",
      "54/54 [==============================] - 13s 133ms/step - loss: 1.5124 - accuracy: 0.4730 - val_loss: 1.3451 - val_accuracy: 0.5684\n",
      "Epoch 2/50\n",
      "54/54 [==============================] - 5s 89ms/step - loss: 0.6482 - accuracy: 0.7893 - val_loss: 0.6145 - val_accuracy: 0.7945\n",
      "Epoch 3/50\n",
      "54/54 [==============================] - 5s 86ms/step - loss: 0.4054 - accuracy: 0.8773 - val_loss: 0.6309 - val_accuracy: 0.7704\n",
      "Epoch 4/50\n",
      "54/54 [==============================] - 5s 87ms/step - loss: 0.3141 - accuracy: 0.9066 - val_loss: 0.5186 - val_accuracy: 0.8142\n",
      "Epoch 5/50\n",
      "54/54 [==============================] - 5s 85ms/step - loss: 0.2582 - accuracy: 0.9220 - val_loss: 0.3617 - val_accuracy: 0.8794\n",
      "Epoch 6/50\n",
      "54/54 [==============================] - 5s 87ms/step - loss: 0.2358 - accuracy: 0.9299 - val_loss: 0.2122 - val_accuracy: 0.9360\n",
      "Epoch 7/50\n",
      "54/54 [==============================] - 5s 86ms/step - loss: 0.2068 - accuracy: 0.9378 - val_loss: 0.2366 - val_accuracy: 0.9256\n",
      "Epoch 8/50\n",
      "54/54 [==============================] - 5s 87ms/step - loss: 0.1919 - accuracy: 0.9414 - val_loss: 0.1773 - val_accuracy: 0.9482\n",
      "Epoch 9/50\n",
      "54/54 [==============================] - 5s 86ms/step - loss: 0.1622 - accuracy: 0.9498 - val_loss: 0.2186 - val_accuracy: 0.9350\n",
      "Epoch 10/50\n",
      "54/54 [==============================] - 5s 85ms/step - loss: 0.1638 - accuracy: 0.9493 - val_loss: 0.1404 - val_accuracy: 0.9587\n",
      "Epoch 11/50\n",
      "54/54 [==============================] - 5s 87ms/step - loss: 0.1475 - accuracy: 0.9543 - val_loss: 0.1437 - val_accuracy: 0.9575\n",
      "Epoch 12/50\n",
      "54/54 [==============================] - 5s 86ms/step - loss: 0.1406 - accuracy: 0.9578 - val_loss: 0.1795 - val_accuracy: 0.9454\n",
      "Epoch 13/50\n",
      "54/54 [==============================] - 5s 89ms/step - loss: 0.1352 - accuracy: 0.9574 - val_loss: 0.1572 - val_accuracy: 0.9515\n",
      "Epoch 14/50\n",
      "54/54 [==============================] - 5s 85ms/step - loss: 0.1261 - accuracy: 0.9611 - val_loss: 0.1477 - val_accuracy: 0.9560\n",
      "Epoch 15/50\n",
      "54/54 [==============================] - 5s 88ms/step - loss: 0.1297 - accuracy: 0.9590 - val_loss: 0.1440 - val_accuracy: 0.9564\n",
      "Epoch 16/50\n",
      "54/54 [==============================] - 5s 85ms/step - loss: 0.1244 - accuracy: 0.9619 - val_loss: 0.1384 - val_accuracy: 0.9612\n",
      "Epoch 17/50\n",
      "54/54 [==============================] - 5s 88ms/step - loss: 0.1273 - accuracy: 0.9600 - val_loss: 0.1207 - val_accuracy: 0.9651\n",
      "Epoch 18/50\n",
      "54/54 [==============================] - 5s 89ms/step - loss: 0.1201 - accuracy: 0.9606 - val_loss: 0.1312 - val_accuracy: 0.9616\n",
      "Epoch 19/50\n",
      "54/54 [==============================] - 5s 91ms/step - loss: 0.1179 - accuracy: 0.9641 - val_loss: 0.1113 - val_accuracy: 0.9685\n",
      "Epoch 20/50\n",
      "54/54 [==============================] - 5s 88ms/step - loss: 0.1167 - accuracy: 0.9635 - val_loss: 0.1119 - val_accuracy: 0.9658\n",
      "Epoch 21/50\n",
      "54/54 [==============================] - 5s 91ms/step - loss: 0.1039 - accuracy: 0.9692 - val_loss: 0.1129 - val_accuracy: 0.9668\n",
      "Epoch 22/50\n",
      "54/54 [==============================] - 5s 92ms/step - loss: 0.1050 - accuracy: 0.9659 - val_loss: 0.0891 - val_accuracy: 0.9735\n",
      "Epoch 23/50\n",
      "54/54 [==============================] - 5s 92ms/step - loss: 0.1099 - accuracy: 0.9656 - val_loss: 0.1206 - val_accuracy: 0.9625\n",
      "Epoch 24/50\n",
      "54/54 [==============================] - 5s 86ms/step - loss: 0.0980 - accuracy: 0.9681 - val_loss: 0.1163 - val_accuracy: 0.9615\n",
      "Epoch 25/50\n",
      "54/54 [==============================] - 5s 89ms/step - loss: 0.1013 - accuracy: 0.9673 - val_loss: 0.1309 - val_accuracy: 0.9593\n",
      "Epoch 26/50\n",
      "54/54 [==============================] - 5s 92ms/step - loss: 0.1100 - accuracy: 0.9663 - val_loss: 0.1077 - val_accuracy: 0.9682\n",
      "Epoch 27/50\n",
      "54/54 [==============================] - 5s 85ms/step - loss: 0.0983 - accuracy: 0.9706 - val_loss: 0.0986 - val_accuracy: 0.9723\n",
      "Epoch 28/50\n",
      "54/54 [==============================] - 5s 88ms/step - loss: 0.0947 - accuracy: 0.9717 - val_loss: 0.1278 - val_accuracy: 0.9590\n",
      "Epoch 29/50\n",
      "54/54 [==============================] - 5s 89ms/step - loss: 0.0999 - accuracy: 0.9681 - val_loss: 0.1398 - val_accuracy: 0.9554\n",
      "Epoch 30/50\n",
      "54/54 [==============================] - 5s 92ms/step - loss: 0.0986 - accuracy: 0.9699 - val_loss: 0.1694 - val_accuracy: 0.9468\n",
      "Epoch 31/50\n",
      "54/54 [==============================] - 5s 87ms/step - loss: 0.0968 - accuracy: 0.9703 - val_loss: 0.0994 - val_accuracy: 0.9676\n",
      "Epoch 32/50\n",
      "54/54 [==============================] - 5s 87ms/step - loss: 0.1080 - accuracy: 0.9671 - val_loss: 0.2208 - val_accuracy: 0.9273\n"
     ]
    }
   ],
   "source": [
    "qmodel,history = CreateQModel(X_trn_tf,y_trn_oh,X_tst_tf,y_tst_oh)"
   ]
  },
  {
   "cell_type": "code",
   "execution_count": 32,
   "metadata": {
    "execution": {
     "iopub.execute_input": "2021-10-22T16:51:12.037387Z",
     "iopub.status.busy": "2021-10-22T16:51:12.037387Z",
     "iopub.status.idle": "2021-10-22T16:51:13.327501Z",
     "shell.execute_reply": "2021-10-22T16:51:13.326337Z",
     "shell.execute_reply.started": "2021-10-22T16:51:12.037387Z"
    },
    "tags": []
   },
   "outputs": [
    {
     "name": "stdout",
     "output_type": "stream",
     "text": [
      "Model: \"model\"\n",
      "_________________________________________________________________\n",
      "Layer (type)                 Output Shape              Param #   \n",
      "=================================================================\n",
      "input_1 (InputLayer)         [(None, 319, 1)]          0         \n",
      "_________________________________________________________________\n",
      "conv1d_1 (QConv1D)           (None, 312, 32)           288       \n",
      "_________________________________________________________________\n",
      "act_1 (QActivation)          (None, 312, 32)           0         \n",
      "_________________________________________________________________\n",
      "q_batch_normalization (QBatc (None, 312, 32)           128       \n",
      "_________________________________________________________________\n",
      "dropout_3 (Dropout)          (None, 312, 32)           0         \n",
      "_________________________________________________________________\n",
      "max_pooling1d_3 (MaxPooling1 (None, 156, 32)           0         \n",
      "_________________________________________________________________\n",
      "conv1d_2 (QConv1D)           (None, 149, 16)           4112      \n",
      "_________________________________________________________________\n",
      "act_2 (QActivation)          (None, 149, 16)           0         \n",
      "_________________________________________________________________\n",
      "q_batch_normalization_1 (QBa (None, 149, 16)           64        \n",
      "_________________________________________________________________\n",
      "dropout_4 (Dropout)          (None, 149, 16)           0         \n",
      "_________________________________________________________________\n",
      "max_pooling1d_4 (MaxPooling1 (None, 75, 16)            0         \n",
      "_________________________________________________________________\n",
      "conv1d_3 (QConv1D)           (None, 68, 8)             1032      \n",
      "_________________________________________________________________\n",
      "act_3 (QActivation)          (None, 68, 8)             0         \n",
      "_________________________________________________________________\n",
      "q_batch_normalization_2 (QBa (None, 68, 8)             32        \n",
      "_________________________________________________________________\n",
      "dropout_5 (Dropout)          (None, 68, 8)             0         \n",
      "_________________________________________________________________\n",
      "max_pooling1d_5 (MaxPooling1 (None, 34, 8)             0         \n",
      "_________________________________________________________________\n",
      "flatten (Flatten)            (None, 272)               0         \n",
      "_________________________________________________________________\n",
      "dense (QDense)               (None, 6)                 1638      \n",
      "_________________________________________________________________\n",
      "softmax (Activation)         (None, 6)                 0         \n",
      "=================================================================\n",
      "Total params: 7,294\n",
      "Trainable params: 7,182\n",
      "Non-trainable params: 112\n",
      "_________________________________________________________________\n",
      "WARNING:tensorflow:From C:\\Users\\mmorsy\\AppData\\Roaming\\Python\\Python38\\site-packages\\qkeras-0.9.0-py3.8.egg\\qkeras\\estimate.py:330: Tensor.experimental_ref (from tensorflow.python.framework.ops) is deprecated and will be removed in a future version.\n",
      "Instructions for updating:\n",
      "Use ref() instead.\n"
     ]
    },
    {
     "name": "stderr",
     "output_type": "stream",
     "text": [
      "WARNING:tensorflow:From C:\\Users\\mmorsy\\AppData\\Roaming\\Python\\Python38\\site-packages\\qkeras-0.9.0-py3.8.egg\\qkeras\\estimate.py:330: Tensor.experimental_ref (from tensorflow.python.framework.ops) is deprecated and will be removed in a future version.\n",
      "Instructions for updating:\n",
      "Use ref() instead.\n"
     ]
    },
    {
     "name": "stdout",
     "output_type": "stream",
     "text": [
      "\n",
      "Number of operations in model:\n",
      "    conv1d_1                      : 79872 (smult_4_8)\n",
      "    conv1d_2                      : 610304 (smult_4_4)\n",
      "    conv1d_3                      : 69632 (smult_4_4)\n",
      "    dense                         : 1632  (smult_4_4)\n",
      "\n",
      "Number of operation types in model:\n",
      "    smult_4_4                     : 681568\n",
      "    smult_4_8                     : 79872\n",
      "\n",
      "Weight profiling:\n",
      "    conv1d_1_weights               : 256   (4-bit unit)\n",
      "    conv1d_1_bias                  : 32    (4-bit unit)\n",
      "    conv1d_2_weights               : 4096  (4-bit unit)\n",
      "    conv1d_2_bias                  : 16    (4-bit unit)\n",
      "    conv1d_3_weights               : 1024  (4-bit unit)\n",
      "    conv1d_3_bias                  : 8     (4-bit unit)\n",
      "    dense_weights                  : 1632  (4-bit unit)\n",
      "    dense_bias                     : 6     (4-bit unit)\n",
      "\n",
      "Weight sparsity:\n",
      "... quantizing model\n",
      "    conv1d_1                       : 0.1042\n",
      "    conv1d_2                       : 0.1267\n",
      "    conv1d_3                       : 0.1463\n",
      "    dense                          : 0.2265\n",
      "    ----------------------------------------\n",
      "    Total Sparsity                 : 0.1518\n"
     ]
    }
   ],
   "source": [
    "qmodel.summary()\n",
    "\n",
    "print_qstats(qmodel)"
   ]
  },
  {
   "cell_type": "code",
   "execution_count": 33,
   "metadata": {
    "execution": {
     "iopub.execute_input": "2021-10-22T16:51:13.327501Z",
     "iopub.status.busy": "2021-10-22T16:51:13.327501Z",
     "iopub.status.idle": "2021-10-22T16:51:13.547542Z",
     "shell.execute_reply": "2021-10-22T16:51:13.545578Z",
     "shell.execute_reply.started": "2021-10-22T16:51:13.327501Z"
    },
    "tags": []
   },
   "outputs": [
    {
     "name": "stdout",
     "output_type": "stream",
     "text": [
      "... quantizing model\n"
     ]
    },
    {
     "data": {
      "text/plain": [
       "{'conv1d_1': {'weights': [array([[[ 0.19,  0.5 ,  0.19, -0.25, -0.19, -0.75, -0.12,  0.44, -0.12,\n",
       "            -0.88,  0.5 ,  0.38, -0.75, -0.88, -0.25,  0.44,  0.88,  0.88,\n",
       "            -0.31,  0.38, -0.5 , -0.44, -0.5 ,  0.  , -0.44,  0.88,  0.19,\n",
       "            -0.25,  0.12, -0.25,  0.12, -0.38]],\n",
       "   \n",
       "          [[ 0.31,  0.88,  0.44,  0.12, -0.06,  0.75,  0.38,  0.  , -0.44,\n",
       "            -0.62, -0.12,  0.88, -0.25,  0.25, -0.44, -0.44,  0.62, -0.88,\n",
       "            -0.19, -0.75,  0.12,  0.12, -0.12,  0.88, -0.12,  0.  ,  0.44,\n",
       "            -0.75, -0.38, -0.38,  0.19,  0.88]],\n",
       "   \n",
       "          [[-0.31,  0.12,  0.12, -0.38, -0.06, -0.12,  0.25,  0.31,  0.06,\n",
       "            -0.12,  0.  ,  0.25, -0.62, -0.25,  0.44, -0.06, -0.12, -0.5 ,\n",
       "             0.44,  0.62,  0.38, -0.12, -0.88,  0.75,  0.19, -0.88,  0.06,\n",
       "            -0.38,  0.25, -0.44, -0.44, -0.88]],\n",
       "   \n",
       "          [[ 0.44, -0.5 , -0.44,  0.25, -0.25, -0.25, -0.12, -0.12, -0.44,\n",
       "            -0.88,  0.75, -0.88,  0.12, -0.25, -0.38, -0.44,  0.75,  0.88,\n",
       "            -0.31,  0.25, -0.88, -0.38, -0.38,  0.62,  0.  ,  0.88, -0.19,\n",
       "             0.25,  0.75,  0.12,  0.31,  0.12]],\n",
       "   \n",
       "          [[ 0.25, -0.62,  0.19,  0.88,  0.44, -0.5 ,  0.38, -0.44, -0.25,\n",
       "             0.  , -0.25,  0.25,  0.75,  0.62,  0.19, -0.44,  0.75,  0.62,\n",
       "            -0.12, -0.88, -0.25,  0.  ,  0.25, -0.5 , -0.06, -0.38,  0.  ,\n",
       "             0.88,  0.5 , -0.44,  0.44,  0.88]],\n",
       "   \n",
       "          [[-0.25,  0.  , -0.44,  0.88, -0.25,  0.5 , -0.44,  0.44, -0.44,\n",
       "            -0.62, -0.75,  0.5 , -0.12, -0.25,  0.25,  0.44, -0.12, -0.38,\n",
       "            -0.19,  0.88,  0.  , -0.06,  0.38,  0.75, -0.44,  0.5 , -0.12,\n",
       "            -0.12, -0.88, -0.31, -0.12, -0.62]],\n",
       "   \n",
       "          [[ 0.25, -0.75, -0.12,  0.62,  0.  ,  0.25,  0.25,  0.38, -0.38,\n",
       "            -0.38,  0.12,  0.5 , -0.5 ,  0.5 ,  0.44,  0.44, -0.88,  0.  ,\n",
       "            -0.25,  0.5 ,  0.38, -0.44,  0.88,  0.88, -0.12,  0.12,  0.12,\n",
       "             0.75, -0.38, -0.44, -0.19,  0.5 ]],\n",
       "   \n",
       "          [[ 0.25,  0.75,  0.31,  0.88, -0.19,  0.12, -0.44,  0.19,  0.12,\n",
       "            -0.75, -0.25,  0.38,  0.12,  0.  ,  0.19, -0.25, -0.62, -0.88,\n",
       "            -0.44, -0.25,  0.75,  0.44,  0.25,  0.38, -0.44,  0.38, -0.44,\n",
       "            -0.12, -0.25, -0.44, -0.06,  0.62]]], dtype=float32),\n",
       "   array([ 0.  ,  0.  , -0.12,  0.  , -0.12,  0.  ,  0.12,  0.  ,  0.  ,\n",
       "           0.  ,  0.  , -0.12,  0.  , -0.12, -0.12, -0.12,  0.  ,  0.  ,\n",
       "          -0.12, -0.12,  0.  , -0.12,  0.  ,  0.12, -0.12, -0.12,  0.  ,\n",
       "           0.  , -0.12,  0.  , -0.12,  0.  ], dtype=float32)]},\n",
       " 'q_batch_normalization': {'weights': [array([1., 1., 1., 1., 1., 1., 1., 1., 1., 1., 1., 1., 1., 1., 1., 1., 1.,\n",
       "          1., 1., 1., 1., 1., 1., 1., 1., 1., 1., 1., 1., 1., 1., 1.],\n",
       "         dtype=float32),\n",
       "   array([ 0.12,  0.12,  0.12,  0.25,  0.06,  0.03,  0.25,  0.06,  0.12,\n",
       "           0.12, -0.01,  0.06,  0.12,  0.03,  0.12, -0.03,  0.03, -0.01,\n",
       "          -0.  , -0.06,  0.12,  0.03,  0.03,  0.25, -0.01, -0.01,  0.03,\n",
       "           0.12,  0.06,  0.12, -0.  ,  0.06], dtype=float32),\n",
       "   array([0.25, 0.12, 0.03, 0.5 , 0.12, 0.06, 0.25, 0.25, 0.25, 0.25, 0.06,\n",
       "          0.5 , 0.25, 0.06, 0.12, 0.06, 0.25, 0.12, 0.25, 0.12, 0.06, 0.12,\n",
       "          0.12, 0.5 , 0.25, 0.25, 0.06, 0.12, 0.12, 0.25, 0.06, 0.25],\n",
       "         dtype=float32),\n",
       "   array([0.06, 0.06, 0.02, 0.25, 0.06, 0.02, 0.06, 0.25, 0.25, 0.25, 0.02,\n",
       "          0.25, 0.25, 0.06, 0.06, 0.06, 0.25, 0.06, 0.25, 0.06, 0.02, 0.06,\n",
       "          0.06, 0.25, 0.25, 0.25, 0.02, 0.06, 0.06, 0.25, 0.02, 0.25],\n",
       "         dtype=float32)]},\n",
       " 'conv1d_2': {'weights': [array([[[ 0.09,  0.03,  0.12, ..., -0.06,  0.03, -0.06],\n",
       "           [ 0.12, -0.06,  0.06, ..., -0.09, -0.03, -0.09],\n",
       "           [-0.22, -0.06,  0.16, ..., -0.03, -0.03, -0.03],\n",
       "           ...,\n",
       "           [-0.09, -0.09, -0.03, ..., -0.16,  0.12,  0.12],\n",
       "           [ 0.  , -0.12,  0.06, ...,  0.22,  0.06, -0.06],\n",
       "           [ 0.16,  0.06,  0.09, ...,  0.  ,  0.  , -0.03]],\n",
       "   \n",
       "          [[ 0.06,  0.12,  0.  , ..., -0.06, -0.09, -0.12],\n",
       "           [ 0.06, -0.03, -0.03, ...,  0.06, -0.03, -0.06],\n",
       "           [ 0.06, -0.09, -0.03, ...,  0.06,  0.09, -0.12],\n",
       "           ...,\n",
       "           [ 0.03, -0.06,  0.  , ...,  0.06,  0.  ,  0.03],\n",
       "           [ 0.  ,  0.03,  0.09, ..., -0.09,  0.06,  0.  ],\n",
       "           [ 0.09,  0.03, -0.19, ..., -0.16,  0.03,  0.12]],\n",
       "   \n",
       "          [[-0.19,  0.03,  0.  , ...,  0.19,  0.19,  0.06],\n",
       "           [-0.06,  0.09,  0.06, ..., -0.12, -0.03,  0.06],\n",
       "           [-0.09, -0.12, -0.06, ..., -0.16, -0.03,  0.12],\n",
       "           ...,\n",
       "           [-0.09,  0.  ,  0.  , ..., -0.12,  0.  ,  0.  ],\n",
       "           [-0.06, -0.16,  0.16, ..., -0.09, -0.16,  0.06],\n",
       "           [ 0.03,  0.  ,  0.09, ...,  0.09, -0.09,  0.12]],\n",
       "   \n",
       "          ...,\n",
       "   \n",
       "          [[ 0.12, -0.03, -0.06, ..., -0.09,  0.03, -0.09],\n",
       "           [ 0.03,  0.16,  0.  , ..., -0.19,  0.09,  0.03],\n",
       "           [-0.03,  0.  , -0.09, ..., -0.03, -0.19, -0.09],\n",
       "           ...,\n",
       "           [-0.06, -0.03, -0.03, ..., -0.06, -0.09,  0.03],\n",
       "           [-0.03,  0.16, -0.12, ...,  0.  , -0.09,  0.  ],\n",
       "           [-0.16,  0.16,  0.03, ..., -0.03,  0.19, -0.03]],\n",
       "   \n",
       "          [[ 0.09,  0.  , -0.09, ...,  0.09, -0.16, -0.03],\n",
       "           [-0.03,  0.12, -0.03, ...,  0.12,  0.09,  0.09],\n",
       "           [ 0.09,  0.06, -0.06, ...,  0.09,  0.  , -0.03],\n",
       "           ...,\n",
       "           [ 0.03, -0.12, -0.12, ..., -0.16, -0.06, -0.19],\n",
       "           [-0.03,  0.12,  0.09, ..., -0.03,  0.03,  0.12],\n",
       "           [-0.09,  0.03, -0.09, ..., -0.16,  0.  ,  0.09]],\n",
       "   \n",
       "          [[ 0.03,  0.  , -0.06, ...,  0.06,  0.16,  0.16],\n",
       "           [-0.06,  0.  , -0.19, ...,  0.12,  0.12,  0.03],\n",
       "           [ 0.16, -0.09,  0.  , ..., -0.03,  0.12,  0.06],\n",
       "           ...,\n",
       "           [ 0.  , -0.03, -0.06, ...,  0.03, -0.03,  0.  ],\n",
       "           [ 0.06,  0.09,  0.06, ..., -0.06,  0.09,  0.09],\n",
       "           [ 0.09, -0.16, -0.06, ...,  0.  ,  0.03, -0.16]]], dtype=float32),\n",
       "   array([-0.12, -0.12, -0.25, -0.25,  0.  , -0.12,  0.  ,  0.12, -0.12,\n",
       "          -0.12,  0.  , -0.12,  0.12,  0.  , -0.12, -0.12], dtype=float32)]},\n",
       " 'q_batch_normalization_1': {'weights': [array([1., 1., 1., 1., 1., 1., 1., 1., 1., 1., 1., 1., 1., 1., 1., 1.],\n",
       "         dtype=float32),\n",
       "   array([0.12, 0.12, 0.06, 0.25, 0.12, 0.25, 0.25, 0.5 , 0.25, 0.12, 0.12,\n",
       "          0.25, 0.25, 0.25, 0.25, 0.12], dtype=float32),\n",
       "   array([0.5 , 0.25, 0.25, 0.25, 0.5 , 0.25, 0.25, 0.25, 0.25, 0.25, 0.25,\n",
       "          0.25, 0.25, 0.25, 0.25, 0.25], dtype=float32),\n",
       "   array([0.25, 0.25, 0.25, 0.25, 0.25, 0.25, 0.25, 0.25, 0.25, 0.25, 0.25,\n",
       "          0.25, 0.25, 0.25, 0.25, 0.25], dtype=float32)]},\n",
       " 'conv1d_3': {'weights': [array([[[ 0.06, -0.12,  0.12, ..., -0.06, -0.22,  0.06],\n",
       "           [ 0.12, -0.12,  0.12, ..., -0.03, -0.12,  0.12],\n",
       "           [ 0.16, -0.12,  0.06, ...,  0.  ,  0.16, -0.19],\n",
       "           ...,\n",
       "           [ 0.19,  0.09, -0.25, ..., -0.03, -0.03,  0.25],\n",
       "           [-0.06, -0.19, -0.12, ...,  0.09, -0.19,  0.12],\n",
       "           [-0.22, -0.12,  0.19, ...,  0.03, -0.03, -0.12]],\n",
       "   \n",
       "          [[-0.12, -0.06,  0.12, ..., -0.03,  0.03, -0.06],\n",
       "           [ 0.06,  0.03,  0.  , ...,  0.12, -0.09, -0.19],\n",
       "           [-0.09, -0.12, -0.06, ...,  0.19,  0.22,  0.12],\n",
       "           ...,\n",
       "           [-0.06, -0.22, -0.06, ...,  0.19, -0.19, -0.06],\n",
       "           [ 0.22, -0.06, -0.06, ...,  0.03,  0.  ,  0.06],\n",
       "           [-0.22,  0.16,  0.19, ..., -0.03, -0.03, -0.06]],\n",
       "   \n",
       "          [[-0.22,  0.09, -0.06, ..., -0.16, -0.22,  0.12],\n",
       "           [-0.09, -0.16,  0.  , ..., -0.12, -0.22,  0.19],\n",
       "           [ 0.06,  0.03, -0.06, ...,  0.06,  0.09, -0.12],\n",
       "           ...,\n",
       "           [-0.16,  0.19, -0.12, ..., -0.19, -0.19,  0.12],\n",
       "           [ 0.16, -0.09, -0.19, ..., -0.06, -0.06,  0.  ],\n",
       "           [-0.22,  0.09,  0.  , ...,  0.12, -0.12, -0.06]],\n",
       "   \n",
       "          ...,\n",
       "   \n",
       "          [[-0.09,  0.09, -0.12, ..., -0.06,  0.06, -0.12],\n",
       "           [-0.16, -0.22,  0.  , ...,  0.06,  0.12, -0.12],\n",
       "           [ 0.12,  0.22,  0.  , ..., -0.03, -0.06,  0.06],\n",
       "           ...,\n",
       "           [ 0.12, -0.16,  0.06, ...,  0.09, -0.22,  0.06],\n",
       "           [-0.12, -0.06, -0.19, ..., -0.06,  0.09,  0.06],\n",
       "           [ 0.  ,  0.09,  0.  , ...,  0.  ,  0.19,  0.  ]],\n",
       "   \n",
       "          [[ 0.  ,  0.12,  0.06, ..., -0.12,  0.09, -0.06],\n",
       "           [ 0.06,  0.22, -0.12, ..., -0.19, -0.06, -0.06],\n",
       "           [-0.06,  0.19,  0.06, ...,  0.09, -0.12,  0.12],\n",
       "           ...,\n",
       "           [-0.12, -0.22, -0.06, ...,  0.  ,  0.03, -0.12],\n",
       "           [-0.22,  0.22,  0.19, ..., -0.12, -0.03,  0.12],\n",
       "           [-0.06,  0.12,  0.06, ...,  0.06, -0.16,  0.06]],\n",
       "   \n",
       "          [[-0.06, -0.09,  0.06, ...,  0.  ,  0.09,  0.  ],\n",
       "           [ 0.12,  0.03, -0.19, ..., -0.09,  0.22,  0.12],\n",
       "           [ 0.12, -0.03,  0.  , ..., -0.12, -0.22, -0.12],\n",
       "           ...,\n",
       "           [-0.12,  0.  ,  0.  , ..., -0.03, -0.22, -0.25],\n",
       "           [-0.09,  0.22, -0.06, ..., -0.03, -0.09,  0.  ],\n",
       "           [ 0.19,  0.12, -0.12, ...,  0.12, -0.22,  0.  ]]], dtype=float32),\n",
       "   array([ 0.  , -0.12, -0.12,  0.  ,  0.  , -0.12, -0.12,  0.  ],\n",
       "         dtype=float32)]},\n",
       " 'q_batch_normalization_2': {'weights': [array([1., 1., 1., 1., 1., 1., 1., 1.], dtype=float32),\n",
       "   array([0.5 , 0.5 , 0.25, 0.25, 0.25, 0.25, 0.25, 0.5 ], dtype=float32),\n",
       "   array([0.25, 0.25, 0.06, 0.25, 0.25, 0.25, 0.25, 0.5 ], dtype=float32),\n",
       "   array([0.25, 0.25, 0.06, 0.25, 0.25, 0.25, 0.25, 0.25], dtype=float32)]},\n",
       " 'dense': {'weights': [array([[ 0.06,  0.06,  0.  , -0.06,  0.06,  0.06],\n",
       "          [ 0.06, -0.06,  0.  , -0.06,  0.06, -0.06],\n",
       "          [-0.06,  0.06,  0.  ,  0.06,  0.  , -0.38],\n",
       "          ...,\n",
       "          [ 0.12, -0.12,  0.  ,  0.12,  0.12,  0.  ],\n",
       "          [ 0.  , -0.19,  0.19,  0.12,  0.  , -0.25],\n",
       "          [ 0.06,  0.06, -0.12,  0.06,  0.06,  0.06]], dtype=float32),\n",
       "   array([ 0.  ,  0.  ,  0.  ,  0.  ,  0.  , -0.12], dtype=float32)]}}"
      ]
     },
     "execution_count": 33,
     "metadata": {},
     "output_type": "execute_result"
    }
   ],
   "source": [
    "from qkeras.utils import *\n",
    "model_save_quantized_weights(qmodel, 'qmodel.h5')\n",
    "#load_qmodel('qmodel.h5', custom_objects=None, compile=True)"
   ]
  },
  {
   "cell_type": "code",
   "execution_count": 34,
   "metadata": {
    "execution": {
     "iopub.execute_input": "2021-10-22T16:51:13.549540Z",
     "iopub.status.busy": "2021-10-22T16:51:13.549540Z",
     "iopub.status.idle": "2021-10-22T16:51:13.577542Z",
     "shell.execute_reply": "2021-10-22T16:51:13.575540Z",
     "shell.execute_reply.started": "2021-10-22T16:51:13.549540Z"
    },
    "tags": []
   },
   "outputs": [
    {
     "name": "stdout",
     "output_type": "stream",
     "text": [
      "Model Sparsity Summary (model)\n",
      "--\n",
      "conv1d_1: (conv1d_1/kernel:0, 0.05078125)\n",
      "conv1d_2: (conv1d_2/kernel:0, 0.126220703125)\n",
      "conv1d_3: (conv1d_3/kernel:0, 0.1435546875)\n",
      "dense: (dense/kernel:0, 0.22426470588235292)\n",
      "\n",
      "\n"
     ]
    }
   ],
   "source": [
    "print_model_sparsity(qmodel)"
   ]
  },
  {
   "cell_type": "code",
   "execution_count": 35,
   "metadata": {
    "execution": {
     "iopub.execute_input": "2021-10-22T16:51:13.578542Z",
     "iopub.status.busy": "2021-10-22T16:51:13.578542Z",
     "iopub.status.idle": "2021-10-22T16:51:25.438906Z",
     "shell.execute_reply": "2021-10-22T16:51:25.437891Z",
     "shell.execute_reply.started": "2021-10-22T16:51:13.578542Z"
    },
    "tags": []
   },
   "outputs": [
    {
     "name": "stdout",
     "output_type": "stream",
     "text": [
      "input                          -11.5861  14.6682\n",
      "conv1d_1                       -61.8299  54.7437"
     ]
    },
    {
     "name": "stderr",
     "output_type": "stream",
     "text": [
      "C:\\Users\\mmorsy\\AppData\\Roaming\\Python\\Python38\\site-packages\\qkeras-0.9.0-py3.8.egg\\qkeras\\utils.py:994: UserWarning: Matplotlib is currently using agg, which is a non-GUI backend, so cannot show the figure.\n",
      "C:\\Users\\mmorsy\\AppData\\Roaming\\Python\\Python38\\site-packages\\qkeras-0.9.0-py3.8.egg\\qkeras\\utils.py:1019: UserWarning: Matplotlib is currently using agg, which is a non-GUI backend, so cannot show the figure.\n"
     ]
    },
    {
     "name": "stdout",
     "output_type": "stream",
     "text": [
      " ( -0.8750   0.8750) ( -0.1250   0.1250) a(  0.500000   1.000000)\n",
      "act_1                            0.0000   0.9375\n",
      "q_batch_normalization           -0.9355   7.1536 (  1.0000   1.0000) ( -0.0625   0.2500) (  0.0312   0.5000) (  0.0156   0.2500)\n",
      "conv1d_2                       -23.4732  20.5220 ( -0.8750   0.8750) ( -0.2500   0.1250) a(  0.250000   0.250000)\n",
      "act_2                            0.0000   0.9375\n",
      "q_batch_normalization_1         -0.8730   1.8723 (  1.0000   1.0000) (  0.0625   0.5000) (  0.2500   0.5000) (  0.2500   0.2500)\n",
      "conv1d_3                        -7.8871   7.6367 ( -0.8750   0.8750) ( -0.1250   0.0000) a(  0.250000   0.500000)\n",
      "act_3                            0.0000   0.9375\n",
      "q_batch_normalization_2         -0.4980   3.7223 (  1.0000   1.0000) (  0.2500   0.5000) (  0.0625   0.5000) (  0.0625   0.2500)\n",
      "dense                          -15.8490  14.8046 ( -0.8750   0.7500) ( -0.1250   0.0000) a(  0.500000   0.500000)\n"
     ]
    },
    {
     "data": {
      "image/png": "[encoded data removed]",
      "text/plain": [
       "<Figure size 432x288 with 1 Axes>"
      ]
     },
     "metadata": {
      "image/png": {
       "height": 263,
       "width": 367
      },
      "needs_background": "light"
     },
     "output_type": "display_data"
    }
   ],
   "source": [
    "quantized_model_debug(qmodel, X_tst_tf, plot=True)"
   ]
  },
  {
   "cell_type": "code",
   "execution_count": 36,
   "metadata": {
    "execution": {
     "iopub.execute_input": "2021-10-22T16:51:25.440891Z",
     "iopub.status.busy": "2021-10-22T16:51:25.439891Z",
     "iopub.status.idle": "2021-10-22T16:51:26.518120Z",
     "shell.execute_reply": "2021-10-22T16:51:26.517540Z",
     "shell.execute_reply.started": "2021-10-22T16:51:25.440891Z"
    }
   },
   "outputs": [
    {
     "data": {
      "text/plain": [
       "{'conv1d_1': {'type': ('mult', (0, 0), (4, 8), (1, 0)),\n",
       "  'number_of_operations': 79872,\n",
       "  'number_of_weights': 256,\n",
       "  'number_of_bias': 32,\n",
       "  'type_of_weights': (0, 4, 1),\n",
       "  'type_of_bias': (0, 4, 1)},\n",
       " 'conv1d_2': {'type': ('mult', (0, 0), (4, 4), (1, 0)),\n",
       "  'number_of_operations': 610304,\n",
       "  'number_of_weights': 4096,\n",
       "  'number_of_bias': 16,\n",
       "  'type_of_weights': (0, 4, 1),\n",
       "  'type_of_bias': (0, 4, 1)},\n",
       " 'conv1d_3': {'type': ('mult', (0, 0), (4, 4), (1, 0)),\n",
       "  'number_of_operations': 69632,\n",
       "  'number_of_weights': 1024,\n",
       "  'number_of_bias': 8,\n",
       "  'type_of_weights': (0, 4, 1),\n",
       "  'type_of_bias': (0, 4, 1)},\n",
       " 'dense': {'type': ('mult', (0, 0), (4, 4), (1, 0)),\n",
       "  'number_of_operations': 1632,\n",
       "  'number_of_weights': 1632,\n",
       "  'number_of_bias': 6,\n",
       "  'type_of_weights': (0, 4, 1),\n",
       "  'type_of_bias': (0, 4, 1)}}"
      ]
     },
     "execution_count": 36,
     "metadata": {},
     "output_type": "execute_result"
    }
   ],
   "source": [
    "extract_model_operations(qmodel)"
   ]
  },
  {
   "cell_type": "code",
   "execution_count": 37,
   "metadata": {
    "execution": {
     "iopub.execute_input": "2021-10-22T16:51:26.520128Z",
     "iopub.status.busy": "2021-10-22T16:51:26.520128Z",
     "iopub.status.idle": "2021-10-22T16:51:26.565131Z",
     "shell.execute_reply": "2021-10-22T16:51:26.563263Z",
     "shell.execute_reply.started": "2021-10-22T16:51:26.520128Z"
    },
    "tags": []
   },
   "outputs": [
    {
     "name": "stdout",
     "output_type": "stream",
     "text": [
      "Saved baseline model to: C:\\Users\\mmorsy\\AppData\\Local\\Temp\\tmpke422t3n.h5\n"
     ]
    }
   ],
   "source": [
    "_, keras_file = tempfile.mkstemp('.h5')\n",
    "tf.keras.models.save_model(qmodel, keras_file, include_optimizer=False)\n",
    "print('Saved baseline model to:', keras_file)"
   ]
  },
  {
   "cell_type": "code",
   "execution_count": 38,
   "metadata": {
    "execution": {
     "iopub.execute_input": "2021-10-22T16:51:26.567126Z",
     "iopub.status.busy": "2021-10-22T16:51:26.567126Z",
     "iopub.status.idle": "2021-10-22T16:51:26.579160Z",
     "shell.execute_reply": "2021-10-22T16:51:26.578159Z",
     "shell.execute_reply.started": "2021-10-22T16:51:26.567126Z"
    },
    "tags": []
   },
   "outputs": [],
   "source": [
    "from tensorflow_model_optimization.python.core.sparsity.keras import prune\n",
    "from tensorflow_model_optimization.python.core.sparsity.keras import pruning_callbacks\n",
    "from tensorflow_model_optimization.python.core.sparsity.keras import pruning_schedule"
   ]
  },
  {
   "cell_type": "code",
   "execution_count": 39,
   "metadata": {
    "execution": {
     "iopub.execute_input": "2021-10-22T16:51:26.581121Z",
     "iopub.status.busy": "2021-10-22T16:51:26.581121Z",
     "iopub.status.idle": "2021-10-22T16:51:28.265503Z",
     "shell.execute_reply": "2021-10-22T16:51:28.264493Z",
     "shell.execute_reply.started": "2021-10-22T16:51:26.581121Z"
    },
    "tags": []
   },
   "outputs": [
    {
     "name": "stderr",
     "output_type": "stream",
     "text": [
      "C:\\Users\\mmorsy\\AppData\\Roaming\\Python\\Python38\\site-packages\\tensorflow\\python\\keras\\engine\\base_layer.py:2281: UserWarning: `layer.add_variable` is deprecated and will be removed in a future version. Please use `layer.add_weight` method instead.\n",
      "  warnings.warn('`layer.add_variable` is deprecated and '\n"
     ]
    },
    {
     "name": "stdout",
     "output_type": "stream",
     "text": [
      "Model: \"model\"\n",
      "_________________________________________________________________\n",
      "Layer (type)                 Output Shape              Param #   \n",
      "=================================================================\n",
      "input_1 (InputLayer)         [(None, 319, 1)]          0         \n",
      "_________________________________________________________________\n",
      "prune_low_magnitude_conv1d_1 (None, 312, 32)           546       \n",
      "_________________________________________________________________\n",
      "prune_low_magnitude_act_1 (P (None, 312, 32)           1         \n",
      "_________________________________________________________________\n",
      "prune_low_magnitude_q_batch_ (None, 312, 32)           129       \n",
      "_________________________________________________________________\n",
      "prune_low_magnitude_dropout_ (None, 312, 32)           1         \n",
      "_________________________________________________________________\n",
      "prune_low_magnitude_max_pool (None, 156, 32)           1         \n",
      "_________________________________________________________________\n",
      "prune_low_magnitude_conv1d_2 (None, 149, 16)           8210      \n",
      "_________________________________________________________________\n",
      "prune_low_magnitude_act_2 (P (None, 149, 16)           1         \n",
      "_________________________________________________________________\n",
      "prune_low_magnitude_q_batch_ (None, 149, 16)           65        \n",
      "_________________________________________________________________\n",
      "prune_low_magnitude_dropout_ (None, 149, 16)           1         \n",
      "_________________________________________________________________\n",
      "prune_low_magnitude_max_pool (None, 75, 16)            1         \n",
      "_________________________________________________________________\n",
      "prune_low_magnitude_conv1d_3 (None, 68, 8)             2058      \n",
      "_________________________________________________________________\n",
      "prune_low_magnitude_act_3 (P (None, 68, 8)             1         \n",
      "_________________________________________________________________\n",
      "prune_low_magnitude_q_batch_ (None, 68, 8)             33        \n",
      "_________________________________________________________________\n",
      "prune_low_magnitude_dropout_ (None, 68, 8)             1         \n",
      "_________________________________________________________________\n",
      "prune_low_magnitude_max_pool (None, 34, 8)             1         \n",
      "_________________________________________________________________\n",
      "prune_low_magnitude_flatten  (None, 272)               1         \n",
      "_________________________________________________________________\n",
      "prune_low_magnitude_dense (P (None, 6)                 3272      \n",
      "_________________________________________________________________\n",
      "prune_low_magnitude_softmax  (None, 6)                 1         \n",
      "=================================================================\n",
      "Total params: 14,324\n",
      "Trainable params: 7,182\n",
      "Non-trainable params: 7,142\n",
      "_________________________________________________________________\n"
     ]
    }
   ],
   "source": [
    "import tensorflow_model_optimization as tfmot\n",
    "\n",
    "prune_low_magnitude = tfmot.sparsity.keras.prune_low_magnitude\n",
    "\n",
    "# Compute end step to finish pruning after 2 epochs.\n",
    "batch_size = 500\n",
    "epochs = 50\n",
    "validation_split = 0.2 # 20% of training set will be used for validation set. \n",
    "\n",
    "num_examples = X_trn_tf.shape[0] * (1 - validation_split)\n",
    "end_step = np.ceil(num_examples / batch_size).astype(np.int32) * epochs\n",
    "\n",
    "# Define model for pruning.\n",
    "pruning_params = {\n",
    "      'pruning_schedule': tfmot.sparsity.keras.PolynomialDecay(initial_sparsity=0.50,\n",
    "                                                               final_sparsity=0.80,\n",
    "                                                               begin_step=0,\n",
    "                                                               end_step=end_step)\n",
    "}\n",
    "\n",
    "model_for_pruning = prune_low_magnitude(qmodel, **pruning_params)\n",
    "\n",
    "opt = RMSprop(learning_rate=0.001)\n",
    "\n",
    "# `prune_low_magnitude` requires a recompile.\n",
    "model_for_pruning.compile(optimizer=opt,\n",
    "              loss='categorical_crossentropy',\n",
    "              metrics=['accuracy'])\n",
    "\n",
    "model_for_pruning.summary()"
   ]
  },
  {
   "cell_type": "code",
   "execution_count": 41,
   "metadata": {
    "execution": {
     "iopub.execute_input": "2021-10-22T16:52:20.624719Z",
     "iopub.status.busy": "2021-10-22T16:52:20.624719Z",
     "iopub.status.idle": "2021-10-22T16:57:35.847748Z",
     "shell.execute_reply": "2021-10-22T16:57:35.846787Z",
     "shell.execute_reply.started": "2021-10-22T16:52:20.624719Z"
    },
    "tags": []
   },
   "outputs": [
    {
     "name": "stdout",
     "output_type": "stream",
     "text": [
      "Epoch 1/50\n",
      " 6/54 [==>...........................] - ETA: 23s - loss: 0.1298 - accuracy: 0.9572WARNING:tensorflow:Callback method `on_train_batch_end` is slow compared to the batch time (batch time: 0.0629s vs `on_train_batch_end` time: 0.3694s). Check your callbacks.\n"
     ]
    },
    {
     "name": "stderr",
     "output_type": "stream",
     "text": [
      "WARNING:tensorflow:Callback method `on_train_batch_end` is slow compared to the batch time (batch time: 0.0629s vs `on_train_batch_end` time: 0.3694s). Check your callbacks.\n"
     ]
    },
    {
     "name": "stdout",
     "output_type": "stream",
     "text": [
      "54/54 [==============================] - 18s 177ms/step - loss: 0.1185 - accuracy: 0.9624 - val_loss: 0.0900 - val_accuracy: 0.9734\n",
      "Epoch 2/50\n",
      "54/54 [==============================] - 6s 108ms/step - loss: 0.1039 - accuracy: 0.9672 - val_loss: 0.3573 - val_accuracy: 0.8916\n",
      "Epoch 3/50\n",
      "54/54 [==============================] - 6s 109ms/step - loss: 0.3200 - accuracy: 0.8975 - val_loss: 0.1837 - val_accuracy: 0.9453\n",
      "Epoch 4/50\n",
      "54/54 [==============================] - 6s 108ms/step - loss: 0.1767 - accuracy: 0.9459 - val_loss: 0.2239 - val_accuracy: 0.9317\n",
      "Epoch 5/50\n",
      "54/54 [==============================] - 6s 108ms/step - loss: 0.1517 - accuracy: 0.9519 - val_loss: 0.1944 - val_accuracy: 0.9387\n",
      "Epoch 6/50\n",
      "54/54 [==============================] - 6s 109ms/step - loss: 0.1360 - accuracy: 0.9584 - val_loss: 0.1522 - val_accuracy: 0.9601\n",
      "Epoch 7/50\n",
      "54/54 [==============================] - 6s 107ms/step - loss: 0.1283 - accuracy: 0.9612 - val_loss: 0.1218 - val_accuracy: 0.9668\n",
      "Epoch 8/50\n",
      "54/54 [==============================] - 6s 109ms/step - loss: 0.1492 - accuracy: 0.9540 - val_loss: 0.1768 - val_accuracy: 0.9487\n",
      "Epoch 9/50\n",
      "54/54 [==============================] - 6s 108ms/step - loss: 0.1407 - accuracy: 0.9602 - val_loss: 0.2025 - val_accuracy: 0.9383\n",
      "Epoch 10/50\n",
      "54/54 [==============================] - 6s 110ms/step - loss: 0.1623 - accuracy: 0.9494 - val_loss: 0.2750 - val_accuracy: 0.9081\n",
      "Epoch 11/50\n",
      "54/54 [==============================] - 6s 109ms/step - loss: 0.1385 - accuracy: 0.9570 - val_loss: 0.2447 - val_accuracy: 0.9152\n",
      "Epoch 12/50\n",
      "54/54 [==============================] - 6s 108ms/step - loss: 0.1689 - accuracy: 0.9468 - val_loss: 0.2628 - val_accuracy: 0.9105\n",
      "Epoch 13/50\n",
      "54/54 [==============================] - 6s 108ms/step - loss: 0.1289 - accuracy: 0.9598 - val_loss: 0.2459 - val_accuracy: 0.9142\n",
      "Epoch 14/50\n",
      "54/54 [==============================] - 6s 111ms/step - loss: 0.1587 - accuracy: 0.9523 - val_loss: 0.2120 - val_accuracy: 0.9308\n",
      "Epoch 15/50\n",
      "54/54 [==============================] - 6s 110ms/step - loss: 0.1253 - accuracy: 0.9624 - val_loss: 0.1657 - val_accuracy: 0.9527\n",
      "Epoch 16/50\n",
      "54/54 [==============================] - 6s 108ms/step - loss: 0.1389 - accuracy: 0.9568 - val_loss: 0.1452 - val_accuracy: 0.9594\n",
      "Epoch 17/50\n",
      "54/54 [==============================] - 6s 111ms/step - loss: 0.1238 - accuracy: 0.9637 - val_loss: 0.1413 - val_accuracy: 0.9543\n",
      "Epoch 18/50\n",
      "54/54 [==============================] - 6s 110ms/step - loss: 0.1204 - accuracy: 0.9621 - val_loss: 0.1163 - val_accuracy: 0.9680\n",
      "Epoch 19/50\n",
      "54/54 [==============================] - 6s 111ms/step - loss: 0.1236 - accuracy: 0.9618 - val_loss: 0.1274 - val_accuracy: 0.9658\n",
      "Epoch 20/50\n",
      "54/54 [==============================] - 6s 115ms/step - loss: 0.1217 - accuracy: 0.9608 - val_loss: 0.1213 - val_accuracy: 0.9692\n",
      "Epoch 21/50\n",
      "54/54 [==============================] - 6s 118ms/step - loss: 0.1176 - accuracy: 0.9647 - val_loss: 0.1611 - val_accuracy: 0.9593\n",
      "Epoch 22/50\n",
      "54/54 [==============================] - 6s 117ms/step - loss: 0.1162 - accuracy: 0.9647 - val_loss: 0.1640 - val_accuracy: 0.9564\n",
      "Epoch 23/50\n",
      "54/54 [==============================] - 6s 118ms/step - loss: 0.1170 - accuracy: 0.9647 - val_loss: 0.1422 - val_accuracy: 0.9581\n",
      "Epoch 24/50\n",
      "54/54 [==============================] - 6s 118ms/step - loss: 0.1112 - accuracy: 0.9662 - val_loss: 0.1790 - val_accuracy: 0.9442\n",
      "Epoch 25/50\n",
      "54/54 [==============================] - 7s 129ms/step - loss: 0.1229 - accuracy: 0.9618 - val_loss: 0.1257 - val_accuracy: 0.9645\n",
      "Epoch 26/50\n",
      "54/54 [==============================] - 7s 126ms/step - loss: 0.1187 - accuracy: 0.9645 - val_loss: 0.1469 - val_accuracy: 0.9584\n",
      "Epoch 27/50\n",
      "54/54 [==============================] - 6s 111ms/step - loss: 0.1114 - accuracy: 0.9662 - val_loss: 0.1273 - val_accuracy: 0.9610oss: 0.1114 - accuracy: 0.96\n",
      "Epoch 28/50\n",
      "54/54 [==============================] - 6s 109ms/step - loss: 0.1054 - accuracy: 0.9665 - val_loss: 0.1106 - val_accuracy: 0.9685\n",
      "Epoch 29/50\n",
      "54/54 [==============================] - 6s 111ms/step - loss: 0.0968 - accuracy: 0.9702 - val_loss: 0.1095 - val_accuracy: 0.9697\n",
      "Epoch 30/50\n",
      "54/54 [==============================] - 6s 108ms/step - loss: 0.0965 - accuracy: 0.9689 - val_loss: 0.1055 - val_accuracy: 0.97280s - loss: 0.0961 - accura\n",
      "Epoch 31/50\n",
      "54/54 [==============================] - 6s 108ms/step - loss: 0.1010 - accuracy: 0.9678 - val_loss: 0.1164 - val_accuracy: 0.9673\n",
      "Epoch 32/50\n",
      "54/54 [==============================] - 6s 108ms/step - loss: 0.0974 - accuracy: 0.9692 - val_loss: 0.1215 - val_accuracy: 0.9624\n",
      "Epoch 33/50\n",
      "54/54 [==============================] - 6s 107ms/step - loss: 0.1004 - accuracy: 0.9693 - val_loss: 0.1080 - val_accuracy: 0.9695\n",
      "Epoch 34/50\n",
      "54/54 [==============================] - 6s 110ms/step - loss: 0.0939 - accuracy: 0.9693 - val_loss: 0.1229 - val_accuracy: 0.9661\n",
      "Epoch 35/50\n",
      "54/54 [==============================] - 6s 117ms/step - loss: 0.1109 - accuracy: 0.9672 - val_loss: 0.1016 - val_accuracy: 0.9695\n",
      "Epoch 36/50\n",
      "54/54 [==============================] - 6s 119ms/step - loss: 0.1031 - accuracy: 0.9696 - val_loss: 0.1083 - val_accuracy: 0.9674\n",
      "Epoch 37/50\n",
      "54/54 [==============================] - 6s 113ms/step - loss: 0.1049 - accuracy: 0.9666 - val_loss: 0.1206 - val_accuracy: 0.9674\n",
      "Epoch 38/50\n",
      "54/54 [==============================] - 6s 110ms/step - loss: 0.1098 - accuracy: 0.9669 - val_loss: 0.1287 - val_accuracy: 0.9601\n",
      "Epoch 39/50\n",
      "54/54 [==============================] - 6s 113ms/step - loss: 0.1018 - accuracy: 0.9692 - val_loss: 0.1224 - val_accuracy: 0.9584\n",
      "Epoch 40/50\n",
      "54/54 [==============================] - 6s 112ms/step - loss: 0.1045 - accuracy: 0.9668 - val_loss: 0.1345 - val_accuracy: 0.9551\n",
      "Epoch 41/50\n",
      "54/54 [==============================] - 6s 112ms/step - loss: 0.1008 - accuracy: 0.9683 - val_loss: 0.0964 - val_accuracy: 0.9711\n",
      "Epoch 42/50\n",
      "54/54 [==============================] - 6s 112ms/step - loss: 0.0999 - accuracy: 0.9699 - val_loss: 0.1270 - val_accuracy: 0.9578\n",
      "Epoch 43/50\n",
      "54/54 [==============================] - 6s 112ms/step - loss: 0.0956 - accuracy: 0.9693 - val_loss: 0.1070 - val_accuracy: 0.9725\n",
      "Epoch 44/50\n",
      "54/54 [==============================] - 6s 113ms/step - loss: 0.1061 - accuracy: 0.9693 - val_loss: 0.1318 - val_accuracy: 0.9566\n",
      "Epoch 45/50\n",
      "54/54 [==============================] - 6s 112ms/step - loss: 0.0931 - accuracy: 0.9702 - val_loss: 0.1001 - val_accuracy: 0.9679\n",
      "Epoch 46/50\n",
      "54/54 [==============================] - 6s 110ms/step - loss: 0.1011 - accuracy: 0.9682 - val_loss: 0.1144 - val_accuracy: 0.9646\n",
      "Epoch 47/50\n",
      "54/54 [==============================] - 6s 110ms/step - loss: 0.0980 - accuracy: 0.9702 - val_loss: 0.1236 - val_accuracy: 0.9627\n",
      "Epoch 48/50\n",
      "54/54 [==============================] - 6s 108ms/step - loss: 0.0854 - accuracy: 0.9732 - val_loss: 0.1202 - val_accuracy: 0.9606\n",
      "Epoch 49/50\n",
      "54/54 [==============================] - 6s 110ms/step - loss: 0.0910 - accuracy: 0.9713 - val_loss: 0.0973 - val_accuracy: 0.9703\n",
      "Epoch 50/50\n",
      "54/54 [==============================] - 6s 111ms/step - loss: 0.0972 - accuracy: 0.9698 - val_loss: 0.1298 - val_accuracy: 0.9587\n"
     ]
    }
   ],
   "source": [
    "from tempfile import TemporaryDirectory\n",
    "\n",
    "with TemporaryDirectory() as temp_dir:\n",
    "\n",
    "    callbacks = [\n",
    "      tfmot.sparsity.keras.UpdatePruningStep(),\n",
    "      tfmot.sparsity.keras.PruningSummaries(log_dir=temp_dir),\n",
    "    ]\n",
    "\n",
    "    model_for_pruning.fit(X_trn_tf, y_trn_oh,\n",
    "                      batch_size=batch_size, epochs=epochs, validation_split=validation_split,\n",
    "                      callbacks=callbacks)"
   ]
  },
  {
   "cell_type": "code",
   "execution_count": 42,
   "metadata": {
    "execution": {
     "iopub.execute_input": "2021-10-22T16:57:44.668699Z",
     "iopub.status.busy": "2021-10-22T16:57:44.667659Z",
     "iopub.status.idle": "2021-10-22T16:57:50.215359Z",
     "shell.execute_reply": "2021-10-22T16:57:50.213394Z",
     "shell.execute_reply.started": "2021-10-22T16:57:44.668699Z"
    },
    "tags": []
   },
   "outputs": [
    {
     "name": "stdout",
     "output_type": "stream",
     "text": [
      "Pruned test accuracy: 0.9581151604652405\n"
     ]
    }
   ],
   "source": [
    "_, model_for_pruning_accuracy = model_for_pruning.evaluate(X_tst_tf, y_tst_oh, verbose=0)\n",
    "print('Pruned test accuracy:', model_for_pruning_accuracy)"
   ]
  },
  {
   "cell_type": "code",
   "execution_count": 43,
   "metadata": {
    "execution": {
     "iopub.execute_input": "2021-10-22T16:57:50.216353Z",
     "iopub.status.busy": "2021-10-22T16:57:50.216353Z",
     "iopub.status.idle": "2021-10-22T16:57:50.231359Z",
     "shell.execute_reply": "2021-10-22T16:57:50.228358Z",
     "shell.execute_reply.started": "2021-10-22T16:57:50.216353Z"
    },
    "tags": []
   },
   "outputs": [],
   "source": [
    "#!load_ext tensorboard \n",
    "#!tensorboard --logdir=logdir"
   ]
  },
  {
   "cell_type": "code",
   "execution_count": 51,
   "metadata": {
    "execution": {
     "iopub.execute_input": "2021-10-22T17:04:37.330251Z",
     "iopub.status.busy": "2021-10-22T17:04:37.329246Z",
     "iopub.status.idle": "2021-10-22T17:04:38.520339Z",
     "shell.execute_reply": "2021-10-22T17:04:38.519370Z",
     "shell.execute_reply.started": "2021-10-22T17:04:37.330251Z"
    },
    "tags": []
   },
   "outputs": [
    {
     "name": "stdout",
     "output_type": "stream",
     "text": [
      "Saved pruned Keras model to: C:\\Users\\mmorsy\\AppData\\Local\\Temp\\tmphmmzp_pu.h5\n"
     ]
    }
   ],
   "source": [
    "pq_model = tfmot.sparsity.keras.strip_pruning(model_for_pruning)\n",
    "\n",
    "_, pruned_keras_file = tempfile.mkstemp('.h5')\n",
    "tf.keras.models.save_model(model_for_export, pruned_keras_file, include_optimizer=False)\n",
    "print('Saved pruned Keras model to:', pruned_keras_file)"
   ]
  },
  {
   "cell_type": "code",
   "execution_count": 53,
   "metadata": {
    "execution": {
     "iopub.execute_input": "2021-10-22T17:10:27.539867Z",
     "iopub.status.busy": "2021-10-22T17:10:27.538869Z",
     "iopub.status.idle": "2021-10-22T17:10:57.802691Z",
     "shell.execute_reply": "2021-10-22T17:10:57.799721Z",
     "shell.execute_reply.started": "2021-10-22T17:10:27.539867Z"
    },
    "tags": []
   },
   "outputs": [
    {
     "name": "stdout",
     "output_type": "stream",
     "text": [
      "INFO:tensorflow:Assets written to: C:\\Users\\mmorsy\\AppData\\Local\\Temp\\tmpjzyxoek3\\assets\n"
     ]
    },
    {
     "name": "stderr",
     "output_type": "stream",
     "text": [
      "INFO:tensorflow:Assets written to: C:\\Users\\mmorsy\\AppData\\Local\\Temp\\tmpjzyxoek3\\assets\n"
     ]
    },
    {
     "name": "stdout",
     "output_type": "stream",
     "text": [
      "Saved pruned TFLite model to: C:\\Users\\mmorsy\\AppData\\Local\\Temp\\tmpmfmuyikr.tflite\n"
     ]
    }
   ],
   "source": [
    "converter = tf.lite.TFLiteConverter.from_keras_model(pq_model)\n",
    "pq_tflite_model = converter.convert()\n",
    "\n",
    "_, pq_tflite_file = tempfile.mkstemp('.tflite')\n",
    "\n",
    "with open(pq_tflite_file, 'wb') as f:\n",
    "  f.write(pq_tflite_model)\n",
    "\n",
    "print('Saved pruned TFLite model to:', pq_tflite_file)"
   ]
  },
  {
   "cell_type": "code",
   "execution_count": 54,
   "metadata": {
    "execution": {
     "iopub.execute_input": "2021-10-22T17:11:05.871076Z",
     "iopub.status.busy": "2021-10-22T17:11:05.871076Z",
     "iopub.status.idle": "2021-10-22T17:11:05.880112Z",
     "shell.execute_reply": "2021-10-22T17:11:05.879112Z",
     "shell.execute_reply.started": "2021-10-22T17:11:05.871076Z"
    },
    "tags": []
   },
   "outputs": [],
   "source": [
    "# Save the tflite model to file to the Downloads directory\n",
    "f = open('pq_model.tflite', \"wb\")\n",
    "f.write(pq_tflite_model)\n",
    "f.close()"
   ]
  },
  {
   "cell_type": "code",
   "execution_count": 55,
   "metadata": {
    "execution": {
     "iopub.execute_input": "2021-10-22T17:11:22.386987Z",
     "iopub.status.busy": "2021-10-22T17:11:22.385992Z",
     "iopub.status.idle": "2021-10-22T17:11:22.395126Z",
     "shell.execute_reply": "2021-10-22T17:11:22.392971Z",
     "shell.execute_reply.started": "2021-10-22T17:11:22.386987Z"
    },
    "tags": []
   },
   "outputs": [],
   "source": [
    "def get_gzipped_model_size(file):\n",
    "  # Returns size of gzipped model, in bytes.\n",
    "  import os\n",
    "  import zipfile\n",
    "\n",
    "  _, zipped_file = tempfile.mkstemp('.zip')\n",
    "  with zipfile.ZipFile(zipped_file, 'w', compression=zipfile.ZIP_DEFLATED) as f:\n",
    "    f.write(file)\n",
    "\n",
    "  return os.path.getsize(zipped_file)"
   ]
  },
  {
   "cell_type": "code",
   "execution_count": 56,
   "metadata": {
    "execution": {
     "iopub.execute_input": "2021-10-22T17:11:23.307832Z",
     "iopub.status.busy": "2021-10-22T17:11:23.306845Z",
     "iopub.status.idle": "2021-10-22T17:11:23.361844Z",
     "shell.execute_reply": "2021-10-22T17:11:23.360848Z",
     "shell.execute_reply.started": "2021-10-22T17:11:23.307832Z"
    },
    "tags": []
   },
   "outputs": [
    {
     "name": "stdout",
     "output_type": "stream",
     "text": [
      "Size of gzipped baseline Keras model: 10094.00 bytes\n",
      "Size of gzipped pruned Keras model: 13725.00 bytes\n",
      "Size of gzipped pruned TFlite model: 7845.00 bytes\n"
     ]
    }
   ],
   "source": [
    "print(\"Size of gzipped baseline Keras model: %.2f bytes\" % (get_gzipped_model_size(keras_file)))\n",
    "print(\"Size of gzipped pruned Keras model: %.2f bytes\" % (get_gzipped_model_size(pruned_keras_file)))\n",
    "print(\"Size of gzipped pruned TFlite model: %.2f bytes\" % (get_gzipped_model_size(pq_tflite_file)))"
   ]
  },
  {
   "cell_type": "code",
   "execution_count": 57,
   "metadata": {
    "execution": {
     "iopub.execute_input": "2021-10-22T17:11:24.880854Z",
     "iopub.status.busy": "2021-10-22T17:11:24.880854Z",
     "iopub.status.idle": "2021-10-22T17:11:54.499530Z",
     "shell.execute_reply": "2021-10-22T17:11:54.498546Z",
     "shell.execute_reply.started": "2021-10-22T17:11:24.880854Z"
    },
    "tags": []
   },
   "outputs": [
    {
     "name": "stdout",
     "output_type": "stream",
     "text": [
      "INFO:tensorflow:Assets written to: C:\\Users\\mmorsy\\AppData\\Local\\Temp\\tmpaowu5nla\\assets\n"
     ]
    },
    {
     "name": "stderr",
     "output_type": "stream",
     "text": [
      "INFO:tensorflow:Assets written to: C:\\Users\\mmorsy\\AppData\\Local\\Temp\\tmpaowu5nla\\assets\n"
     ]
    },
    {
     "name": "stdout",
     "output_type": "stream",
     "text": [
      "Saved quantized and pruned TFLite model to: C:\\Users\\mmorsy\\AppData\\Local\\Temp\\tmpopxehdb7.tflite\n",
      "Size of gzipped baseline Keras model: 10094.00 bytes\n",
      "Size of gzipped pruned and quantized TFlite model: 7176.00 bytes\n"
     ]
    }
   ],
   "source": [
    "converter = tf.lite.TFLiteConverter.from_keras_model(model_for_export)\n",
    "converter.optimizations = [tf.lite.Optimize.DEFAULT]\n",
    "quantized_and_pruned_tflite_model = converter.convert()\n",
    "\n",
    "_, quantized_and_pruned_tflite_file = tempfile.mkstemp('.tflite')\n",
    "\n",
    "with open(quantized_and_pruned_tflite_file, 'wb') as f:\n",
    "  f.write(quantized_and_pruned_tflite_model)\n",
    "\n",
    "print('Saved quantized and pruned TFLite model to:', quantized_and_pruned_tflite_file)\n",
    "\n",
    "print(\"Size of gzipped baseline Keras model: %.2f bytes\" % (get_gzipped_model_size(keras_file)))\n",
    "print(\"Size of gzipped pruned and quantized TFlite model: %.2f bytes\" % (get_gzipped_model_size(quantized_and_pruned_tflite_file)))"
   ]
  },
  {
   "cell_type": "code",
   "execution_count": 58,
   "metadata": {
    "execution": {
     "iopub.execute_input": "2021-10-22T17:11:54.502515Z",
     "iopub.status.busy": "2021-10-22T17:11:54.501511Z",
     "iopub.status.idle": "2021-10-22T17:11:54.515508Z",
     "shell.execute_reply": "2021-10-22T17:11:54.513531Z",
     "shell.execute_reply.started": "2021-10-22T17:11:54.502515Z"
    },
    "tags": []
   },
   "outputs": [],
   "source": [
    "import numpy as np\n",
    "\n",
    "def evaluate_model(interpreter):\n",
    "  input_index = interpreter.get_input_details()[0][\"index\"]\n",
    "  output_index = interpreter.get_output_details()[0][\"index\"]\n",
    "\n",
    "  # Run predictions on ever y image in the \"test\" dataset.\n",
    "  prediction_results = []\n",
    "  for i, test_example in enumerate(X_tst_tf):\n",
    "    if i % 1000 == 0:\n",
    "      print('Evaluated on {n} results so far.'.format(n=i))\n",
    "    # Pre-processing: add batch dimension and convert to float32 to match with\n",
    "    # the model's input data format.\n",
    "    test_example = np.expand_dims(test_example, axis=0).astype(np.float32)\n",
    "    interpreter.set_tensor(input_index, test_example)\n",
    "\n",
    "    # Run inference.\n",
    "    interpreter.invoke()\n",
    "\n",
    "    # Post-processing: remove batch dimension and find the digit with highest\n",
    "    # probability.\n",
    "    output = interpreter.tensor(output_index)\n",
    "    digit = np.argmax(output()[0])\n",
    "    prediction_results.append(digit)\n",
    "\n",
    "  print('\\n')\n",
    "  # Compare prediction results with ground truth labels to calculate accuracy.\n",
    "  prediction_digits = np.array(prediction_results)\n",
    "  accuracy = (prediction_results == y_tst).mean()\n",
    "  return accuracy"
   ]
  },
  {
   "cell_type": "code",
   "execution_count": 59,
   "metadata": {
    "execution": {
     "iopub.execute_input": "2021-10-22T17:11:54.518524Z",
     "iopub.status.busy": "2021-10-22T17:11:54.518524Z",
     "iopub.status.idle": "2021-10-22T17:12:39.206419Z",
     "shell.execute_reply": "2021-10-22T17:12:39.206419Z",
     "shell.execute_reply.started": "2021-10-22T17:11:54.518524Z"
    },
    "tags": []
   },
   "outputs": [
    {
     "name": "stdout",
     "output_type": "stream",
     "text": [
      "Evaluated on 0 results so far.\n",
      "Evaluated on 1000 results so far.\n",
      "Evaluated on 2000 results so far.\n",
      "Evaluated on 3000 results so far.\n",
      "Evaluated on 4000 results so far.\n",
      "Evaluated on 5000 results so far.\n",
      "Evaluated on 6000 results so far.\n",
      "Evaluated on 7000 results so far.\n",
      "Evaluated on 8000 results so far.\n",
      "\n",
      "\n",
      "Pruned and quantized TFLite test_accuracy: 0.9582341742027606\n",
      "Pruned TF test accuracy: 0.9581151604652405\n"
     ]
    }
   ],
   "source": [
    "interpreter = tf.lite.Interpreter(model_content=quantized_and_pruned_tflite_model)\n",
    "interpreter.allocate_tensors()\n",
    "\n",
    "test_accuracy = evaluate_model(interpreter)\n",
    "\n",
    "print('Pruned and quantized TFLite test_accuracy:', test_accuracy)\n",
    "print('Pruned TF test accuracy:', model_for_pruning_accuracy)"
   ]
  }
 ],
 "metadata": {
  "kernelspec": {
   "display_name": "Python 3",
   "language": "python",
   "name": "python3"
  },
  "language_info": {
   "codemirror_mode": {
    "name": "ipython",
    "version": 3
   },
   "file_extension": ".py",
   "mimetype": "text/x-python",
   "name": "python",
   "nbconvert_exporter": "python",
   "pygments_lexer": "ipython3",
   "version": "3.8.5"
  },
  "metadata": {
   "interpreter": {
    "hash": "1baa965d5efe3ac65b79dfc60c0d706280b1da80fedb7760faf2759126c4f253"
   }
  }
 },
 "nbformat": 4,
 "nbformat_minor": 4
}
