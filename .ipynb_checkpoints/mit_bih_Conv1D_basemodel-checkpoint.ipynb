{
 "cells": [
  {
   "cell_type": "code",
   "execution_count": 4,
   "metadata": {
    "execution": {
     "iopub.execute_input": "2021-10-10T17:34:44.424810Z",
     "iopub.status.busy": "2021-10-10T17:34:44.424810Z",
     "iopub.status.idle": "2021-10-10T17:34:44.441319Z",
     "shell.execute_reply": "2021-10-10T17:34:44.440320Z",
     "shell.execute_reply.started": "2021-10-10T17:34:44.424810Z"
    },
    "tags": []
   },
   "outputs": [],
   "source": [
    "import numpy as np\n",
    "import pandas as pd\n",
    "import tensorflow as tf\n",
    "import os\n",
    "\n",
    "from matplotlib import pyplot as plt\n",
    "%matplotlib inline\n",
    "%config InlineBackend.figure_format = 'retina'\n",
    "#%pdb"
   ]
  },
  {
   "cell_type": "code",
   "execution_count": 5,
   "metadata": {
    "execution": {
     "iopub.execute_input": "2021-10-10T17:34:44.442314Z",
     "iopub.status.busy": "2021-10-10T17:34:44.442314Z",
     "iopub.status.idle": "2021-10-10T17:34:45.397822Z",
     "shell.execute_reply": "2021-10-10T17:34:45.396814Z",
     "shell.execute_reply.started": "2021-10-10T17:34:44.442314Z"
    },
    "tags": []
   },
   "outputs": [
    {
     "name": "stdout",
     "output_type": "stream",
     "text": [
      "Num GPUs Available:  1\n"
     ]
    }
   ],
   "source": [
    "print(\"Num GPUs Available: \", len(tf.config.list_physical_devices('GPU')))"
   ]
  },
  {
   "cell_type": "markdown",
   "metadata": {},
   "source": [
    "https://www.analyticsvidhya.com/blog/2021/04/how-to-download-kaggle-datasets-using-jupyter-notebook/"
   ]
  },
  {
   "cell_type": "code",
   "execution_count": 6,
   "metadata": {
    "execution": {
     "iopub.execute_input": "2021-10-10T17:34:45.399819Z",
     "iopub.status.busy": "2021-10-10T17:34:45.398815Z",
     "iopub.status.idle": "2021-10-10T17:34:45.412820Z",
     "shell.execute_reply": "2021-10-10T17:34:45.411844Z",
     "shell.execute_reply.started": "2021-10-10T17:34:45.399819Z"
    },
    "tags": []
   },
   "outputs": [
    {
     "name": "stdout",
     "output_type": "stream",
     "text": [
      "Skipping, found downloaded files in \".\\mitbihcsv\" (use force=True to force download)\n"
     ]
    }
   ],
   "source": [
    "import opendatasets as od\n",
    "\n",
    "od.download(\"https://www.kaggle.com/mohammedfarag/mitbihcsv\")"
   ]
  },
  {
   "cell_type": "code",
   "execution_count": 7,
   "metadata": {
    "execution": {
     "iopub.execute_input": "2021-10-10T17:34:45.413816Z",
     "iopub.status.busy": "2021-10-10T17:34:45.413816Z",
     "iopub.status.idle": "2021-10-10T17:34:45.428818Z",
     "shell.execute_reply": "2021-10-10T17:34:45.426819Z",
     "shell.execute_reply.started": "2021-10-10T17:34:45.413816Z"
    },
    "tags": []
   },
   "outputs": [],
   "source": [
    "data_set_path=os.path.join(\"mitbihcsv\",\"mit_bih_data_set.csv\")"
   ]
  },
  {
   "cell_type": "code",
   "execution_count": 8,
   "metadata": {
    "execution": {
     "iopub.execute_input": "2021-10-10T17:34:45.429813Z",
     "iopub.status.busy": "2021-10-10T17:34:45.429813Z",
     "iopub.status.idle": "2021-10-10T17:34:48.369226Z",
     "shell.execute_reply": "2021-10-10T17:34:48.367336Z",
     "shell.execute_reply.started": "2021-10-10T17:34:45.429813Z"
    },
    "tags": []
   },
   "outputs": [],
   "source": [
    "data_set = pd.read_csv(data_set_path,dtype=float)"
   ]
  },
  {
   "cell_type": "markdown",
   "metadata": {},
   "source": [
    "https://physionet.org/content/mitdb/1.0.0/\n",
    "\n",
    "Background\n",
    "\n",
    "Since 1975, our laboratories at Boston's Beth Israel Hospital (now the Beth Israel Deaconess Medical Center) and at MIT have supported our own research into arrhythmia analysis and related subjects. One of the first major products of that effort was the MIT-BIH Arrhythmia Database, which we completed and began distributing in 1980. The database was the first generally available set of standard test material for evaluation of arrhythmia detectors, and has been used for that purpose as well as for basic research into cardiac dynamics at more than 500 sites worldwide. Originally, we distributed the database on 9-track half-inch digital tape at 800 and 1600 bpi, and on quarter-inch IRIG-format FM analog tape. In August, 1989, we produced a CD-ROM version of the database.\n",
    "\n",
    "Data Description\n",
    "\n",
    "The MIT-BIH Arrhythmia Database contains 48 half-hour excerpts of two-channel ambulatory ECG recordings, obtained from 47 subjects studied by the BIH Arrhythmia Laboratory between 1975 and 1979. Twenty-three recordings were chosen at random from a set of 4000 24-hour ambulatory ECG recordings collected from a mixed population of inpatients (about 60%) and outpatients (about 40%) at Boston's Beth Israel Hospital; the remaining 25 recordings were selected from the same set to include less common but clinically significant arrhythmias that would not be well-represented in a small random sample.\n",
    "\n",
    "The recordings were digitized at 360 samples per second per channel with 11-bit resolution over a 10 mV range. Two or more cardiologists independently annotated each record; disagreements were resolved to obtain the computer-readable reference annotations for each beat (approximately 110,000 annotations in all) included with the database."
   ]
  },
  {
   "cell_type": "code",
   "execution_count": 9,
   "metadata": {
    "execution": {
     "iopub.execute_input": "2021-10-10T17:34:48.372213Z",
     "iopub.status.busy": "2021-10-10T17:34:48.371213Z",
     "iopub.status.idle": "2021-10-10T17:34:48.383214Z",
     "shell.execute_reply": "2021-10-10T17:34:48.382213Z",
     "shell.execute_reply.started": "2021-10-10T17:34:48.372213Z"
    },
    "tags": []
   },
   "outputs": [],
   "source": [
    "num_classes=6"
   ]
  },
  {
   "cell_type": "code",
   "execution_count": 10,
   "metadata": {
    "execution": {
     "iopub.execute_input": "2021-10-10T17:34:48.384212Z",
     "iopub.status.busy": "2021-10-10T17:34:48.384212Z",
     "iopub.status.idle": "2021-10-10T17:34:48.398213Z",
     "shell.execute_reply": "2021-10-10T17:34:48.397213Z",
     "shell.execute_reply.started": "2021-10-10T17:34:48.384212Z"
    },
    "tags": []
   },
   "outputs": [
    {
     "data": {
      "text/plain": [
       "(42020, 320)"
      ]
     },
     "execution_count": 10,
     "metadata": {},
     "output_type": "execute_result"
    }
   ],
   "source": [
    "data_set.shape"
   ]
  },
  {
   "cell_type": "code",
   "execution_count": 11,
   "metadata": {
    "execution": {
     "iopub.execute_input": "2021-10-10T17:34:48.399211Z",
     "iopub.status.busy": "2021-10-10T17:34:48.398213Z",
     "iopub.status.idle": "2021-10-10T17:34:48.413211Z",
     "shell.execute_reply": "2021-10-10T17:34:48.412211Z",
     "shell.execute_reply.started": "2021-10-10T17:34:48.399211Z"
    },
    "tags": []
   },
   "outputs": [],
   "source": [
    "data_set_np = data_set.to_numpy()"
   ]
  },
  {
   "cell_type": "code",
   "execution_count": 12,
   "metadata": {
    "execution": {
     "iopub.execute_input": "2021-10-10T17:34:48.415211Z",
     "iopub.status.busy": "2021-10-10T17:34:48.414211Z",
     "iopub.status.idle": "2021-10-10T17:34:48.428213Z",
     "shell.execute_reply": "2021-10-10T17:34:48.427216Z",
     "shell.execute_reply.started": "2021-10-10T17:34:48.415211Z"
    },
    "tags": []
   },
   "outputs": [
    {
     "data": {
      "text/plain": [
       "(42020, 320)"
      ]
     },
     "execution_count": 12,
     "metadata": {},
     "output_type": "execute_result"
    }
   ],
   "source": [
    "data_set_np.shape"
   ]
  },
  {
   "cell_type": "code",
   "execution_count": 13,
   "metadata": {
    "execution": {
     "iopub.execute_input": "2021-10-10T17:34:48.430214Z",
     "iopub.status.busy": "2021-10-10T17:34:48.429213Z",
     "iopub.status.idle": "2021-10-10T17:34:48.443220Z",
     "shell.execute_reply": "2021-10-10T17:34:48.442215Z",
     "shell.execute_reply.started": "2021-10-10T17:34:48.430214Z"
    },
    "tags": []
   },
   "outputs": [],
   "source": [
    "X = data_set_np[:,:-1]"
   ]
  },
  {
   "cell_type": "code",
   "execution_count": 14,
   "metadata": {
    "execution": {
     "iopub.execute_input": "2021-10-10T17:34:48.444231Z",
     "iopub.status.busy": "2021-10-10T17:34:48.444231Z",
     "iopub.status.idle": "2021-10-10T17:34:48.458212Z",
     "shell.execute_reply": "2021-10-10T17:34:48.457210Z",
     "shell.execute_reply.started": "2021-10-10T17:34:48.444231Z"
    },
    "tags": []
   },
   "outputs": [],
   "source": [
    "y = data_set_np[:,-1]"
   ]
  },
  {
   "cell_type": "code",
   "execution_count": 15,
   "metadata": {
    "execution": {
     "iopub.execute_input": "2021-10-10T17:34:48.459212Z",
     "iopub.status.busy": "2021-10-10T17:34:48.458212Z",
     "iopub.status.idle": "2021-10-10T17:34:49.786915Z",
     "shell.execute_reply": "2021-10-10T17:34:49.786915Z",
     "shell.execute_reply.started": "2021-10-10T17:34:48.459212Z"
    },
    "tags": []
   },
   "outputs": [],
   "source": [
    "# prepare data for keras model\n",
    "\n",
    "from sklearn.preprocessing import StandardScaler\n",
    "from sklearn.model_selection import train_test_split\n",
    "\n",
    "scalar = StandardScaler()\n",
    "X = scalar.fit_transform(X)\n",
    "\n",
    "X_trn, X_tst, y_trn, y_tst = train_test_split(X, y, test_size=0.2,stratify=y, random_state=42)"
   ]
  },
  {
   "cell_type": "code",
   "execution_count": 16,
   "metadata": {
    "execution": {
     "iopub.execute_input": "2021-10-10T17:34:49.786915Z",
     "iopub.status.busy": "2021-10-10T17:34:49.786915Z",
     "iopub.status.idle": "2021-10-10T17:34:49.803394Z",
     "shell.execute_reply": "2021-10-10T17:34:49.802423Z",
     "shell.execute_reply.started": "2021-10-10T17:34:49.786915Z"
    }
   },
   "outputs": [],
   "source": [
    "from sklearn.preprocessing import OneHotEncoder\n",
    "enc = OneHotEncoder()\n",
    "\n",
    "enc.fit(y_trn.reshape(-1, 1))\n",
    "y_trn_oh = enc.transform(y_trn.reshape(-1, 1)).toarray()\n",
    "\n",
    "enc.fit(y_tst.reshape(-1, 1))\n",
    "y_tst_oh = enc.transform(y_tst.reshape(-1, 1)).toarray()"
   ]
  },
  {
   "cell_type": "code",
   "execution_count": 17,
   "metadata": {
    "execution": {
     "iopub.execute_input": "2021-10-10T17:34:49.805385Z",
     "iopub.status.busy": "2021-10-10T17:34:49.804394Z",
     "iopub.status.idle": "2021-10-10T17:34:49.833391Z",
     "shell.execute_reply": "2021-10-10T17:34:49.832426Z",
     "shell.execute_reply.started": "2021-10-10T17:34:49.805385Z"
    },
    "tags": []
   },
   "outputs": [],
   "source": [
    "#import tensorflow as tf\n",
    "#from tensorflow.keras.utils import to_categorical\n",
    "\n",
    "#y_trn_oh = to_categorical(y_trn)\n",
    "#y_tst_oh = to_categorical(y_tst)\n",
    "\n",
    "X_trn_tf = np.expand_dims(X_trn, axis=2)\n",
    "X_tst_tf = np.expand_dims(X_tst, axis=2)\n",
    "\n",
    "\n",
    "X_tst = X_tst.astype('float32')\n",
    "X_tst_tf = X_tst_tf.astype('float32')"
   ]
  },
  {
   "cell_type": "code",
   "execution_count": 18,
   "metadata": {
    "execution": {
     "iopub.execute_input": "2021-10-10T17:34:49.835384Z",
     "iopub.status.busy": "2021-10-10T17:34:49.834392Z",
     "iopub.status.idle": "2021-10-10T17:34:49.848393Z",
     "shell.execute_reply": "2021-10-10T17:34:49.847393Z",
     "shell.execute_reply.started": "2021-10-10T17:34:49.835384Z"
    },
    "tags": []
   },
   "outputs": [],
   "source": [
    "# Network\n",
    "def network(X_train,y_train,X_test,y_test):\n",
    "    \n",
    "    model = Sequential()\n",
    "\n",
    "    model.add(Conv1D(filters=32, kernel_size=8, activation='relu', \n",
    "                     strides=1, padding=\"valid\",input_shape=X_train[1,:].shape,\n",
    "                     name='Conv1DLayer1'))\n",
    "    model.add(BatchNormalization())\n",
    "    model.add(Dropout(0.2))\n",
    "    model.add(MaxPooling1D(pool_size=4, strides=2, padding='same'))\n",
    "    \n",
    "    model.add(Conv1D(filters=16, kernel_size=8, activation='relu', \n",
    "                     strides=1, padding=\"valid\", name='Conv1DLayer2'))\n",
    "    model.add(BatchNormalization())\n",
    "    model.add(Dropout(0.2))\n",
    "    model.add(MaxPooling1D(pool_size=4, strides=2, padding='same'))\n",
    "\n",
    "    model.add(Conv1D(filters=8, kernel_size=8, activation='relu', \n",
    "                     strides=1, padding=\"valid\", name='Conv1DLayer3'))\n",
    "    model.add(BatchNormalization())\n",
    "    model.add(Dropout(0.2))\n",
    "    model.add(MaxPooling1D(pool_size=4, strides=2, padding='same'))\n",
    "\n",
    "    #model.add(GRU(10,return_sequences=True))\n",
    "    \n",
    "    model.add(Flatten())\n",
    "    #model.add(GlobalAveragePooling1D())\n",
    "    model.add(Dense(num_classes, activation='softmax', name = 'OuputLayer'))\n",
    "    \n",
    "    opt = RMSprop(learning_rate=0.001)\n",
    "\n",
    "    model.compile(loss='categorical_crossentropy', optimizer=opt, \n",
    "                  metrics=['accuracy'])\n",
    "\n",
    "    callbacks = [EarlyStopping(monitor='val_loss', patience=10),\n",
    "                 ModelCheckpoint(filepath='./best_model.h5', monitor='val_accuracy', \n",
    "                                 save_best_only=True)]\n",
    "\n",
    "    # fit network\n",
    "    history=model.fit(X_train, y_train, epochs=50,callbacks=callbacks, \n",
    "                      batch_size=500,validation_split=0.2,shuffle=True)\n",
    "\n",
    "    model.load_weights('best_model.h5')\n",
    "    return(model,history)"
   ]
  },
  {
   "cell_type": "code",
   "execution_count": 19,
   "metadata": {
    "execution": {
     "iopub.execute_input": "2021-10-10T17:34:49.849390Z",
     "iopub.status.busy": "2021-10-10T17:34:49.849390Z",
     "iopub.status.idle": "2021-10-10T17:34:49.864393Z",
     "shell.execute_reply": "2021-10-10T17:34:49.862394Z",
     "shell.execute_reply.started": "2021-10-10T17:34:49.849390Z"
    },
    "tags": []
   },
   "outputs": [],
   "source": [
    "def evaluate_model(history,X_test,y_test,model):\n",
    "    scores = model.evaluate((X_test),y_test, verbose=0)\n",
    "    print(\"Accuracy: %.2f%%\" % (scores[1]*100))\n",
    "    \n",
    "    print(history)\n",
    "    fig1, ax_acc = plt.subplots()\n",
    "    plt.plot(history.history['accuracy'])\n",
    "    plt.plot(history.history['val_accuracy'])\n",
    "    plt.xlabel('Epoch')\n",
    "    plt.ylabel('Accuracy')\n",
    "    plt.title('Model - Accuracy')\n",
    "    plt.legend(['Training', 'Validation'], loc='lower right')\n",
    "    plt.show()\n",
    "    \n",
    "    fig2, ax_loss = plt.subplots()\n",
    "    plt.xlabel('Epoch')\n",
    "    plt.ylabel('Loss')\n",
    "    plt.title('Model- Loss')\n",
    "    plt.legend(['Training', 'Validation'], loc='upper right')\n",
    "    plt.plot(history.history['loss'])\n",
    "    plt.plot(history.history['val_loss'])\n",
    "    plt.show()\n",
    "    target_names=['0','1','2','3','4','5']\n",
    "    \n",
    "    y_true=[]\n",
    "    for element in y_test:\n",
    "        y_true.append(np.argmax(element))\n",
    "    prediction_proba=model.predict(X_test)\n",
    "    prediction=np.argmax(prediction_proba,axis=1)\n",
    "    cnf_matrix = confusion_matrix(y_true, prediction)"
   ]
  },
  {
   "cell_type": "code",
   "execution_count": 20,
   "metadata": {
    "execution": {
     "iopub.execute_input": "2021-10-10T17:34:49.865436Z",
     "iopub.status.busy": "2021-10-10T17:34:49.865436Z",
     "iopub.status.idle": "2021-10-10T17:36:10.401400Z",
     "shell.execute_reply": "2021-10-10T17:36:10.400529Z",
     "shell.execute_reply.started": "2021-10-10T17:34:49.865436Z"
    },
    "tags": []
   },
   "outputs": [
    {
     "name": "stdout",
     "output_type": "stream",
     "text": [
      "Epoch 1/50\n",
      "54/54 [==============================] - 7s 81ms/step - loss: 1.2639 - accuracy: 0.5872 - val_loss: 1.8149 - val_accuracy: 0.1926\n",
      "Epoch 2/50\n",
      "54/54 [==============================] - 3s 53ms/step - loss: 0.3160 - accuracy: 0.9122 - val_loss: 2.1784 - val_accuracy: 0.1911\n",
      "Epoch 3/50\n",
      "54/54 [==============================] - 3s 52ms/step - loss: 0.1911 - accuracy: 0.9477 - val_loss: 2.6330 - val_accuracy: 0.1932\n",
      "Epoch 4/50\n",
      "54/54 [==============================] - 3s 53ms/step - loss: 0.1341 - accuracy: 0.9601 - val_loss: 2.8091 - val_accuracy: 0.1959\n",
      "Epoch 5/50\n",
      "54/54 [==============================] - 3s 52ms/step - loss: 0.1174 - accuracy: 0.9655 - val_loss: 3.1095 - val_accuracy: 0.2011\n",
      "Epoch 6/50\n",
      "54/54 [==============================] - 3s 52ms/step - loss: 0.0963 - accuracy: 0.9711 - val_loss: 2.0743 - val_accuracy: 0.2731\n",
      "Epoch 7/50\n",
      "54/54 [==============================] - 3s 53ms/step - loss: 0.0826 - accuracy: 0.9751 - val_loss: 1.2576 - val_accuracy: 0.4823\n",
      "Epoch 8/50\n",
      "54/54 [==============================] - 3s 53ms/step - loss: 0.0756 - accuracy: 0.9763 - val_loss: 0.7272 - val_accuracy: 0.6991\n",
      "Epoch 9/50\n",
      "54/54 [==============================] - 3s 53ms/step - loss: 0.0717 - accuracy: 0.9787 - val_loss: 0.2513 - val_accuracy: 0.9094\n",
      "Epoch 10/50\n",
      "54/54 [==============================] - 3s 53ms/step - loss: 0.0639 - accuracy: 0.9804 - val_loss: 0.1617 - val_accuracy: 0.9488\n",
      "Epoch 11/50\n",
      "54/54 [==============================] - 3s 52ms/step - loss: 0.0581 - accuracy: 0.9829 - val_loss: 0.0856 - val_accuracy: 0.9746\n",
      "Epoch 12/50\n",
      "54/54 [==============================] - 3s 53ms/step - loss: 0.0551 - accuracy: 0.9828 - val_loss: 0.1006 - val_accuracy: 0.9658\n",
      "Epoch 13/50\n",
      "54/54 [==============================] - 3s 52ms/step - loss: 0.0516 - accuracy: 0.9854 - val_loss: 0.0791 - val_accuracy: 0.9731\n",
      "Epoch 14/50\n",
      "54/54 [==============================] - 3s 53ms/step - loss: 0.0471 - accuracy: 0.9856 - val_loss: 0.0608 - val_accuracy: 0.9816\n",
      "Epoch 15/50\n",
      "54/54 [==============================] - 3s 53ms/step - loss: 0.0468 - accuracy: 0.9853 - val_loss: 0.0659 - val_accuracy: 0.9765\n",
      "Epoch 16/50\n",
      "54/54 [==============================] - 3s 53ms/step - loss: 0.0436 - accuracy: 0.9865 - val_loss: 0.0506 - val_accuracy: 0.9835\n",
      "Epoch 17/50\n",
      "54/54 [==============================] - 3s 54ms/step - loss: 0.0468 - accuracy: 0.9859 - val_loss: 0.0647 - val_accuracy: 0.9787\n",
      "Epoch 18/50\n",
      "54/54 [==============================] - 3s 54ms/step - loss: 0.0424 - accuracy: 0.9860 - val_loss: 0.0683 - val_accuracy: 0.9787\n",
      "Epoch 19/50\n",
      "54/54 [==============================] - 3s 54ms/step - loss: 0.0375 - accuracy: 0.9886 - val_loss: 0.0608 - val_accuracy: 0.9805\n",
      "Epoch 20/50\n",
      "54/54 [==============================] - 3s 53ms/step - loss: 0.0357 - accuracy: 0.9894 - val_loss: 0.0573 - val_accuracy: 0.9833\n",
      "Epoch 21/50\n",
      "54/54 [==============================] - 3s 53ms/step - loss: 0.0349 - accuracy: 0.9888 - val_loss: 0.0619 - val_accuracy: 0.9810\n",
      "Epoch 22/50\n",
      "54/54 [==============================] - 3s 53ms/step - loss: 0.0347 - accuracy: 0.9889 - val_loss: 0.0696 - val_accuracy: 0.9772\n",
      "Epoch 23/50\n",
      "54/54 [==============================] - 3s 54ms/step - loss: 0.0351 - accuracy: 0.9897 - val_loss: 0.0554 - val_accuracy: 0.9829\n",
      "Epoch 24/50\n",
      "54/54 [==============================] - 3s 53ms/step - loss: 0.0325 - accuracy: 0.9899 - val_loss: 0.0755 - val_accuracy: 0.9740\n",
      "Epoch 25/50\n",
      "54/54 [==============================] - 3s 53ms/step - loss: 0.0340 - accuracy: 0.9896 - val_loss: 0.0564 - val_accuracy: 0.9825\n",
      "Epoch 26/50\n",
      "54/54 [==============================] - 3s 55ms/step - loss: 0.0301 - accuracy: 0.9901 - val_loss: 0.0560 - val_accuracy: 0.9823\n"
     ]
    }
   ],
   "source": [
    "from tensorflow import keras\n",
    "from keras.models import Sequential\n",
    "from keras.layers import Dense, Flatten, ReLU, Dropout, GRU, LSTM, Conv1D, Input, MaxPooling1D, GlobalMaxPooling1D, GlobalAveragePooling1D, BatchNormalization\n",
    "from keras.optimizers import RMSprop\n",
    "from keras.callbacks import EarlyStopping, ModelCheckpoint\n",
    "from keras.preprocessing.image import ImageDataGenerator\n",
    "\n",
    "model,history=network(X_trn_tf,y_trn_oh,X_tst_tf,y_tst_oh)"
   ]
  },
  {
   "cell_type": "code",
   "execution_count": 21,
   "metadata": {
    "execution": {
     "iopub.execute_input": "2021-10-10T17:36:10.402394Z",
     "iopub.status.busy": "2021-10-10T17:36:10.402394Z",
     "iopub.status.idle": "2021-10-10T17:36:12.842196Z",
     "shell.execute_reply": "2021-10-10T17:36:12.842196Z",
     "shell.execute_reply.started": "2021-10-10T17:36:10.402394Z"
    },
    "tags": []
   },
   "outputs": [
    {
     "name": "stdout",
     "output_type": "stream",
     "text": [
      "Accuracy: 98.25%\n",
      "<tensorflow.python.keras.callbacks.History object at 0x000002EEAD9D7400>\n"
     ]
    },
    {
     "data": {
      "image/png": "[encoded data removed]",
      "text/plain": [
       "<Figure size 432x288 with 1 Axes>"
      ]
     },
     "metadata": {
      "image/png": {
       "height": 277,
       "width": 385
      },
      "needs_background": "light"
     },
     "output_type": "display_data"
    },
    {
     "data": {
      "image/png": "[encoded data removed]",
      "text/plain": [
       "<Figure size 432x288 with 1 Axes>"
      ]
     },
     "metadata": {
      "image/png": {
       "height": 277,
       "width": 385
      },
      "needs_background": "light"
     },
     "output_type": "display_data"
    },
    {
     "name": "stdout",
     "output_type": "stream",
     "text": [
      "Wall time: 2.43 s\n"
     ]
    }
   ],
   "source": [
    "%%time\n",
    "from sklearn.metrics import confusion_matrix\n",
    "\n",
    "evaluate_model(history,X_tst_tf,y_tst_oh,model)\n",
    "y_pred=model.predict(X_tst_tf)"
   ]
  },
  {
   "cell_type": "code",
   "execution_count": 22,
   "metadata": {
    "execution": {
     "iopub.execute_input": "2021-10-10T17:36:12.842196Z",
     "iopub.status.busy": "2021-10-10T17:36:12.842196Z",
     "iopub.status.idle": "2021-10-10T17:36:13.457938Z",
     "shell.execute_reply": "2021-10-10T17:36:13.457938Z",
     "shell.execute_reply.started": "2021-10-10T17:36:12.842196Z"
    },
    "tags": []
   },
   "outputs": [
    {
     "name": "stdout",
     "output_type": "stream",
     "text": [
      "Normalized confusion matrix\n"
     ]
    },
    {
     "data": {
      "image/png": "[encoded data removed]",
      "text/plain": [
       "<Figure size 720x720 with 2 Axes>"
      ]
     },
     "metadata": {
      "image/png": {
       "height": 712,
       "width": 681
      },
      "needs_background": "light"
     },
     "output_type": "display_data"
    }
   ],
   "source": [
    "import itertools\n",
    "def plot_confusion_matrix(cm, classes,\n",
    "                          normalize=False,\n",
    "                          title='Confusion matrix',\n",
    "                          cmap=plt.cm.Blues):\n",
    "    \"\"\"\n",
    "    This function prints and plots the confusion matrix.\n",
    "    Normalization can be applied by setting `normalize=True`.\n",
    "    \"\"\"\n",
    "    if normalize:\n",
    "        cm = cm.astype('float') / cm.sum(axis=1)[:, np.newaxis]\n",
    "        print(\"Normalized confusion matrix\")\n",
    "    else:\n",
    "        print('Confusion matrix, without normalization')\n",
    "\n",
    "    plt.imshow(cm, interpolation='nearest', cmap=cmap)\n",
    "    plt.title(title)\n",
    "    plt.colorbar()\n",
    "    tick_marks = np.arange(len(classes))\n",
    "    plt.xticks(tick_marks, classes, rotation=45)\n",
    "    plt.yticks(tick_marks, classes)\n",
    "\n",
    "    fmt = '.2f' if normalize else 'd'\n",
    "    thresh = cm.max() / 2.\n",
    "    for i, j in itertools.product(range(cm.shape[0]), range(cm.shape[1])):\n",
    "        plt.text(j, i, format(cm[i, j], fmt),\n",
    "                 horizontalalignment=\"center\",\n",
    "                 color=\"white\" if cm[i, j] > thresh else \"black\")\n",
    "\n",
    "    plt.tight_layout()\n",
    "    plt.ylabel('True label')\n",
    "    plt.xlabel('Predicted label')\n",
    "\n",
    "# Compute confusion matrix\n",
    "cnf_matrix = confusion_matrix(y_tst_oh.argmax(axis=1), y_pred.argmax(axis=1))\n",
    "np.set_printoptions(precision=2)\n",
    "\n",
    "# Plot non-normalized confusion matrix\n",
    "plt.figure(figsize=(10, 10))\n",
    "plot_confusion_matrix(cnf_matrix, classes=['N', 'L', 'R', 'A', 'V', '/'],normalize=True,\n",
    "                      title='Confusion matrix, with normalization')\n",
    "plt.show()    "
   ]
  },
  {
   "cell_type": "code",
   "execution_count": 23,
   "metadata": {
    "execution": {
     "iopub.execute_input": "2021-10-10T17:36:13.460096Z",
     "iopub.status.busy": "2021-10-10T17:36:13.460096Z",
     "iopub.status.idle": "2021-10-10T17:36:13.474122Z",
     "shell.execute_reply": "2021-10-10T17:36:13.473120Z",
     "shell.execute_reply.started": "2021-10-10T17:36:13.460096Z"
    },
    "tags": []
   },
   "outputs": [
    {
     "name": "stdout",
     "output_type": "stream",
     "text": [
      "Model: \"sequential\"\n",
      "_________________________________________________________________\n",
      "Layer (type)                 Output Shape              Param #   \n",
      "=================================================================\n",
      "Conv1DLayer1 (Conv1D)        (None, 312, 32)           288       \n",
      "_________________________________________________________________\n",
      "batch_normalization (BatchNo (None, 312, 32)           128       \n",
      "_________________________________________________________________\n",
      "dropout (Dropout)            (None, 312, 32)           0         \n",
      "_________________________________________________________________\n",
      "max_pooling1d (MaxPooling1D) (None, 156, 32)           0         \n",
      "_________________________________________________________________\n",
      "Conv1DLayer2 (Conv1D)        (None, 149, 16)           4112      \n",
      "_________________________________________________________________\n",
      "batch_normalization_1 (Batch (None, 149, 16)           64        \n",
      "_________________________________________________________________\n",
      "dropout_1 (Dropout)          (None, 149, 16)           0         \n",
      "_________________________________________________________________\n",
      "max_pooling1d_1 (MaxPooling1 (None, 75, 16)            0         \n",
      "_________________________________________________________________\n",
      "Conv1DLayer3 (Conv1D)        (None, 68, 8)             1032      \n",
      "_________________________________________________________________\n",
      "batch_normalization_2 (Batch (None, 68, 8)             32        \n",
      "_________________________________________________________________\n",
      "dropout_2 (Dropout)          (None, 68, 8)             0         \n",
      "_________________________________________________________________\n",
      "max_pooling1d_2 (MaxPooling1 (None, 34, 8)             0         \n",
      "_________________________________________________________________\n",
      "flatten (Flatten)            (None, 272)               0         \n",
      "_________________________________________________________________\n",
      "OuputLayer (Dense)           (None, 6)                 1638      \n",
      "=================================================================\n",
      "Total params: 7,294\n",
      "Trainable params: 7,182\n",
      "Non-trainable params: 112\n",
      "_________________________________________________________________\n"
     ]
    }
   ],
   "source": [
    "model.summary()"
   ]
  },
  {
   "cell_type": "code",
   "execution_count": 24,
   "metadata": {
    "execution": {
     "iopub.execute_input": "2021-10-10T17:36:13.475101Z",
     "iopub.status.busy": "2021-10-10T17:36:13.475101Z",
     "iopub.status.idle": "2021-10-10T17:36:14.767807Z",
     "shell.execute_reply": "2021-10-10T17:36:14.766779Z",
     "shell.execute_reply.started": "2021-10-10T17:36:13.475101Z"
    },
    "tags": []
   },
   "outputs": [
    {
     "name": "stdout",
     "output_type": "stream",
     "text": [
      "Accuracy: 0.9825083293669681\n"
     ]
    },
    {
     "data": {
      "image/png": "[encoded data removed]",
      "text/plain": [
       "<Figure size 648x648 with 1 Axes>"
      ]
     },
     "metadata": {
      "image/png": {
       "height": 557,
       "width": 560
      },
      "needs_background": "light"
     },
     "output_type": "display_data"
    }
   ],
   "source": [
    "import plotting\n",
    "\n",
    "from sklearn.metrics import accuracy_score\n",
    "\n",
    "classes = ['N', 'L', 'R', 'A', 'V', '/']\n",
    "\n",
    "y_keras = model.predict(X_tst_tf)\n",
    "print(\"Accuracy: {}\".format(accuracy_score(np.argmax(y_tst_oh, axis=1), np.argmax(y_keras, axis=1))))\n",
    "plt.figure(figsize=(9,9))\n",
    "_ = plotting.makeRoc(y_tst_oh, y_keras, classes)"
   ]
  },
  {
   "cell_type": "markdown",
   "metadata": {},
   "source": [
    "## Convert model to tflite"
   ]
  },
  {
   "cell_type": "code",
   "execution_count": 25,
   "metadata": {
    "execution": {
     "iopub.execute_input": "2021-10-10T17:36:14.768781Z",
     "iopub.status.busy": "2021-10-10T17:36:14.768781Z",
     "iopub.status.idle": "2021-10-10T17:36:19.284177Z",
     "shell.execute_reply": "2021-10-10T17:36:19.282176Z",
     "shell.execute_reply.started": "2021-10-10T17:36:14.768781Z"
    },
    "tags": []
   },
   "outputs": [
    {
     "name": "stdout",
     "output_type": "stream",
     "text": [
      "INFO:tensorflow:Assets written to: C:\\Users\\mmorsy\\AppData\\Local\\Temp\\tmpgxftxl1_\\assets\n",
      "Float model size = 38KBs.\n"
     ]
    }
   ],
   "source": [
    "converter = tf.lite.TFLiteConverter.from_keras_model(model)\n",
    "float_tflite_model = converter.convert()\n",
    "\n",
    "float_model_size = len(float_tflite_model) / 1024\n",
    "print('Float model size = %dKBs.' % float_model_size)"
   ]
  },
  {
   "cell_type": "code",
   "execution_count": 26,
   "metadata": {
    "execution": {
     "iopub.execute_input": "2021-10-10T17:36:19.286179Z",
     "iopub.status.busy": "2021-10-10T17:36:19.286179Z",
     "iopub.status.idle": "2021-10-10T17:36:19.313178Z",
     "shell.execute_reply": "2021-10-10T17:36:19.312176Z",
     "shell.execute_reply.started": "2021-10-10T17:36:19.286179Z"
    },
    "tags": []
   },
   "outputs": [],
   "source": [
    "# Load TFLite model and allocate tensors.\n",
    "interpreter = tf.lite.Interpreter(model_content=float_tflite_model)\n",
    "interpreter.allocate_tensors()\n",
    "\n",
    "#get input and output tensors\n",
    "input_details = interpreter.get_input_details()\n",
    "output_details = interpreter.get_output_details()\n",
    "\n",
    "#Preprocess the image to required size and cast\n",
    "input_shape = input_details[0]['shape']\n",
    "input_data = np.expand_dims(X_tst_tf[0], 0)\n",
    "\n",
    "#set the tensor to point to the input data to be inferred\n",
    "input_index = interpreter.get_input_details()[0][\"index\"]\n",
    "interpreter.set_tensor(input_details[0]['index'], input_data)\n",
    "\n",
    "#Run the inference\n",
    "interpreter.invoke()\n",
    "output_details = interpreter.get_tensor(output_details[0]['index'])"
   ]
  },
  {
   "cell_type": "code",
   "execution_count": 27,
   "metadata": {
    "execution": {
     "iopub.execute_input": "2021-10-10T17:36:19.314179Z",
     "iopub.status.busy": "2021-10-10T17:36:19.314179Z",
     "iopub.status.idle": "2021-10-10T17:36:19.328178Z",
     "shell.execute_reply": "2021-10-10T17:36:19.327178Z",
     "shell.execute_reply.started": "2021-10-10T17:36:19.314179Z"
    },
    "tags": []
   },
   "outputs": [
    {
     "data": {
      "text/plain": [
       "array([[5.11e-04, 6.58e-04, 2.93e-03, 9.86e-01, 1.02e-02, 2.68e-05]],\n",
       "      dtype=float32)"
      ]
     },
     "execution_count": 27,
     "metadata": {},
     "output_type": "execute_result"
    }
   ],
   "source": [
    "output_details"
   ]
  },
  {
   "cell_type": "code",
   "execution_count": 28,
   "metadata": {
    "execution": {
     "iopub.execute_input": "2021-10-10T17:36:19.330176Z",
     "iopub.status.busy": "2021-10-10T17:36:19.330176Z",
     "iopub.status.idle": "2021-10-10T17:36:23.548450Z",
     "shell.execute_reply": "2021-10-10T17:36:23.547431Z",
     "shell.execute_reply.started": "2021-10-10T17:36:19.330176Z"
    },
    "tags": []
   },
   "outputs": [
    {
     "name": "stdout",
     "output_type": "stream",
     "text": [
      "INFO:tensorflow:Assets written to: C:\\Users\\mmorsy\\AppData\\Local\\Temp\\tmp5xrg3lcv\\assets\n"
     ]
    },
    {
     "name": "stderr",
     "output_type": "stream",
     "text": [
      "INFO:tensorflow:Assets written to: C:\\Users\\mmorsy\\AppData\\Local\\Temp\\tmp5xrg3lcv\\assets\n"
     ]
    },
    {
     "name": "stdout",
     "output_type": "stream",
     "text": [
      "Quantized model size = 19KBs,\n",
      "which is about 51% of the float model size.\n"
     ]
    }
   ],
   "source": [
    "# Re-convert the model to TF Lite using quantization.\n",
    "converter.optimizations = [tf.lite.Optimize.DEFAULT]\n",
    "#converter.target_spec.supported_types = [tf.float16]\n",
    "tflite_quantized_model = converter.convert()\n",
    "\n",
    "# Show model size in KBs.\n",
    "quantized_model_size = len(tflite_quantized_model) / 1024\n",
    "print('Quantized model size = %dKBs,' % quantized_model_size)\n",
    "print('which is about %d%% of the float model size.'\\\n",
    "      % (quantized_model_size * 100 / float_model_size))"
   ]
  },
  {
   "cell_type": "code",
   "execution_count": 29,
   "metadata": {
    "execution": {
     "iopub.execute_input": "2021-10-10T17:36:23.549437Z",
     "iopub.status.busy": "2021-10-10T17:36:23.549437Z",
     "iopub.status.idle": "2021-10-10T17:36:28.079555Z",
     "shell.execute_reply": "2021-10-10T17:36:28.077639Z",
     "shell.execute_reply.started": "2021-10-10T17:36:23.549437Z"
    },
    "tags": []
   },
   "outputs": [
    {
     "name": "stdout",
     "output_type": "stream",
     "text": [
      "Float model accuracy = 0.9825\n",
      "Quantized model accuracy = 0.9825\n",
      "Accuracy drop = 0.0000\n"
     ]
    }
   ],
   "source": [
    "# A helper function to evaluate the TF Lite model using \"test\" dataset.\n",
    "def evaluate_tflite_model(tflite_model):\n",
    "  # Initialize TFLite interpreter using the model.\n",
    "  interpreter = tf.lite.Interpreter(model_content=float_tflite_model)\n",
    "  interpreter.allocate_tensors()\n",
    "  input_tensor_index = interpreter.get_input_details()[0][\"index\"]\n",
    "  output = interpreter.tensor(interpreter.get_output_details()[0][\"index\"])\n",
    "\n",
    "  # Run predictions on every image in the \"test\" dataset.\n",
    "  prediction_outputs = []\n",
    "  for data in X_tst_tf:\n",
    "    # Pre-processing: add batch dimension and convert to float32 to match with\n",
    "    # the model's input data format.\n",
    "    test_data = np.expand_dims(data, axis=0).astype(np.float32)\n",
    "    interpreter.set_tensor(input_tensor_index, test_data)\n",
    "\n",
    "    # Run inference.\n",
    "    interpreter.invoke()\n",
    "\n",
    "    # Post-processing: remove batch dimension and find the digit with highest\n",
    "    # probability.\n",
    "    prediction = np.argmax(output()[0])\n",
    "    prediction_outputs.append(prediction)\n",
    "\n",
    "  # Compare prediction results with ground truth labels to calculate accuracy.\n",
    "  accurate_count = 0\n",
    "  for index in range(len(prediction_outputs)):\n",
    "    if prediction_outputs[index] == y_tst[index]:\n",
    "      accurate_count += 1\n",
    "  accuracy = accurate_count * 1.0 / len(prediction_outputs)\n",
    "\n",
    "  return accuracy\n",
    "\n",
    "# Evaluate the TF Lite float model. You'll find that its accurary is identical\n",
    "# to the original TF (Keras) model because they are essentially the same model\n",
    "# stored in different format.\n",
    "float_accuracy = evaluate_tflite_model(float_tflite_model)\n",
    "print('Float model accuracy = %.4f' % float_accuracy)\n",
    "\n",
    "# Evalualte the TF Lite quantized model.\n",
    "# Don't be surprised if you see quantized model accuracy is higher than\n",
    "# the original float model. It happens sometimes :)\n",
    "quantized_accuracy = evaluate_tflite_model(tflite_quantized_model)\n",
    "print('Quantized model accuracy = %.4f' % quantized_accuracy)\n",
    "print('Accuracy drop = %.4f' % (float_accuracy - quantized_accuracy))"
   ]
  },
  {
   "cell_type": "code",
   "execution_count": 30,
   "metadata": {
    "execution": {
     "iopub.execute_input": "2021-10-10T17:36:28.085547Z",
     "iopub.status.busy": "2021-10-10T17:36:28.084544Z",
     "iopub.status.idle": "2021-10-10T17:36:28.094544Z",
     "shell.execute_reply": "2021-10-10T17:36:28.092547Z",
     "shell.execute_reply.started": "2021-10-10T17:36:28.085547Z"
    },
    "tags": []
   },
   "outputs": [],
   "source": [
    "# Save the quantized model to file to the Downloads directory\n",
    "f = open('mit_bih.tflite', \"wb\")\n",
    "f.write(tflite_quantized_model)\n",
    "f.close()"
   ]
  },
  {
   "cell_type": "code",
   "execution_count": 53,
   "metadata": {
    "execution": {
     "iopub.execute_input": "2021-10-10T17:45:49.609990Z",
     "iopub.status.busy": "2021-10-10T17:45:49.609990Z",
     "iopub.status.idle": "2021-10-10T17:45:49.625847Z",
     "shell.execute_reply": "2021-10-10T17:45:49.624848Z",
     "shell.execute_reply.started": "2021-10-10T17:45:49.609990Z"
    }
   },
   "outputs": [],
   "source": [
    "## Quantize model using qkeras"
   ]
  },
  {
   "cell_type": "code",
   "execution_count": 31,
   "metadata": {
    "execution": {
     "iopub.execute_input": "2021-10-10T17:36:28.095545Z",
     "iopub.status.busy": "2021-10-10T17:36:28.095545Z",
     "iopub.status.idle": "2021-10-10T17:36:28.686806Z",
     "shell.execute_reply": "2021-10-10T17:36:28.686806Z",
     "shell.execute_reply.started": "2021-10-10T17:36:28.095545Z"
    }
   },
   "outputs": [],
   "source": [
    "from __future__ import absolute_import\n",
    "from __future__ import division\n",
    "from __future__ import print_function\n",
    "\n",
    "from collections import defaultdict\n",
    "\n",
    "from qkeras import *"
   ]
  },
  {
   "cell_type": "code",
   "execution_count": 33,
   "metadata": {
    "execution": {
     "iopub.execute_input": "2021-10-10T17:36:28.702985Z",
     "iopub.status.busy": "2021-10-10T17:36:28.702985Z",
     "iopub.status.idle": "2021-10-10T17:36:28.716986Z",
     "shell.execute_reply": "2021-10-10T17:36:28.716986Z",
     "shell.execute_reply.started": "2021-10-10T17:36:28.702985Z"
    },
    "tags": []
   },
   "outputs": [],
   "source": [
    "def CreateQModel(X_train,y_train,X_test,y_test):\n",
    "    x = x_in = Input(shape = X_train[1,:].shape)\n",
    "    \n",
    "    x = QConv1D(filters=32, kernel_size=8, strides=1, padding=\"valid\",\n",
    "               kernel_quantizer=\"quantized_bits(4, 0, 1)\", \n",
    "               bias_quantizer=\"quantized_bits(4, 0, 1)\",\n",
    "               name=\"conv1d_1\")(x_in)\n",
    "    x = QActivation(\"quantized_relu(4)\", name=\"act_1\")(x)  \n",
    "    x = QBatchNormalization()(x)\n",
    "    x = Dropout(0.2)(x)\n",
    "    x = MaxPooling1D(pool_size=4, strides=2, padding='same')(x)\n",
    "\n",
    "    x = QConv1D(filters=16, kernel_size=8, strides=1, padding=\"valid\",\n",
    "               kernel_quantizer=\"quantized_bits(4, 0, 1)\", \n",
    "               bias_quantizer=\"quantized_bits(4, 0, 1)\",\n",
    "               name=\"conv1d_2\")(x)\n",
    "    x = QActivation(\"quantized_relu(4)\", name=\"act_2\")(x)  \n",
    "    x = QBatchNormalization()(x)\n",
    "    x = Dropout(0.2)(x)\n",
    "    x = MaxPooling1D(pool_size=4, strides=2, padding='same')(x)\n",
    "\n",
    "    x = QConv1D(filters=8, kernel_size=8, strides=1, padding=\"valid\",\n",
    "               kernel_quantizer=\"quantized_bits(4, 0, 1)\", \n",
    "               bias_quantizer=\"quantized_bits(4, 0, 1)\",\n",
    "               name=\"conv1d_3\")(x)\n",
    "    x = QActivation(\"quantized_relu(4)\", name=\"act_3\")(x)  \n",
    "    x = QBatchNormalization()(x)\n",
    "    x = Dropout(0.2)(x)\n",
    "    x = MaxPooling1D(pool_size=4, strides=2, padding='same')(x)\n",
    "    \n",
    "    x = Flatten(name=\"flatten\")(x)\n",
    "\n",
    "    x = QDense(num_classes,\n",
    "        kernel_quantizer=\"quantized_bits(4,0,1)\",\n",
    "        bias_quantizer=\"quantized_bits(4,0,1)\",\n",
    "        name=\"dense\")(x)\n",
    "    x = Activation(\"softmax\", name=\"softmax\")(x)\n",
    "    \n",
    "    qmodel = Model(inputs=x_in, outputs=x)\n",
    "    \n",
    "    opt = RMSprop(learning_rate=0.001)\n",
    "\n",
    "    qmodel.compile(loss='categorical_crossentropy', optimizer=opt, \n",
    "                  metrics=['accuracy'])\n",
    "\n",
    "    callbacks = [EarlyStopping(monitor='val_loss', patience=10),\n",
    "                 ModelCheckpoint(filepath='./best_qmodel.h5', monitor='val_accuracy', \n",
    "                                 save_best_only=True)]\n",
    "\n",
    "    # fit network\n",
    "    history=qmodel.fit(X_train, y_train, epochs=50,callbacks=callbacks, \n",
    "                      batch_size=500,validation_split=0.2,shuffle=True)\n",
    "\n",
    "    qmodel.load_weights('best_qmodel.h5')\n",
    "    return(qmodel,history)"
   ]
  },
  {
   "cell_type": "code",
   "execution_count": 34,
   "metadata": {
    "execution": {
     "iopub.execute_input": "2021-10-10T17:36:28.717984Z",
     "iopub.status.busy": "2021-10-10T17:36:28.717984Z",
     "iopub.status.idle": "2021-10-10T17:39:10.844011Z",
     "shell.execute_reply": "2021-10-10T17:39:10.842974Z",
     "shell.execute_reply.started": "2021-10-10T17:36:28.717984Z"
    },
    "tags": []
   },
   "outputs": [
    {
     "name": "stdout",
     "output_type": "stream",
     "text": [
      "Epoch 1/50\n",
      "54/54 [==============================] - 11s 114ms/step - loss: 1.4634 - accuracy: 0.4886 - val_loss: 1.3313 - val_accuracy: 0.6066\n",
      "Epoch 2/50\n",
      "54/54 [==============================] - 4s 81ms/step - loss: 0.6221 - accuracy: 0.8026 - val_loss: 0.7203 - val_accuracy: 0.7366\n",
      "Epoch 3/50\n",
      "54/54 [==============================] - 4s 79ms/step - loss: 0.3947 - accuracy: 0.8819 - val_loss: 0.5052 - val_accuracy: 0.8269\n",
      "Epoch 4/50\n",
      "54/54 [==============================] - 5s 84ms/step - loss: 0.3149 - accuracy: 0.9079 - val_loss: 0.4366 - val_accuracy: 0.8647\n",
      "Epoch 5/50\n",
      "54/54 [==============================] - 5s 85ms/step - loss: 0.2806 - accuracy: 0.9178 - val_loss: 0.3310 - val_accuracy: 0.8929\n",
      "Epoch 6/50\n",
      "54/54 [==============================] - 5s 84ms/step - loss: 0.2241 - accuracy: 0.9331 - val_loss: 0.2090 - val_accuracy: 0.9349\n",
      "Epoch 7/50\n",
      "54/54 [==============================] - 5s 84ms/step - loss: 0.2094 - accuracy: 0.9342 - val_loss: 0.2411 - val_accuracy: 0.9209\n",
      "Epoch 8/50\n",
      "54/54 [==============================] - 4s 80ms/step - loss: 0.2013 - accuracy: 0.9387 - val_loss: 0.1822 - val_accuracy: 0.9454\n",
      "Epoch 9/50\n",
      "54/54 [==============================] - 5s 84ms/step - loss: 0.1878 - accuracy: 0.9429 - val_loss: 0.1778 - val_accuracy: 0.9459\n",
      "Epoch 10/50\n",
      "54/54 [==============================] - 4s 82ms/step - loss: 0.1751 - accuracy: 0.9454 - val_loss: 0.1712 - val_accuracy: 0.9466\n",
      "Epoch 11/50\n",
      "54/54 [==============================] - 4s 79ms/step - loss: 0.1704 - accuracy: 0.9483 - val_loss: 0.1953 - val_accuracy: 0.9404\n",
      "Epoch 12/50\n",
      "54/54 [==============================] - 4s 81ms/step - loss: 0.1491 - accuracy: 0.9554 - val_loss: 0.1584 - val_accuracy: 0.9533\n",
      "Epoch 13/50\n",
      "54/54 [==============================] - 4s 82ms/step - loss: 0.1443 - accuracy: 0.9576 - val_loss: 0.1532 - val_accuracy: 0.9536\n",
      "Epoch 14/50\n",
      "54/54 [==============================] - 4s 81ms/step - loss: 0.1507 - accuracy: 0.9532 - val_loss: 0.1477 - val_accuracy: 0.9521\n",
      "Epoch 15/50\n",
      "54/54 [==============================] - 4s 81ms/step - loss: 0.1330 - accuracy: 0.9571 - val_loss: 0.2696 - val_accuracy: 0.9004\n",
      "Epoch 16/50\n",
      "54/54 [==============================] - 5s 84ms/step - loss: 0.1262 - accuracy: 0.9602 - val_loss: 0.1183 - val_accuracy: 0.9658\n",
      "Epoch 17/50\n",
      "54/54 [==============================] - 4s 80ms/step - loss: 0.1284 - accuracy: 0.9602 - val_loss: 0.1248 - val_accuracy: 0.9609\n",
      "Epoch 18/50\n",
      "54/54 [==============================] - 4s 81ms/step - loss: 0.1233 - accuracy: 0.9604 - val_loss: 0.1159 - val_accuracy: 0.9613\n",
      "Epoch 19/50\n",
      "54/54 [==============================] - 4s 83ms/step - loss: 0.1219 - accuracy: 0.9637 - val_loss: 0.0921 - val_accuracy: 0.9719\n",
      "Epoch 20/50\n",
      "54/54 [==============================] - 4s 81ms/step - loss: 0.1109 - accuracy: 0.9681 - val_loss: 0.0897 - val_accuracy: 0.9753\n",
      "Epoch 21/50\n",
      "54/54 [==============================] - 5s 84ms/step - loss: 0.1156 - accuracy: 0.9646 - val_loss: 0.0971 - val_accuracy: 0.9700\n",
      "Epoch 22/50\n",
      "54/54 [==============================] - 4s 83ms/step - loss: 0.1111 - accuracy: 0.9654 - val_loss: 0.1055 - val_accuracy: 0.9700\n",
      "Epoch 23/50\n",
      "54/54 [==============================] - 4s 82ms/step - loss: 0.1119 - accuracy: 0.9646 - val_loss: 0.0865 - val_accuracy: 0.9734\n",
      "Epoch 24/50\n",
      "54/54 [==============================] - 4s 80ms/step - loss: 0.1109 - accuracy: 0.9650 - val_loss: 0.0779 - val_accuracy: 0.9752\n",
      "Epoch 25/50\n",
      "54/54 [==============================] - 5s 84ms/step - loss: 0.1198 - accuracy: 0.9641 - val_loss: 0.0889 - val_accuracy: 0.9726\n",
      "Epoch 26/50\n",
      "54/54 [==============================] - 5s 84ms/step - loss: 0.0990 - accuracy: 0.9696 - val_loss: 0.0892 - val_accuracy: 0.9746\n",
      "Epoch 27/50\n",
      "54/54 [==============================] - 4s 83ms/step - loss: 0.1070 - accuracy: 0.9668 - val_loss: 0.1348 - val_accuracy: 0.9557\n",
      "Epoch 28/50\n",
      "54/54 [==============================] - 4s 83ms/step - loss: 0.1073 - accuracy: 0.9656 - val_loss: 0.1416 - val_accuracy: 0.9475\n",
      "Epoch 29/50\n",
      "54/54 [==============================] - 4s 82ms/step - loss: 0.1028 - accuracy: 0.9666 - val_loss: 0.0836 - val_accuracy: 0.9729\n",
      "Epoch 30/50\n",
      "54/54 [==============================] - 5s 84ms/step - loss: 0.1037 - accuracy: 0.9666 - val_loss: 0.0848 - val_accuracy: 0.9732\n",
      "Epoch 31/50\n",
      "54/54 [==============================] - 4s 81ms/step - loss: 0.0984 - accuracy: 0.9702 - val_loss: 0.0925 - val_accuracy: 0.9723\n",
      "Epoch 32/50\n",
      "54/54 [==============================] - 5s 84ms/step - loss: 0.0987 - accuracy: 0.9696 - val_loss: 0.0795 - val_accuracy: 0.9774\n",
      "Epoch 33/50\n",
      "54/54 [==============================] - 4s 81ms/step - loss: 0.0999 - accuracy: 0.9690 - val_loss: 0.1236 - val_accuracy: 0.9622\n",
      "Epoch 34/50\n",
      "54/54 [==============================] - 4s 79ms/step - loss: 0.1081 - accuracy: 0.9645 - val_loss: 0.1119 - val_accuracy: 0.9664\n"
     ]
    }
   ],
   "source": [
    "qmodel,history = CreateQModel(X_trn_tf,y_trn_oh,X_tst_tf,y_tst_oh)"
   ]
  },
  {
   "cell_type": "code",
   "execution_count": 35,
   "metadata": {
    "execution": {
     "iopub.execute_input": "2021-10-10T17:39:10.845978Z",
     "iopub.status.busy": "2021-10-10T17:39:10.845978Z",
     "iopub.status.idle": "2021-10-10T17:39:12.176982Z",
     "shell.execute_reply": "2021-10-10T17:39:12.176016Z",
     "shell.execute_reply.started": "2021-10-10T17:39:10.845978Z"
    },
    "tags": []
   },
   "outputs": [
    {
     "name": "stdout",
     "output_type": "stream",
     "text": [
      "Model: \"model\"\n",
      "_________________________________________________________________\n",
      "Layer (type)                 Output Shape              Param #   \n",
      "=================================================================\n",
      "input_1 (InputLayer)         [(None, 319, 1)]          0         \n",
      "_________________________________________________________________\n",
      "conv1d_1 (QConv1D)           (None, 312, 32)           288       \n",
      "_________________________________________________________________\n",
      "act_1 (QActivation)          (None, 312, 32)           0         \n",
      "_________________________________________________________________\n",
      "q_batch_normalization (QBatc (None, 312, 32)           128       \n",
      "_________________________________________________________________\n",
      "dropout_3 (Dropout)          (None, 312, 32)           0         \n",
      "_________________________________________________________________\n",
      "max_pooling1d_3 (MaxPooling1 (None, 156, 32)           0         \n",
      "_________________________________________________________________\n",
      "conv1d_2 (QConv1D)           (None, 149, 16)           4112      \n",
      "_________________________________________________________________\n",
      "act_2 (QActivation)          (None, 149, 16)           0         \n",
      "_________________________________________________________________\n",
      "q_batch_normalization_1 (QBa (None, 149, 16)           64        \n",
      "_________________________________________________________________\n",
      "dropout_4 (Dropout)          (None, 149, 16)           0         \n",
      "_________________________________________________________________\n",
      "max_pooling1d_4 (MaxPooling1 (None, 75, 16)            0         \n",
      "_________________________________________________________________\n",
      "conv1d_3 (QConv1D)           (None, 68, 8)             1032      \n",
      "_________________________________________________________________\n",
      "act_3 (QActivation)          (None, 68, 8)             0         \n",
      "_________________________________________________________________\n",
      "q_batch_normalization_2 (QBa (None, 68, 8)             32        \n",
      "_________________________________________________________________\n",
      "dropout_5 (Dropout)          (None, 68, 8)             0         \n",
      "_________________________________________________________________\n",
      "max_pooling1d_5 (MaxPooling1 (None, 34, 8)             0         \n",
      "_________________________________________________________________\n",
      "flatten (Flatten)            (None, 272)               0         \n",
      "_________________________________________________________________\n",
      "dense (QDense)               (None, 6)                 1638      \n",
      "_________________________________________________________________\n",
      "softmax (Activation)         (None, 6)                 0         \n",
      "=================================================================\n",
      "Total params: 7,294\n",
      "Trainable params: 7,182\n",
      "Non-trainable params: 112\n",
      "_________________________________________________________________\n",
      "WARNING:tensorflow:From C:\\Users\\mmorsy\\AppData\\Roaming\\Python\\Python38\\site-packages\\qkeras-0.9.0-py3.8.egg\\qkeras\\estimate.py:330: Tensor.experimental_ref (from tensorflow.python.framework.ops) is deprecated and will be removed in a future version.\n",
      "Instructions for updating:\n",
      "Use ref() instead.\n"
     ]
    },
    {
     "name": "stderr",
     "output_type": "stream",
     "text": [
      "WARNING:tensorflow:From C:\\Users\\mmorsy\\AppData\\Roaming\\Python\\Python38\\site-packages\\qkeras-0.9.0-py3.8.egg\\qkeras\\estimate.py:330: Tensor.experimental_ref (from tensorflow.python.framework.ops) is deprecated and will be removed in a future version.\n",
      "Instructions for updating:\n",
      "Use ref() instead.\n"
     ]
    },
    {
     "name": "stdout",
     "output_type": "stream",
     "text": [
      "\n",
      "Number of operations in model:\n",
      "    conv1d_1                      : 79872 (smult_4_8)\n",
      "    conv1d_2                      : 610304 (smult_4_4)\n",
      "    conv1d_3                      : 69632 (smult_4_4)\n",
      "    dense                         : 1632  (smult_4_4)\n",
      "\n",
      "Number of operation types in model:\n",
      "    smult_4_4                     : 681568\n",
      "    smult_4_8                     : 79872\n",
      "\n",
      "Weight profiling:\n",
      "    conv1d_1_weights               : 256   (4-bit unit)\n",
      "    conv1d_1_bias                  : 32    (4-bit unit)\n",
      "    conv1d_2_weights               : 4096  (4-bit unit)\n",
      "    conv1d_2_bias                  : 16    (4-bit unit)\n",
      "    conv1d_3_weights               : 1024  (4-bit unit)\n",
      "    conv1d_3_bias                  : 8     (4-bit unit)\n",
      "    dense_weights                  : 1632  (4-bit unit)\n",
      "    dense_bias                     : 6     (4-bit unit)\n",
      "\n",
      "Weight sparsity:\n",
      "... quantizing model\n",
      "    conv1d_1                       : 0.0833\n",
      "    conv1d_2                       : 0.1350\n",
      "    conv1d_3                       : 0.1483\n",
      "    dense                          : 0.2094\n",
      "    ----------------------------------------\n",
      "    Total Sparsity                 : 0.1521\n"
     ]
    }
   ],
   "source": [
    "qmodel.summary()\n",
    "\n",
    "print_qstats(qmodel)"
   ]
  },
  {
   "cell_type": "code",
   "execution_count": 36,
   "metadata": {
    "execution": {
     "iopub.execute_input": "2021-10-10T17:39:12.177979Z",
     "iopub.status.busy": "2021-10-10T17:39:12.177979Z",
     "iopub.status.idle": "2021-10-10T17:39:12.347249Z",
     "shell.execute_reply": "2021-10-10T17:39:12.346248Z",
     "shell.execute_reply.started": "2021-10-10T17:39:12.177979Z"
    },
    "tags": []
   },
   "outputs": [
    {
     "name": "stdout",
     "output_type": "stream",
     "text": [
      "... quantizing model\n"
     ]
    },
    {
     "data": {
      "text/plain": [
       "{'conv1d_1': {'weights': [array([[[-0.5 , -0.12, -0.19,  0.38, -0.44, -0.31,  0.5 , -0.06, -0.38,\n",
       "             0.44,  0.44, -0.12, -0.44,  0.12, -0.5 , -0.88,  0.38, -0.12,\n",
       "             0.31, -0.5 , -0.88, -0.19,  0.25,  0.12, -0.44,  0.38,  0.25,\n",
       "            -0.5 ,  0.  ,  0.75,  0.25,  0.12]],\n",
       "   \n",
       "          [[ 0.62,  0.25,  0.06,  0.44,  0.31, -0.12, -0.38,  0.12,  0.75,\n",
       "             0.38, -0.44,  0.38,  0.19, -0.5 , -0.38,  0.  , -0.25,  0.75,\n",
       "             0.  , -0.25, -0.25, -0.44,  0.44, -0.44, -0.44,  0.25, -0.88,\n",
       "            -0.75,  0.44, -0.88,  0.88,  0.12]],\n",
       "   \n",
       "          [[ 0.75, -0.88, -0.44,  0.38, -0.25,  0.44,  0.12, -0.44, -0.38,\n",
       "            -0.12,  0.44,  0.5 , -0.12,  0.12, -0.38, -0.75, -0.5 ,  0.12,\n",
       "            -0.19,  0.25,  0.38,  0.44,  0.44, -0.12, -0.44,  0.25, -0.12,\n",
       "            -0.5 ,  0.38, -0.62,  0.12, -0.12]],\n",
       "   \n",
       "          [[-0.12,  0.  , -0.44, -0.38, -0.31,  0.12,  0.25, -0.31, -0.12,\n",
       "            -0.38,  0.  , -0.25,  0.44,  0.75, -0.25,  0.25,  0.12, -0.12,\n",
       "            -0.06, -0.5 , -0.62, -0.12, -0.12,  0.  , -0.25,  0.5 ,  0.5 ,\n",
       "             0.12,  0.44, -0.88,  0.25,  0.25]],\n",
       "   \n",
       "          [[-0.5 ,  0.88,  0.06, -0.44, -0.25,  0.06,  0.  ,  0.38,  0.88,\n",
       "            -0.44,  0.44, -0.38,  0.44,  0.12,  0.  ,  0.  , -0.62, -0.88,\n",
       "            -0.12, -0.88,  0.12, -0.25,  0.44, -0.44,  0.12,  0.12, -0.12,\n",
       "             0.12,  0.38, -0.88,  0.62, -0.25]],\n",
       "   \n",
       "          [[-0.88, -0.62, -0.44, -0.44,  0.06,  0.31, -0.5 ,  0.12,  0.  ,\n",
       "             0.31,  0.19, -0.88, -0.06,  0.12,  0.88,  0.5 , -0.12, -0.25,\n",
       "             0.44,  0.12, -0.25,  0.06,  0.25,  0.38, -0.12, -0.5 ,  0.  ,\n",
       "            -0.75,  0.44,  0.  , -0.38, -0.62]],\n",
       "   \n",
       "          [[ 0.12,  0.25, -0.38, -0.31,  0.44,  0.19,  0.75, -0.44, -0.25,\n",
       "            -0.44, -0.12,  0.62, -0.19, -0.12, -0.12,  0.5 ,  0.75,  0.88,\n",
       "            -0.12, -0.88, -0.25,  0.38,  0.25, -0.44, -0.25, -0.88, -0.12,\n",
       "             0.25, -0.38,  0.75,  0.12,  0.88]],\n",
       "   \n",
       "          [[-0.38, -0.25, -0.44, -0.25,  0.38, -0.19, -0.62, -0.44,  0.88,\n",
       "             0.12, -0.44,  0.5 ,  0.31, -0.88,  0.75,  0.  ,  0.12, -0.5 ,\n",
       "             0.44,  0.38,  0.75, -0.12,  0.44, -0.44, -0.38, -0.12, -0.75,\n",
       "             0.75,  0.44,  0.12, -0.62, -0.62]]], dtype=float32),\n",
       "   array([ 0.  , -0.12,  0.  , -0.12, -0.12, -0.25, -0.12, -0.12, -0.12,\n",
       "          -0.12, -0.12,  0.12, -0.12,  0.  ,  0.  , -0.12, -0.25, -0.12,\n",
       "           0.  , -0.12,  0.  , -0.12,  0.  ,  0.  ,  0.  ,  0.12, -0.12,\n",
       "          -0.12,  0.12,  0.  ,  0.  , -0.12], dtype=float32)]},\n",
       " 'q_batch_normalization': {'weights': [array([1., 1., 1., 1., 1., 1., 1., 1., 1., 1., 1., 1., 1., 1., 1., 1., 1.,\n",
       "          1., 1., 1., 1., 1., 1., 1., 1., 1., 1., 1., 1., 1., 1., 1.],\n",
       "         dtype=float32),\n",
       "   array([ 0.25,  0.06,  0.25,  0.25,  0.02,  0.12, -0.03,  0.12, -0.06,\n",
       "           0.02, -0.06,  0.12,  0.12,  0.12,  0.12,  0.12,  0.12,  0.06,\n",
       "           0.25,  0.12,  0.25,  0.12,  0.25,  0.12,  0.12,  0.03,  0.12,\n",
       "           0.25,  0.12,  0.12,  0.12,  0.03], dtype=float32),\n",
       "   array([0.25, 0.12, 0.25, 0.12, 0.03, 0.12, 0.03, 0.25, 0.25, 0.03, 0.12,\n",
       "          0.25, 0.12, 0.12, 0.12, 0.12, 0.02, 0.03, 0.25, 0.25, 0.25, 0.06,\n",
       "          0.5 , 0.25, 0.25, 0.12, 0.25, 0.25, 0.5 , 0.25, 0.25, 0.03],\n",
       "         dtype=float32),\n",
       "   array([0.06, 0.06, 0.25, 0.06, 0.02, 0.06, 0.02, 0.06, 0.25, 0.02, 0.06,\n",
       "          0.06, 0.06, 0.06, 0.06, 0.06, 0.  , 0.02, 0.06, 0.25, 0.06, 0.02,\n",
       "          0.25, 0.25, 0.25, 0.06, 0.06, 0.06, 0.25, 0.25, 0.25, 0.02],\n",
       "         dtype=float32)]},\n",
       " 'conv1d_2': {'weights': [array([[[ 0.09, -0.16,  0.  , ..., -0.09, -0.09,  0.  ],\n",
       "           [ 0.06,  0.03,  0.09, ...,  0.  ,  0.  ,  0.06],\n",
       "           [ 0.09,  0.16, -0.06, ...,  0.19,  0.  ,  0.  ],\n",
       "           ...,\n",
       "           [ 0.  ,  0.06,  0.03, ...,  0.  ,  0.03, -0.12],\n",
       "           [ 0.  , -0.09, -0.06, ...,  0.09, -0.19,  0.  ],\n",
       "           [ 0.16,  0.09,  0.03, ...,  0.22, -0.16,  0.19]],\n",
       "   \n",
       "          [[-0.09,  0.06,  0.03, ...,  0.03,  0.03, -0.03],\n",
       "           [-0.16, -0.06, -0.03, ...,  0.06, -0.03,  0.  ],\n",
       "           [-0.06,  0.12, -0.09, ..., -0.06,  0.03, -0.09],\n",
       "           ...,\n",
       "           [ 0.19, -0.03,  0.03, ..., -0.06, -0.03,  0.09],\n",
       "           [ 0.12, -0.06,  0.12, ...,  0.  , -0.03,  0.03],\n",
       "           [ 0.  , -0.09, -0.16, ..., -0.09, -0.09,  0.12]],\n",
       "   \n",
       "          [[ 0.06, -0.03,  0.  , ..., -0.12,  0.06, -0.12],\n",
       "           [-0.03,  0.06, -0.03, ..., -0.09, -0.09,  0.  ],\n",
       "           [-0.09, -0.16, -0.06, ...,  0.03,  0.06, -0.09],\n",
       "           ...,\n",
       "           [ 0.09, -0.03,  0.  , ..., -0.06,  0.16,  0.  ],\n",
       "           [ 0.  , -0.12, -0.03, ..., -0.16,  0.06,  0.16],\n",
       "           [ 0.03,  0.  ,  0.  , ..., -0.03, -0.03,  0.06]],\n",
       "   \n",
       "          ...,\n",
       "   \n",
       "          [[-0.06,  0.  ,  0.  , ...,  0.06, -0.06, -0.09],\n",
       "           [ 0.06, -0.03, -0.16, ...,  0.06,  0.03, -0.03],\n",
       "           [-0.03,  0.03, -0.06, ...,  0.03,  0.03,  0.03],\n",
       "           ...,\n",
       "           [ 0.03, -0.03, -0.16, ..., -0.06,  0.03, -0.06],\n",
       "           [-0.12,  0.03,  0.  , ...,  0.03, -0.03,  0.  ],\n",
       "           [ 0.03,  0.03, -0.06, ...,  0.  ,  0.06, -0.12]],\n",
       "   \n",
       "          [[ 0.06, -0.06,  0.12, ...,  0.03,  0.  ,  0.03],\n",
       "           [-0.12,  0.06,  0.03, ...,  0.09, -0.19,  0.  ],\n",
       "           [ 0.03, -0.06, -0.12, ..., -0.16, -0.09,  0.03],\n",
       "           ...,\n",
       "           [ 0.06,  0.16,  0.  , ..., -0.06,  0.09,  0.09],\n",
       "           [ 0.06, -0.06,  0.03, ..., -0.09, -0.12,  0.09],\n",
       "           [ 0.  , -0.09,  0.19, ..., -0.06, -0.03, -0.03]],\n",
       "   \n",
       "          [[ 0.06,  0.  ,  0.16, ...,  0.06, -0.22, -0.12],\n",
       "           [ 0.12,  0.06, -0.09, ...,  0.22, -0.06, -0.09],\n",
       "           [ 0.06, -0.03,  0.06, ...,  0.03, -0.03,  0.09],\n",
       "           ...,\n",
       "           [ 0.03, -0.09, -0.03, ...,  0.06,  0.22, -0.09],\n",
       "           [ 0.12,  0.12,  0.09, ..., -0.12,  0.09,  0.  ],\n",
       "           [ 0.  , -0.09,  0.12, ...,  0.03, -0.12, -0.12]]], dtype=float32),\n",
       "   array([ 0.  , -0.12,  0.  ,  0.  ,  0.  , -0.12,  0.12, -0.12, -0.12,\n",
       "          -0.25, -0.12, -0.25,  0.  , -0.12,  0.12, -0.12], dtype=float32)]},\n",
       " 'q_batch_normalization_1': {'weights': [array([1., 1., 1., 1., 1., 1., 1., 1., 1., 1., 1., 1., 1., 1., 1., 1.],\n",
       "         dtype=float32),\n",
       "   array([0.25, 0.25, 0.25, 0.5 , 0.5 , 0.12, 0.5 , 0.12, 0.25, 0.12, 0.25,\n",
       "          0.25, 0.25, 0.25, 0.25, 0.25], dtype=float32),\n",
       "   array([0.5 , 0.25, 0.5 , 0.5 , 0.25, 0.25, 0.25, 0.25, 0.25, 0.25, 0.25,\n",
       "          0.25, 0.25, 0.25, 0.25, 0.5 ], dtype=float32),\n",
       "   array([0.25, 0.25, 0.25, 0.25, 0.25, 0.25, 0.25, 0.25, 0.25, 0.06, 0.25,\n",
       "          0.25, 0.06, 0.25, 0.25, 0.25], dtype=float32)]},\n",
       " 'conv1d_3': {'weights': [array([[[ 0.  , -0.06,  0.12, ...,  0.12,  0.06, -0.06],\n",
       "           [ 0.06,  0.06, -0.06, ..., -0.12,  0.06,  0.19],\n",
       "           [-0.19,  0.22,  0.03, ..., -0.06,  0.03, -0.06],\n",
       "           ...,\n",
       "           [-0.25, -0.06,  0.16, ...,  0.  ,  0.03, -0.06],\n",
       "           [ 0.06,  0.06, -0.22, ..., -0.06,  0.  ,  0.  ],\n",
       "           [-0.19, -0.12,  0.  , ...,  0.25,  0.  ,  0.12]],\n",
       "   \n",
       "          [[ 0.  ,  0.06,  0.19, ...,  0.19, -0.03,  0.  ],\n",
       "           [-0.06, -0.19,  0.06, ..., -0.31,  0.03,  0.  ],\n",
       "           [ 0.  ,  0.12,  0.  , ..., -0.12, -0.22, -0.06],\n",
       "           ...,\n",
       "           [-0.06, -0.06,  0.03, ...,  0.31, -0.03,  0.06],\n",
       "           [ 0.25,  0.12, -0.22, ..., -0.19, -0.12, -0.25],\n",
       "           [ 0.  , -0.12,  0.03, ...,  0.06,  0.09,  0.06]],\n",
       "   \n",
       "          [[-0.12, -0.06,  0.22, ..., -0.12, -0.03, -0.12],\n",
       "           [ 0.06,  0.  , -0.12, ..., -0.12,  0.16,  0.  ],\n",
       "           [-0.19, -0.06, -0.09, ...,  0.  ,  0.  ,  0.  ],\n",
       "           ...,\n",
       "           [ 0.  , -0.06,  0.12, ...,  0.  ,  0.12, -0.12],\n",
       "           [ 0.06,  0.19, -0.09, ..., -0.19, -0.22,  0.  ],\n",
       "           [-0.12,  0.  ,  0.03, ...,  0.06,  0.03,  0.06]],\n",
       "   \n",
       "          ...,\n",
       "   \n",
       "          [[ 0.  , -0.06, -0.09, ..., -0.12, -0.06, -0.12],\n",
       "           [ 0.19, -0.12, -0.06, ...,  0.25,  0.19, -0.06],\n",
       "           [ 0.  ,  0.  ,  0.03, ..., -0.12, -0.12, -0.12],\n",
       "           ...,\n",
       "           [ 0.  ,  0.19, -0.09, ...,  0.  ,  0.03,  0.06],\n",
       "           [-0.25,  0.  ,  0.06, ..., -0.06, -0.19,  0.  ],\n",
       "           [ 0.12, -0.06,  0.06, ..., -0.19, -0.03, -0.06]],\n",
       "   \n",
       "          [[-0.25, -0.06,  0.  , ..., -0.12,  0.12, -0.19],\n",
       "           [ 0.19, -0.22,  0.12, ...,  0.12,  0.  ,  0.06],\n",
       "           [ 0.  ,  0.06,  0.12, ...,  0.06, -0.19, -0.12],\n",
       "           ...,\n",
       "           [-0.19, -0.06,  0.03, ..., -0.06,  0.06,  0.12],\n",
       "           [ 0.06,  0.19,  0.09, ..., -0.12, -0.09, -0.19],\n",
       "           [ 0.06, -0.06,  0.06, ...,  0.  , -0.06, -0.12]],\n",
       "   \n",
       "          [[-0.25, -0.22, -0.06, ...,  0.12,  0.03,  0.  ],\n",
       "           [ 0.12, -0.12, -0.06, ...,  0.12,  0.16,  0.  ],\n",
       "           [ 0.  , -0.19, -0.06, ..., -0.06, -0.22,  0.  ],\n",
       "           ...,\n",
       "           [-0.19,  0.  , -0.22, ..., -0.25, -0.19, -0.19],\n",
       "           [-0.19,  0.  , -0.06, ...,  0.06, -0.19, -0.12],\n",
       "           [ 0.06,  0.06,  0.03, ..., -0.19, -0.09,  0.  ]]], dtype=float32),\n",
       "   array([-0.12, -0.12, -0.12,  0.  , -0.12, -0.12, -0.12, -0.12],\n",
       "         dtype=float32)]},\n",
       " 'q_batch_normalization_2': {'weights': [array([1., 1., 1., 1., 1., 1., 1., 1.], dtype=float32),\n",
       "   array([0.25, 0.5 , 0.5 , 0.5 , 0.25, 0.25, 0.25, 0.25], dtype=float32),\n",
       "   array([0.12, 0.25, 0.5 , 0.25, 0.25, 0.25, 0.25, 0.25], dtype=float32),\n",
       "   array([0.06, 0.25, 0.25, 0.25, 0.25, 0.25, 0.25, 0.25], dtype=float32)]},\n",
       " 'dense': {'weights': [array([[-0.12, -0.12, -0.06,  0.19,  0.06, -0.31],\n",
       "          [ 0.  , -0.12,  0.  , -0.25,  0.  , -0.06],\n",
       "          [-0.19, -0.25, -0.25,  0.44,  0.  ,  0.19],\n",
       "          ...,\n",
       "          [ 0.  , -0.06, -0.12,  0.  ,  0.06,  0.06],\n",
       "          [-0.12, -0.06,  0.06,  0.12,  0.06,  0.06],\n",
       "          [ 0.12,  0.06,  0.  ,  0.  , -0.12,  0.19]], dtype=float32),\n",
       "   array([ 0.12,  0.  ,  0.  ,  0.  , -0.12, -0.12], dtype=float32)]}}"
      ]
     },
     "execution_count": 36,
     "metadata": {},
     "output_type": "execute_result"
    }
   ],
   "source": [
    "from qkeras.utils import *\n",
    "model_save_quantized_weights(qmodel, 'qmodel.h5')\n",
    "#load_qmodel('qmodel.h5', custom_objects=None, compile=True)"
   ]
  },
  {
   "cell_type": "code",
   "execution_count": 37,
   "metadata": {
    "execution": {
     "iopub.execute_input": "2021-10-10T17:39:12.348250Z",
     "iopub.status.busy": "2021-10-10T17:39:12.347249Z",
     "iopub.status.idle": "2021-10-10T17:39:12.362220Z",
     "shell.execute_reply": "2021-10-10T17:39:12.361210Z",
     "shell.execute_reply.started": "2021-10-10T17:39:12.348250Z"
    },
    "tags": []
   },
   "outputs": [
    {
     "name": "stdout",
     "output_type": "stream",
     "text": [
      "Model Sparsity Summary (model)\n",
      "--\n",
      "conv1d_1: (conv1d_1/kernel:0, 0.05078125)\n",
      "conv1d_2: (conv1d_2/kernel:0, 0.13427734375)\n",
      "conv1d_3: (conv1d_3/kernel:0, 0.1484375)\n",
      "dense: (dense/kernel:0, 0.20833333333333337)\n",
      "\n",
      "\n"
     ]
    }
   ],
   "source": [
    "print_model_sparsity(qmodel)"
   ]
  },
  {
   "cell_type": "code",
   "execution_count": 38,
   "metadata": {
    "execution": {
     "iopub.execute_input": "2021-10-10T17:39:12.364241Z",
     "iopub.status.busy": "2021-10-10T17:39:12.363251Z",
     "iopub.status.idle": "2021-10-10T17:39:24.509256Z",
     "shell.execute_reply": "2021-10-10T17:39:24.508287Z",
     "shell.execute_reply.started": "2021-10-10T17:39:12.364241Z"
    },
    "tags": []
   },
   "outputs": [
    {
     "name": "stdout",
     "output_type": "stream",
     "text": [
      "input                          -11.5861  14.6682\n",
      "conv1d_1                       -32.9861  34.5694"
     ]
    },
    {
     "name": "stderr",
     "output_type": "stream",
     "text": [
      "C:\\Users\\mmorsy\\AppData\\Roaming\\Python\\Python38\\site-packages\\qkeras-0.9.0-py3.8.egg\\qkeras\\utils.py:994: UserWarning: Matplotlib is currently using agg, which is a non-GUI backend, so cannot show the figure.\n",
      "C:\\Users\\mmorsy\\AppData\\Roaming\\Python\\Python38\\site-packages\\qkeras-0.9.0-py3.8.egg\\qkeras\\utils.py:1019: UserWarning: Matplotlib is currently using agg, which is a non-GUI backend, so cannot show the figure.\n"
     ]
    },
    {
     "name": "stdout",
     "output_type": "stream",
     "text": [
      " ( -0.8750   0.8750) ( -0.2500   0.1250) a(  0.500000   1.000000)\n",
      "act_1                            0.0000   0.9375\n",
      "q_batch_normalization           -0.8730  13.2863 (  1.0000   1.0000) ( -0.0625   0.2500) (  0.0156   0.5000) (  0.0039   0.2500)\n",
      "conv1d_2                       -24.2712  22.3752 ( -0.8750   0.8750) ( -0.2500   0.1250) a(  0.250000   0.250000)\n",
      "act_2                            0.0000   0.9375\n",
      "q_batch_normalization_1         -0.8671   2.9783 (  1.0000   1.0000) (  0.1250   0.5000) (  0.2500   0.5000) (  0.0625   0.2500)\n",
      "conv1d_3                       -11.4410   7.5278 ( -0.8750   0.8750) ( -0.1250   0.0000) a(  0.250000   0.500000)\n",
      "act_3                            0.0000   0.9375\n",
      "q_batch_normalization_2         -0.4980   3.4743 (  1.0000   1.0000) (  0.2500   0.5000) (  0.1250   0.5000) (  0.0625   0.2500)\n",
      "dense                          -16.6750  14.8724 ( -0.8750   0.8750) ( -0.1250   0.1250) a(  0.250000   0.500000)\n"
     ]
    },
    {
     "data": {
      "image/png": "[encoded data removed]",
      "text/plain": [
       "<Figure size 432x288 with 1 Axes>"
      ]
     },
     "metadata": {
      "image/png": {
       "height": 263,
       "width": 362
      },
      "needs_background": "light"
     },
     "output_type": "display_data"
    }
   ],
   "source": [
    "quantized_model_debug(qmodel, X_tst_tf, plot=True)"
   ]
  },
  {
   "cell_type": "code",
   "execution_count": 39,
   "metadata": {
    "execution": {
     "iopub.execute_input": "2021-10-10T17:39:24.510289Z",
     "iopub.status.busy": "2021-10-10T17:39:24.509256Z",
     "iopub.status.idle": "2021-10-10T17:39:25.581384Z",
     "shell.execute_reply": "2021-10-10T17:39:25.581384Z",
     "shell.execute_reply.started": "2021-10-10T17:39:24.510289Z"
    }
   },
   "outputs": [
    {
     "data": {
      "text/plain": [
       "{'conv1d_1': {'type': ('mult', (0, 0), (4, 8), (1, 0)),\n",
       "  'number_of_operations': 79872,\n",
       "  'number_of_weights': 256,\n",
       "  'number_of_bias': 32,\n",
       "  'type_of_weights': (0, 4, 1),\n",
       "  'type_of_bias': (0, 4, 1)},\n",
       " 'conv1d_2': {'type': ('mult', (0, 0), (4, 4), (1, 0)),\n",
       "  'number_of_operations': 610304,\n",
       "  'number_of_weights': 4096,\n",
       "  'number_of_bias': 16,\n",
       "  'type_of_weights': (0, 4, 1),\n",
       "  'type_of_bias': (0, 4, 1)},\n",
       " 'conv1d_3': {'type': ('mult', (0, 0), (4, 4), (1, 0)),\n",
       "  'number_of_operations': 69632,\n",
       "  'number_of_weights': 1024,\n",
       "  'number_of_bias': 8,\n",
       "  'type_of_weights': (0, 4, 1),\n",
       "  'type_of_bias': (0, 4, 1)},\n",
       " 'dense': {'type': ('mult', (0, 0), (4, 4), (1, 0)),\n",
       "  'number_of_operations': 1632,\n",
       "  'number_of_weights': 1632,\n",
       "  'number_of_bias': 6,\n",
       "  'type_of_weights': (0, 4, 1),\n",
       "  'type_of_bias': (0, 4, 1)}}"
      ]
     },
     "execution_count": 39,
     "metadata": {},
     "output_type": "execute_result"
    }
   ],
   "source": [
    "extract_model_operations(qmodel)"
   ]
  },
  {
   "cell_type": "code",
   "execution_count": 40,
   "metadata": {
    "execution": {
     "iopub.execute_input": "2021-10-10T17:39:25.581384Z",
     "iopub.status.busy": "2021-10-10T17:39:25.581384Z",
     "iopub.status.idle": "2021-10-10T17:39:25.627709Z",
     "shell.execute_reply": "2021-10-10T17:39:25.626738Z",
     "shell.execute_reply.started": "2021-10-10T17:39:25.581384Z"
    }
   },
   "outputs": [
    {
     "name": "stdout",
     "output_type": "stream",
     "text": [
      "Saved baseline model to: C:\\Users\\mmorsy\\AppData\\Local\\Temp\\tmprxq_cfpx.h5\n"
     ]
    }
   ],
   "source": [
    "_, keras_file = tempfile.mkstemp('.h5')\n",
    "tf.keras.models.save_model(qmodel, keras_file, include_optimizer=False)\n",
    "print('Saved baseline model to:', keras_file)"
   ]
  },
  {
   "cell_type": "code",
   "execution_count": 41,
   "metadata": {
    "execution": {
     "iopub.execute_input": "2021-10-10T17:39:25.628713Z",
     "iopub.status.busy": "2021-10-10T17:39:25.628713Z",
     "iopub.status.idle": "2021-10-10T17:39:25.643716Z",
     "shell.execute_reply": "2021-10-10T17:39:25.641704Z",
     "shell.execute_reply.started": "2021-10-10T17:39:25.628713Z"
    }
   },
   "outputs": [],
   "source": [
    "from tensorflow_model_optimization.python.core.sparsity.keras import prune\n",
    "from tensorflow_model_optimization.python.core.sparsity.keras import pruning_callbacks\n",
    "from tensorflow_model_optimization.python.core.sparsity.keras import pruning_schedule"
   ]
  },
  {
   "cell_type": "code",
   "execution_count": 42,
   "metadata": {
    "execution": {
     "iopub.execute_input": "2021-10-10T17:39:25.644714Z",
     "iopub.status.busy": "2021-10-10T17:39:25.644714Z",
     "iopub.status.idle": "2021-10-10T17:39:27.274292Z",
     "shell.execute_reply": "2021-10-10T17:39:27.273329Z",
     "shell.execute_reply.started": "2021-10-10T17:39:25.644714Z"
    },
    "tags": []
   },
   "outputs": [
    {
     "name": "stderr",
     "output_type": "stream",
     "text": [
      "C:\\Users\\mmorsy\\AppData\\Roaming\\Python\\Python38\\site-packages\\tensorflow\\python\\keras\\engine\\base_layer.py:2281: UserWarning: `layer.add_variable` is deprecated and will be removed in a future version. Please use `layer.add_weight` method instead.\n",
      "  warnings.warn('`layer.add_variable` is deprecated and '\n"
     ]
    },
    {
     "name": "stdout",
     "output_type": "stream",
     "text": [
      "Model: \"model\"\n",
      "_________________________________________________________________\n",
      "Layer (type)                 Output Shape              Param #   \n",
      "=================================================================\n",
      "input_1 (InputLayer)         [(None, 319, 1)]          0         \n",
      "_________________________________________________________________\n",
      "prune_low_magnitude_conv1d_1 (None, 312, 32)           546       \n",
      "_________________________________________________________________\n",
      "prune_low_magnitude_act_1 (P (None, 312, 32)           1         \n",
      "_________________________________________________________________\n",
      "prune_low_magnitude_q_batch_ (None, 312, 32)           129       \n",
      "_________________________________________________________________\n",
      "prune_low_magnitude_dropout_ (None, 312, 32)           1         \n",
      "_________________________________________________________________\n",
      "prune_low_magnitude_max_pool (None, 156, 32)           1         \n",
      "_________________________________________________________________\n",
      "prune_low_magnitude_conv1d_2 (None, 149, 16)           8210      \n",
      "_________________________________________________________________\n",
      "prune_low_magnitude_act_2 (P (None, 149, 16)           1         \n",
      "_________________________________________________________________\n",
      "prune_low_magnitude_q_batch_ (None, 149, 16)           65        \n",
      "_________________________________________________________________\n",
      "prune_low_magnitude_dropout_ (None, 149, 16)           1         \n",
      "_________________________________________________________________\n",
      "prune_low_magnitude_max_pool (None, 75, 16)            1         \n",
      "_________________________________________________________________\n",
      "prune_low_magnitude_conv1d_3 (None, 68, 8)             2058      \n",
      "_________________________________________________________________\n",
      "prune_low_magnitude_act_3 (P (None, 68, 8)             1         \n",
      "_________________________________________________________________\n",
      "prune_low_magnitude_q_batch_ (None, 68, 8)             33        \n",
      "_________________________________________________________________\n",
      "prune_low_magnitude_dropout_ (None, 68, 8)             1         \n",
      "_________________________________________________________________\n",
      "prune_low_magnitude_max_pool (None, 34, 8)             1         \n",
      "_________________________________________________________________\n",
      "prune_low_magnitude_flatten  (None, 272)               1         \n",
      "_________________________________________________________________\n",
      "prune_low_magnitude_dense (P (None, 6)                 3272      \n",
      "_________________________________________________________________\n",
      "prune_low_magnitude_softmax  (None, 6)                 1         \n",
      "=================================================================\n",
      "Total params: 14,324\n",
      "Trainable params: 7,182\n",
      "Non-trainable params: 7,142\n",
      "_________________________________________________________________\n"
     ]
    }
   ],
   "source": [
    "import tensorflow_model_optimization as tfmot\n",
    "\n",
    "prune_low_magnitude = tfmot.sparsity.keras.prune_low_magnitude\n",
    "\n",
    "# Compute end step to finish pruning after 2 epochs.\n",
    "batch_size = 500\n",
    "epochs = 50\n",
    "validation_split = 0.2 # 20% of training set will be used for validation set. \n",
    "\n",
    "num_examples = X_trn_tf.shape[0] * (1 - validation_split)\n",
    "end_step = np.ceil(num_examples / batch_size).astype(np.int32) * epochs\n",
    "\n",
    "# Define model for pruning.\n",
    "pruning_params = {\n",
    "      'pruning_schedule': tfmot.sparsity.keras.PolynomialDecay(initial_sparsity=0.50,\n",
    "                                                               final_sparsity=0.80,\n",
    "                                                               begin_step=0,\n",
    "                                                               end_step=end_step)\n",
    "}\n",
    "\n",
    "model_for_pruning = prune_low_magnitude(qmodel, **pruning_params)\n",
    "\n",
    "opt = RMSprop(learning_rate=0.001)\n",
    "\n",
    "# `prune_low_magnitude` requires a recompile.\n",
    "model_for_pruning.compile(optimizer=opt,\n",
    "              loss='categorical_crossentropy',\n",
    "              metrics=['accuracy'])\n",
    "\n",
    "model_for_pruning.summary()"
   ]
  },
  {
   "cell_type": "code",
   "execution_count": 43,
   "metadata": {
    "execution": {
     "iopub.execute_input": "2021-10-10T17:39:27.275297Z",
     "iopub.status.busy": "2021-10-10T17:39:27.275297Z",
     "iopub.status.idle": "2021-10-10T17:43:49.098743Z",
     "shell.execute_reply": "2021-10-10T17:43:49.098743Z",
     "shell.execute_reply.started": "2021-10-10T17:39:27.275297Z"
    },
    "tags": []
   },
   "outputs": [
    {
     "name": "stdout",
     "output_type": "stream",
     "text": [
      "Epoch 1/50\n",
      " 6/54 [==>...........................] - ETA: 24s - loss: 0.0686 - accuracy: 0.9788WARNING:tensorflow:Callback method `on_train_batch_end` is slow compared to the batch time (batch time: 0.0526s vs `on_train_batch_end` time: 0.3885s). Check your callbacks.\n"
     ]
    },
    {
     "name": "stderr",
     "output_type": "stream",
     "text": [
      "WARNING:tensorflow:Callback method `on_train_batch_end` is slow compared to the batch time (batch time: 0.0526s vs `on_train_batch_end` time: 0.3885s). Check your callbacks.\n"
     ]
    },
    {
     "name": "stdout",
     "output_type": "stream",
     "text": [
      "54/54 [==============================] - 19s 166ms/step - loss: 0.0787 - accuracy: 0.9754 - val_loss: 0.0722 - val_accuracy: 0.9807\n",
      "Epoch 2/50\n",
      "54/54 [==============================] - 5s 89ms/step - loss: 0.0830 - accuracy: 0.9754 - val_loss: 0.5487 - val_accuracy: 0.8367\n",
      "Epoch 3/50\n",
      "54/54 [==============================] - 5s 90ms/step - loss: 0.2411 - accuracy: 0.9258 - val_loss: 0.4763 - val_accuracy: 0.8630\n",
      "Epoch 4/50\n",
      "54/54 [==============================] - 5s 93ms/step - loss: 0.1624 - accuracy: 0.9490 - val_loss: 0.1995 - val_accuracy: 0.9332\n",
      "Epoch 5/50\n",
      "54/54 [==============================] - 5s 90ms/step - loss: 0.1714 - accuracy: 0.9491 - val_loss: 0.1451 - val_accuracy: 0.9561\n",
      "Epoch 6/50\n",
      "54/54 [==============================] - 5s 93ms/step - loss: 0.1437 - accuracy: 0.9555 - val_loss: 0.1259 - val_accuracy: 0.9590\n",
      "Epoch 7/50\n",
      "54/54 [==============================] - 5s 91ms/step - loss: 0.1527 - accuracy: 0.9524 - val_loss: 0.1105 - val_accuracy: 0.9664\n",
      "Epoch 8/50\n",
      "54/54 [==============================] - 5s 90ms/step - loss: 0.1302 - accuracy: 0.9569 - val_loss: 0.1362 - val_accuracy: 0.9584\n",
      "Epoch 9/50\n",
      "54/54 [==============================] - 5s 94ms/step - loss: 0.1206 - accuracy: 0.9631 - val_loss: 0.1132 - val_accuracy: 0.9665\n",
      "Epoch 10/50\n",
      "54/54 [==============================] - 5s 92ms/step - loss: 0.1252 - accuracy: 0.9625 - val_loss: 0.1411 - val_accuracy: 0.9536\n",
      "Epoch 11/50\n",
      "54/54 [==============================] - 5s 91ms/step - loss: 0.1213 - accuracy: 0.9619 - val_loss: 0.1222 - val_accuracy: 0.9645\n",
      "Epoch 12/50\n",
      "54/54 [==============================] - 5s 95ms/step - loss: 0.1371 - accuracy: 0.9550 - val_loss: 0.1632 - val_accuracy: 0.9466\n",
      "Epoch 13/50\n",
      "54/54 [==============================] - 5s 97ms/step - loss: 0.1180 - accuracy: 0.9635 - val_loss: 0.1775 - val_accuracy: 0.9466\n",
      "Epoch 14/50\n",
      "54/54 [==============================] - 5s 96ms/step - loss: 0.1564 - accuracy: 0.9514 - val_loss: 0.1310 - val_accuracy: 0.9612\n",
      "Epoch 15/50\n",
      "54/54 [==============================] - 5s 93ms/step - loss: 0.1207 - accuracy: 0.9609 - val_loss: 0.1438 - val_accuracy: 0.9594\n",
      "Epoch 16/50\n",
      "54/54 [==============================] - 5s 93ms/step - loss: 0.1105 - accuracy: 0.9665 - val_loss: 0.1159 - val_accuracy: 0.9679\n",
      "Epoch 17/50\n",
      "54/54 [==============================] - 5s 93ms/step - loss: 0.0941 - accuracy: 0.9703 - val_loss: 0.1556 - val_accuracy: 0.9555\n",
      "Epoch 18/50\n",
      "54/54 [==============================] - 5s 93ms/step - loss: 0.1036 - accuracy: 0.9668 - val_loss: 0.1524 - val_accuracy: 0.9624\n",
      "Epoch 19/50\n",
      "54/54 [==============================] - 5s 90ms/step - loss: 0.0976 - accuracy: 0.9695 - val_loss: 0.1161 - val_accuracy: 0.9717\n",
      "Epoch 20/50\n",
      "54/54 [==============================] - 5s 90ms/step - loss: 0.0996 - accuracy: 0.9696 - val_loss: 0.1414 - val_accuracy: 0.9613\n",
      "Epoch 21/50\n",
      "54/54 [==============================] - 5s 91ms/step - loss: 0.0951 - accuracy: 0.9702 - val_loss: 0.1218 - val_accuracy: 0.9646\n",
      "Epoch 22/50\n",
      "54/54 [==============================] - 5s 93ms/step - loss: 0.0947 - accuracy: 0.9704 - val_loss: 0.0901 - val_accuracy: 0.9768\n",
      "Epoch 23/50\n",
      "54/54 [==============================] - 5s 93ms/step - loss: 0.1060 - accuracy: 0.9678 - val_loss: 0.1000 - val_accuracy: 0.9734\n",
      "Epoch 24/50\n",
      "54/54 [==============================] - 5s 90ms/step - loss: 0.1023 - accuracy: 0.9696 - val_loss: 0.1514 - val_accuracy: 0.9533\n",
      "Epoch 25/50\n",
      "54/54 [==============================] - 5s 89ms/step - loss: 0.1030 - accuracy: 0.9677 - val_loss: 0.1017 - val_accuracy: 0.9722\n",
      "Epoch 26/50\n",
      "54/54 [==============================] - 5s 93ms/step - loss: 0.0939 - accuracy: 0.9715 - val_loss: 0.1203 - val_accuracy: 0.9619\n",
      "Epoch 27/50\n",
      "54/54 [==============================] - 5s 90ms/step - loss: 0.1036 - accuracy: 0.9677 - val_loss: 0.1094 - val_accuracy: 0.9700\n",
      "Epoch 28/50\n",
      "54/54 [==============================] - 5s 92ms/step - loss: 0.0989 - accuracy: 0.9691 - val_loss: 0.1317 - val_accuracy: 0.9621\n",
      "Epoch 29/50\n",
      "54/54 [==============================] - 5s 92ms/step - loss: 0.1353 - accuracy: 0.9572 - val_loss: 0.1402 - val_accuracy: 0.9673\n",
      "Epoch 30/50\n",
      "54/54 [==============================] - 5s 91ms/step - loss: 0.0987 - accuracy: 0.9681 - val_loss: 0.1233 - val_accuracy: 0.9665\n",
      "Epoch 31/50\n",
      "54/54 [==============================] - 5s 90ms/step - loss: 0.1031 - accuracy: 0.9675 - val_loss: 0.1494 - val_accuracy: 0.9621\n",
      "Epoch 32/50\n",
      "54/54 [==============================] - 5s 89ms/step - loss: 0.1064 - accuracy: 0.9670 - val_loss: 0.1309 - val_accuracy: 0.9661\n",
      "Epoch 33/50\n",
      "54/54 [==============================] - 5s 92ms/step - loss: 0.0981 - accuracy: 0.9702 - val_loss: 0.1085 - val_accuracy: 0.9704\n",
      "Epoch 34/50\n",
      "54/54 [==============================] - 5s 92ms/step - loss: 0.1034 - accuracy: 0.9679 - val_loss: 0.1240 - val_accuracy: 0.9624\n",
      "Epoch 35/50\n",
      "54/54 [==============================] - 5s 89ms/step - loss: 0.1104 - accuracy: 0.9676 - val_loss: 0.1007 - val_accuracy: 0.9709\n",
      "Epoch 36/50\n",
      "54/54 [==============================] - 5s 91ms/step - loss: 0.1045 - accuracy: 0.9676 - val_loss: 0.1389 - val_accuracy: 0.9557\n",
      "Epoch 37/50\n",
      "54/54 [==============================] - 5s 89ms/step - loss: 0.1105 - accuracy: 0.9647 - val_loss: 0.1144 - val_accuracy: 0.9665\n",
      "Epoch 38/50\n",
      "54/54 [==============================] - 5s 93ms/step - loss: 0.0974 - accuracy: 0.9691 - val_loss: 0.1299 - val_accuracy: 0.9590\n",
      "Epoch 39/50\n",
      "54/54 [==============================] - 5s 89ms/step - loss: 0.1031 - accuracy: 0.9663 - val_loss: 0.1070 - val_accuracy: 0.9713\n",
      "Epoch 40/50\n",
      "54/54 [==============================] - 5s 91ms/step - loss: 0.1020 - accuracy: 0.9685 - val_loss: 0.0941 - val_accuracy: 0.9737\n",
      "Epoch 41/50\n",
      "54/54 [==============================] - 5s 92ms/step - loss: 0.0983 - accuracy: 0.9705 - val_loss: 0.1327 - val_accuracy: 0.9610\n",
      "Epoch 42/50\n",
      "54/54 [==============================] - 5s 89ms/step - loss: 0.0952 - accuracy: 0.9706 - val_loss: 0.1646 - val_accuracy: 0.9511\n",
      "Epoch 43/50\n",
      "54/54 [==============================] - 5s 91ms/step - loss: 0.1001 - accuracy: 0.9686 - val_loss: 0.1282 - val_accuracy: 0.9612\n",
      "Epoch 44/50\n",
      "54/54 [==============================] - 5s 90ms/step - loss: 0.1117 - accuracy: 0.9650 - val_loss: 0.1556 - val_accuracy: 0.9493\n",
      "Epoch 45/50\n",
      "54/54 [==============================] - 5s 91ms/step - loss: 0.1017 - accuracy: 0.9686 - val_loss: 0.1321 - val_accuracy: 0.9618\n",
      "Epoch 46/50\n",
      "54/54 [==============================] - 5s 90ms/step - loss: 0.0961 - accuracy: 0.9717 - val_loss: 0.0941 - val_accuracy: 0.9720\n",
      "Epoch 47/50\n",
      "54/54 [==============================] - 5s 91ms/step - loss: 0.1010 - accuracy: 0.9699 - val_loss: 0.1180 - val_accuracy: 0.9653\n",
      "Epoch 48/50\n",
      "54/54 [==============================] - 5s 90ms/step - loss: 0.0980 - accuracy: 0.9710 - val_loss: 0.1007 - val_accuracy: 0.9665\n",
      "Epoch 49/50\n",
      "54/54 [==============================] - 5s 93ms/step - loss: 0.1022 - accuracy: 0.9678 - val_loss: 0.0907 - val_accuracy: 0.9713\n",
      "Epoch 50/50\n",
      "54/54 [==============================] - 5s 92ms/step - loss: 0.1063 - accuracy: 0.9675 - val_loss: 0.3607 - val_accuracy: 0.8700\n"
     ]
    },
    {
     "data": {
      "text/plain": [
       "<tensorflow.python.keras.callbacks.History at 0x2efeb73d0a0>"
      ]
     },
     "execution_count": 43,
     "metadata": {},
     "output_type": "execute_result"
    }
   ],
   "source": [
    "import tempfile\n",
    "\n",
    "logdir = tempfile.mkdtemp(dir=\"./\")\n",
    "\n",
    "callbacks = [\n",
    "  tfmot.sparsity.keras.UpdatePruningStep(),\n",
    "  tfmot.sparsity.keras.PruningSummaries(log_dir=logdir),\n",
    "]\n",
    "\n",
    "model_for_pruning.fit(X_trn_tf, y_trn_oh,\n",
    "                  batch_size=batch_size, epochs=epochs, validation_split=validation_split,\n",
    "                  callbacks=callbacks)"
   ]
  },
  {
   "cell_type": "code",
   "execution_count": 44,
   "metadata": {
    "execution": {
     "iopub.execute_input": "2021-10-10T17:43:49.098743Z",
     "iopub.status.busy": "2021-10-10T17:43:49.098743Z",
     "iopub.status.idle": "2021-10-10T17:43:54.000579Z",
     "shell.execute_reply": "2021-10-10T17:43:54.000579Z",
     "shell.execute_reply.started": "2021-10-10T17:43:49.098743Z"
    },
    "tags": []
   },
   "outputs": [
    {
     "name": "stdout",
     "output_type": "stream",
     "text": [
      "Pruned test accuracy: 0.8672060966491699\n"
     ]
    }
   ],
   "source": [
    "_, model_for_pruning_accuracy = model_for_pruning.evaluate(X_tst_tf, y_tst_oh, verbose=0)\n",
    "print('Pruned test accuracy:', model_for_pruning_accuracy)"
   ]
  },
  {
   "cell_type": "code",
   "execution_count": 45,
   "metadata": {
    "execution": {
     "iopub.execute_input": "2021-10-10T17:43:54.000579Z",
     "iopub.status.busy": "2021-10-10T17:43:54.000579Z",
     "iopub.status.idle": "2021-10-10T17:43:54.018512Z",
     "shell.execute_reply": "2021-10-10T17:43:54.015583Z",
     "shell.execute_reply.started": "2021-10-10T17:43:54.000579Z"
    },
    "tags": []
   },
   "outputs": [],
   "source": [
    "#!load_ext tensorboard \n",
    "#!tensorboard --logdir=logdir"
   ]
  },
  {
   "cell_type": "code",
   "execution_count": 46,
   "metadata": {
    "execution": {
     "iopub.execute_input": "2021-10-10T17:43:54.019612Z",
     "iopub.status.busy": "2021-10-10T17:43:54.019612Z",
     "iopub.status.idle": "2021-10-10T17:43:55.081018Z",
     "shell.execute_reply": "2021-10-10T17:43:55.081018Z",
     "shell.execute_reply.started": "2021-10-10T17:43:54.019612Z"
    }
   },
   "outputs": [
    {
     "name": "stdout",
     "output_type": "stream",
     "text": [
      "Saved pruned Keras model to: C:\\Users\\mmorsy\\AppData\\Local\\Temp\\tmpcky7a79f.h5\n"
     ]
    }
   ],
   "source": [
    "model_for_export = tfmot.sparsity.keras.strip_pruning(model_for_pruning)\n",
    "\n",
    "_, pruned_keras_file = tempfile.mkstemp('.h5')\n",
    "tf.keras.models.save_model(model_for_export, pruned_keras_file, include_optimizer=False)\n",
    "print('Saved pruned Keras model to:', pruned_keras_file)"
   ]
  },
  {
   "cell_type": "code",
   "execution_count": 47,
   "metadata": {
    "execution": {
     "iopub.execute_input": "2021-10-10T17:43:55.081018Z",
     "iopub.status.busy": "2021-10-10T17:43:55.081018Z",
     "iopub.status.idle": "2021-10-10T17:44:28.495748Z",
     "shell.execute_reply": "2021-10-10T17:44:28.495748Z",
     "shell.execute_reply.started": "2021-10-10T17:43:55.081018Z"
    }
   },
   "outputs": [
    {
     "name": "stdout",
     "output_type": "stream",
     "text": [
      "INFO:tensorflow:Assets written to: C:\\Users\\mmorsy\\AppData\\Local\\Temp\\tmp27l897bq\\assets\n"
     ]
    },
    {
     "name": "stderr",
     "output_type": "stream",
     "text": [
      "INFO:tensorflow:Assets written to: C:\\Users\\mmorsy\\AppData\\Local\\Temp\\tmp27l897bq\\assets\n"
     ]
    },
    {
     "name": "stdout",
     "output_type": "stream",
     "text": [
      "Saved pruned TFLite model to: C:\\Users\\mmorsy\\AppData\\Local\\Temp\\tmp9_r8z2o0.tflite\n"
     ]
    }
   ],
   "source": [
    "converter = tf.lite.TFLiteConverter.from_keras_model(model_for_export)\n",
    "pruned_tflite_model = converter.convert()\n",
    "\n",
    "_, pruned_tflite_file = tempfile.mkstemp('.tflite')\n",
    "\n",
    "with open(pruned_tflite_file, 'wb') as f:\n",
    "  f.write(pruned_tflite_model)\n",
    "\n",
    "print('Saved pruned TFLite model to:', pruned_tflite_file)"
   ]
  },
  {
   "cell_type": "code",
   "execution_count": 48,
   "metadata": {
    "execution": {
     "iopub.execute_input": "2021-10-10T17:44:28.495748Z",
     "iopub.status.busy": "2021-10-10T17:44:28.495748Z",
     "iopub.status.idle": "2021-10-10T17:44:28.521547Z",
     "shell.execute_reply": "2021-10-10T17:44:28.520550Z",
     "shell.execute_reply.started": "2021-10-10T17:44:28.495748Z"
    }
   },
   "outputs": [],
   "source": [
    "def get_gzipped_model_size(file):\n",
    "  # Returns size of gzipped model, in bytes.\n",
    "  import os\n",
    "  import zipfile\n",
    "\n",
    "  _, zipped_file = tempfile.mkstemp('.zip')\n",
    "  with zipfile.ZipFile(zipped_file, 'w', compression=zipfile.ZIP_DEFLATED) as f:\n",
    "    f.write(file)\n",
    "\n",
    "  return os.path.getsize(zipped_file)"
   ]
  },
  {
   "cell_type": "code",
   "execution_count": 49,
   "metadata": {
    "execution": {
     "iopub.execute_input": "2021-10-10T17:44:28.522548Z",
     "iopub.status.busy": "2021-10-10T17:44:28.522548Z",
     "iopub.status.idle": "2021-10-10T17:44:28.566546Z",
     "shell.execute_reply": "2021-10-10T17:44:28.565550Z",
     "shell.execute_reply.started": "2021-10-10T17:44:28.522548Z"
    },
    "tags": []
   },
   "outputs": [
    {
     "name": "stdout",
     "output_type": "stream",
     "text": [
      "Size of gzipped baseline Keras model: 10125.00 bytes\n",
      "Size of gzipped pruned Keras model: 13737.00 bytes\n",
      "Size of gzipped pruned TFlite model: 7887.00 bytes\n"
     ]
    }
   ],
   "source": [
    "print(\"Size of gzipped baseline Keras model: %.2f bytes\" % (get_gzipped_model_size(keras_file)))\n",
    "print(\"Size of gzipped pruned Keras model: %.2f bytes\" % (get_gzipped_model_size(pruned_keras_file)))\n",
    "print(\"Size of gzipped pruned TFlite model: %.2f bytes\" % (get_gzipped_model_size(pruned_tflite_file)))"
   ]
  },
  {
   "cell_type": "code",
   "execution_count": 50,
   "metadata": {
    "execution": {
     "iopub.execute_input": "2021-10-10T17:44:28.566546Z",
     "iopub.status.busy": "2021-10-10T17:44:28.566546Z",
     "iopub.status.idle": "2021-10-10T17:45:01.320299Z",
     "shell.execute_reply": "2021-10-10T17:45:01.320299Z",
     "shell.execute_reply.started": "2021-10-10T17:44:28.566546Z"
    },
    "tags": []
   },
   "outputs": [
    {
     "name": "stdout",
     "output_type": "stream",
     "text": [
      "INFO:tensorflow:Assets written to: C:\\Users\\mmorsy\\AppData\\Local\\Temp\\tmpkkenprj2\\assets\n"
     ]
    },
    {
     "name": "stderr",
     "output_type": "stream",
     "text": [
      "INFO:tensorflow:Assets written to: C:\\Users\\mmorsy\\AppData\\Local\\Temp\\tmpkkenprj2\\assets\n"
     ]
    },
    {
     "name": "stdout",
     "output_type": "stream",
     "text": [
      "Saved quantized and pruned TFLite model to: C:\\Users\\mmorsy\\AppData\\Local\\Temp\\tmpg04_m8bl.tflite\n",
      "Size of gzipped baseline Keras model: 10125.00 bytes\n",
      "Size of gzipped pruned and quantized TFlite model: 7225.00 bytes\n"
     ]
    }
   ],
   "source": [
    "converter = tf.lite.TFLiteConverter.from_keras_model(model_for_export)\n",
    "converter.optimizations = [tf.lite.Optimize.DEFAULT]\n",
    "quantized_and_pruned_tflite_model = converter.convert()\n",
    "\n",
    "_, quantized_and_pruned_tflite_file = tempfile.mkstemp('.tflite')\n",
    "\n",
    "with open(quantized_and_pruned_tflite_file, 'wb') as f:\n",
    "  f.write(quantized_and_pruned_tflite_model)\n",
    "\n",
    "print('Saved quantized and pruned TFLite model to:', quantized_and_pruned_tflite_file)\n",
    "\n",
    "print(\"Size of gzipped baseline Keras model: %.2f bytes\" % (get_gzipped_model_size(keras_file)))\n",
    "print(\"Size of gzipped pruned and quantized TFlite model: %.2f bytes\" % (get_gzipped_model_size(quantized_and_pruned_tflite_file)))"
   ]
  },
  {
   "cell_type": "code",
   "execution_count": 51,
   "metadata": {
    "execution": {
     "iopub.execute_input": "2021-10-10T17:45:01.320299Z",
     "iopub.status.busy": "2021-10-10T17:45:01.320299Z",
     "iopub.status.idle": "2021-10-10T17:45:01.348174Z",
     "shell.execute_reply": "2021-10-10T17:45:01.345022Z",
     "shell.execute_reply.started": "2021-10-10T17:45:01.320299Z"
    },
    "tags": []
   },
   "outputs": [],
   "source": [
    "import numpy as np\n",
    "\n",
    "def evaluate_model(interpreter):\n",
    "  input_index = interpreter.get_input_details()[0][\"index\"]\n",
    "  output_index = interpreter.get_output_details()[0][\"index\"]\n",
    "\n",
    "  # Run predictions on ever y image in the \"test\" dataset.\n",
    "  prediction_results = []\n",
    "  for i, test_example in enumerate(X_tst_tf):\n",
    "    if i % 1000 == 0:\n",
    "      print('Evaluated on {n} results so far.'.format(n=i))\n",
    "    # Pre-processing: add batch dimension and convert to float32 to match with\n",
    "    # the model's input data format.\n",
    "    test_example = np.expand_dims(test_example, axis=0).astype(np.float32)\n",
    "    interpreter.set_tensor(input_index, test_example)\n",
    "\n",
    "    # Run inference.\n",
    "    interpreter.invoke()\n",
    "\n",
    "    # Post-processing: remove batch dimension and find the digit with highest\n",
    "    # probability.\n",
    "    output = interpreter.tensor(output_index)\n",
    "    digit = np.argmax(output()[0])\n",
    "    prediction_results.append(digit)\n",
    "\n",
    "  print('\\n')\n",
    "  # Compare prediction results with ground truth labels to calculate accuracy.\n",
    "  prediction_digits = np.array(prediction_results)\n",
    "  accuracy = (prediction_results == y_tst).mean()\n",
    "  return accuracy"
   ]
  },
  {
   "cell_type": "code",
   "execution_count": 52,
   "metadata": {
    "execution": {
     "iopub.execute_input": "2021-10-10T17:45:01.348174Z",
     "iopub.status.busy": "2021-10-10T17:45:01.348174Z",
     "iopub.status.idle": "2021-10-10T17:45:49.609990Z",
     "shell.execute_reply": "2021-10-10T17:45:49.609990Z",
     "shell.execute_reply.started": "2021-10-10T17:45:01.348174Z"
    },
    "tags": []
   },
   "outputs": [
    {
     "name": "stdout",
     "output_type": "stream",
     "text": [
      "Evaluated on 0 results so far.\n",
      "Evaluated on 1000 results so far.\n",
      "Evaluated on 2000 results so far.\n",
      "Evaluated on 3000 results so far.\n",
      "Evaluated on 4000 results so far.\n",
      "Evaluated on 5000 results so far.\n",
      "Evaluated on 6000 results so far.\n",
      "Evaluated on 7000 results so far.\n",
      "Evaluated on 8000 results so far.\n",
      "\n",
      "\n",
      "Pruned and quantized TFLite test_accuracy: 0.8666111375535459\n",
      "Pruned TF test accuracy: 0.8672060966491699\n"
     ]
    }
   ],
   "source": [
    "interpreter = tf.lite.Interpreter(model_content=quantized_and_pruned_tflite_model)\n",
    "interpreter.allocate_tensors()\n",
    "\n",
    "test_accuracy = evaluate_model(interpreter)\n",
    "\n",
    "print('Pruned and quantized TFLite test_accuracy:', test_accuracy)\n",
    "print('Pruned TF test accuracy:', model_for_pruning_accuracy)"
   ]
  },
  {
   "cell_type": "code",
   "execution_count": null,
   "metadata": {},
   "outputs": [],
   "source": []
  }
 ],
 "metadata": {
  "kernelspec": {
   "display_name": "Python 3",
   "language": "python",
   "name": "python3"
  },
  "language_info": {
   "codemirror_mode": {
    "name": "ipython",
    "version": 3
   },
   "file_extension": ".py",
   "mimetype": "text/x-python",
   "name": "python",
   "nbconvert_exporter": "python",
   "pygments_lexer": "ipython3",
   "version": "3.8.5"
  },
  "metadata": {
   "interpreter": {
    "hash": "1baa965d5efe3ac65b79dfc60c0d706280b1da80fedb7760faf2759126c4f253"
   }
  }
 },
 "nbformat": 4,
 "nbformat_minor": 4
}
