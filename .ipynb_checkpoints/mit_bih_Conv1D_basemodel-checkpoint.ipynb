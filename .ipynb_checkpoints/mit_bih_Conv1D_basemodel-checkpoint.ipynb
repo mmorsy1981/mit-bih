{
 "cells": [
  {
   "cell_type": "code",
   "execution_count": 1,
   "metadata": {
    "execution": {
     "iopub.execute_input": "2021-10-20T19:53:11.908854Z",
     "iopub.status.busy": "2021-10-20T19:53:11.908854Z",
     "iopub.status.idle": "2021-10-20T19:53:19.258938Z",
     "shell.execute_reply": "2021-10-20T19:53:19.258938Z",
     "shell.execute_reply.started": "2021-10-20T19:53:11.908854Z"
    },
    "tags": []
   },
   "outputs": [],
   "source": [
    "import numpy as np\n",
    "import pandas as pd\n",
    "import tensorflow as tf\n",
    "import os\n",
    "\n",
    "from matplotlib import pyplot as plt\n",
    "%matplotlib inline\n",
    "%config InlineBackend.figure_format = 'retina'\n",
    "#%pdb"
   ]
  },
  {
   "cell_type": "code",
   "execution_count": 2,
   "metadata": {
    "execution": {
     "iopub.execute_input": "2021-10-20T19:53:19.258938Z",
     "iopub.status.busy": "2021-10-20T19:53:19.258938Z",
     "iopub.status.idle": "2021-10-20T19:53:21.900656Z",
     "shell.execute_reply": "2021-10-20T19:53:21.898698Z",
     "shell.execute_reply.started": "2021-10-20T19:53:19.258938Z"
    },
    "tags": []
   },
   "outputs": [
    {
     "name": "stdout",
     "output_type": "stream",
     "text": [
      "Num GPUs Available:  1\n"
     ]
    }
   ],
   "source": [
    "print(\"Num GPUs Available: \", len(tf.config.list_physical_devices('GPU')))"
   ]
  },
  {
   "cell_type": "markdown",
   "metadata": {},
   "source": [
    "https://www.analyticsvidhya.com/blog/2021/04/how-to-download-kaggle-datasets-using-jupyter-notebook/"
   ]
  },
  {
   "cell_type": "code",
   "execution_count": 3,
   "metadata": {
    "execution": {
     "iopub.execute_input": "2021-10-20T19:53:21.901658Z",
     "iopub.status.busy": "2021-10-20T19:53:21.901658Z",
     "iopub.status.idle": "2021-10-20T19:53:21.974657Z",
     "shell.execute_reply": "2021-10-20T19:53:21.973691Z",
     "shell.execute_reply.started": "2021-10-20T19:53:21.901658Z"
    },
    "tags": []
   },
   "outputs": [
    {
     "name": "stdout",
     "output_type": "stream",
     "text": [
      "Skipping, found downloaded files in \".\\mitbihcsv\" (use force=True to force download)\n"
     ]
    }
   ],
   "source": [
    "import opendatasets as od\n",
    "\n",
    "od.download(\"https://www.kaggle.com/mohammedfarag/mitbihcsv\")"
   ]
  },
  {
   "cell_type": "code",
   "execution_count": 4,
   "metadata": {
    "execution": {
     "iopub.execute_input": "2021-10-20T19:53:21.977661Z",
     "iopub.status.busy": "2021-10-20T19:53:21.976658Z",
     "iopub.status.idle": "2021-10-20T19:53:21.989656Z",
     "shell.execute_reply": "2021-10-20T19:53:21.988654Z",
     "shell.execute_reply.started": "2021-10-20T19:53:21.977661Z"
    },
    "tags": []
   },
   "outputs": [],
   "source": [
    "data_set_path=os.path.join(\"mitbihcsv\",\"mit_bih_data_set.csv\")"
   ]
  },
  {
   "cell_type": "code",
   "execution_count": 5,
   "metadata": {
    "execution": {
     "iopub.execute_input": "2021-10-20T19:53:21.990659Z",
     "iopub.status.busy": "2021-10-20T19:53:21.990659Z",
     "iopub.status.idle": "2021-10-20T19:53:24.882401Z",
     "shell.execute_reply": "2021-10-20T19:53:24.882401Z",
     "shell.execute_reply.started": "2021-10-20T19:53:21.990659Z"
    },
    "tags": []
   },
   "outputs": [],
   "source": [
    "data_set = pd.read_csv(data_set_path,dtype=float)"
   ]
  },
  {
   "cell_type": "markdown",
   "metadata": {},
   "source": [
    "https://physionet.org/content/mitdb/1.0.0/\n",
    "\n",
    "Background\n",
    "\n",
    "Since 1975, our laboratories at Boston's Beth Israel Hospital (now the Beth Israel Deaconess Medical Center) and at MIT have supported our own research into arrhythmia analysis and related subjects. One of the first major products of that effort was the MIT-BIH Arrhythmia Database, which we completed and began distributing in 1980. The database was the first generally available set of standard test material for evaluation of arrhythmia detectors, and has been used for that purpose as well as for basic research into cardiac dynamics at more than 500 sites worldwide. Originally, we distributed the database on 9-track half-inch digital tape at 800 and 1600 bpi, and on quarter-inch IRIG-format FM analog tape. In August, 1989, we produced a CD-ROM version of the database.\n",
    "\n",
    "Data Description\n",
    "\n",
    "The MIT-BIH Arrhythmia Database contains 48 half-hour excerpts of two-channel ambulatory ECG recordings, obtained from 47 subjects studied by the BIH Arrhythmia Laboratory between 1975 and 1979. Twenty-three recordings were chosen at random from a set of 4000 24-hour ambulatory ECG recordings collected from a mixed population of inpatients (about 60%) and outpatients (about 40%) at Boston's Beth Israel Hospital; the remaining 25 recordings were selected from the same set to include less common but clinically significant arrhythmias that would not be well-represented in a small random sample.\n",
    "\n",
    "The recordings were digitized at 360 samples per second per channel with 11-bit resolution over a 10 mV range. Two or more cardiologists independently annotated each record; disagreements were resolved to obtain the computer-readable reference annotations for each beat (approximately 110,000 annotations in all) included with the database."
   ]
  },
  {
   "cell_type": "code",
   "execution_count": 6,
   "metadata": {
    "execution": {
     "iopub.execute_input": "2021-10-20T19:53:24.882401Z",
     "iopub.status.busy": "2021-10-20T19:53:24.882401Z",
     "iopub.status.idle": "2021-10-20T19:53:24.898596Z",
     "shell.execute_reply": "2021-10-20T19:53:24.897630Z",
     "shell.execute_reply.started": "2021-10-20T19:53:24.882401Z"
    },
    "tags": []
   },
   "outputs": [],
   "source": [
    "num_classes=6"
   ]
  },
  {
   "cell_type": "code",
   "execution_count": 7,
   "metadata": {
    "execution": {
     "iopub.execute_input": "2021-10-20T19:53:24.899597Z",
     "iopub.status.busy": "2021-10-20T19:53:24.899597Z",
     "iopub.status.idle": "2021-10-20T19:53:24.914597Z",
     "shell.execute_reply": "2021-10-20T19:53:24.912596Z",
     "shell.execute_reply.started": "2021-10-20T19:53:24.899597Z"
    },
    "tags": []
   },
   "outputs": [
    {
     "data": {
      "text/plain": [
       "(42020, 320)"
      ]
     },
     "execution_count": 7,
     "metadata": {},
     "output_type": "execute_result"
    }
   ],
   "source": [
    "data_set.shape"
   ]
  },
  {
   "cell_type": "code",
   "execution_count": 8,
   "metadata": {
    "execution": {
     "iopub.execute_input": "2021-10-20T19:53:24.917597Z",
     "iopub.status.busy": "2021-10-20T19:53:24.916600Z",
     "iopub.status.idle": "2021-10-20T19:53:24.928614Z",
     "shell.execute_reply": "2021-10-20T19:53:24.927633Z",
     "shell.execute_reply.started": "2021-10-20T19:53:24.917597Z"
    },
    "tags": []
   },
   "outputs": [],
   "source": [
    "data_set_np = data_set.to_numpy()"
   ]
  },
  {
   "cell_type": "code",
   "execution_count": 9,
   "metadata": {
    "execution": {
     "iopub.execute_input": "2021-10-20T19:53:24.933595Z",
     "iopub.status.busy": "2021-10-20T19:53:24.932600Z",
     "iopub.status.idle": "2021-10-20T19:53:24.943595Z",
     "shell.execute_reply": "2021-10-20T19:53:24.942595Z",
     "shell.execute_reply.started": "2021-10-20T19:53:24.933595Z"
    },
    "tags": []
   },
   "outputs": [
    {
     "data": {
      "text/plain": [
       "(42020, 320)"
      ]
     },
     "execution_count": 9,
     "metadata": {},
     "output_type": "execute_result"
    }
   ],
   "source": [
    "data_set_np.shape"
   ]
  },
  {
   "cell_type": "code",
   "execution_count": 10,
   "metadata": {
    "execution": {
     "iopub.execute_input": "2021-10-20T19:53:24.945595Z",
     "iopub.status.busy": "2021-10-20T19:53:24.945595Z",
     "iopub.status.idle": "2021-10-20T19:53:24.958594Z",
     "shell.execute_reply": "2021-10-20T19:53:24.957593Z",
     "shell.execute_reply.started": "2021-10-20T19:53:24.945595Z"
    },
    "tags": []
   },
   "outputs": [],
   "source": [
    "X = data_set_np[:,:-1]"
   ]
  },
  {
   "cell_type": "code",
   "execution_count": 11,
   "metadata": {
    "execution": {
     "iopub.execute_input": "2021-10-20T19:53:24.959594Z",
     "iopub.status.busy": "2021-10-20T19:53:24.959594Z",
     "iopub.status.idle": "2021-10-20T19:53:24.974597Z",
     "shell.execute_reply": "2021-10-20T19:53:24.972597Z",
     "shell.execute_reply.started": "2021-10-20T19:53:24.959594Z"
    },
    "tags": []
   },
   "outputs": [],
   "source": [
    "y = data_set_np[:,-1]"
   ]
  },
  {
   "cell_type": "code",
   "execution_count": 12,
   "metadata": {
    "execution": {
     "iopub.execute_input": "2021-10-20T19:53:24.976603Z",
     "iopub.status.busy": "2021-10-20T19:53:24.976603Z",
     "iopub.status.idle": "2021-10-20T19:53:27.304230Z",
     "shell.execute_reply": "2021-10-20T19:53:27.304230Z",
     "shell.execute_reply.started": "2021-10-20T19:53:24.976603Z"
    },
    "tags": []
   },
   "outputs": [],
   "source": [
    "# prepare data for keras model\n",
    "\n",
    "from sklearn.preprocessing import StandardScaler\n",
    "from sklearn.model_selection import train_test_split\n",
    "\n",
    "scalar = StandardScaler()\n",
    "X = scalar.fit_transform(X)\n",
    "\n",
    "X_trn, X_tst, y_trn, y_tst = train_test_split(X, y, test_size=0.2,stratify=y, random_state=42)"
   ]
  },
  {
   "cell_type": "code",
   "execution_count": 13,
   "metadata": {
    "execution": {
     "iopub.execute_input": "2021-10-20T19:53:27.304230Z",
     "iopub.status.busy": "2021-10-20T19:53:27.304230Z",
     "iopub.status.idle": "2021-10-20T19:53:27.336267Z",
     "shell.execute_reply": "2021-10-20T19:53:27.334256Z",
     "shell.execute_reply.started": "2021-10-20T19:53:27.304230Z"
    }
   },
   "outputs": [],
   "source": [
    "from sklearn.preprocessing import OneHotEncoder\n",
    "enc = OneHotEncoder()\n",
    "\n",
    "enc.fit(y_trn.reshape(-1, 1))\n",
    "y_trn_oh = enc.transform(y_trn.reshape(-1, 1)).toarray()\n",
    "\n",
    "enc.fit(y_tst.reshape(-1, 1))\n",
    "y_tst_oh = enc.transform(y_tst.reshape(-1, 1)).toarray()"
   ]
  },
  {
   "cell_type": "code",
   "execution_count": 14,
   "metadata": {
    "execution": {
     "iopub.execute_input": "2021-10-20T19:53:27.337256Z",
     "iopub.status.busy": "2021-10-20T19:53:27.337256Z",
     "iopub.status.idle": "2021-10-20T19:53:27.365256Z",
     "shell.execute_reply": "2021-10-20T19:53:27.364303Z",
     "shell.execute_reply.started": "2021-10-20T19:53:27.337256Z"
    },
    "tags": []
   },
   "outputs": [],
   "source": [
    "#import tensorflow as tf\n",
    "#from tensorflow.keras.utils import to_categorical\n",
    "\n",
    "#y_trn_oh = to_categorical(y_trn)\n",
    "#y_tst_oh = to_categorical(y_tst)\n",
    "\n",
    "X_trn_tf = np.expand_dims(X_trn, axis=2)\n",
    "X_tst_tf = np.expand_dims(X_tst, axis=2)\n",
    "\n",
    "\n",
    "X_tst = X_tst.astype('float32')\n",
    "X_tst_tf = X_tst_tf.astype('float32')"
   ]
  },
  {
   "cell_type": "code",
   "execution_count": 15,
   "metadata": {
    "execution": {
     "iopub.execute_input": "2021-10-20T19:53:27.367288Z",
     "iopub.status.busy": "2021-10-20T19:53:27.367288Z",
     "iopub.status.idle": "2021-10-20T19:53:27.380260Z",
     "shell.execute_reply": "2021-10-20T19:53:27.379263Z",
     "shell.execute_reply.started": "2021-10-20T19:53:27.367288Z"
    },
    "tags": []
   },
   "outputs": [],
   "source": [
    "# Network\n",
    "def network(X_train,y_train,X_test,y_test):\n",
    "    \n",
    "    model = Sequential()\n",
    "\n",
    "    model.add(Conv1D(filters=32, kernel_size=8, activation='relu', \n",
    "                     strides=1, padding=\"valid\",input_shape=X_train[1,:].shape,\n",
    "                     name='Conv1DLayer1'))\n",
    "    model.add(BatchNormalization())\n",
    "    model.add(Dropout(0.2))\n",
    "    model.add(MaxPooling1D(pool_size=4, strides=2, padding='same'))\n",
    "    \n",
    "    model.add(Conv1D(filters=16, kernel_size=8, activation='relu', \n",
    "                     strides=1, padding=\"valid\", name='Conv1DLayer2'))\n",
    "    model.add(BatchNormalization())\n",
    "    model.add(Dropout(0.2))\n",
    "    model.add(MaxPooling1D(pool_size=4, strides=2, padding='same'))\n",
    "\n",
    "    model.add(Conv1D(filters=8, kernel_size=8, activation='relu', \n",
    "                     strides=1, padding=\"valid\", name='Conv1DLayer3'))\n",
    "    model.add(BatchNormalization())\n",
    "    model.add(Dropout(0.2))\n",
    "    model.add(MaxPooling1D(pool_size=4, strides=2, padding='same'))\n",
    "\n",
    "    #model.add(GRU(10,return_sequences=True))\n",
    "    \n",
    "    model.add(Flatten())\n",
    "    #model.add(GlobalAveragePooling1D())\n",
    "    model.add(Dense(num_classes, activation='softmax', name = 'OuputLayer'))\n",
    "    \n",
    "    opt = RMSprop(learning_rate=0.001)\n",
    "\n",
    "    model.compile(loss='categorical_crossentropy', optimizer=opt, \n",
    "                  metrics=['accuracy'])\n",
    "\n",
    "    callbacks = [EarlyStopping(monitor='val_loss', patience=10),\n",
    "                 ModelCheckpoint(filepath='./best_model.h5', monitor='val_accuracy', \n",
    "                                 save_best_only=True)]\n",
    "\n",
    "    # fit network\n",
    "    history=model.fit(X_train, y_train, epochs=50,callbacks=callbacks, \n",
    "                      batch_size=500,validation_split=0.2,shuffle=True)\n",
    "\n",
    "    model.load_weights('best_model.h5')\n",
    "    return(model,history)"
   ]
  },
  {
   "cell_type": "code",
   "execution_count": 16,
   "metadata": {
    "execution": {
     "iopub.execute_input": "2021-10-20T19:53:27.383309Z",
     "iopub.status.busy": "2021-10-20T19:53:27.382260Z",
     "iopub.status.idle": "2021-10-20T19:53:27.395259Z",
     "shell.execute_reply": "2021-10-20T19:53:27.394255Z",
     "shell.execute_reply.started": "2021-10-20T19:53:27.383309Z"
    },
    "tags": []
   },
   "outputs": [],
   "source": [
    "def evaluate_model(history,X_test,y_test,model):\n",
    "    scores = model.evaluate((X_test),y_test, verbose=0)\n",
    "    print(\"Accuracy: %.2f%%\" % (scores[1]*100))\n",
    "    \n",
    "    print(history)\n",
    "    fig1, ax_acc = plt.subplots()\n",
    "    plt.plot(history.history['accuracy'])\n",
    "    plt.plot(history.history['val_accuracy'])\n",
    "    plt.xlabel('Epoch')\n",
    "    plt.ylabel('Accuracy')\n",
    "    plt.title('Model - Accuracy')\n",
    "    plt.legend(['Training', 'Validation'], loc='lower right')\n",
    "    plt.show()\n",
    "    \n",
    "    fig2, ax_loss = plt.subplots()\n",
    "    plt.xlabel('Epoch')\n",
    "    plt.ylabel('Loss')\n",
    "    plt.title('Model- Loss')\n",
    "    plt.legend(['Training', 'Validation'], loc='upper right')\n",
    "    plt.plot(history.history['loss'])\n",
    "    plt.plot(history.history['val_loss'])\n",
    "    plt.show()\n",
    "    target_names=['0','1','2','3','4','5']\n",
    "    \n",
    "    y_true=[]\n",
    "    for element in y_test:\n",
    "        y_true.append(np.argmax(element))\n",
    "    prediction_proba=model.predict(X_test)\n",
    "    prediction=np.argmax(prediction_proba,axis=1)\n",
    "    cnf_matrix = confusion_matrix(y_true, prediction)"
   ]
  },
  {
   "cell_type": "code",
   "execution_count": 17,
   "metadata": {
    "execution": {
     "iopub.execute_input": "2021-10-20T19:53:27.398258Z",
     "iopub.status.busy": "2021-10-20T19:53:27.397256Z",
     "iopub.status.idle": "2021-10-20T19:55:33.460975Z",
     "shell.execute_reply": "2021-10-20T19:55:33.460006Z",
     "shell.execute_reply.started": "2021-10-20T19:53:27.398258Z"
    },
    "tags": []
   },
   "outputs": [
    {
     "name": "stdout",
     "output_type": "stream",
     "text": [
      "Epoch 1/50\n",
      "54/54 [==============================] - 10s 84ms/step - loss: 1.3144 - accuracy: 0.6154 - val_loss: 1.7074 - val_accuracy: 0.1715\n",
      "Epoch 2/50\n",
      "54/54 [==============================] - 3s 52ms/step - loss: 0.3011 - accuracy: 0.9157 - val_loss: 1.6750 - val_accuracy: 0.1600\n",
      "Epoch 3/50\n",
      "54/54 [==============================] - 3s 52ms/step - loss: 0.1866 - accuracy: 0.9438 - val_loss: 1.5177 - val_accuracy: 0.2564\n",
      "Epoch 4/50\n",
      "54/54 [==============================] - 3s 52ms/step - loss: 0.1371 - accuracy: 0.9614 - val_loss: 1.2765 - val_accuracy: 0.4880\n",
      "Epoch 5/50\n",
      "54/54 [==============================] - 3s 52ms/step - loss: 0.1133 - accuracy: 0.9671 - val_loss: 0.9735 - val_accuracy: 0.7302\n",
      "Epoch 6/50\n",
      "54/54 [==============================] - 3s 52ms/step - loss: 0.0947 - accuracy: 0.9723 - val_loss: 0.6049 - val_accuracy: 0.8510\n",
      "Epoch 7/50\n",
      "54/54 [==============================] - 3s 53ms/step - loss: 0.0835 - accuracy: 0.9755 - val_loss: 0.3730 - val_accuracy: 0.9243\n",
      "Epoch 8/50\n",
      "54/54 [==============================] - 3s 53ms/step - loss: 0.0806 - accuracy: 0.9755 - val_loss: 0.2380 - val_accuracy: 0.9417\n",
      "Epoch 9/50\n",
      "54/54 [==============================] - 3s 53ms/step - loss: 0.0693 - accuracy: 0.9793 - val_loss: 0.1394 - val_accuracy: 0.9659\n",
      "Epoch 10/50\n",
      "54/54 [==============================] - 3s 53ms/step - loss: 0.0652 - accuracy: 0.9802 - val_loss: 0.1082 - val_accuracy: 0.9714\n",
      "Epoch 11/50\n",
      "54/54 [==============================] - 3s 53ms/step - loss: 0.0585 - accuracy: 0.9828 - val_loss: 0.0938 - val_accuracy: 0.9717\n",
      "Epoch 12/50\n",
      "54/54 [==============================] - 3s 53ms/step - loss: 0.0568 - accuracy: 0.9828 - val_loss: 0.0660 - val_accuracy: 0.9810\n",
      "Epoch 13/50\n",
      "54/54 [==============================] - 3s 53ms/step - loss: 0.0517 - accuracy: 0.9841 - val_loss: 0.0614 - val_accuracy: 0.9817\n",
      "Epoch 14/50\n",
      "54/54 [==============================] - 3s 53ms/step - loss: 0.0469 - accuracy: 0.9854 - val_loss: 0.0730 - val_accuracy: 0.9781\n",
      "Epoch 15/50\n",
      "54/54 [==============================] - 3s 52ms/step - loss: 0.0428 - accuracy: 0.9866 - val_loss: 0.0724 - val_accuracy: 0.9768\n",
      "Epoch 16/50\n",
      "54/54 [==============================] - 3s 53ms/step - loss: 0.0416 - accuracy: 0.9875 - val_loss: 0.0635 - val_accuracy: 0.9811\n",
      "Epoch 17/50\n",
      "54/54 [==============================] - 3s 53ms/step - loss: 0.0411 - accuracy: 0.9878 - val_loss: 0.0651 - val_accuracy: 0.9802\n",
      "Epoch 18/50\n",
      "54/54 [==============================] - 3s 53ms/step - loss: 0.0370 - accuracy: 0.9885 - val_loss: 0.0719 - val_accuracy: 0.9783\n",
      "Epoch 19/50\n",
      "54/54 [==============================] - 3s 52ms/step - loss: 0.0372 - accuracy: 0.9883 - val_loss: 0.0634 - val_accuracy: 0.9827\n",
      "Epoch 20/50\n",
      "54/54 [==============================] - 3s 53ms/step - loss: 0.0366 - accuracy: 0.9884 - val_loss: 0.0525 - val_accuracy: 0.9871\n",
      "Epoch 21/50\n",
      "54/54 [==============================] - 3s 53ms/step - loss: 0.0322 - accuracy: 0.9899 - val_loss: 0.0822 - val_accuracy: 0.9729\n",
      "Epoch 22/50\n",
      "54/54 [==============================] - 3s 52ms/step - loss: 0.0338 - accuracy: 0.9895 - val_loss: 0.0474 - val_accuracy: 0.9869\n",
      "Epoch 23/50\n",
      "54/54 [==============================] - 3s 53ms/step - loss: 0.0286 - accuracy: 0.9908 - val_loss: 0.0492 - val_accuracy: 0.9857\n",
      "Epoch 24/50\n",
      "54/54 [==============================] - 3s 52ms/step - loss: 0.0316 - accuracy: 0.9900 - val_loss: 0.0747 - val_accuracy: 0.9805\n",
      "Epoch 25/50\n",
      "54/54 [==============================] - 3s 53ms/step - loss: 0.0304 - accuracy: 0.9906 - val_loss: 0.0444 - val_accuracy: 0.9885\n",
      "Epoch 26/50\n",
      "54/54 [==============================] - 3s 53ms/step - loss: 0.0310 - accuracy: 0.9904 - val_loss: 0.0548 - val_accuracy: 0.9848\n",
      "Epoch 27/50\n",
      "54/54 [==============================] - 3s 52ms/step - loss: 0.0264 - accuracy: 0.9918 - val_loss: 0.0580 - val_accuracy: 0.9844\n",
      "Epoch 28/50\n",
      "54/54 [==============================] - 3s 52ms/step - loss: 0.0306 - accuracy: 0.9907 - val_loss: 0.0500 - val_accuracy: 0.9875\n",
      "Epoch 29/50\n",
      "54/54 [==============================] - 3s 53ms/step - loss: 0.0257 - accuracy: 0.9924 - val_loss: 0.0545 - val_accuracy: 0.9842\n",
      "Epoch 30/50\n",
      "54/54 [==============================] - 3s 55ms/step - loss: 0.0277 - accuracy: 0.9910 - val_loss: 0.0559 - val_accuracy: 0.9850\n",
      "Epoch 31/50\n",
      "54/54 [==============================] - 3s 52ms/step - loss: 0.0259 - accuracy: 0.9923 - val_loss: 0.0430 - val_accuracy: 0.9885\n",
      "Epoch 32/50\n",
      "54/54 [==============================] - 3s 52ms/step - loss: 0.0248 - accuracy: 0.9924 - val_loss: 0.0749 - val_accuracy: 0.9762\n",
      "Epoch 33/50\n",
      "54/54 [==============================] - 3s 53ms/step - loss: 0.0243 - accuracy: 0.9930 - val_loss: 0.0912 - val_accuracy: 0.9682\n",
      "Epoch 34/50\n",
      "54/54 [==============================] - 3s 53ms/step - loss: 0.0238 - accuracy: 0.9920 - val_loss: 0.0534 - val_accuracy: 0.9857\n",
      "Epoch 35/50\n",
      "54/54 [==============================] - 3s 52ms/step - loss: 0.0228 - accuracy: 0.9920 - val_loss: 0.0480 - val_accuracy: 0.9877\n",
      "Epoch 36/50\n",
      "54/54 [==============================] - 3s 53ms/step - loss: 0.0216 - accuracy: 0.9925 - val_loss: 0.0739 - val_accuracy: 0.9755\n",
      "Epoch 37/50\n",
      "54/54 [==============================] - 3s 52ms/step - loss: 0.0209 - accuracy: 0.9938 - val_loss: 0.0485 - val_accuracy: 0.9885\n",
      "Epoch 38/50\n",
      "54/54 [==============================] - 3s 53ms/step - loss: 0.0198 - accuracy: 0.9940 - val_loss: 0.0440 - val_accuracy: 0.9890\n",
      "Epoch 39/50\n",
      "54/54 [==============================] - 3s 53ms/step - loss: 0.0237 - accuracy: 0.9922 - val_loss: 0.0530 - val_accuracy: 0.9875\n",
      "Epoch 40/50\n",
      "54/54 [==============================] - 3s 52ms/step - loss: 0.0204 - accuracy: 0.9930 - val_loss: 0.0445 - val_accuracy: 0.9888\n",
      "Epoch 41/50\n",
      "54/54 [==============================] - 3s 52ms/step - loss: 0.0223 - accuracy: 0.9929 - val_loss: 0.0482 - val_accuracy: 0.9859\n"
     ]
    }
   ],
   "source": [
    "from tensorflow import keras\n",
    "from keras.models import Sequential\n",
    "from keras.layers import Dense, Flatten, ReLU, Dropout, GRU, LSTM, Conv1D, Input, MaxPooling1D, GlobalMaxPooling1D, GlobalAveragePooling1D, BatchNormalization\n",
    "from keras.optimizers import RMSprop\n",
    "from keras.callbacks import EarlyStopping, ModelCheckpoint\n",
    "from keras.preprocessing.image import ImageDataGenerator\n",
    "\n",
    "model,history=network(X_trn_tf,y_trn_oh,X_tst_tf,y_tst_oh)"
   ]
  },
  {
   "cell_type": "code",
   "execution_count": 18,
   "metadata": {
    "execution": {
     "iopub.execute_input": "2021-10-20T19:55:33.461975Z",
     "iopub.status.busy": "2021-10-20T19:55:33.461975Z",
     "iopub.status.idle": "2021-10-20T19:55:36.216673Z",
     "shell.execute_reply": "2021-10-20T19:55:36.215676Z",
     "shell.execute_reply.started": "2021-10-20T19:55:33.461975Z"
    },
    "tags": []
   },
   "outputs": [
    {
     "name": "stdout",
     "output_type": "stream",
     "text": [
      "Accuracy: 98.67%\n",
      "<tensorflow.python.keras.callbacks.History object at 0x00000207842368E0>\n"
     ]
    },
    {
     "data": {
      "image/png": "[encoded data removed]",
      "text/plain": [
       "<Figure size 432x288 with 1 Axes>"
      ]
     },
     "metadata": {
      "image/png": {
       "height": 277,
       "width": 385
      },
      "needs_background": "light"
     },
     "output_type": "display_data"
    },
    {
     "data": {
      "image/png": "[encoded data removed]",
      "text/plain": [
       "<Figure size 432x288 with 1 Axes>"
      ]
     },
     "metadata": {
      "image/png": {
       "height": 277,
       "width": 392
      },
      "needs_background": "light"
     },
     "output_type": "display_data"
    },
    {
     "name": "stdout",
     "output_type": "stream",
     "text": [
      "Wall time: 2.74 s\n"
     ]
    }
   ],
   "source": [
    "%%time\n",
    "from sklearn.metrics import confusion_matrix\n",
    "\n",
    "evaluate_model(history,X_tst_tf,y_tst_oh,model)\n",
    "y_pred=model.predict(X_tst_tf)"
   ]
  },
  {
   "cell_type": "code",
   "execution_count": 19,
   "metadata": {
    "execution": {
     "iopub.execute_input": "2021-10-20T19:55:36.217671Z",
     "iopub.status.busy": "2021-10-20T19:55:36.216673Z",
     "iopub.status.idle": "2021-10-20T19:55:36.835494Z",
     "shell.execute_reply": "2021-10-20T19:55:36.835494Z",
     "shell.execute_reply.started": "2021-10-20T19:55:36.217671Z"
    },
    "tags": []
   },
   "outputs": [
    {
     "name": "stdout",
     "output_type": "stream",
     "text": [
      "Normalized confusion matrix\n"
     ]
    },
    {
     "data": {
      "image/png": "[encoded data removed]",
      "text/plain": [
       "<Figure size 720x720 with 2 Axes>"
      ]
     },
     "metadata": {
      "image/png": {
       "height": 712,
       "width": 681
      },
      "needs_background": "light"
     },
     "output_type": "display_data"
    }
   ],
   "source": [
    "import itertools\n",
    "def plot_confusion_matrix(cm, classes,\n",
    "                          normalize=False,\n",
    "                          title='Confusion matrix',\n",
    "                          cmap=plt.cm.Blues):\n",
    "    \"\"\"\n",
    "    This function prints and plots the confusion matrix.\n",
    "    Normalization can be applied by setting `normalize=True`.\n",
    "    \"\"\"\n",
    "    if normalize:\n",
    "        cm = cm.astype('float') / cm.sum(axis=1)[:, np.newaxis]\n",
    "        print(\"Normalized confusion matrix\")\n",
    "    else:\n",
    "        print('Confusion matrix, without normalization')\n",
    "\n",
    "    plt.imshow(cm, interpolation='nearest', cmap=cmap)\n",
    "    plt.title(title)\n",
    "    plt.colorbar()\n",
    "    tick_marks = np.arange(len(classes))\n",
    "    plt.xticks(tick_marks, classes, rotation=45)\n",
    "    plt.yticks(tick_marks, classes)\n",
    "\n",
    "    fmt = '.2f' if normalize else 'd'\n",
    "    thresh = cm.max() / 2.\n",
    "    for i, j in itertools.product(range(cm.shape[0]), range(cm.shape[1])):\n",
    "        plt.text(j, i, format(cm[i, j], fmt),\n",
    "                 horizontalalignment=\"center\",\n",
    "                 color=\"white\" if cm[i, j] > thresh else \"black\")\n",
    "\n",
    "    plt.tight_layout()\n",
    "    plt.ylabel('True label')\n",
    "    plt.xlabel('Predicted label')\n",
    "\n",
    "# Compute confusion matrix\n",
    "cnf_matrix = confusion_matrix(y_tst_oh.argmax(axis=1), y_pred.argmax(axis=1))\n",
    "np.set_printoptions(precision=2)\n",
    "\n",
    "# Plot non-normalized confusion matrix\n",
    "plt.figure(figsize=(10, 10))\n",
    "plot_confusion_matrix(cnf_matrix, classes=['N', 'L', 'R', 'A', 'V', '/'],normalize=True,\n",
    "                      title='Confusion matrix, with normalization')\n",
    "plt.show()    "
   ]
  },
  {
   "cell_type": "code",
   "execution_count": 20,
   "metadata": {
    "execution": {
     "iopub.execute_input": "2021-10-20T19:55:36.836855Z",
     "iopub.status.busy": "2021-10-20T19:55:36.836855Z",
     "iopub.status.idle": "2021-10-20T19:55:36.851854Z",
     "shell.execute_reply": "2021-10-20T19:55:36.850887Z",
     "shell.execute_reply.started": "2021-10-20T19:55:36.836855Z"
    },
    "tags": []
   },
   "outputs": [
    {
     "name": "stdout",
     "output_type": "stream",
     "text": [
      "Model: \"sequential\"\n",
      "_________________________________________________________________\n",
      "Layer (type)                 Output Shape              Param #   \n",
      "=================================================================\n",
      "Conv1DLayer1 (Conv1D)        (None, 312, 32)           288       \n",
      "_________________________________________________________________\n",
      "batch_normalization (BatchNo (None, 312, 32)           128       \n",
      "_________________________________________________________________\n",
      "dropout (Dropout)            (None, 312, 32)           0         \n",
      "_________________________________________________________________\n",
      "max_pooling1d (MaxPooling1D) (None, 156, 32)           0         \n",
      "_________________________________________________________________\n",
      "Conv1DLayer2 (Conv1D)        (None, 149, 16)           4112      \n",
      "_________________________________________________________________\n",
      "batch_normalization_1 (Batch (None, 149, 16)           64        \n",
      "_________________________________________________________________\n",
      "dropout_1 (Dropout)          (None, 149, 16)           0         \n",
      "_________________________________________________________________\n",
      "max_pooling1d_1 (MaxPooling1 (None, 75, 16)            0         \n",
      "_________________________________________________________________\n",
      "Conv1DLayer3 (Conv1D)        (None, 68, 8)             1032      \n",
      "_________________________________________________________________\n",
      "batch_normalization_2 (Batch (None, 68, 8)             32        \n",
      "_________________________________________________________________\n",
      "dropout_2 (Dropout)          (None, 68, 8)             0         \n",
      "_________________________________________________________________\n",
      "max_pooling1d_2 (MaxPooling1 (None, 34, 8)             0         \n",
      "_________________________________________________________________\n",
      "flatten (Flatten)            (None, 272)               0         \n",
      "_________________________________________________________________\n",
      "OuputLayer (Dense)           (None, 6)                 1638      \n",
      "=================================================================\n",
      "Total params: 7,294\n",
      "Trainable params: 7,182\n",
      "Non-trainable params: 112\n",
      "_________________________________________________________________\n"
     ]
    }
   ],
   "source": [
    "model.summary()"
   ]
  },
  {
   "cell_type": "code",
   "execution_count": 21,
   "metadata": {
    "execution": {
     "iopub.execute_input": "2021-10-20T19:55:36.852853Z",
     "iopub.status.busy": "2021-10-20T19:55:36.852853Z",
     "iopub.status.idle": "2021-10-20T19:55:38.181300Z",
     "shell.execute_reply": "2021-10-20T19:55:38.179300Z",
     "shell.execute_reply.started": "2021-10-20T19:55:36.852853Z"
    },
    "tags": []
   },
   "outputs": [
    {
     "name": "stdout",
     "output_type": "stream",
     "text": [
      "Accuracy: 0.9866730128510233\n"
     ]
    },
    {
     "data": {
      "image/png": "[encoded data removed]",
      "text/plain": [
       "<Figure size 648x648 with 1 Axes>"
      ]
     },
     "metadata": {
      "image/png": {
       "height": 557,
       "width": 560
      },
      "needs_background": "light"
     },
     "output_type": "display_data"
    }
   ],
   "source": [
    "import plotting\n",
    "\n",
    "from sklearn.metrics import accuracy_score\n",
    "\n",
    "classes = ['N', 'L', 'R', 'A', 'V', '/']\n",
    "\n",
    "y_keras = model.predict(X_tst_tf)\n",
    "print(\"Accuracy: {}\".format(accuracy_score(np.argmax(y_tst_oh, axis=1), np.argmax(y_keras, axis=1))))\n",
    "plt.figure(figsize=(9,9))\n",
    "_ = plotting.makeRoc(y_tst_oh, y_keras, classes)"
   ]
  },
  {
   "cell_type": "markdown",
   "metadata": {},
   "source": [
    "## Convert model to tflite"
   ]
  },
  {
   "cell_type": "code",
   "execution_count": 22,
   "metadata": {
    "execution": {
     "iopub.execute_input": "2021-10-20T19:55:38.182301Z",
     "iopub.status.busy": "2021-10-20T19:55:38.182301Z",
     "iopub.status.idle": "2021-10-20T19:55:43.412841Z",
     "shell.execute_reply": "2021-10-20T19:55:43.411880Z",
     "shell.execute_reply.started": "2021-10-20T19:55:38.182301Z"
    },
    "tags": []
   },
   "outputs": [
    {
     "name": "stdout",
     "output_type": "stream",
     "text": [
      "INFO:tensorflow:Assets written to: C:\\Users\\mmorsy\\AppData\\Local\\Temp\\tmph9qpev_p\\assets\n",
      "Float model size = 38KBs.\n"
     ]
    }
   ],
   "source": [
    "converter = tf.lite.TFLiteConverter.from_keras_model(model)\n",
    "float_tflite_model = converter.convert()\n",
    "\n",
    "float_model_size = len(float_tflite_model) / 1024\n",
    "print('Float model size = %dKBs.' % float_model_size)"
   ]
  },
  {
   "cell_type": "code",
   "execution_count": 23,
   "metadata": {
    "execution": {
     "iopub.execute_input": "2021-10-20T19:55:43.413878Z",
     "iopub.status.busy": "2021-10-20T19:55:43.412841Z",
     "iopub.status.idle": "2021-10-20T19:55:43.442842Z",
     "shell.execute_reply": "2021-10-20T19:55:43.441873Z",
     "shell.execute_reply.started": "2021-10-20T19:55:43.413878Z"
    },
    "tags": []
   },
   "outputs": [],
   "source": [
    "# Load TFLite model and allocate tensors.\n",
    "interpreter = tf.lite.Interpreter(model_content=float_tflite_model)\n",
    "interpreter.allocate_tensors()\n",
    "\n",
    "#get input and output tensors\n",
    "input_details = interpreter.get_input_details()\n",
    "output_details = interpreter.get_output_details()\n",
    "\n",
    "#Preprocess the image to required size and cast\n",
    "input_shape = input_details[0]['shape']\n",
    "input_data = np.expand_dims(X_tst_tf[0], 0)\n",
    "\n",
    "#set the tensor to point to the input data to be inferred\n",
    "input_index = interpreter.get_input_details()[0][\"index\"]\n",
    "interpreter.set_tensor(input_details[0]['index'], input_data)\n",
    "\n",
    "#Run the inference\n",
    "interpreter.invoke()\n",
    "output_details = interpreter.get_tensor(output_details[0]['index'])"
   ]
  },
  {
   "cell_type": "code",
   "execution_count": 24,
   "metadata": {
    "execution": {
     "iopub.execute_input": "2021-10-20T19:55:43.444845Z",
     "iopub.status.busy": "2021-10-20T19:55:43.444845Z",
     "iopub.status.idle": "2021-10-20T19:55:43.457845Z",
     "shell.execute_reply": "2021-10-20T19:55:43.456879Z",
     "shell.execute_reply.started": "2021-10-20T19:55:43.444845Z"
    },
    "tags": []
   },
   "outputs": [
    {
     "data": {
      "text/plain": [
       "array([[4.97e-04, 3.42e-04, 4.17e-02, 9.53e-01, 4.50e-03, 7.97e-06]],\n",
       "      dtype=float32)"
      ]
     },
     "execution_count": 24,
     "metadata": {},
     "output_type": "execute_result"
    }
   ],
   "source": [
    "output_details"
   ]
  },
  {
   "cell_type": "code",
   "execution_count": 25,
   "metadata": {
    "execution": {
     "iopub.execute_input": "2021-10-20T19:55:43.458843Z",
     "iopub.status.busy": "2021-10-20T19:55:43.458843Z",
     "iopub.status.idle": "2021-10-20T19:55:47.659614Z",
     "shell.execute_reply": "2021-10-20T19:55:47.658701Z",
     "shell.execute_reply.started": "2021-10-20T19:55:43.458843Z"
    },
    "tags": []
   },
   "outputs": [
    {
     "name": "stdout",
     "output_type": "stream",
     "text": [
      "INFO:tensorflow:Assets written to: C:\\Users\\mmorsy\\AppData\\Local\\Temp\\tmp_gu1jgsn\\assets\n"
     ]
    },
    {
     "name": "stderr",
     "output_type": "stream",
     "text": [
      "INFO:tensorflow:Assets written to: C:\\Users\\mmorsy\\AppData\\Local\\Temp\\tmp_gu1jgsn\\assets\n"
     ]
    },
    {
     "name": "stdout",
     "output_type": "stream",
     "text": [
      "Quantized model size = 19KBs,\n",
      "which is about 51% of the float model size.\n"
     ]
    }
   ],
   "source": [
    "# Re-convert the model to TF Lite using quantization.\n",
    "converter.optimizations = [tf.lite.Optimize.DEFAULT]\n",
    "#converter.target_spec.supported_types = [tf.float16]\n",
    "tflite_quantized_model = converter.convert()\n",
    "\n",
    "# Show model size in KBs.\n",
    "quantized_model_size = len(tflite_quantized_model) / 1024\n",
    "print('Quantized model size = %dKBs,' % quantized_model_size)\n",
    "print('which is about %d%% of the float model size.'\\\n",
    "      % (quantized_model_size * 100 / float_model_size))"
   ]
  },
  {
   "cell_type": "code",
   "execution_count": 26,
   "metadata": {
    "execution": {
     "iopub.execute_input": "2021-10-20T19:55:47.661626Z",
     "iopub.status.busy": "2021-10-20T19:55:47.660630Z",
     "iopub.status.idle": "2021-10-20T19:55:51.873388Z",
     "shell.execute_reply": "2021-10-20T19:55:51.873388Z",
     "shell.execute_reply.started": "2021-10-20T19:55:47.661626Z"
    },
    "tags": []
   },
   "outputs": [
    {
     "name": "stdout",
     "output_type": "stream",
     "text": [
      "Float model accuracy = 0.9867\n",
      "Quantized model accuracy = 0.9867\n",
      "Accuracy drop = 0.0000\n"
     ]
    }
   ],
   "source": [
    "# A helper function to evaluate the TF Lite model using \"test\" dataset.\n",
    "def evaluate_tflite_model(tflite_model):\n",
    "  # Initialize TFLite interpreter using the model.\n",
    "  interpreter = tf.lite.Interpreter(model_content=float_tflite_model)\n",
    "  interpreter.allocate_tensors()\n",
    "  input_tensor_index = interpreter.get_input_details()[0][\"index\"]\n",
    "  output = interpreter.tensor(interpreter.get_output_details()[0][\"index\"])\n",
    "\n",
    "  # Run predictions on every image in the \"test\" dataset.\n",
    "  prediction_outputs = []\n",
    "  for data in X_tst_tf:\n",
    "    # Pre-processing: add batch dimension and convert to float32 to match with\n",
    "    # the model's input data format.\n",
    "    test_data = np.expand_dims(data, axis=0).astype(np.float32)\n",
    "    interpreter.set_tensor(input_tensor_index, test_data)\n",
    "\n",
    "    # Run inference.\n",
    "    interpreter.invoke()\n",
    "\n",
    "    # Post-processing: remove batch dimension and find the digit with highest\n",
    "    # probability.\n",
    "    prediction = np.argmax(output()[0])\n",
    "    prediction_outputs.append(prediction)\n",
    "\n",
    "  # Compare prediction results with ground truth labels to calculate accuracy.\n",
    "  accurate_count = 0\n",
    "  for index in range(len(prediction_outputs)):\n",
    "    if prediction_outputs[index] == y_tst[index]:\n",
    "      accurate_count += 1\n",
    "  accuracy = accurate_count * 1.0 / len(prediction_outputs)\n",
    "\n",
    "  return accuracy\n",
    "\n",
    "# Evaluate the TF Lite float model. You'll find that its accurary is identical\n",
    "# to the original TF (Keras) model because they are essentially the same model\n",
    "# stored in different format.\n",
    "float_accuracy = evaluate_tflite_model(float_tflite_model)\n",
    "print('Float model accuracy = %.4f' % float_accuracy)\n",
    "\n",
    "# Evalualte the TF Lite quantized model.\n",
    "# Don't be surprised if you see quantized model accuracy is higher than\n",
    "# the original float model. It happens sometimes :)\n",
    "quantized_accuracy = evaluate_tflite_model(tflite_quantized_model)\n",
    "print('Quantized model accuracy = %.4f' % quantized_accuracy)\n",
    "print('Accuracy drop = %.4f' % (float_accuracy - quantized_accuracy))"
   ]
  },
  {
   "cell_type": "code",
   "execution_count": 27,
   "metadata": {
    "execution": {
     "iopub.execute_input": "2021-10-20T19:55:51.873388Z",
     "iopub.status.busy": "2021-10-20T19:55:51.873388Z",
     "iopub.status.idle": "2021-10-20T19:55:51.891068Z",
     "shell.execute_reply": "2021-10-20T19:55:51.889067Z",
     "shell.execute_reply.started": "2021-10-20T19:55:51.873388Z"
    },
    "tags": []
   },
   "outputs": [],
   "source": [
    "# Save the quantized model to file to the Downloads directory\n",
    "f = open('mit_bih.tflite', \"wb\")\n",
    "f.write(tflite_quantized_model)\n",
    "f.close()"
   ]
  },
  {
   "cell_type": "code",
   "execution_count": 28,
   "metadata": {
    "execution": {
     "iopub.execute_input": "2021-10-20T19:55:51.894074Z",
     "iopub.status.busy": "2021-10-20T19:55:51.893070Z",
     "iopub.status.idle": "2021-10-20T19:55:51.905072Z",
     "shell.execute_reply": "2021-10-20T19:55:51.904069Z",
     "shell.execute_reply.started": "2021-10-20T19:55:51.894074Z"
    }
   },
   "outputs": [],
   "source": [
    "## Quantize model using qkeras"
   ]
  },
  {
   "cell_type": "code",
   "execution_count": 29,
   "metadata": {
    "execution": {
     "iopub.execute_input": "2021-10-20T19:55:51.906066Z",
     "iopub.status.busy": "2021-10-20T19:55:51.906066Z",
     "iopub.status.idle": "2021-10-20T19:55:52.562309Z",
     "shell.execute_reply": "2021-10-20T19:55:52.562309Z",
     "shell.execute_reply.started": "2021-10-20T19:55:51.906066Z"
    }
   },
   "outputs": [],
   "source": [
    "from __future__ import absolute_import\n",
    "from __future__ import division\n",
    "from __future__ import print_function\n",
    "\n",
    "from collections import defaultdict\n",
    "\n",
    "from qkeras import *"
   ]
  },
  {
   "cell_type": "code",
   "execution_count": 30,
   "metadata": {
    "execution": {
     "iopub.execute_input": "2021-10-20T19:55:52.562309Z",
     "iopub.status.busy": "2021-10-20T19:55:52.562309Z",
     "iopub.status.idle": "2021-10-20T19:55:52.593077Z",
     "shell.execute_reply": "2021-10-20T19:55:52.592061Z",
     "shell.execute_reply.started": "2021-10-20T19:55:52.562309Z"
    },
    "tags": []
   },
   "outputs": [],
   "source": [
    "def CreateQModel(X_train,y_train,X_test,y_test):\n",
    "    x = x_in = Input(shape = X_train[1,:].shape)\n",
    "    \n",
    "    x = QConv1D(filters=32, kernel_size=8, strides=1, padding=\"valid\",\n",
    "               kernel_quantizer=\"quantized_bits(4, 0, 1)\", \n",
    "               bias_quantizer=\"quantized_bits(4, 0, 1)\",\n",
    "               name=\"conv1d_1\")(x_in)\n",
    "    x = QActivation(\"quantized_relu(4)\", name=\"act_1\")(x)  \n",
    "    x = QBatchNormalization()(x)\n",
    "    x = Dropout(0.2)(x)\n",
    "    x = MaxPooling1D(pool_size=4, strides=2, padding='same')(x)\n",
    "\n",
    "    x = QConv1D(filters=16, kernel_size=8, strides=1, padding=\"valid\",\n",
    "               kernel_quantizer=\"quantized_bits(4, 0, 1)\", \n",
    "               bias_quantizer=\"quantized_bits(4, 0, 1)\",\n",
    "               name=\"conv1d_2\")(x)\n",
    "    x = QActivation(\"quantized_relu(4)\", name=\"act_2\")(x)  \n",
    "    x = QBatchNormalization()(x)\n",
    "    x = Dropout(0.2)(x)\n",
    "    x = MaxPooling1D(pool_size=4, strides=2, padding='same')(x)\n",
    "\n",
    "    x = QConv1D(filters=8, kernel_size=8, strides=1, padding=\"valid\",\n",
    "               kernel_quantizer=\"quantized_bits(4, 0, 1)\", \n",
    "               bias_quantizer=\"quantized_bits(4, 0, 1)\",\n",
    "               name=\"conv1d_3\")(x)\n",
    "    x = QActivation(\"quantized_relu(4)\", name=\"act_3\")(x)  \n",
    "    x = QBatchNormalization()(x)\n",
    "    x = Dropout(0.2)(x)\n",
    "    x = MaxPooling1D(pool_size=4, strides=2, padding='same')(x)\n",
    "    \n",
    "    x = Flatten(name=\"flatten\")(x)\n",
    "\n",
    "    x = QDense(num_classes,\n",
    "        kernel_quantizer=\"quantized_bits(4,0,1)\",\n",
    "        bias_quantizer=\"quantized_bits(4,0,1)\",\n",
    "        name=\"dense\")(x)\n",
    "    x = Activation(\"softmax\", name=\"softmax\")(x)\n",
    "    \n",
    "    qmodel = Model(inputs=x_in, outputs=x)\n",
    "    \n",
    "    opt = RMSprop(learning_rate=0.001)\n",
    "\n",
    "    qmodel.compile(loss='categorical_crossentropy', optimizer=opt, \n",
    "                  metrics=['accuracy'])\n",
    "\n",
    "    callbacks = [EarlyStopping(monitor='val_loss', patience=10),\n",
    "                 ModelCheckpoint(filepath='./best_qmodel.h5', monitor='val_accuracy', \n",
    "                                 save_best_only=True)]\n",
    "\n",
    "    # fit network\n",
    "    history=qmodel.fit(X_train, y_train, epochs=50,callbacks=callbacks, \n",
    "                      batch_size=500,validation_split=0.2,shuffle=True)\n",
    "\n",
    "    qmodel.load_weights('best_qmodel.h5')\n",
    "    return(qmodel,history)"
   ]
  },
  {
   "cell_type": "code",
   "execution_count": 31,
   "metadata": {
    "execution": {
     "iopub.execute_input": "2021-10-20T19:55:52.594027Z",
     "iopub.status.busy": "2021-10-20T19:55:52.594027Z",
     "iopub.status.idle": "2021-10-20T19:59:46.240785Z",
     "shell.execute_reply": "2021-10-20T19:59:46.239772Z",
     "shell.execute_reply.started": "2021-10-20T19:55:52.594027Z"
    },
    "tags": []
   },
   "outputs": [
    {
     "name": "stdout",
     "output_type": "stream",
     "text": [
      "Epoch 1/50\n",
      "54/54 [==============================] - 12s 123ms/step - loss: 1.6302 - accuracy: 0.4428 - val_loss: 1.5067 - val_accuracy: 0.5150\n",
      "Epoch 2/50\n",
      "54/54 [==============================] - 4s 80ms/step - loss: 0.7273 - accuracy: 0.7699 - val_loss: 0.8292 - val_accuracy: 0.7261\n",
      "Epoch 3/50\n",
      "54/54 [==============================] - 4s 80ms/step - loss: 0.4684 - accuracy: 0.8617 - val_loss: 0.7522 - val_accuracy: 0.7149\n",
      "Epoch 4/50\n",
      "54/54 [==============================] - 4s 82ms/step - loss: 0.3450 - accuracy: 0.8987 - val_loss: 0.6488 - val_accuracy: 0.7725\n",
      "Epoch 5/50\n",
      "54/54 [==============================] - 5s 84ms/step - loss: 0.2846 - accuracy: 0.9138 - val_loss: 0.5235 - val_accuracy: 0.8364\n",
      "Epoch 6/50\n",
      "54/54 [==============================] - 4s 83ms/step - loss: 0.2415 - accuracy: 0.9290 - val_loss: 0.3557 - val_accuracy: 0.8841\n",
      "Epoch 7/50\n",
      "54/54 [==============================] - 4s 84ms/step - loss: 0.2397 - accuracy: 0.9265 - val_loss: 0.6087 - val_accuracy: 0.8499\n",
      "Epoch 8/50\n",
      "54/54 [==============================] - 4s 82ms/step - loss: 0.2145 - accuracy: 0.9327 - val_loss: 0.2596 - val_accuracy: 0.9175\n",
      "Epoch 9/50\n",
      "54/54 [==============================] - 4s 82ms/step - loss: 0.2140 - accuracy: 0.9312 - val_loss: 0.2542 - val_accuracy: 0.9149\n",
      "Epoch 10/50\n",
      "54/54 [==============================] - 4s 81ms/step - loss: 0.1765 - accuracy: 0.9464 - val_loss: 0.2676 - val_accuracy: 0.9054\n",
      "Epoch 11/50\n",
      "54/54 [==============================] - 4s 82ms/step - loss: 0.1945 - accuracy: 0.9390 - val_loss: 0.2124 - val_accuracy: 0.9332\n",
      "Epoch 12/50\n",
      "54/54 [==============================] - 5s 84ms/step - loss: 0.1676 - accuracy: 0.9481 - val_loss: 0.1542 - val_accuracy: 0.9539\n",
      "Epoch 13/50\n",
      "54/54 [==============================] - 4s 79ms/step - loss: 0.1537 - accuracy: 0.9515 - val_loss: 0.2235 - val_accuracy: 0.9218\n",
      "Epoch 14/50\n",
      "54/54 [==============================] - 4s 82ms/step - loss: 0.1486 - accuracy: 0.9539 - val_loss: 0.3576 - val_accuracy: 0.8605\n",
      "Epoch 15/50\n",
      "54/54 [==============================] - 4s 82ms/step - loss: 0.1444 - accuracy: 0.9557 - val_loss: 0.1357 - val_accuracy: 0.9584\n",
      "Epoch 16/50\n",
      "54/54 [==============================] - 4s 80ms/step - loss: 0.1456 - accuracy: 0.9547 - val_loss: 0.1220 - val_accuracy: 0.9652\n",
      "Epoch 17/50\n",
      "54/54 [==============================] - 4s 80ms/step - loss: 0.1430 - accuracy: 0.9544 - val_loss: 0.1696 - val_accuracy: 0.9466\n",
      "Epoch 18/50\n",
      "54/54 [==============================] - 4s 81ms/step - loss: 0.1361 - accuracy: 0.9561 - val_loss: 0.1294 - val_accuracy: 0.9563\n",
      "Epoch 19/50\n",
      "54/54 [==============================] - 5s 88ms/step - loss: 0.1274 - accuracy: 0.9599 - val_loss: 0.1668 - val_accuracy: 0.9471\n",
      "Epoch 20/50\n",
      "54/54 [==============================] - 4s 83ms/step - loss: 0.1388 - accuracy: 0.9560 - val_loss: 0.1508 - val_accuracy: 0.9520\n",
      "Epoch 21/50\n",
      "54/54 [==============================] - 4s 79ms/step - loss: 0.1238 - accuracy: 0.9621 - val_loss: 0.1132 - val_accuracy: 0.9651\n",
      "Epoch 22/50\n",
      "54/54 [==============================] - 4s 80ms/step - loss: 0.1155 - accuracy: 0.9632 - val_loss: 0.1238 - val_accuracy: 0.9604\n",
      "Epoch 23/50\n",
      "54/54 [==============================] - 4s 81ms/step - loss: 0.1218 - accuracy: 0.9614 - val_loss: 0.1301 - val_accuracy: 0.9597\n",
      "Epoch 24/50\n",
      "54/54 [==============================] - 5s 84ms/step - loss: 0.1208 - accuracy: 0.9618 - val_loss: 0.1013 - val_accuracy: 0.9703\n",
      "Epoch 25/50\n",
      "54/54 [==============================] - 4s 80ms/step - loss: 0.1225 - accuracy: 0.9613 - val_loss: 0.1808 - val_accuracy: 0.9368\n",
      "Epoch 26/50\n",
      "54/54 [==============================] - 4s 80ms/step - loss: 0.1230 - accuracy: 0.9591 - val_loss: 0.1239 - val_accuracy: 0.9656\n",
      "Epoch 27/50\n",
      "54/54 [==============================] - 4s 82ms/step - loss: 0.1202 - accuracy: 0.9633 - val_loss: 0.0974 - val_accuracy: 0.9732\n",
      "Epoch 28/50\n",
      "54/54 [==============================] - 4s 81ms/step - loss: 0.1085 - accuracy: 0.9680 - val_loss: 0.1665 - val_accuracy: 0.9448\n",
      "Epoch 29/50\n",
      "54/54 [==============================] - 4s 82ms/step - loss: 0.1107 - accuracy: 0.9654 - val_loss: 0.0904 - val_accuracy: 0.9725\n",
      "Epoch 30/50\n",
      "54/54 [==============================] - 4s 81ms/step - loss: 0.0990 - accuracy: 0.9697 - val_loss: 0.1039 - val_accuracy: 0.9691\n",
      "Epoch 31/50\n",
      "54/54 [==============================] - 4s 81ms/step - loss: 0.1046 - accuracy: 0.9660 - val_loss: 0.1143 - val_accuracy: 0.9643\n",
      "Epoch 32/50\n",
      "54/54 [==============================] - 4s 81ms/step - loss: 0.0982 - accuracy: 0.9677 - val_loss: 0.0969 - val_accuracy: 0.9716\n",
      "Epoch 33/50\n",
      "54/54 [==============================] - 4s 80ms/step - loss: 0.0927 - accuracy: 0.9702 - val_loss: 0.0840 - val_accuracy: 0.9749\n",
      "Epoch 34/50\n",
      "54/54 [==============================] - 4s 79ms/step - loss: 0.1049 - accuracy: 0.9672 - val_loss: 0.0930 - val_accuracy: 0.9746\n",
      "Epoch 35/50\n",
      "54/54 [==============================] - 4s 81ms/step - loss: 0.1065 - accuracy: 0.9643 - val_loss: 0.0916 - val_accuracy: 0.9725\n",
      "Epoch 36/50\n",
      "54/54 [==============================] - 5s 84ms/step - loss: 0.0992 - accuracy: 0.9697 - val_loss: 0.0945 - val_accuracy: 0.9717\n",
      "Epoch 37/50\n",
      "54/54 [==============================] - 4s 80ms/step - loss: 0.1012 - accuracy: 0.9673 - val_loss: 0.0850 - val_accuracy: 0.9769\n",
      "Epoch 38/50\n",
      "54/54 [==============================] - 4s 83ms/step - loss: 0.0945 - accuracy: 0.9705 - val_loss: 0.0839 - val_accuracy: 0.9743\n",
      "Epoch 39/50\n",
      "54/54 [==============================] - 4s 83ms/step - loss: 0.1008 - accuracy: 0.9687 - val_loss: 0.0870 - val_accuracy: 0.9743\n",
      "Epoch 40/50\n",
      "54/54 [==============================] - 4s 82ms/step - loss: 0.0874 - accuracy: 0.9721 - val_loss: 0.0910 - val_accuracy: 0.9755\n",
      "Epoch 41/50\n",
      "54/54 [==============================] - 5s 88ms/step - loss: 0.0975 - accuracy: 0.9667 - val_loss: 0.0912 - val_accuracy: 0.9738\n",
      "Epoch 42/50\n",
      "54/54 [==============================] - 5s 86ms/step - loss: 0.0920 - accuracy: 0.9721 - val_loss: 0.0968 - val_accuracy: 0.9717\n",
      "Epoch 43/50\n",
      "54/54 [==============================] - 5s 87ms/step - loss: 0.0959 - accuracy: 0.9684 - val_loss: 0.0942 - val_accuracy: 0.9735\n",
      "Epoch 44/50\n",
      "54/54 [==============================] - 4s 81ms/step - loss: 0.0855 - accuracy: 0.9720 - val_loss: 0.1067 - val_accuracy: 0.9691\n",
      "Epoch 45/50\n",
      "54/54 [==============================] - 4s 83ms/step - loss: 0.0902 - accuracy: 0.9712 - val_loss: 0.0939 - val_accuracy: 0.9710\n",
      "Epoch 46/50\n",
      "54/54 [==============================] - 4s 80ms/step - loss: 0.0896 - accuracy: 0.9726 - val_loss: 0.0861 - val_accuracy: 0.9752\n",
      "Epoch 47/50\n",
      "54/54 [==============================] - 4s 80ms/step - loss: 0.0920 - accuracy: 0.9698 - val_loss: 0.1247 - val_accuracy: 0.9613\n",
      "Epoch 48/50\n",
      "54/54 [==============================] - 5s 87ms/step - loss: 0.0915 - accuracy: 0.9708 - val_loss: 0.0752 - val_accuracy: 0.9777\n",
      "Epoch 49/50\n",
      "54/54 [==============================] - 4s 80ms/step - loss: 0.0949 - accuracy: 0.9705 - val_loss: 0.0914 - val_accuracy: 0.9722\n",
      "Epoch 50/50\n",
      "54/54 [==============================] - 4s 81ms/step - loss: 0.0934 - accuracy: 0.9699 - val_loss: 0.1602 - val_accuracy: 0.9484\n"
     ]
    }
   ],
   "source": [
    "qmodel,history = CreateQModel(X_trn_tf,y_trn_oh,X_tst_tf,y_tst_oh)"
   ]
  },
  {
   "cell_type": "code",
   "execution_count": 32,
   "metadata": {
    "execution": {
     "iopub.execute_input": "2021-10-20T19:59:46.241785Z",
     "iopub.status.busy": "2021-10-20T19:59:46.241785Z",
     "iopub.status.idle": "2021-10-20T19:59:47.404682Z",
     "shell.execute_reply": "2021-10-20T19:59:47.403716Z",
     "shell.execute_reply.started": "2021-10-20T19:59:46.241785Z"
    },
    "tags": []
   },
   "outputs": [
    {
     "name": "stdout",
     "output_type": "stream",
     "text": [
      "Model: \"model\"\n",
      "_________________________________________________________________\n",
      "Layer (type)                 Output Shape              Param #   \n",
      "=================================================================\n",
      "input_1 (InputLayer)         [(None, 319, 1)]          0         \n",
      "_________________________________________________________________\n",
      "conv1d_1 (QConv1D)           (None, 312, 32)           288       \n",
      "_________________________________________________________________\n",
      "act_1 (QActivation)          (None, 312, 32)           0         \n",
      "_________________________________________________________________\n",
      "q_batch_normalization (QBatc (None, 312, 32)           128       \n",
      "_________________________________________________________________\n",
      "dropout_3 (Dropout)          (None, 312, 32)           0         \n",
      "_________________________________________________________________\n",
      "max_pooling1d_3 (MaxPooling1 (None, 156, 32)           0         \n",
      "_________________________________________________________________\n",
      "conv1d_2 (QConv1D)           (None, 149, 16)           4112      \n",
      "_________________________________________________________________\n",
      "act_2 (QActivation)          (None, 149, 16)           0         \n",
      "_________________________________________________________________\n",
      "q_batch_normalization_1 (QBa (None, 149, 16)           64        \n",
      "_________________________________________________________________\n",
      "dropout_4 (Dropout)          (None, 149, 16)           0         \n",
      "_________________________________________________________________\n",
      "max_pooling1d_4 (MaxPooling1 (None, 75, 16)            0         \n",
      "_________________________________________________________________\n",
      "conv1d_3 (QConv1D)           (None, 68, 8)             1032      \n",
      "_________________________________________________________________\n",
      "act_3 (QActivation)          (None, 68, 8)             0         \n",
      "_________________________________________________________________\n",
      "q_batch_normalization_2 (QBa (None, 68, 8)             32        \n",
      "_________________________________________________________________\n",
      "dropout_5 (Dropout)          (None, 68, 8)             0         \n",
      "_________________________________________________________________\n",
      "max_pooling1d_5 (MaxPooling1 (None, 34, 8)             0         \n",
      "_________________________________________________________________\n",
      "flatten (Flatten)            (None, 272)               0         \n",
      "_________________________________________________________________\n",
      "dense (QDense)               (None, 6)                 1638      \n",
      "_________________________________________________________________\n",
      "softmax (Activation)         (None, 6)                 0         \n",
      "=================================================================\n",
      "Total params: 7,294\n",
      "Trainable params: 7,182\n",
      "Non-trainable params: 112\n",
      "_________________________________________________________________\n",
      "WARNING:tensorflow:From C:\\Users\\mmorsy\\AppData\\Roaming\\Python\\Python38\\site-packages\\qkeras-0.9.0-py3.8.egg\\qkeras\\estimate.py:330: Tensor.experimental_ref (from tensorflow.python.framework.ops) is deprecated and will be removed in a future version.\n",
      "Instructions for updating:\n",
      "Use ref() instead.\n"
     ]
    },
    {
     "name": "stderr",
     "output_type": "stream",
     "text": [
      "WARNING:tensorflow:From C:\\Users\\mmorsy\\AppData\\Roaming\\Python\\Python38\\site-packages\\qkeras-0.9.0-py3.8.egg\\qkeras\\estimate.py:330: Tensor.experimental_ref (from tensorflow.python.framework.ops) is deprecated and will be removed in a future version.\n",
      "Instructions for updating:\n",
      "Use ref() instead.\n"
     ]
    },
    {
     "name": "stdout",
     "output_type": "stream",
     "text": [
      "\n",
      "Number of operations in model:\n",
      "    conv1d_1                      : 79872 (smult_4_8)\n",
      "    conv1d_2                      : 610304 (smult_4_4)\n",
      "    conv1d_3                      : 69632 (smult_4_4)\n",
      "    dense                         : 1632  (smult_4_4)\n",
      "\n",
      "Number of operation types in model:\n",
      "    smult_4_4                     : 681568\n",
      "    smult_4_8                     : 79872\n",
      "\n",
      "Weight profiling:\n",
      "    conv1d_1_weights               : 256   (4-bit unit)\n",
      "    conv1d_1_bias                  : 32    (4-bit unit)\n",
      "    conv1d_2_weights               : 4096  (4-bit unit)\n",
      "    conv1d_2_bias                  : 16    (4-bit unit)\n",
      "    conv1d_3_weights               : 1024  (4-bit unit)\n",
      "    conv1d_3_bias                  : 8     (4-bit unit)\n",
      "    dense_weights                  : 1632  (4-bit unit)\n",
      "    dense_bias                     : 6     (4-bit unit)\n",
      "\n",
      "Weight sparsity:\n",
      "... quantizing model\n",
      "    conv1d_1                       : 0.0903\n",
      "    conv1d_2                       : 0.1301\n",
      "    conv1d_3                       : 0.1463\n",
      "    dense                          : 0.1905\n",
      "    ----------------------------------------\n",
      "    Total Sparsity                 : 0.1448\n"
     ]
    }
   ],
   "source": [
    "qmodel.summary()\n",
    "\n",
    "print_qstats(qmodel)"
   ]
  },
  {
   "cell_type": "code",
   "execution_count": 33,
   "metadata": {
    "execution": {
     "iopub.execute_input": "2021-10-20T19:59:47.405682Z",
     "iopub.status.busy": "2021-10-20T19:59:47.405682Z",
     "iopub.status.idle": "2021-10-20T19:59:47.554460Z",
     "shell.execute_reply": "2021-10-20T19:59:47.553481Z",
     "shell.execute_reply.started": "2021-10-20T19:59:47.405682Z"
    },
    "tags": []
   },
   "outputs": [
    {
     "name": "stdout",
     "output_type": "stream",
     "text": [
      "... quantizing model\n"
     ]
    },
    {
     "data": {
      "text/plain": [
       "{'conv1d_1': {'weights': [array([[[-0.44, -0.19,  0.88, -0.12,  0.12, -0.25,  0.5 ,  0.  ,  0.75,\n",
       "             0.  , -0.5 , -0.62, -0.44,  0.44, -0.38,  0.19, -0.75, -0.5 ,\n",
       "            -0.19, -0.44,  0.25,  0.5 , -0.06,  0.25,  0.44, -0.25, -0.38,\n",
       "            -0.25,  0.38, -0.75,  0.44, -0.06]],\n",
       "   \n",
       "          [[-0.06, -0.44,  0.62, -0.88, -0.5 , -0.19, -0.62,  0.44,  0.38,\n",
       "             0.25, -0.5 , -0.62,  0.31,  0.06, -0.12,  0.  ,  0.88, -0.38,\n",
       "             0.06, -0.25,  0.12,  0.38,  0.12,  0.25,  0.44, -0.25,  0.5 ,\n",
       "            -0.75,  0.25, -0.38,  0.44,  0.19]],\n",
       "   \n",
       "          [[-0.44,  0.44, -0.12, -0.88, -0.88,  0.  ,  0.12,  0.25,  0.62,\n",
       "             0.25,  0.88, -0.88,  0.44,  0.38,  0.12,  0.25, -0.12,  0.  ,\n",
       "            -0.44,  0.19,  0.25, -0.5 , -0.25,  0.38, -0.38,  0.75,  0.25,\n",
       "             0.38,  0.12,  0.62,  0.25, -0.44]],\n",
       "   \n",
       "          [[-0.38,  0.25,  0.38, -0.75,  0.  ,  0.44,  0.75,  0.  , -0.5 ,\n",
       "            -0.12, -0.38,  0.88,  0.38, -0.25, -0.5 ,  0.44, -0.62,  0.  ,\n",
       "             0.19, -0.25, -0.19,  0.38,  0.  ,  0.88, -0.44, -0.62, -0.25,\n",
       "            -0.62,  0.44,  0.12, -0.44, -0.25]],\n",
       "   \n",
       "          [[-0.44,  0.38, -0.25, -0.88, -0.5 ,  0.12,  0.62,  0.12, -0.88,\n",
       "            -0.19,  0.  ,  0.  ,  0.12,  0.44, -0.25, -0.44, -0.25,  0.25,\n",
       "             0.44,  0.38, -0.44,  0.75,  0.44, -0.12,  0.44,  0.25, -0.88,\n",
       "            -0.62,  0.44, -0.5 , -0.12,  0.31]],\n",
       "   \n",
       "          [[ 0.44,  0.  , -0.38,  0.12, -0.75,  0.06, -0.5 ,  0.25,  0.88,\n",
       "            -0.25, -0.62,  0.  , -0.06, -0.31,  0.88, -0.44,  0.12,  0.38,\n",
       "            -0.06,  0.44, -0.44, -0.38, -0.44,  0.88, -0.25,  0.12,  0.12,\n",
       "            -0.75,  0.44, -0.62, -0.19, -0.25]],\n",
       "   \n",
       "          [[-0.44, -0.06, -0.12,  0.5 , -0.62,  0.44, -0.75, -0.38, -0.75,\n",
       "             0.44, -0.12,  0.38,  0.12, -0.44, -0.38,  0.06,  0.25, -0.62,\n",
       "             0.06, -0.19, -0.25, -0.5 ,  0.44,  0.5 ,  0.44,  0.88,  0.25,\n",
       "             0.25, -0.12, -0.38, -0.19, -0.31]],\n",
       "   \n",
       "          [[ 0.44, -0.38,  0.75,  0.  , -0.5 , -0.31,  0.38,  0.44, -0.38,\n",
       "            -0.44,  0.25, -0.5 , -0.19, -0.12,  0.5 ,  0.44,  0.5 ,  0.88,\n",
       "             0.19,  0.06, -0.12, -0.75,  0.06,  0.12,  0.44, -0.38, -0.12,\n",
       "             0.88,  0.44,  0.  ,  0.38,  0.31]]], dtype=float32),\n",
       "   array([ 0.  , -0.12,  0.  ,  0.  ,  0.25,  0.12,  0.  ,  0.  ,  0.12,\n",
       "          -0.12, -0.25,  0.  , -0.12,  0.12,  0.  , -0.12, -0.12, -0.12,\n",
       "          -0.12, -0.12, -0.12,  0.  , -0.12,  0.  ,  0.12, -0.12, -0.25,\n",
       "          -0.12,  0.  ,  0.  ,  0.12, -0.25], dtype=float32)]},\n",
       " 'q_batch_normalization': {'weights': [array([1., 1., 1., 1., 1., 1., 1., 1., 1., 1., 1., 1., 1., 1., 1., 1., 1.,\n",
       "          1., 1., 1., 1., 1., 1., 1., 1., 1., 1., 1., 1., 1., 1., 1.],\n",
       "         dtype=float32),\n",
       "   array([ 0.06,  0.25,  0.03,  0.12,  0.25,  0.06,  0.25,  0.06,  0.25,\n",
       "           0.12,  0.25,  0.25,  0.03,  0.12,  0.12,  0.06,  0.02,  0.12,\n",
       "           0.03,  0.06,  0.25,  0.25,  0.06,  0.25,  0.25, -0.02,  0.25,\n",
       "           0.03, -0.03,  0.25,  0.25,  0.06], dtype=float32),\n",
       "   array([0.25, 0.01, 0.5 , 0.25, 0.5 , 0.25, 0.12, 0.25, 0.25, 0.01, 0.12,\n",
       "          0.25, 0.12, 0.12, 0.06, 0.12, 0.03, 0.06, 0.06, 0.02, 0.12, 0.12,\n",
       "          0.06, 0.5 , 0.25, 0.12, 0.06, 0.25, 0.5 , 0.25, 0.25, 0.06],\n",
       "         dtype=float32),\n",
       "   array([0.25, 0.  , 0.25, 0.25, 0.25, 0.06, 0.06, 0.25, 0.06, 0.  , 0.06,\n",
       "          0.25, 0.06, 0.06, 0.02, 0.06, 0.02, 0.02, 0.02, 0.  , 0.06, 0.06,\n",
       "          0.02, 0.25, 0.06, 0.06, 0.02, 0.25, 0.25, 0.25, 0.06, 0.06],\n",
       "         dtype=float32)]},\n",
       " 'conv1d_2': {'weights': [array([[[-0.12, -0.12,  0.16, ...,  0.03,  0.03,  0.03],\n",
       "           [ 0.  ,  0.22, -0.09, ..., -0.12, -0.12,  0.  ],\n",
       "           [ 0.  ,  0.06,  0.  , ..., -0.09,  0.09,  0.03],\n",
       "           ...,\n",
       "           [ 0.03,  0.  ,  0.  , ..., -0.09, -0.06,  0.12],\n",
       "           [ 0.16,  0.  ,  0.  , ...,  0.03,  0.09, -0.09],\n",
       "           [ 0.09, -0.06, -0.03, ...,  0.19,  0.12,  0.09]],\n",
       "   \n",
       "          [[ 0.09, -0.12, -0.06, ...,  0.  ,  0.06,  0.03],\n",
       "           [-0.22,  0.12, -0.03, ...,  0.03, -0.12,  0.22],\n",
       "           [ 0.03,  0.16, -0.19, ...,  0.16,  0.03,  0.  ],\n",
       "           ...,\n",
       "           [-0.03, -0.12, -0.03, ..., -0.09,  0.03, -0.03],\n",
       "           [ 0.12,  0.16,  0.03, ...,  0.06,  0.06, -0.12],\n",
       "           [-0.09, -0.09, -0.06, ..., -0.06,  0.16, -0.12]],\n",
       "   \n",
       "          [[-0.06,  0.06,  0.06, ..., -0.06,  0.06,  0.09],\n",
       "           [-0.19,  0.03, -0.12, ..., -0.12, -0.12,  0.  ],\n",
       "           [-0.03,  0.09, -0.06, ...,  0.19,  0.03, -0.16],\n",
       "           ...,\n",
       "           [-0.06, -0.03,  0.12, ...,  0.  ,  0.  ,  0.09],\n",
       "           [-0.09,  0.16,  0.09, ..., -0.09,  0.  ,  0.12],\n",
       "           [-0.03, -0.12, -0.03, ...,  0.19,  0.03, -0.09]],\n",
       "   \n",
       "          ...,\n",
       "   \n",
       "          [[ 0.12,  0.  , -0.03, ...,  0.12,  0.03,  0.19],\n",
       "           [-0.06,  0.09, -0.22, ..., -0.06,  0.  ,  0.16],\n",
       "           [-0.19,  0.19,  0.06, ...,  0.03, -0.09,  0.12],\n",
       "           ...,\n",
       "           [ 0.03, -0.09, -0.12, ...,  0.12, -0.22,  0.03],\n",
       "           [-0.03,  0.09, -0.03, ..., -0.06,  0.  ,  0.06],\n",
       "           [ 0.03,  0.16,  0.06, ...,  0.06,  0.16, -0.06]],\n",
       "   \n",
       "          [[-0.03, -0.12,  0.  , ...,  0.09,  0.09, -0.09],\n",
       "           [ 0.09, -0.19, -0.19, ...,  0.03,  0.  , -0.03],\n",
       "           [ 0.06,  0.09,  0.03, ...,  0.  ,  0.03, -0.09],\n",
       "           ...,\n",
       "           [ 0.  , -0.06, -0.03, ..., -0.09, -0.16,  0.03],\n",
       "           [ 0.  , -0.03,  0.12, ...,  0.  , -0.09, -0.19],\n",
       "           [ 0.03,  0.09,  0.06, ...,  0.09,  0.12,  0.  ]],\n",
       "   \n",
       "          [[ 0.03,  0.03, -0.06, ...,  0.06, -0.03, -0.03],\n",
       "           [-0.09,  0.12, -0.19, ...,  0.03, -0.06,  0.09],\n",
       "           [-0.03,  0.  ,  0.  , ...,  0.06, -0.06,  0.  ],\n",
       "           ...,\n",
       "           [-0.09,  0.03, -0.09, ...,  0.09,  0.  ,  0.12],\n",
       "           [-0.03,  0.19, -0.09, ..., -0.12,  0.  ,  0.09],\n",
       "           [ 0.03,  0.09,  0.06, ...,  0.  , -0.09,  0.  ]]], dtype=float32),\n",
       "   array([-0.12, -0.12, -0.25,  0.  , -0.12,  0.12,  0.12,  0.  ,  0.  ,\n",
       "          -0.12,  0.12,  0.12, -0.25, -0.12, -0.25, -0.12], dtype=float32)]},\n",
       " 'q_batch_normalization_1': {'weights': [array([1. , 1. , 1. , 0.5, 1. , 1. , 1. , 1. , 1. , 1. , 1. , 1. , 1. ,\n",
       "          1. , 1. , 1. ], dtype=float32),\n",
       "   array([0.25, 0.5 , 0.12, 0.25, 0.25, 0.25, 0.5 , 0.5 , 0.5 , 0.12, 0.25,\n",
       "          0.5 , 0.25, 0.5 , 0.25, 0.25], dtype=float32),\n",
       "   array([0.25, 0.5 , 0.25, 0.25, 0.25, 0.5 , 0.25, 0.25, 0.5 , 0.25, 0.5 ,\n",
       "          0.25, 0.25, 0.5 , 0.5 , 0.25], dtype=float32),\n",
       "   array([0.25, 0.25, 0.25, 0.25, 0.25, 0.25, 0.25, 0.25, 0.25, 0.25, 0.25,\n",
       "          0.25, 0.25, 0.25, 0.25, 0.25], dtype=float32)]},\n",
       " 'conv1d_3': {'weights': [array([[[-0.16,  0.09,  0.  , ...,  0.  ,  0.  ,  0.19],\n",
       "           [ 0.03, -0.03, -0.19, ..., -0.06,  0.  ,  0.25],\n",
       "           [ 0.06, -0.06,  0.  , ...,  0.12,  0.12,  0.06],\n",
       "           ...,\n",
       "           [ 0.06, -0.03, -0.19, ...,  0.16,  0.12, -0.19],\n",
       "           [ 0.  , -0.16, -0.12, ...,  0.22,  0.38,  0.06],\n",
       "           [-0.22,  0.03,  0.09, ..., -0.16, -0.19,  0.  ]],\n",
       "   \n",
       "          [[ 0.03,  0.06, -0.06, ...,  0.22,  0.06,  0.19],\n",
       "           [-0.09, -0.22,  0.  , ...,  0.22, -0.12,  0.06],\n",
       "           [ 0.  ,  0.09, -0.06, ...,  0.22, -0.19,  0.06],\n",
       "           ...,\n",
       "           [-0.22,  0.  ,  0.09, ...,  0.06, -0.06, -0.12],\n",
       "           [-0.22,  0.12, -0.19, ...,  0.12,  0.06,  0.  ],\n",
       "           [ 0.  ,  0.16, -0.06, ...,  0.  , -0.12, -0.12]],\n",
       "   \n",
       "          [[-0.06, -0.22, -0.12, ...,  0.22,  0.  ,  0.12],\n",
       "           [-0.06,  0.12,  0.  , ...,  0.22,  0.  ,  0.  ],\n",
       "           [-0.12,  0.12,  0.  , ..., -0.16,  0.  ,  0.25],\n",
       "           ...,\n",
       "           [-0.12, -0.09, -0.16, ..., -0.06,  0.12, -0.06],\n",
       "           [ 0.  , -0.06,  0.12, ...,  0.03,  0.12, -0.12],\n",
       "           [ 0.03, -0.09,  0.03, ..., -0.12,  0.06,  0.06]],\n",
       "   \n",
       "          ...,\n",
       "   \n",
       "          [[ 0.06,  0.09,  0.  , ...,  0.22, -0.19,  0.06],\n",
       "           [ 0.12, -0.22,  0.  , ...,  0.22,  0.12,  0.  ],\n",
       "           [ 0.16,  0.06,  0.12, ...,  0.03,  0.  ,  0.  ],\n",
       "           ...,\n",
       "           [ 0.03,  0.16,  0.09, ...,  0.09, -0.06,  0.  ],\n",
       "           [-0.06, -0.03,  0.06, ..., -0.09,  0.  , -0.06],\n",
       "           [ 0.  ,  0.09,  0.16, ..., -0.09,  0.  ,  0.06]],\n",
       "   \n",
       "          [[ 0.  ,  0.12,  0.03, ..., -0.06,  0.  , -0.12],\n",
       "           [-0.09, -0.09,  0.09, ..., -0.06, -0.06, -0.12],\n",
       "           [ 0.03,  0.09, -0.03, ..., -0.03, -0.25,  0.06],\n",
       "           ...,\n",
       "           [ 0.12,  0.06,  0.03, ...,  0.03, -0.19, -0.06],\n",
       "           [ 0.03,  0.03,  0.09, ..., -0.03, -0.06,  0.06],\n",
       "           [ 0.12, -0.03,  0.03, ..., -0.12, -0.12,  0.19]],\n",
       "   \n",
       "          [[ 0.12, -0.09,  0.19, ..., -0.12, -0.12,  0.12],\n",
       "           [-0.22, -0.16,  0.16, ..., -0.06, -0.12, -0.25],\n",
       "           [ 0.22,  0.22,  0.03, ..., -0.03,  0.  , -0.31],\n",
       "           ...,\n",
       "           [ 0.12, -0.09,  0.03, ..., -0.09, -0.19,  0.31],\n",
       "           [ 0.09,  0.19,  0.03, ..., -0.06, -0.25, -0.06],\n",
       "           [ 0.  ,  0.12,  0.19, ..., -0.09, -0.06,  0.  ]]], dtype=float32),\n",
       "   array([-0.12, -0.12,  0.  , -0.12, -0.12, -0.12,  0.  ,  0.12],\n",
       "         dtype=float32)]},\n",
       " 'q_batch_normalization_2': {'weights': [array([1., 1., 1., 1., 1., 1., 1., 1.], dtype=float32),\n",
       "   array([0.25, 0.5 , 0.25, 0.25, 0.25, 0.5 , 0.5 , 0.5 ], dtype=float32),\n",
       "   array([0.25, 0.25, 0.5 , 0.12, 0.25, 0.25, 0.25, 0.5 ], dtype=float32),\n",
       "   array([0.25, 0.25, 0.25, 0.06, 0.25, 0.25, 0.25, 0.25], dtype=float32)]},\n",
       " 'dense': {'weights': [array([[ 0.06,  0.06,  0.  ,  0.06,  0.06, -0.25],\n",
       "          [-0.19, -0.06, -0.12,  0.25,  0.06, -0.31],\n",
       "          [ 0.06,  0.12, -0.12, -0.19, -0.06,  0.06],\n",
       "          ...,\n",
       "          [ 0.12, -0.19, -0.06,  0.  ,  0.  ,  0.06],\n",
       "          [-0.06,  0.06,  0.  ,  0.  ,  0.12, -0.12],\n",
       "          [-0.06,  0.12,  0.06,  0.12, -0.06, -0.06]], dtype=float32),\n",
       "   array([ 0.  ,  0.  ,  0.  ,  0.  ,  0.12, -0.25], dtype=float32)]}}"
      ]
     },
     "execution_count": 33,
     "metadata": {},
     "output_type": "execute_result"
    }
   ],
   "source": [
    "from qkeras.utils import *\n",
    "model_save_quantized_weights(qmodel, 'qmodel.h5')\n",
    "#load_qmodel('qmodel.h5', custom_objects=None, compile=True)"
   ]
  },
  {
   "cell_type": "code",
   "execution_count": 34,
   "metadata": {
    "execution": {
     "iopub.execute_input": "2021-10-20T19:59:47.555445Z",
     "iopub.status.busy": "2021-10-20T19:59:47.555445Z",
     "iopub.status.idle": "2021-10-20T19:59:47.570453Z",
     "shell.execute_reply": "2021-10-20T19:59:47.568451Z",
     "shell.execute_reply.started": "2021-10-20T19:59:47.555445Z"
    },
    "tags": []
   },
   "outputs": [
    {
     "name": "stdout",
     "output_type": "stream",
     "text": [
      "Model Sparsity Summary (model)\n",
      "--\n",
      "conv1d_1: (conv1d_1/kernel:0, 0.05859375)\n",
      "conv1d_2: (conv1d_2/kernel:0, 0.1298828125)\n",
      "conv1d_3: (conv1d_3/kernel:0, 0.1455078125)\n",
      "dense: (dense/kernel:0, 0.18872549019607843)\n",
      "\n",
      "\n"
     ]
    }
   ],
   "source": [
    "print_model_sparsity(qmodel)"
   ]
  },
  {
   "cell_type": "code",
   "execution_count": 35,
   "metadata": {
    "execution": {
     "iopub.execute_input": "2021-10-20T19:59:47.572449Z",
     "iopub.status.busy": "2021-10-20T19:59:47.572449Z",
     "iopub.status.idle": "2021-10-20T20:00:02.185741Z",
     "shell.execute_reply": "2021-10-20T20:00:02.185741Z",
     "shell.execute_reply.started": "2021-10-20T19:59:47.572449Z"
    },
    "tags": []
   },
   "outputs": [
    {
     "name": "stdout",
     "output_type": "stream",
     "text": [
      "input                          -11.5861  14.6682\n",
      "conv1d_1                       -52.5910  45.5613"
     ]
    },
    {
     "name": "stderr",
     "output_type": "stream",
     "text": [
      "C:\\Users\\mmorsy\\AppData\\Roaming\\Python\\Python38\\site-packages\\qkeras-0.9.0-py3.8.egg\\qkeras\\utils.py:994: UserWarning: Matplotlib is currently using agg, which is a non-GUI backend, so cannot show the figure.\n",
      "C:\\Users\\mmorsy\\AppData\\Roaming\\Python\\Python38\\site-packages\\qkeras-0.9.0-py3.8.egg\\qkeras\\utils.py:1019: UserWarning: Matplotlib is currently using agg, which is a non-GUI backend, so cannot show the figure.\n"
     ]
    },
    {
     "name": "stdout",
     "output_type": "stream",
     "text": [
      " ( -0.8750   0.8750) ( -0.2500   0.2500) a(  0.500000   1.000000)\n",
      "act_1                            0.0000   0.9375\n",
      "q_batch_normalization           -1.0293  13.5228 (  1.0000   1.0000) ( -0.0312   0.2500) (  0.0078   0.5000) (  0.0039   0.2500)\n",
      "conv1d_2                       -37.8081  32.8523 ( -0.8750   0.8750) ( -0.2500   0.1250) a(  0.250000   0.250000)\n",
      "act_2                            0.0000   0.9375\n",
      "q_batch_normalization_1         -0.7480   1.8723 (  0.5000   1.0000) (  0.1250   0.5000) (  0.2500   0.5000) (  0.2500   0.2500)\n",
      "conv1d_3                        -7.0535   6.9412 ( -0.8750   0.8750) ( -0.1250   0.1250) a(  0.250000   0.500000)\n",
      "act_3                            0.0000   0.9375\n",
      "q_batch_normalization_2         -0.7480   3.4743 (  1.0000   1.0000) (  0.2500   0.5000) (  0.1250   0.5000) (  0.0625   0.2500)\n",
      "dense                          -18.4748  13.3478 ( -0.8750   0.8750) ( -0.2500   0.1250) a(  0.500000   0.500000)\n"
     ]
    },
    {
     "data": {
      "image/png": "[encoded data removed]",
      "text/plain": [
       "<Figure size 432x288 with 1 Axes>"
      ]
     },
     "metadata": {
      "image/png": {
       "height": 263,
       "width": 362
      },
      "needs_background": "light"
     },
     "output_type": "display_data"
    }
   ],
   "source": [
    "quantized_model_debug(qmodel, X_tst_tf, plot=True)"
   ]
  },
  {
   "cell_type": "code",
   "execution_count": 36,
   "metadata": {
    "execution": {
     "iopub.execute_input": "2021-10-20T20:00:02.185741Z",
     "iopub.status.busy": "2021-10-20T20:00:02.185741Z",
     "iopub.status.idle": "2021-10-20T20:00:03.218351Z",
     "shell.execute_reply": "2021-10-20T20:00:03.218351Z",
     "shell.execute_reply.started": "2021-10-20T20:00:02.185741Z"
    }
   },
   "outputs": [
    {
     "data": {
      "text/plain": [
       "{'conv1d_1': {'type': ('mult', (0, 0), (4, 8), (1, 0)),\n",
       "  'number_of_operations': 79872,\n",
       "  'number_of_weights': 256,\n",
       "  'number_of_bias': 32,\n",
       "  'type_of_weights': (0, 4, 1),\n",
       "  'type_of_bias': (0, 4, 1)},\n",
       " 'conv1d_2': {'type': ('mult', (0, 0), (4, 4), (1, 0)),\n",
       "  'number_of_operations': 610304,\n",
       "  'number_of_weights': 4096,\n",
       "  'number_of_bias': 16,\n",
       "  'type_of_weights': (0, 4, 1),\n",
       "  'type_of_bias': (0, 4, 1)},\n",
       " 'conv1d_3': {'type': ('mult', (0, 0), (4, 4), (1, 0)),\n",
       "  'number_of_operations': 69632,\n",
       "  'number_of_weights': 1024,\n",
       "  'number_of_bias': 8,\n",
       "  'type_of_weights': (0, 4, 1),\n",
       "  'type_of_bias': (0, 4, 1)},\n",
       " 'dense': {'type': ('mult', (0, 0), (4, 4), (1, 0)),\n",
       "  'number_of_operations': 1632,\n",
       "  'number_of_weights': 1632,\n",
       "  'number_of_bias': 6,\n",
       "  'type_of_weights': (0, 4, 1),\n",
       "  'type_of_bias': (0, 4, 1)}}"
      ]
     },
     "execution_count": 36,
     "metadata": {},
     "output_type": "execute_result"
    }
   ],
   "source": [
    "extract_model_operations(qmodel)"
   ]
  },
  {
   "cell_type": "code",
   "execution_count": 50,
   "metadata": {
    "execution": {
     "iopub.execute_input": "2021-10-20T21:16:13.513985Z",
     "iopub.status.busy": "2021-10-20T21:16:13.511011Z",
     "iopub.status.idle": "2021-10-20T21:16:14.472808Z",
     "shell.execute_reply": "2021-10-20T21:16:14.471802Z",
     "shell.execute_reply.started": "2021-10-20T21:16:13.513985Z"
    },
    "tags": []
   },
   "outputs": [
    {
     "name": "stdout",
     "output_type": "stream",
     "text": [
      "Saved baseline model to: C:\\Users\\mmorsy\\AppData\\Local\\Temp\\tmp3axb35uw.h5\n"
     ]
    }
   ],
   "source": [
    "_, keras_file = tempfile.mkstemp('.h5')\n",
    "tf.keras.models.save_model(qmodel, keras_file, include_optimizer=False)\n",
    "print('Saved baseline model to:', keras_file)"
   ]
  },
  {
   "cell_type": "code",
   "execution_count": 51,
   "metadata": {
    "execution": {
     "iopub.execute_input": "2021-10-20T21:16:17.374658Z",
     "iopub.status.busy": "2021-10-20T21:16:17.374658Z",
     "iopub.status.idle": "2021-10-20T21:16:17.382626Z",
     "shell.execute_reply": "2021-10-20T21:16:17.381658Z",
     "shell.execute_reply.started": "2021-10-20T21:16:17.374658Z"
    },
    "tags": []
   },
   "outputs": [],
   "source": [
    "from tensorflow_model_optimization.python.core.sparsity.keras import prune\n",
    "from tensorflow_model_optimization.python.core.sparsity.keras import pruning_callbacks\n",
    "from tensorflow_model_optimization.python.core.sparsity.keras import pruning_schedule"
   ]
  },
  {
   "cell_type": "code",
   "execution_count": 52,
   "metadata": {
    "execution": {
     "iopub.execute_input": "2021-10-20T21:16:18.058592Z",
     "iopub.status.busy": "2021-10-20T21:16:18.057555Z",
     "iopub.status.idle": "2021-10-20T21:16:19.257874Z",
     "shell.execute_reply": "2021-10-20T21:16:19.256902Z",
     "shell.execute_reply.started": "2021-10-20T21:16:18.057555Z"
    },
    "tags": []
   },
   "outputs": [
    {
     "name": "stderr",
     "output_type": "stream",
     "text": [
      "C:\\Users\\mmorsy\\AppData\\Roaming\\Python\\Python38\\site-packages\\tensorflow\\python\\keras\\engine\\base_layer.py:2281: UserWarning: `layer.add_variable` is deprecated and will be removed in a future version. Please use `layer.add_weight` method instead.\n",
      "  warnings.warn('`layer.add_variable` is deprecated and '\n"
     ]
    },
    {
     "name": "stdout",
     "output_type": "stream",
     "text": [
      "Model: \"model\"\n",
      "_________________________________________________________________\n",
      "Layer (type)                 Output Shape              Param #   \n",
      "=================================================================\n",
      "input_1 (InputLayer)         [(None, 319, 1)]          0         \n",
      "_________________________________________________________________\n",
      "prune_low_magnitude_conv1d_1 (None, 312, 32)           546       \n",
      "_________________________________________________________________\n",
      "prune_low_magnitude_act_1 (P (None, 312, 32)           1         \n",
      "_________________________________________________________________\n",
      "prune_low_magnitude_q_batch_ (None, 312, 32)           129       \n",
      "_________________________________________________________________\n",
      "prune_low_magnitude_dropout_ (None, 312, 32)           1         \n",
      "_________________________________________________________________\n",
      "prune_low_magnitude_max_pool (None, 156, 32)           1         \n",
      "_________________________________________________________________\n",
      "prune_low_magnitude_conv1d_2 (None, 149, 16)           8210      \n",
      "_________________________________________________________________\n",
      "prune_low_magnitude_act_2 (P (None, 149, 16)           1         \n",
      "_________________________________________________________________\n",
      "prune_low_magnitude_q_batch_ (None, 149, 16)           65        \n",
      "_________________________________________________________________\n",
      "prune_low_magnitude_dropout_ (None, 149, 16)           1         \n",
      "_________________________________________________________________\n",
      "prune_low_magnitude_max_pool (None, 75, 16)            1         \n",
      "_________________________________________________________________\n",
      "prune_low_magnitude_conv1d_3 (None, 68, 8)             2058      \n",
      "_________________________________________________________________\n",
      "prune_low_magnitude_act_3 (P (None, 68, 8)             1         \n",
      "_________________________________________________________________\n",
      "prune_low_magnitude_q_batch_ (None, 68, 8)             33        \n",
      "_________________________________________________________________\n",
      "prune_low_magnitude_dropout_ (None, 68, 8)             1         \n",
      "_________________________________________________________________\n",
      "prune_low_magnitude_max_pool (None, 34, 8)             1         \n",
      "_________________________________________________________________\n",
      "prune_low_magnitude_flatten  (None, 272)               1         \n",
      "_________________________________________________________________\n",
      "prune_low_magnitude_dense (P (None, 6)                 3272      \n",
      "_________________________________________________________________\n",
      "prune_low_magnitude_softmax  (None, 6)                 1         \n",
      "=================================================================\n",
      "Total params: 14,324\n",
      "Trainable params: 7,182\n",
      "Non-trainable params: 7,142\n",
      "_________________________________________________________________\n"
     ]
    }
   ],
   "source": [
    "import tensorflow_model_optimization as tfmot\n",
    "\n",
    "prune_low_magnitude = tfmot.sparsity.keras.prune_low_magnitude\n",
    "\n",
    "# Compute end step to finish pruning after 2 epochs.\n",
    "batch_size = 500\n",
    "epochs = 50\n",
    "validation_split = 0.2 # 20% of training set will be used for validation set. \n",
    "\n",
    "num_examples = X_trn_tf.shape[0] * (1 - validation_split)\n",
    "end_step = np.ceil(num_examples / batch_size).astype(np.int32) * epochs\n",
    "\n",
    "# Define model for pruning.\n",
    "pruning_params = {\n",
    "      'pruning_schedule': tfmot.sparsity.keras.PolynomialDecay(initial_sparsity=0.50,\n",
    "                                                               final_sparsity=0.80,\n",
    "                                                               begin_step=0,\n",
    "                                                               end_step=end_step)\n",
    "}\n",
    "\n",
    "model_for_pruning = prune_low_magnitude(qmodel, **pruning_params)\n",
    "\n",
    "opt = RMSprop(learning_rate=0.001)\n",
    "\n",
    "# `prune_low_magnitude` requires a recompile.\n",
    "model_for_pruning.compile(optimizer=opt,\n",
    "              loss='categorical_crossentropy',\n",
    "              metrics=['accuracy'])\n",
    "\n",
    "model_for_pruning.summary()"
   ]
  },
  {
   "cell_type": "code",
   "execution_count": 59,
   "metadata": {
    "execution": {
     "iopub.execute_input": "2021-10-20T21:30:55.293413Z",
     "iopub.status.busy": "2021-10-20T21:30:55.293413Z",
     "iopub.status.idle": "2021-10-20T21:35:07.415728Z",
     "shell.execute_reply": "2021-10-20T21:35:07.414778Z",
     "shell.execute_reply.started": "2021-10-20T21:30:55.293413Z"
    },
    "tags": []
   },
   "outputs": [
    {
     "name": "stdout",
     "output_type": "stream",
     "text": [
      "Epoch 1/50\n",
      " 6/54 [==>...........................] - ETA: 19s - loss: 0.0788 - accuracy: 0.9773WARNING:tensorflow:Callback method `on_train_batch_end` is slow compared to the batch time (batch time: 0.0516s vs `on_train_batch_end` time: 0.2988s). Check your callbacks.\n"
     ]
    },
    {
     "name": "stderr",
     "output_type": "stream",
     "text": [
      "WARNING:tensorflow:Callback method `on_train_batch_end` is slow compared to the batch time (batch time: 0.0516s vs `on_train_batch_end` time: 0.2988s). Check your callbacks.\n"
     ]
    },
    {
     "name": "stdout",
     "output_type": "stream",
     "text": [
      "54/54 [==============================] - 7s 122ms/step - loss: 0.0861 - accuracy: 0.9732 - val_loss: 0.1146 - val_accuracy: 0.9619\n",
      "Epoch 2/50\n",
      "54/54 [==============================] - 5s 91ms/step - loss: 0.0893 - accuracy: 0.9713 - val_loss: 0.1265 - val_accuracy: 0.9622\n",
      "Epoch 3/50\n",
      "54/54 [==============================] - 5s 90ms/step - loss: 0.0943 - accuracy: 0.9712 - val_loss: 0.0734 - val_accuracy: 0.9783\n",
      "Epoch 4/50\n",
      "54/54 [==============================] - 5s 92ms/step - loss: 0.0863 - accuracy: 0.9735 - val_loss: 0.0814 - val_accuracy: 0.9747\n",
      "Epoch 5/50\n",
      "54/54 [==============================] - 5s 92ms/step - loss: 0.0909 - accuracy: 0.9720 - val_loss: 0.1073 - val_accuracy: 0.9674\n",
      "Epoch 6/50\n",
      "54/54 [==============================] - 5s 89ms/step - loss: 0.0921 - accuracy: 0.9717 - val_loss: 0.2339 - val_accuracy: 0.9227\n",
      "Epoch 7/50\n",
      "54/54 [==============================] - 5s 93ms/step - loss: 0.0987 - accuracy: 0.9695 - val_loss: 0.1254 - val_accuracy: 0.9566\n",
      "Epoch 8/50\n",
      "54/54 [==============================] - 5s 91ms/step - loss: 0.0995 - accuracy: 0.9694 - val_loss: 0.1001 - val_accuracy: 0.9703\n",
      "Epoch 9/50\n",
      "54/54 [==============================] - 5s 90ms/step - loss: 0.0963 - accuracy: 0.9703 - val_loss: 0.1949 - val_accuracy: 0.9380\n",
      "Epoch 10/50\n",
      "54/54 [==============================] - 5s 92ms/step - loss: 0.0924 - accuracy: 0.9703 - val_loss: 0.1565 - val_accuracy: 0.9484\n",
      "Epoch 11/50\n",
      "54/54 [==============================] - 5s 90ms/step - loss: 0.0885 - accuracy: 0.9723 - val_loss: 0.0724 - val_accuracy: 0.9784\n",
      "Epoch 12/50\n",
      "54/54 [==============================] - 5s 92ms/step - loss: 0.0909 - accuracy: 0.9714 - val_loss: 0.0852 - val_accuracy: 0.9749\n",
      "Epoch 13/50\n",
      "54/54 [==============================] - 5s 94ms/step - loss: 0.0950 - accuracy: 0.9711 - val_loss: 0.0876 - val_accuracy: 0.9744\n",
      "Epoch 14/50\n",
      "54/54 [==============================] - 5s 92ms/step - loss: 0.0854 - accuracy: 0.9735 - val_loss: 0.1334 - val_accuracy: 0.9557\n",
      "Epoch 15/50\n",
      "54/54 [==============================] - 5s 91ms/step - loss: 0.0906 - accuracy: 0.9716 - val_loss: 0.1106 - val_accuracy: 0.9615\n",
      "Epoch 16/50\n",
      "54/54 [==============================] - 5s 96ms/step - loss: 0.0906 - accuracy: 0.9724 - val_loss: 0.1253 - val_accuracy: 0.9624\n",
      "Epoch 17/50\n",
      "54/54 [==============================] - 5s 92ms/step - loss: 0.0919 - accuracy: 0.9708 - val_loss: 0.0878 - val_accuracy: 0.9722\n",
      "Epoch 18/50\n",
      "54/54 [==============================] - 5s 93ms/step - loss: 0.0832 - accuracy: 0.9731 - val_loss: 0.0887 - val_accuracy: 0.9731\n",
      "Epoch 19/50\n",
      "54/54 [==============================] - 5s 91ms/step - loss: 0.0854 - accuracy: 0.9733 - val_loss: 0.1302 - val_accuracy: 0.9624\n",
      "Epoch 20/50\n",
      "54/54 [==============================] - 5s 90ms/step - loss: 0.0864 - accuracy: 0.9726 - val_loss: 0.0783 - val_accuracy: 0.9781\n",
      "Epoch 21/50\n",
      "54/54 [==============================] - 5s 89ms/step - loss: 0.0809 - accuracy: 0.9749 - val_loss: 0.1007 - val_accuracy: 0.9682\n",
      "Epoch 22/50\n",
      "54/54 [==============================] - 5s 92ms/step - loss: 0.0822 - accuracy: 0.9737 - val_loss: 0.1166 - val_accuracy: 0.9609\n",
      "Epoch 23/50\n",
      "54/54 [==============================] - 5s 91ms/step - loss: 0.0849 - accuracy: 0.9737 - val_loss: 0.0902 - val_accuracy: 0.9767\n",
      "Epoch 24/50\n",
      "54/54 [==============================] - 5s 91ms/step - loss: 0.0903 - accuracy: 0.9717 - val_loss: 0.0664 - val_accuracy: 0.9786\n",
      "Epoch 25/50\n",
      "54/54 [==============================] - 5s 95ms/step - loss: 0.0909 - accuracy: 0.9714 - val_loss: 0.0913 - val_accuracy: 0.9716\n",
      "Epoch 26/50\n",
      "54/54 [==============================] - 5s 93ms/step - loss: 0.0908 - accuracy: 0.9717 - val_loss: 0.1025 - val_accuracy: 0.9679\n",
      "Epoch 27/50\n",
      "54/54 [==============================] - 5s 92ms/step - loss: 0.0852 - accuracy: 0.9727 - val_loss: 0.1003 - val_accuracy: 0.9679\n",
      "Epoch 28/50\n",
      "54/54 [==============================] - 5s 94ms/step - loss: 0.0909 - accuracy: 0.9717 - val_loss: 0.1196 - val_accuracy: 0.9645\n",
      "Epoch 29/50\n",
      "54/54 [==============================] - 5s 91ms/step - loss: 0.0992 - accuracy: 0.9687 - val_loss: 0.0951 - val_accuracy: 0.9700\n",
      "Epoch 30/50\n",
      "54/54 [==============================] - 5s 90ms/step - loss: 0.0849 - accuracy: 0.9733 - val_loss: 0.1177 - val_accuracy: 0.9634\n",
      "Epoch 31/50\n",
      "54/54 [==============================] - 5s 92ms/step - loss: 0.0901 - accuracy: 0.9705 - val_loss: 0.0742 - val_accuracy: 0.9777\n",
      "Epoch 32/50\n",
      "54/54 [==============================] - 5s 94ms/step - loss: 0.0978 - accuracy: 0.9702 - val_loss: 0.0906 - val_accuracy: 0.9726\n",
      "Epoch 33/50\n",
      "54/54 [==============================] - 5s 92ms/step - loss: 0.0882 - accuracy: 0.9717 - val_loss: 0.1137 - val_accuracy: 0.9642\n",
      "Epoch 34/50\n",
      "54/54 [==============================] - 5s 90ms/step - loss: 0.0861 - accuracy: 0.9726 - val_loss: 0.0664 - val_accuracy: 0.9801\n",
      "Epoch 35/50\n",
      "54/54 [==============================] - 5s 94ms/step - loss: 0.0969 - accuracy: 0.9701 - val_loss: 0.1102 - val_accuracy: 0.9618\n",
      "Epoch 36/50\n",
      "54/54 [==============================] - 5s 91ms/step - loss: 0.0850 - accuracy: 0.9731 - val_loss: 0.0869 - val_accuracy: 0.9734\n",
      "Epoch 37/50\n",
      "54/54 [==============================] - 5s 92ms/step - loss: 0.0849 - accuracy: 0.9733 - val_loss: 0.0624 - val_accuracy: 0.9825\n",
      "Epoch 38/50\n",
      "54/54 [==============================] - 5s 95ms/step - loss: 0.0918 - accuracy: 0.9714 - val_loss: 0.1659 - val_accuracy: 0.9404\n",
      "Epoch 39/50\n",
      "54/54 [==============================] - 5s 93ms/step - loss: 0.0854 - accuracy: 0.9725 - val_loss: 0.0830 - val_accuracy: 0.9744\n",
      "Epoch 40/50\n",
      "54/54 [==============================] - 5s 93ms/step - loss: 0.0864 - accuracy: 0.9730 - val_loss: 0.1150 - val_accuracy: 0.9649\n",
      "Epoch 41/50\n",
      "54/54 [==============================] - 5s 94ms/step - loss: 0.0867 - accuracy: 0.9727 - val_loss: 0.0762 - val_accuracy: 0.9772\n",
      "Epoch 42/50\n",
      "54/54 [==============================] - 5s 92ms/step - loss: 0.0801 - accuracy: 0.9748 - val_loss: 0.1032 - val_accuracy: 0.9682\n",
      "Epoch 43/50\n",
      "54/54 [==============================] - 5s 93ms/step - loss: 0.0877 - accuracy: 0.9734 - val_loss: 0.0853 - val_accuracy: 0.9744\n",
      "Epoch 44/50\n",
      "54/54 [==============================] - 5s 94ms/step - loss: 0.0869 - accuracy: 0.9734 - val_loss: 0.0946 - val_accuracy: 0.9688\n",
      "Epoch 45/50\n",
      "54/54 [==============================] - 5s 94ms/step - loss: 0.0907 - accuracy: 0.9714 - val_loss: 0.1805 - val_accuracy: 0.9399\n",
      "Epoch 46/50\n",
      "54/54 [==============================] - 5s 95ms/step - loss: 0.0817 - accuracy: 0.9740 - val_loss: 0.0805 - val_accuracy: 0.9765\n",
      "Epoch 47/50\n",
      "54/54 [==============================] - 5s 94ms/step - loss: 0.0784 - accuracy: 0.9763 - val_loss: 0.1135 - val_accuracy: 0.9618\n",
      "Epoch 48/50\n",
      "54/54 [==============================] - 5s 97ms/step - loss: 0.0834 - accuracy: 0.9742 - val_loss: 0.0799 - val_accuracy: 0.9750\n",
      "Epoch 49/50\n",
      "54/54 [==============================] - 5s 96ms/step - loss: 0.0874 - accuracy: 0.9727 - val_loss: 0.0664 - val_accuracy: 0.9805\n",
      "Epoch 50/50\n",
      "54/54 [==============================] - 5s 96ms/step - loss: 0.0850 - accuracy: 0.9737 - val_loss: 0.0901 - val_accuracy: 0.9725\n"
     ]
    }
   ],
   "source": [
    "import tempfile\n",
    "\n",
    "with TemporaryDirectory() as temp_dir:\n",
    "\n",
    "    callbacks = [\n",
    "      tfmot.sparsity.keras.UpdatePruningStep(),\n",
    "      tfmot.sparsity.keras.PruningSummaries(log_dir=temp_dir),\n",
    "    ]\n",
    "\n",
    "    model_for_pruning.fit(X_trn_tf, y_trn_oh,\n",
    "                      batch_size=batch_size, epochs=epochs, validation_split=validation_split,\n",
    "                      callbacks=callbacks)"
   ]
  },
  {
   "cell_type": "code",
   "execution_count": 60,
   "metadata": {
    "execution": {
     "iopub.execute_input": "2021-10-20T21:36:48.044738Z",
     "iopub.status.busy": "2021-10-20T21:36:48.044738Z",
     "iopub.status.idle": "2021-10-20T21:36:52.302083Z",
     "shell.execute_reply": "2021-10-20T21:36:52.301792Z",
     "shell.execute_reply.started": "2021-10-20T21:36:48.044738Z"
    },
    "tags": []
   },
   "outputs": [
    {
     "name": "stdout",
     "output_type": "stream",
     "text": [
      "Pruned test accuracy: 0.9666825532913208\n"
     ]
    }
   ],
   "source": [
    "_, model_for_pruning_accuracy = model_for_pruning.evaluate(X_tst_tf, y_tst_oh, verbose=0)\n",
    "print('Pruned test accuracy:', model_for_pruning_accuracy)"
   ]
  },
  {
   "cell_type": "code",
   "execution_count": 61,
   "metadata": {
    "execution": {
     "iopub.execute_input": "2021-10-20T21:36:55.053041Z",
     "iopub.status.busy": "2021-10-20T21:36:55.053041Z",
     "iopub.status.idle": "2021-10-20T21:36:55.057146Z",
     "shell.execute_reply": "2021-10-20T21:36:55.056040Z",
     "shell.execute_reply.started": "2021-10-20T21:36:55.053041Z"
    },
    "tags": []
   },
   "outputs": [],
   "source": [
    "#!load_ext tensorboard \n",
    "#!tensorboard --logdir=logdir"
   ]
  },
  {
   "cell_type": "code",
   "execution_count": 62,
   "metadata": {
    "execution": {
     "iopub.execute_input": "2021-10-20T21:36:57.110958Z",
     "iopub.status.busy": "2021-10-20T21:36:57.110958Z",
     "iopub.status.idle": "2021-10-20T21:36:58.007228Z",
     "shell.execute_reply": "2021-10-20T21:36:58.006260Z",
     "shell.execute_reply.started": "2021-10-20T21:36:57.110958Z"
    },
    "tags": []
   },
   "outputs": [
    {
     "name": "stdout",
     "output_type": "stream",
     "text": [
      "Saved pruned Keras model to: C:\\Users\\mmorsy\\AppData\\Local\\Temp\\tmp3i3s8b7p.h5\n"
     ]
    }
   ],
   "source": [
    "model_for_export = tfmot.sparsity.keras.strip_pruning(model_for_pruning)\n",
    "\n",
    "_, pruned_keras_file = tempfile.mkstemp('.h5')\n",
    "tf.keras.models.save_model(model_for_export, pruned_keras_file, include_optimizer=False)\n",
    "print('Saved pruned Keras model to:', pruned_keras_file)"
   ]
  },
  {
   "cell_type": "code",
   "execution_count": 63,
   "metadata": {
    "execution": {
     "iopub.execute_input": "2021-10-20T21:37:00.180728Z",
     "iopub.status.busy": "2021-10-20T21:37:00.179677Z",
     "iopub.status.idle": "2021-10-20T21:37:32.509653Z",
     "shell.execute_reply": "2021-10-20T21:37:32.509653Z",
     "shell.execute_reply.started": "2021-10-20T21:37:00.180728Z"
    },
    "tags": []
   },
   "outputs": [
    {
     "name": "stdout",
     "output_type": "stream",
     "text": [
      "INFO:tensorflow:Assets written to: C:\\Users\\mmorsy\\AppData\\Local\\Temp\\tmp9xitf2oi\\assets\n"
     ]
    },
    {
     "name": "stderr",
     "output_type": "stream",
     "text": [
      "INFO:tensorflow:Assets written to: C:\\Users\\mmorsy\\AppData\\Local\\Temp\\tmp9xitf2oi\\assets\n"
     ]
    }
   ],
   "source": [
    "converter = tf.lite.TFLiteConverter.from_keras_model(model_for_export)\n",
    "pq_tflite_model = converter.convert()"
   ]
  },
  {
   "cell_type": "code",
   "execution_count": 64,
   "metadata": {
    "execution": {
     "iopub.execute_input": "2021-10-20T21:37:32.509653Z",
     "iopub.status.busy": "2021-10-20T21:37:32.509653Z",
     "iopub.status.idle": "2021-10-20T21:37:32.525803Z",
     "shell.execute_reply": "2021-10-20T21:37:32.524838Z",
     "shell.execute_reply.started": "2021-10-20T21:37:32.509653Z"
    },
    "tags": []
   },
   "outputs": [],
   "source": [
    "# Save the tflite model to file to the Downloads directory\n",
    "f = open('pq_model.tflite', \"wb\")\n",
    "f.write(pq_tflite_model)\n",
    "f.close()"
   ]
  },
  {
   "cell_type": "code",
   "execution_count": 65,
   "metadata": {
    "execution": {
     "iopub.execute_input": "2021-10-20T21:37:50.952611Z",
     "iopub.status.busy": "2021-10-20T21:37:50.952611Z",
     "iopub.status.idle": "2021-10-20T21:37:50.969609Z",
     "shell.execute_reply": "2021-10-20T21:37:50.968650Z",
     "shell.execute_reply.started": "2021-10-20T21:37:50.952611Z"
    },
    "tags": []
   },
   "outputs": [],
   "source": [
    "def get_gzipped_model_size(file):\n",
    "  # Returns size of gzipped model, in bytes.\n",
    "  import os\n",
    "  import zipfile\n",
    "\n",
    "  _, zipped_file = tempfile.mkstemp('.zip')\n",
    "  with zipfile.ZipFile(zipped_file, 'w', compression=zipfile.ZIP_DEFLATED) as f:\n",
    "    f.write(file)\n",
    "\n",
    "  return os.path.getsize(zipped_file)"
   ]
  },
  {
   "cell_type": "code",
   "execution_count": 66,
   "metadata": {
    "execution": {
     "iopub.execute_input": "2021-10-20T21:38:06.009113Z",
     "iopub.status.busy": "2021-10-20T21:38:06.009113Z",
     "iopub.status.idle": "2021-10-20T21:38:06.063079Z",
     "shell.execute_reply": "2021-10-20T21:38:06.062114Z",
     "shell.execute_reply.started": "2021-10-20T21:38:06.009113Z"
    },
    "tags": []
   },
   "outputs": [
    {
     "name": "stdout",
     "output_type": "stream",
     "text": [
      "Size of gzipped baseline Keras model: 13659.00 bytes\n",
      "Size of gzipped pruned Keras model: 13846.00 bytes\n",
      "Size of gzipped pruned TFlite model: 7784.00 bytes\n"
     ]
    }
   ],
   "source": [
    "print(\"Size of gzipped baseline Keras model: %.2f bytes\" % (get_gzipped_model_size(keras_file)))\n",
    "print(\"Size of gzipped pruned Keras model: %.2f bytes\" % (get_gzipped_model_size(pruned_keras_file)))\n",
    "print(\"Size of gzipped pruned TFlite model: %.2f bytes\" % (get_gzipped_model_size(pruned_tflite_file)))"
   ]
  },
  {
   "cell_type": "code",
   "execution_count": 67,
   "metadata": {
    "execution": {
     "iopub.execute_input": "2021-10-20T21:38:07.347506Z",
     "iopub.status.busy": "2021-10-20T21:38:07.347506Z",
     "iopub.status.idle": "2021-10-20T21:38:39.867358Z",
     "shell.execute_reply": "2021-10-20T21:38:39.866390Z",
     "shell.execute_reply.started": "2021-10-20T21:38:07.347506Z"
    },
    "tags": []
   },
   "outputs": [
    {
     "name": "stdout",
     "output_type": "stream",
     "text": [
      "INFO:tensorflow:Assets written to: C:\\Users\\mmorsy\\AppData\\Local\\Temp\\tmpp363sahv\\assets\n"
     ]
    },
    {
     "name": "stderr",
     "output_type": "stream",
     "text": [
      "INFO:tensorflow:Assets written to: C:\\Users\\mmorsy\\AppData\\Local\\Temp\\tmpp363sahv\\assets\n"
     ]
    },
    {
     "name": "stdout",
     "output_type": "stream",
     "text": [
      "Saved quantized and pruned TFLite model to: C:\\Users\\mmorsy\\AppData\\Local\\Temp\\tmp7bbj44qn.tflite\n",
      "Size of gzipped baseline Keras model: 13659.00 bytes\n",
      "Size of gzipped pruned and quantized TFlite model: 7225.00 bytes\n"
     ]
    }
   ],
   "source": [
    "converter = tf.lite.TFLiteConverter.from_keras_model(model_for_export)\n",
    "converter.optimizations = [tf.lite.Optimize.DEFAULT]\n",
    "quantized_and_pruned_tflite_model = converter.convert()\n",
    "\n",
    "_, quantized_and_pruned_tflite_file = tempfile.mkstemp('.tflite')\n",
    "\n",
    "with open(quantized_and_pruned_tflite_file, 'wb') as f:\n",
    "  f.write(quantized_and_pruned_tflite_model)\n",
    "\n",
    "print('Saved quantized and pruned TFLite model to:', quantized_and_pruned_tflite_file)\n",
    "\n",
    "print(\"Size of gzipped baseline Keras model: %.2f bytes\" % (get_gzipped_model_size(keras_file)))\n",
    "print(\"Size of gzipped pruned and quantized TFlite model: %.2f bytes\" % (get_gzipped_model_size(quantized_and_pruned_tflite_file)))"
   ]
  },
  {
   "cell_type": "code",
   "execution_count": 68,
   "metadata": {
    "execution": {
     "iopub.execute_input": "2021-10-20T21:38:39.868356Z",
     "iopub.status.busy": "2021-10-20T21:38:39.868356Z",
     "iopub.status.idle": "2021-10-20T21:38:39.882359Z",
     "shell.execute_reply": "2021-10-20T21:38:39.881372Z",
     "shell.execute_reply.started": "2021-10-20T21:38:39.868356Z"
    },
    "tags": []
   },
   "outputs": [],
   "source": [
    "import numpy as np\n",
    "\n",
    "def evaluate_model(interpreter):\n",
    "  input_index = interpreter.get_input_details()[0][\"index\"]\n",
    "  output_index = interpreter.get_output_details()[0][\"index\"]\n",
    "\n",
    "  # Run predictions on ever y image in the \"test\" dataset.\n",
    "  prediction_results = []\n",
    "  for i, test_example in enumerate(X_tst_tf):\n",
    "    if i % 1000 == 0:\n",
    "      print('Evaluated on {n} results so far.'.format(n=i))\n",
    "    # Pre-processing: add batch dimension and convert to float32 to match with\n",
    "    # the model's input data format.\n",
    "    test_example = np.expand_dims(test_example, axis=0).astype(np.float32)\n",
    "    interpreter.set_tensor(input_index, test_example)\n",
    "\n",
    "    # Run inference.\n",
    "    interpreter.invoke()\n",
    "\n",
    "    # Post-processing: remove batch dimension and find the digit with highest\n",
    "    # probability.\n",
    "    output = interpreter.tensor(output_index)\n",
    "    digit = np.argmax(output()[0])\n",
    "    prediction_results.append(digit)\n",
    "\n",
    "  print('\\n')\n",
    "  # Compare prediction results with ground truth labels to calculate accuracy.\n",
    "  prediction_digits = np.array(prediction_results)\n",
    "  accuracy = (prediction_results == y_tst).mean()\n",
    "  return accuracy"
   ]
  },
  {
   "cell_type": "code",
   "execution_count": null,
   "metadata": {
    "execution": {
     "iopub.execute_input": "2021-10-20T21:38:39.884358Z",
     "iopub.status.busy": "2021-10-20T21:38:39.884358Z"
    },
    "tags": []
   },
   "outputs": [
    {
     "name": "stdout",
     "output_type": "stream",
     "text": [
      "Evaluated on 0 results so far.\n",
      "Evaluated on 1000 results so far.\n",
      "Evaluated on 2000 results so far.\n",
      "Evaluated on 3000 results so far.\n"
     ]
    }
   ],
   "source": [
    "interpreter = tf.lite.Interpreter(model_content=quantized_and_pruned_tflite_model)\n",
    "interpreter.allocate_tensors()\n",
    "\n",
    "test_accuracy = evaluate_model(interpreter)\n",
    "\n",
    "print('Pruned and quantized TFLite test_accuracy:', test_accuracy)\n",
    "print('Pruned TF test accuracy:', model_for_pruning_accuracy)"
   ]
  }
 ],
 "metadata": {
  "kernelspec": {
   "display_name": "Python 3",
   "language": "python",
   "name": "python3"
  },
  "language_info": {
   "codemirror_mode": {
    "name": "ipython",
    "version": 3
   },
   "file_extension": ".py",
   "mimetype": "text/x-python",
   "name": "python",
   "nbconvert_exporter": "python",
   "pygments_lexer": "ipython3",
   "version": "3.8.5"
  },
  "metadata": {
   "interpreter": {
    "hash": "1baa965d5efe3ac65b79dfc60c0d706280b1da80fedb7760faf2759126c4f253"
   }
  }
 },
 "nbformat": 4,
 "nbformat_minor": 4
}
