{
 "cells": [
  {
   "cell_type": "code",
   "execution_count": 2,
   "metadata": {
    "execution": {
     "iopub.execute_input": "2021-10-07T08:11:15.829117Z",
     "iopub.status.busy": "2021-10-07T08:11:15.829117Z",
     "iopub.status.idle": "2021-10-07T08:11:23.294180Z",
     "shell.execute_reply": "2021-10-07T08:11:23.293153Z",
     "shell.execute_reply.started": "2021-10-07T08:11:15.829117Z"
    },
    "tags": []
   },
   "outputs": [],
   "source": [
    "import numpy as np\n",
    "import pandas as pd\n",
    "import tensorflow as tf\n",
    "import os\n",
    "\n",
    "from matplotlib import pyplot as plt\n",
    "%matplotlib inline\n",
    "%config InlineBackend.figure_format = 'retina'\n",
    "#%pdb"
   ]
  },
  {
   "cell_type": "code",
   "execution_count": 3,
   "metadata": {
    "execution": {
     "iopub.execute_input": "2021-10-07T08:11:27.140215Z",
     "iopub.status.busy": "2021-10-07T08:11:27.140215Z",
     "iopub.status.idle": "2021-10-07T08:11:29.612605Z",
     "shell.execute_reply": "2021-10-07T08:11:29.611593Z",
     "shell.execute_reply.started": "2021-10-07T08:11:27.140215Z"
    },
    "tags": []
   },
   "outputs": [
    {
     "name": "stdout",
     "output_type": "stream",
     "text": [
      "Num GPUs Available:  1\n"
     ]
    }
   ],
   "source": [
    "print(\"Num GPUs Available: \", len(tf.config.list_physical_devices('GPU')))"
   ]
  },
  {
   "cell_type": "markdown",
   "metadata": {},
   "source": [
    "https://www.analyticsvidhya.com/blog/2021/04/how-to-download-kaggle-datasets-using-jupyter-notebook/"
   ]
  },
  {
   "cell_type": "code",
   "execution_count": 4,
   "metadata": {
    "execution": {
     "iopub.execute_input": "2021-10-07T08:11:31.457984Z",
     "iopub.status.busy": "2021-10-07T08:11:31.457984Z",
     "iopub.status.idle": "2021-10-07T08:11:31.498168Z",
     "shell.execute_reply": "2021-10-07T08:11:31.497183Z",
     "shell.execute_reply.started": "2021-10-07T08:11:31.457984Z"
    },
    "tags": []
   },
   "outputs": [
    {
     "name": "stdout",
     "output_type": "stream",
     "text": [
      "Skipping, found downloaded files in \".\\mitbihcsv\" (use force=True to force download)\n"
     ]
    }
   ],
   "source": [
    "import opendatasets as od\n",
    "\n",
    "od.download(\"https://www.kaggle.com/mohammedfarag/mitbihcsv\")"
   ]
  },
  {
   "cell_type": "code",
   "execution_count": 6,
   "metadata": {
    "execution": {
     "iopub.execute_input": "2021-10-07T08:12:32.948146Z",
     "iopub.status.busy": "2021-10-07T08:12:32.948146Z",
     "iopub.status.idle": "2021-10-07T08:12:32.957128Z",
     "shell.execute_reply": "2021-10-07T08:12:32.956116Z",
     "shell.execute_reply.started": "2021-10-07T08:12:32.948146Z"
    },
    "tags": []
   },
   "outputs": [],
   "source": [
    "data_set_path=os.path.join(\"mitbihcsv\",\"mit_bih_data_set.csv\")"
   ]
  },
  {
   "cell_type": "code",
   "execution_count": 7,
   "metadata": {
    "execution": {
     "iopub.execute_input": "2021-10-07T08:12:47.062134Z",
     "iopub.status.busy": "2021-10-07T08:12:47.062134Z",
     "iopub.status.idle": "2021-10-07T08:12:49.763562Z",
     "shell.execute_reply": "2021-10-07T08:12:49.763562Z",
     "shell.execute_reply.started": "2021-10-07T08:12:47.062134Z"
    },
    "tags": []
   },
   "outputs": [],
   "source": [
    "data_set = pd.read_csv(data_set_path,dtype=float)"
   ]
  },
  {
   "cell_type": "markdown",
   "metadata": {},
   "source": [
    "https://physionet.org/content/mitdb/1.0.0/\n",
    "\n",
    "Background\n",
    "\n",
    "Since 1975, our laboratories at Boston's Beth Israel Hospital (now the Beth Israel Deaconess Medical Center) and at MIT have supported our own research into arrhythmia analysis and related subjects. One of the first major products of that effort was the MIT-BIH Arrhythmia Database, which we completed and began distributing in 1980. The database was the first generally available set of standard test material for evaluation of arrhythmia detectors, and has been used for that purpose as well as for basic research into cardiac dynamics at more than 500 sites worldwide. Originally, we distributed the database on 9-track half-inch digital tape at 800 and 1600 bpi, and on quarter-inch IRIG-format FM analog tape. In August, 1989, we produced a CD-ROM version of the database.\n",
    "\n",
    "Data Description\n",
    "\n",
    "The MIT-BIH Arrhythmia Database contains 48 half-hour excerpts of two-channel ambulatory ECG recordings, obtained from 47 subjects studied by the BIH Arrhythmia Laboratory between 1975 and 1979. Twenty-three recordings were chosen at random from a set of 4000 24-hour ambulatory ECG recordings collected from a mixed population of inpatients (about 60%) and outpatients (about 40%) at Boston's Beth Israel Hospital; the remaining 25 recordings were selected from the same set to include less common but clinically significant arrhythmias that would not be well-represented in a small random sample.\n",
    "\n",
    "The recordings were digitized at 360 samples per second per channel with 11-bit resolution over a 10 mV range. Two or more cardiologists independently annotated each record; disagreements were resolved to obtain the computer-readable reference annotations for each beat (approximately 110,000 annotations in all) included with the database."
   ]
  },
  {
   "cell_type": "code",
   "execution_count": 8,
   "metadata": {
    "execution": {
     "iopub.execute_input": "2021-10-07T08:12:52.519267Z",
     "iopub.status.busy": "2021-10-07T08:12:52.519267Z",
     "iopub.status.idle": "2021-10-07T08:12:52.540340Z",
     "shell.execute_reply": "2021-10-07T08:12:52.537261Z",
     "shell.execute_reply.started": "2021-10-07T08:12:52.519267Z"
    },
    "tags": []
   },
   "outputs": [],
   "source": [
    "num_classes=6"
   ]
  },
  {
   "cell_type": "code",
   "execution_count": 9,
   "metadata": {
    "execution": {
     "iopub.execute_input": "2021-10-07T08:12:53.140603Z",
     "iopub.status.busy": "2021-10-07T08:12:53.140603Z",
     "iopub.status.idle": "2021-10-07T08:12:53.158568Z",
     "shell.execute_reply": "2021-10-07T08:12:53.157600Z",
     "shell.execute_reply.started": "2021-10-07T08:12:53.140603Z"
    },
    "tags": []
   },
   "outputs": [
    {
     "data": {
      "text/plain": [
       "(42020, 320)"
      ]
     },
     "execution_count": 9,
     "metadata": {},
     "output_type": "execute_result"
    }
   ],
   "source": [
    "data_set.shape"
   ]
  },
  {
   "cell_type": "code",
   "execution_count": 6,
   "metadata": {
    "execution": {
     "iopub.execute_input": "2021-10-04T16:59:19.130904Z",
     "iopub.status.busy": "2021-10-04T16:59:19.130904Z",
     "iopub.status.idle": "2021-10-04T16:59:19.144916Z",
     "shell.execute_reply": "2021-10-04T16:59:19.143924Z",
     "shell.execute_reply.started": "2021-10-04T16:59:19.130904Z"
    }
   },
   "outputs": [],
   "source": [
    "data_set_np = data_set.to_numpy()"
   ]
  },
  {
   "cell_type": "code",
   "execution_count": 7,
   "metadata": {
    "execution": {
     "iopub.execute_input": "2021-10-04T16:59:19.145881Z",
     "iopub.status.busy": "2021-10-04T16:59:19.145881Z",
     "iopub.status.idle": "2021-10-04T16:59:19.159879Z",
     "shell.execute_reply": "2021-10-04T16:59:19.158905Z",
     "shell.execute_reply.started": "2021-10-04T16:59:19.145881Z"
    }
   },
   "outputs": [
    {
     "data": {
      "text/plain": [
       "(42020, 320)"
      ]
     },
     "execution_count": 7,
     "metadata": {},
     "output_type": "execute_result"
    }
   ],
   "source": [
    "data_set_np.shape"
   ]
  },
  {
   "cell_type": "code",
   "execution_count": 8,
   "metadata": {
    "execution": {
     "iopub.execute_input": "2021-10-04T16:59:19.160874Z",
     "iopub.status.busy": "2021-10-04T16:59:19.160874Z",
     "iopub.status.idle": "2021-10-04T16:59:19.174877Z",
     "shell.execute_reply": "2021-10-04T16:59:19.173907Z",
     "shell.execute_reply.started": "2021-10-04T16:59:19.160874Z"
    }
   },
   "outputs": [],
   "source": [
    "X = data_set_np[:,:-1]"
   ]
  },
  {
   "cell_type": "code",
   "execution_count": 9,
   "metadata": {
    "execution": {
     "iopub.execute_input": "2021-10-04T16:59:19.176873Z",
     "iopub.status.busy": "2021-10-04T16:59:19.176873Z",
     "iopub.status.idle": "2021-10-04T16:59:19.189875Z",
     "shell.execute_reply": "2021-10-04T16:59:19.188909Z",
     "shell.execute_reply.started": "2021-10-04T16:59:19.176873Z"
    }
   },
   "outputs": [],
   "source": [
    "y = data_set_np[:,-1]"
   ]
  },
  {
   "cell_type": "code",
   "execution_count": 10,
   "metadata": {
    "execution": {
     "iopub.execute_input": "2021-10-04T16:59:19.191884Z",
     "iopub.status.busy": "2021-10-04T16:59:19.191884Z",
     "iopub.status.idle": "2021-10-04T16:59:21.373513Z",
     "shell.execute_reply": "2021-10-04T16:59:21.373513Z",
     "shell.execute_reply.started": "2021-10-04T16:59:19.191884Z"
    }
   },
   "outputs": [],
   "source": [
    "from sklearn.preprocessing import StandardScaler\n",
    "from sklearn.model_selection import train_test_split\n",
    "\n",
    "scalar = StandardScaler()\n",
    "X = scalar.fit_transform(X)\n",
    "\n",
    "X_trn, X_tst, y_trn, y_tst = train_test_split(X, y, test_size=0.2,stratify=y, random_state=42)"
   ]
  },
  {
   "cell_type": "code",
   "execution_count": 11,
   "metadata": {
    "execution": {
     "iopub.execute_input": "2021-10-04T16:59:21.373513Z",
     "iopub.status.busy": "2021-10-04T16:59:21.373513Z",
     "iopub.status.idle": "2021-10-04T16:59:21.405780Z",
     "shell.execute_reply": "2021-10-04T16:59:21.403819Z",
     "shell.execute_reply.started": "2021-10-04T16:59:21.373513Z"
    },
    "tags": []
   },
   "outputs": [],
   "source": [
    "# prepare data for keras model\n",
    "import tensorflow as tf\n",
    "from tensorflow.keras.utils import to_categorical\n",
    "\n",
    "y_trn_oh = to_categorical(y_trn)\n",
    "y_tst_oh = to_categorical(y_tst)\n",
    "\n",
    "X_trn_tf = np.expand_dims(X_trn, axis=2)\n",
    "X_tst_tf = np.expand_dims(X_tst, axis=2)\n",
    "\n",
    "\n",
    "X_tst = X_tst.astype('float32')\n",
    "X_tst_tf = X_tst_tf.astype('float32')"
   ]
  },
  {
   "cell_type": "code",
   "execution_count": 12,
   "metadata": {
    "execution": {
     "iopub.execute_input": "2021-10-04T16:59:21.408776Z",
     "iopub.status.busy": "2021-10-04T16:59:21.407777Z",
     "iopub.status.idle": "2021-10-04T16:59:21.434810Z",
     "shell.execute_reply": "2021-10-04T16:59:21.433806Z",
     "shell.execute_reply.started": "2021-10-04T16:59:21.408776Z"
    },
    "tags": []
   },
   "outputs": [],
   "source": [
    "# Network\n",
    "def network(X_train,y_train,X_test,y_test):\n",
    "    \n",
    "    model = Sequential()\n",
    "\n",
    "    model.add(Conv1D(filters=32, kernel_size=8, activation='relu', \n",
    "                     strides=1, padding=\"valid\",input_shape=X_train[1,:].shape,\n",
    "                     name='Conv1DLayer1'))\n",
    "    model.add(BatchNormalization())\n",
    "    model.add(Dropout(0.2))\n",
    "    model.add(MaxPooling1D(pool_size=4, strides=2, padding='same'))\n",
    "    \n",
    "    model.add(Conv1D(filters=16, kernel_size=8, activation='relu', \n",
    "                     strides=1, padding=\"valid\", name='Conv1DLayer2'))\n",
    "    model.add(BatchNormalization())\n",
    "    model.add(Dropout(0.2))\n",
    "    model.add(MaxPooling1D(pool_size=4, strides=2, padding='same'))\n",
    "\n",
    "    model.add(Conv1D(filters=8, kernel_size=8, activation='relu', \n",
    "                     strides=1, padding=\"valid\", name='Conv1DLayer3'))\n",
    "    model.add(BatchNormalization())\n",
    "    model.add(Dropout(0.2))\n",
    "    model.add(MaxPooling1D(pool_size=4, strides=2, padding='same'))\n",
    "\n",
    "    #model.add(GRU(10,return_sequences=True))\n",
    "    \n",
    "    model.add(Flatten())\n",
    "    #model.add(GlobalAveragePooling1D())\n",
    "    model.add(Dense(num_classes, activation='softmax', name = 'OuputLayer'))\n",
    "    \n",
    "    opt = RMSprop(learning_rate=0.001)\n",
    "\n",
    "    model.compile(loss='categorical_crossentropy', optimizer=opt, \n",
    "                  metrics=['accuracy'])\n",
    "\n",
    "    callbacks = [EarlyStopping(monitor='val_loss', patience=10),\n",
    "                 ModelCheckpoint(filepath='./best_model.h5', monitor='val_accuracy', \n",
    "                                 save_best_only=True)]\n",
    "\n",
    "    # fit network\n",
    "    history=model.fit(X_train, y_train, epochs=50,callbacks=callbacks, \n",
    "                      batch_size=500,validation_split=0.2,shuffle=True)\n",
    "\n",
    "    model.load_weights('best_model.h5')\n",
    "    return(model,history)"
   ]
  },
  {
   "cell_type": "code",
   "execution_count": 13,
   "metadata": {
    "execution": {
     "iopub.execute_input": "2021-10-04T16:59:21.435772Z",
     "iopub.status.busy": "2021-10-04T16:59:21.435772Z",
     "iopub.status.idle": "2021-10-04T16:59:21.449786Z",
     "shell.execute_reply": "2021-10-04T16:59:21.448773Z",
     "shell.execute_reply.started": "2021-10-04T16:59:21.435772Z"
    },
    "tags": []
   },
   "outputs": [],
   "source": [
    "def evaluate_model(history,X_test,y_test,model):\n",
    "    scores = model.evaluate((X_test),y_test, verbose=0)\n",
    "    print(\"Accuracy: %.2f%%\" % (scores[1]*100))\n",
    "    \n",
    "    print(history)\n",
    "    fig1, ax_acc = plt.subplots()\n",
    "    plt.plot(history.history['accuracy'])\n",
    "    plt.plot(history.history['val_accuracy'])\n",
    "    plt.xlabel('Epoch')\n",
    "    plt.ylabel('Accuracy')\n",
    "    plt.title('Model - Accuracy')\n",
    "    plt.legend(['Training', 'Validation'], loc='lower right')\n",
    "    plt.show()\n",
    "    \n",
    "    fig2, ax_loss = plt.subplots()\n",
    "    plt.xlabel('Epoch')\n",
    "    plt.ylabel('Loss')\n",
    "    plt.title('Model- Loss')\n",
    "    plt.legend(['Training', 'Validation'], loc='upper right')\n",
    "    plt.plot(history.history['loss'])\n",
    "    plt.plot(history.history['val_loss'])\n",
    "    plt.show()\n",
    "    target_names=['0','1','2','3','4','5']\n",
    "    \n",
    "    y_true=[]\n",
    "    for element in y_test:\n",
    "        y_true.append(np.argmax(element))\n",
    "    prediction_proba=model.predict(X_test)\n",
    "    prediction=np.argmax(prediction_proba,axis=1)\n",
    "    cnf_matrix = confusion_matrix(y_true, prediction)"
   ]
  },
  {
   "cell_type": "code",
   "execution_count": 14,
   "metadata": {
    "execution": {
     "iopub.execute_input": "2021-10-04T16:59:21.450776Z",
     "iopub.status.busy": "2021-10-04T16:59:21.450776Z",
     "iopub.status.idle": "2021-10-04T17:01:53.456915Z",
     "shell.execute_reply": "2021-10-04T17:01:53.453987Z",
     "shell.execute_reply.started": "2021-10-04T16:59:21.450776Z"
    },
    "tags": []
   },
   "outputs": [
    {
     "name": "stdout",
     "output_type": "stream",
     "text": [
      "Epoch 1/50\n",
      "54/54 [==============================] - 10s 84ms/step - loss: 1.1419 - accuracy: 0.6253 - val_loss: 1.5870 - val_accuracy: 0.5110\n",
      "Epoch 2/50\n",
      "54/54 [==============================] - 3s 52ms/step - loss: 0.2998 - accuracy: 0.9235 - val_loss: 1.4174 - val_accuracy: 0.5855\n",
      "Epoch 3/50\n",
      "54/54 [==============================] - 3s 53ms/step - loss: 0.1861 - accuracy: 0.9477 - val_loss: 1.1614 - val_accuracy: 0.7183\n",
      "Epoch 4/50\n",
      "54/54 [==============================] - 3s 52ms/step - loss: 0.1344 - accuracy: 0.9607 - val_loss: 0.8774 - val_accuracy: 0.7774\n",
      "Epoch 5/50\n",
      "54/54 [==============================] - 3s 52ms/step - loss: 0.1162 - accuracy: 0.9664 - val_loss: 0.7127 - val_accuracy: 0.8233\n",
      "Epoch 6/50\n",
      "54/54 [==============================] - 3s 54ms/step - loss: 0.0976 - accuracy: 0.9717 - val_loss: 0.4301 - val_accuracy: 0.9151\n",
      "Epoch 7/50\n",
      "54/54 [==============================] - 3s 54ms/step - loss: 0.0834 - accuracy: 0.9763 - val_loss: 0.3013 - val_accuracy: 0.9462\n",
      "Epoch 8/50\n",
      "54/54 [==============================] - 3s 53ms/step - loss: 0.0742 - accuracy: 0.9784 - val_loss: 0.2518 - val_accuracy: 0.9300\n",
      "Epoch 9/50\n",
      "54/54 [==============================] - 3s 53ms/step - loss: 0.0733 - accuracy: 0.9782 - val_loss: 0.1606 - val_accuracy: 0.9653\n",
      "Epoch 10/50\n",
      "54/54 [==============================] - 3s 53ms/step - loss: 0.0617 - accuracy: 0.9822 - val_loss: 0.1179 - val_accuracy: 0.9697\n",
      "Epoch 11/50\n",
      "54/54 [==============================] - 3s 54ms/step - loss: 0.0615 - accuracy: 0.9820 - val_loss: 0.1040 - val_accuracy: 0.9716\n",
      "Epoch 12/50\n",
      "54/54 [==============================] - 3s 53ms/step - loss: 0.0557 - accuracy: 0.9835 - val_loss: 0.0797 - val_accuracy: 0.9768\n",
      "Epoch 13/50\n",
      "54/54 [==============================] - 3s 53ms/step - loss: 0.0512 - accuracy: 0.9846 - val_loss: 0.0640 - val_accuracy: 0.9817\n",
      "Epoch 14/50\n",
      "54/54 [==============================] - 3s 53ms/step - loss: 0.0463 - accuracy: 0.9856 - val_loss: 0.0662 - val_accuracy: 0.9793\n",
      "Epoch 15/50\n",
      "54/54 [==============================] - 3s 52ms/step - loss: 0.0504 - accuracy: 0.9850 - val_loss: 0.0700 - val_accuracy: 0.9775\n",
      "Epoch 16/50\n",
      "54/54 [==============================] - 3s 53ms/step - loss: 0.0456 - accuracy: 0.9865 - val_loss: 0.0597 - val_accuracy: 0.9848\n",
      "Epoch 17/50\n",
      "54/54 [==============================] - 3s 53ms/step - loss: 0.0396 - accuracy: 0.9877 - val_loss: 0.0657 - val_accuracy: 0.9814\n",
      "Epoch 18/50\n",
      "54/54 [==============================] - 3s 53ms/step - loss: 0.0413 - accuracy: 0.9874 - val_loss: 0.1185 - val_accuracy: 0.9546\n",
      "Epoch 19/50\n",
      "54/54 [==============================] - 3s 53ms/step - loss: 0.0369 - accuracy: 0.9895 - val_loss: 0.0527 - val_accuracy: 0.9851\n",
      "Epoch 20/50\n",
      "54/54 [==============================] - 3s 53ms/step - loss: 0.0357 - accuracy: 0.9892 - val_loss: 0.0496 - val_accuracy: 0.9883\n",
      "Epoch 21/50\n",
      "54/54 [==============================] - 3s 53ms/step - loss: 0.0340 - accuracy: 0.9898 - val_loss: 0.0480 - val_accuracy: 0.9878\n",
      "Epoch 22/50\n",
      "54/54 [==============================] - 3s 52ms/step - loss: 0.0350 - accuracy: 0.9885 - val_loss: 0.0613 - val_accuracy: 0.9842\n",
      "Epoch 23/50\n",
      "54/54 [==============================] - 3s 53ms/step - loss: 0.0332 - accuracy: 0.9900 - val_loss: 0.0780 - val_accuracy: 0.9804\n",
      "Epoch 24/50\n",
      "54/54 [==============================] - 3s 53ms/step - loss: 0.0352 - accuracy: 0.9900 - val_loss: 0.0561 - val_accuracy: 0.9860\n",
      "Epoch 25/50\n",
      "54/54 [==============================] - 3s 53ms/step - loss: 0.0311 - accuracy: 0.9908 - val_loss: 0.0570 - val_accuracy: 0.9848\n",
      "Epoch 26/50\n",
      "54/54 [==============================] - 3s 52ms/step - loss: 0.0299 - accuracy: 0.9906 - val_loss: 0.0430 - val_accuracy: 0.9890\n",
      "Epoch 27/50\n",
      "54/54 [==============================] - 3s 52ms/step - loss: 0.0323 - accuracy: 0.9902 - val_loss: 0.0503 - val_accuracy: 0.9875\n",
      "Epoch 28/50\n",
      "54/54 [==============================] - 3s 53ms/step - loss: 0.0326 - accuracy: 0.9904 - val_loss: 0.0741 - val_accuracy: 0.9827\n",
      "Epoch 29/50\n",
      "54/54 [==============================] - 3s 53ms/step - loss: 0.0305 - accuracy: 0.9909 - val_loss: 0.0515 - val_accuracy: 0.9859\n",
      "Epoch 30/50\n",
      "54/54 [==============================] - 3s 53ms/step - loss: 0.0294 - accuracy: 0.9909 - val_loss: 0.0428 - val_accuracy: 0.9896\n",
      "Epoch 31/50\n",
      "54/54 [==============================] - 3s 53ms/step - loss: 0.0289 - accuracy: 0.9912 - val_loss: 0.0717 - val_accuracy: 0.9817\n",
      "Epoch 32/50\n",
      "54/54 [==============================] - 3s 53ms/step - loss: 0.0282 - accuracy: 0.9914 - val_loss: 0.0406 - val_accuracy: 0.9894\n",
      "Epoch 33/50\n",
      "54/54 [==============================] - 3s 52ms/step - loss: 0.0299 - accuracy: 0.9917 - val_loss: 0.0427 - val_accuracy: 0.9902\n",
      "Epoch 34/50\n",
      "54/54 [==============================] - 3s 53ms/step - loss: 0.0253 - accuracy: 0.9929 - val_loss: 0.0421 - val_accuracy: 0.9893\n",
      "Epoch 35/50\n",
      "54/54 [==============================] - 3s 52ms/step - loss: 0.0248 - accuracy: 0.9921 - val_loss: 0.0388 - val_accuracy: 0.9911\n",
      "Epoch 36/50\n",
      "54/54 [==============================] - 3s 53ms/step - loss: 0.0266 - accuracy: 0.9921 - val_loss: 0.0446 - val_accuracy: 0.9890\n",
      "Epoch 37/50\n",
      "54/54 [==============================] - 3s 52ms/step - loss: 0.0253 - accuracy: 0.9922 - val_loss: 0.0546 - val_accuracy: 0.9847\n",
      "Epoch 38/50\n",
      "54/54 [==============================] - 3s 52ms/step - loss: 0.0220 - accuracy: 0.9945 - val_loss: 0.0486 - val_accuracy: 0.9887\n",
      "Epoch 39/50\n",
      "54/54 [==============================] - 3s 53ms/step - loss: 0.0216 - accuracy: 0.9939 - val_loss: 0.0486 - val_accuracy: 0.9875\n",
      "Epoch 40/50\n",
      "54/54 [==============================] - 3s 53ms/step - loss: 0.0225 - accuracy: 0.9929 - val_loss: 0.0472 - val_accuracy: 0.9875\n",
      "Epoch 41/50\n",
      "54/54 [==============================] - 3s 54ms/step - loss: 0.0237 - accuracy: 0.9933 - val_loss: 0.0377 - val_accuracy: 0.9914\n",
      "Epoch 42/50\n",
      "54/54 [==============================] - 3s 53ms/step - loss: 0.0223 - accuracy: 0.9934 - val_loss: 0.0400 - val_accuracy: 0.9900\n",
      "Epoch 43/50\n",
      "54/54 [==============================] - 3s 53ms/step - loss: 0.0221 - accuracy: 0.9923 - val_loss: 0.0414 - val_accuracy: 0.9911\n",
      "Epoch 44/50\n",
      "54/54 [==============================] - 3s 53ms/step - loss: 0.0214 - accuracy: 0.9932 - val_loss: 0.0399 - val_accuracy: 0.9903\n",
      "Epoch 45/50\n",
      "54/54 [==============================] - 3s 53ms/step - loss: 0.0240 - accuracy: 0.9932 - val_loss: 0.0409 - val_accuracy: 0.9896\n",
      "Epoch 46/50\n",
      "54/54 [==============================] - 3s 52ms/step - loss: 0.0220 - accuracy: 0.9936 - val_loss: 0.0399 - val_accuracy: 0.9896\n",
      "Epoch 47/50\n",
      "54/54 [==============================] - 3s 53ms/step - loss: 0.0203 - accuracy: 0.9931 - val_loss: 0.0429 - val_accuracy: 0.9902\n",
      "Epoch 48/50\n",
      "54/54 [==============================] - 3s 53ms/step - loss: 0.0194 - accuracy: 0.9943 - val_loss: 0.0384 - val_accuracy: 0.9917\n",
      "Epoch 49/50\n",
      "54/54 [==============================] - 3s 53ms/step - loss: 0.0202 - accuracy: 0.9945 - val_loss: 0.0375 - val_accuracy: 0.9905\n",
      "Epoch 50/50\n",
      "54/54 [==============================] - 3s 53ms/step - loss: 0.0192 - accuracy: 0.9940 - val_loss: 0.0375 - val_accuracy: 0.9914\n"
     ]
    }
   ],
   "source": [
    "from tensorflow import keras\n",
    "from keras.models import Sequential\n",
    "from keras.layers import Dense, Flatten, ReLU, Dropout, GRU, LSTM, Conv1D, Input, MaxPooling1D, GlobalMaxPooling1D, GlobalAveragePooling1D, BatchNormalization\n",
    "from keras.optimizers import RMSprop\n",
    "from keras.callbacks import EarlyStopping, ModelCheckpoint\n",
    "from keras.preprocessing.image import ImageDataGenerator\n",
    "\n",
    "model,history=network(X_trn_tf,y_trn_oh,X_tst_tf,y_tst_oh)"
   ]
  },
  {
   "cell_type": "code",
   "execution_count": 15,
   "metadata": {
    "execution": {
     "iopub.execute_input": "2021-10-04T17:01:53.458910Z",
     "iopub.status.busy": "2021-10-04T17:01:53.458910Z",
     "iopub.status.idle": "2021-10-04T17:01:55.976286Z",
     "shell.execute_reply": "2021-10-04T17:01:55.975327Z",
     "shell.execute_reply.started": "2021-10-04T17:01:53.458910Z"
    },
    "tags": []
   },
   "outputs": [
    {
     "name": "stdout",
     "output_type": "stream",
     "text": [
      "Accuracy: 98.85%\n",
      "<tensorflow.python.keras.callbacks.History object at 0x000001A40F1D0DC0>\n"
     ]
    },
    {
     "data": {
      "image/png": "[encoded data removed]",
      "text/plain": [
       "<Figure size 432x288 with 1 Axes>"
      ]
     },
     "metadata": {
      "image/png": {
       "height": 277,
       "width": 385
      },
      "needs_background": "light"
     },
     "output_type": "display_data"
    },
    {
     "data": {
      "image/png": "[encoded data removed]",
      "text/plain": [
       "<Figure size 432x288 with 1 Axes>"
      ]
     },
     "metadata": {
      "image/png": {
       "height": 277,
       "width": 385
      },
      "needs_background": "light"
     },
     "output_type": "display_data"
    },
    {
     "name": "stdout",
     "output_type": "stream",
     "text": [
      "Wall time: 2.5 s\n"
     ]
    }
   ],
   "source": [
    "%%time\n",
    "from sklearn.metrics import confusion_matrix\n",
    "\n",
    "evaluate_model(history,X_tst_tf,y_tst_oh,model)\n",
    "y_pred=model.predict(X_tst_tf)"
   ]
  },
  {
   "cell_type": "code",
   "execution_count": 16,
   "metadata": {
    "execution": {
     "iopub.execute_input": "2021-10-04T17:01:55.978295Z",
     "iopub.status.busy": "2021-10-04T17:01:55.977287Z",
     "iopub.status.idle": "2021-10-04T17:01:56.547733Z",
     "shell.execute_reply": "2021-10-04T17:01:56.546773Z",
     "shell.execute_reply.started": "2021-10-04T17:01:55.978295Z"
    },
    "tags": []
   },
   "outputs": [
    {
     "name": "stdout",
     "output_type": "stream",
     "text": [
      "Normalized confusion matrix\n"
     ]
    },
    {
     "data": {
      "image/png": "[encoded data removed]",
      "text/plain": [
       "<Figure size 720x720 with 2 Axes>"
      ]
     },
     "metadata": {
      "image/png": {
       "height": 712,
       "width": 681
      },
      "needs_background": "light"
     },
     "output_type": "display_data"
    }
   ],
   "source": [
    "import itertools\n",
    "def plot_confusion_matrix(cm, classes,\n",
    "                          normalize=False,\n",
    "                          title='Confusion matrix',\n",
    "                          cmap=plt.cm.Blues):\n",
    "    \"\"\"\n",
    "    This function prints and plots the confusion matrix.\n",
    "    Normalization can be applied by setting `normalize=True`.\n",
    "    \"\"\"\n",
    "    if normalize:\n",
    "        cm = cm.astype('float') / cm.sum(axis=1)[:, np.newaxis]\n",
    "        print(\"Normalized confusion matrix\")\n",
    "    else:\n",
    "        print('Confusion matrix, without normalization')\n",
    "\n",
    "    plt.imshow(cm, interpolation='nearest', cmap=cmap)\n",
    "    plt.title(title)\n",
    "    plt.colorbar()\n",
    "    tick_marks = np.arange(len(classes))\n",
    "    plt.xticks(tick_marks, classes, rotation=45)\n",
    "    plt.yticks(tick_marks, classes)\n",
    "\n",
    "    fmt = '.2f' if normalize else 'd'\n",
    "    thresh = cm.max() / 2.\n",
    "    for i, j in itertools.product(range(cm.shape[0]), range(cm.shape[1])):\n",
    "        plt.text(j, i, format(cm[i, j], fmt),\n",
    "                 horizontalalignment=\"center\",\n",
    "                 color=\"white\" if cm[i, j] > thresh else \"black\")\n",
    "\n",
    "    plt.tight_layout()\n",
    "    plt.ylabel('True label')\n",
    "    plt.xlabel('Predicted label')\n",
    "\n",
    "# Compute confusion matrix\n",
    "cnf_matrix = confusion_matrix(y_tst_oh.argmax(axis=1), y_pred.argmax(axis=1))\n",
    "np.set_printoptions(precision=2)\n",
    "\n",
    "# Plot non-normalized confusion matrix\n",
    "plt.figure(figsize=(10, 10))\n",
    "plot_confusion_matrix(cnf_matrix, classes=['N', 'L', 'R', 'A', 'V', '/'],normalize=True,\n",
    "                      title='Confusion matrix, with normalization')\n",
    "plt.show()    "
   ]
  },
  {
   "cell_type": "code",
   "execution_count": 17,
   "metadata": {
    "execution": {
     "iopub.execute_input": "2021-10-04T17:01:56.547733Z",
     "iopub.status.busy": "2021-10-04T17:01:56.547733Z",
     "iopub.status.idle": "2021-10-04T17:01:56.563751Z",
     "shell.execute_reply": "2021-10-04T17:01:56.561795Z",
     "shell.execute_reply.started": "2021-10-04T17:01:56.547733Z"
    },
    "tags": []
   },
   "outputs": [
    {
     "name": "stdout",
     "output_type": "stream",
     "text": [
      "Model: \"sequential\"\n",
      "_________________________________________________________________\n",
      "Layer (type)                 Output Shape              Param #   \n",
      "=================================================================\n",
      "Conv1DLayer1 (Conv1D)        (None, 312, 32)           288       \n",
      "_________________________________________________________________\n",
      "batch_normalization (BatchNo (None, 312, 32)           128       \n",
      "_________________________________________________________________\n",
      "dropout (Dropout)            (None, 312, 32)           0         \n",
      "_________________________________________________________________\n",
      "max_pooling1d (MaxPooling1D) (None, 156, 32)           0         \n",
      "_________________________________________________________________\n",
      "Conv1DLayer2 (Conv1D)        (None, 149, 16)           4112      \n",
      "_________________________________________________________________\n",
      "batch_normalization_1 (Batch (None, 149, 16)           64        \n",
      "_________________________________________________________________\n",
      "dropout_1 (Dropout)          (None, 149, 16)           0         \n",
      "_________________________________________________________________\n",
      "max_pooling1d_1 (MaxPooling1 (None, 75, 16)            0         \n",
      "_________________________________________________________________\n",
      "Conv1DLayer3 (Conv1D)        (None, 68, 8)             1032      \n",
      "_________________________________________________________________\n",
      "batch_normalization_2 (Batch (None, 68, 8)             32        \n",
      "_________________________________________________________________\n",
      "dropout_2 (Dropout)          (None, 68, 8)             0         \n",
      "_________________________________________________________________\n",
      "max_pooling1d_2 (MaxPooling1 (None, 34, 8)             0         \n",
      "_________________________________________________________________\n",
      "flatten (Flatten)            (None, 272)               0         \n",
      "_________________________________________________________________\n",
      "OuputLayer (Dense)           (None, 6)                 1638      \n",
      "=================================================================\n",
      "Total params: 7,294\n",
      "Trainable params: 7,182\n",
      "Non-trainable params: 112\n",
      "_________________________________________________________________\n"
     ]
    }
   ],
   "source": [
    "model.summary()"
   ]
  },
  {
   "cell_type": "code",
   "execution_count": 18,
   "metadata": {
    "execution": {
     "iopub.execute_input": "2021-10-04T17:01:56.564751Z",
     "iopub.status.busy": "2021-10-04T17:01:56.564751Z",
     "iopub.status.idle": "2021-10-04T17:01:57.848350Z",
     "shell.execute_reply": "2021-10-04T17:01:57.847348Z",
     "shell.execute_reply.started": "2021-10-04T17:01:56.564751Z"
    },
    "tags": []
   },
   "outputs": [
    {
     "name": "stdout",
     "output_type": "stream",
     "text": [
      "Accuracy: 0.9884578772013327\n"
     ]
    },
    {
     "data": {
      "image/png": "[encoded data removed]",
      "text/plain": [
       "<Figure size 648x648 with 1 Axes>"
      ]
     },
     "metadata": {
      "image/png": {
       "height": 557,
       "width": 560
      },
      "needs_background": "light"
     },
     "output_type": "display_data"
    }
   ],
   "source": [
    "import plotting\n",
    "\n",
    "from sklearn.metrics import accuracy_score\n",
    "\n",
    "classes = ['N', 'L', 'R', 'A', 'V', '/']\n",
    "\n",
    "y_keras = model.predict(X_tst_tf)\n",
    "print(\"Accuracy: {}\".format(accuracy_score(np.argmax(y_tst_oh, axis=1), np.argmax(y_keras, axis=1))))\n",
    "plt.figure(figsize=(9,9))\n",
    "_ = plotting.makeRoc(y_tst_oh, y_keras, classes)"
   ]
  },
  {
   "cell_type": "code",
   "execution_count": 19,
   "metadata": {
    "execution": {
     "iopub.execute_input": "2021-10-04T17:01:57.848350Z",
     "iopub.status.busy": "2021-10-04T17:01:57.848350Z",
     "iopub.status.idle": "2021-10-04T17:02:02.456928Z",
     "shell.execute_reply": "2021-10-04T17:02:02.454926Z",
     "shell.execute_reply.started": "2021-10-04T17:01:57.848350Z"
    },
    "tags": []
   },
   "outputs": [
    {
     "name": "stdout",
     "output_type": "stream",
     "text": [
      "INFO:tensorflow:Assets written to: C:\\Users\\mmorsy\\AppData\\Local\\Temp\\tmp0cdy4t4b\\assets\n",
      "Float model size = 38KBs.\n"
     ]
    }
   ],
   "source": [
    "converter = tf.lite.TFLiteConverter.from_keras_model(model)\n",
    "float_tflite_model = converter.convert()\n",
    "\n",
    "float_model_size = len(float_tflite_model) / 1024\n",
    "print('Float model size = %dKBs.' % float_model_size)"
   ]
  },
  {
   "cell_type": "code",
   "execution_count": 53,
   "metadata": {
    "execution": {
     "iopub.execute_input": "2021-10-04T18:18:07.771881Z",
     "iopub.status.busy": "2021-10-04T18:18:07.771881Z",
     "iopub.status.idle": "2021-10-04T18:18:07.788089Z",
     "shell.execute_reply": "2021-10-04T18:18:07.787127Z",
     "shell.execute_reply.started": "2021-10-04T18:18:07.771881Z"
    },
    "tags": []
   },
   "outputs": [
    {
     "data": {
      "text/plain": [
       "bytes"
      ]
     },
     "execution_count": 53,
     "metadata": {},
     "output_type": "execute_result"
    }
   ],
   "source": [
    "type(float_tflite_model)"
   ]
  },
  {
   "cell_type": "code",
   "execution_count": 20,
   "metadata": {
    "execution": {
     "iopub.execute_input": "2021-10-04T17:02:02.457927Z",
     "iopub.status.busy": "2021-10-04T17:02:02.456928Z",
     "iopub.status.idle": "2021-10-04T17:02:02.470923Z",
     "shell.execute_reply": "2021-10-04T17:02:02.469924Z",
     "shell.execute_reply.started": "2021-10-04T17:02:02.457927Z"
    },
    "tags": []
   },
   "outputs": [],
   "source": [
    "# Load TFLite model and allocate tensors.\n",
    "interpreter = tf.lite.Interpreter(model_content=float_tflite_model)\n",
    "interpreter.allocate_tensors()\n",
    "\n",
    "#get input and output tensors\n",
    "input_details = interpreter.get_input_details()\n",
    "output_details = interpreter.get_output_details()\n",
    "\n",
    "#Preprocess the image to required size and cast\n",
    "input_shape = input_details[0]['shape']\n",
    "input_data = np.expand_dims(X_tst_tf[0], 0)\n",
    "\n",
    "#set the tensor to point to the input data to be inferred\n",
    "input_index = interpreter.get_input_details()[0][\"index\"]\n",
    "interpreter.set_tensor(input_details[0]['index'], input_data)\n",
    "\n",
    "#Run the inference\n",
    "interpreter.invoke()\n",
    "output_details = interpreter.get_tensor(output_details[0]['index'])"
   ]
  },
  {
   "cell_type": "code",
   "execution_count": 21,
   "metadata": {
    "execution": {
     "iopub.execute_input": "2021-10-04T17:02:02.471927Z",
     "iopub.status.busy": "2021-10-04T17:02:02.471927Z",
     "iopub.status.idle": "2021-10-04T17:02:02.485924Z",
     "shell.execute_reply": "2021-10-04T17:02:02.484919Z",
     "shell.execute_reply.started": "2021-10-04T17:02:02.471927Z"
    },
    "tags": []
   },
   "outputs": [
    {
     "data": {
      "text/plain": [
       "array([[9.63e-04, 4.27e-04, 4.37e-03, 9.89e-01, 5.51e-03, 2.10e-06]],\n",
       "      dtype=float32)"
      ]
     },
     "execution_count": 21,
     "metadata": {},
     "output_type": "execute_result"
    }
   ],
   "source": [
    "output_details"
   ]
  },
  {
   "cell_type": "code",
   "execution_count": 22,
   "metadata": {
    "execution": {
     "iopub.execute_input": "2021-10-04T17:02:02.487925Z",
     "iopub.status.busy": "2021-10-04T17:02:02.486926Z",
     "iopub.status.idle": "2021-10-04T17:02:06.577009Z",
     "shell.execute_reply": "2021-10-04T17:02:06.577009Z",
     "shell.execute_reply.started": "2021-10-04T17:02:02.487925Z"
    },
    "tags": []
   },
   "outputs": [
    {
     "name": "stdout",
     "output_type": "stream",
     "text": [
      "INFO:tensorflow:Assets written to: C:\\Users\\mmorsy\\AppData\\Local\\Temp\\tmph8lngc46\\assets\n"
     ]
    },
    {
     "name": "stderr",
     "output_type": "stream",
     "text": [
      "INFO:tensorflow:Assets written to: C:\\Users\\mmorsy\\AppData\\Local\\Temp\\tmph8lngc46\\assets\n"
     ]
    },
    {
     "name": "stdout",
     "output_type": "stream",
     "text": [
      "Quantized model size = 19KBs,\n",
      "which is about 51% of the float model size.\n"
     ]
    }
   ],
   "source": [
    "# Re-convert the model to TF Lite using quantization.\n",
    "converter.optimizations = [tf.lite.Optimize.DEFAULT]\n",
    "#converter.target_spec.supported_types = [tf.float16]\n",
    "tflite_quantized_model = converter.convert()\n",
    "\n",
    "# Show model size in KBs.\n",
    "quantized_model_size = len(tflite_quantized_model) / 1024\n",
    "print('Quantized model size = %dKBs,' % quantized_model_size)\n",
    "print('which is about %d%% of the float model size.'\\\n",
    "      % (quantized_model_size * 100 / float_model_size))"
   ]
  },
  {
   "cell_type": "code",
   "execution_count": 23,
   "metadata": {
    "execution": {
     "iopub.execute_input": "2021-10-04T17:02:06.579834Z",
     "iopub.status.busy": "2021-10-04T17:02:06.579834Z",
     "iopub.status.idle": "2021-10-04T17:02:10.546779Z",
     "shell.execute_reply": "2021-10-04T17:02:10.545387Z",
     "shell.execute_reply.started": "2021-10-04T17:02:06.579834Z"
    },
    "tags": []
   },
   "outputs": [
    {
     "name": "stdout",
     "output_type": "stream",
     "text": [
      "Float model accuracy = 0.9885\n",
      "Quantized model accuracy = 0.9885\n",
      "Accuracy drop = 0.0000\n"
     ]
    }
   ],
   "source": [
    "# A helper function to evaluate the TF Lite model using \"test\" dataset.\n",
    "def evaluate_tflite_model(tflite_model):\n",
    "  # Initialize TFLite interpreter using the model.\n",
    "  interpreter = tf.lite.Interpreter(model_content=float_tflite_model)\n",
    "  interpreter.allocate_tensors()\n",
    "  input_tensor_index = interpreter.get_input_details()[0][\"index\"]\n",
    "  output = interpreter.tensor(interpreter.get_output_details()[0][\"index\"])\n",
    "\n",
    "  # Run predictions on every image in the \"test\" dataset.\n",
    "  prediction_outputs = []\n",
    "  for data in X_tst_tf:\n",
    "    # Pre-processing: add batch dimension and convert to float32 to match with\n",
    "    # the model's input data format.\n",
    "    test_data = np.expand_dims(data, axis=0).astype(np.float32)\n",
    "    interpreter.set_tensor(input_tensor_index, test_data)\n",
    "\n",
    "    # Run inference.\n",
    "    interpreter.invoke()\n",
    "\n",
    "    # Post-processing: remove batch dimension and find the digit with highest\n",
    "    # probability.\n",
    "    prediction = np.argmax(output()[0])\n",
    "    prediction_outputs.append(prediction)\n",
    "\n",
    "  # Compare prediction results with ground truth labels to calculate accuracy.\n",
    "  accurate_count = 0\n",
    "  for index in range(len(prediction_outputs)):\n",
    "    if prediction_outputs[index] == y_tst[index]:\n",
    "      accurate_count += 1\n",
    "  accuracy = accurate_count * 1.0 / len(prediction_outputs)\n",
    "\n",
    "  return accuracy\n",
    "\n",
    "# Evaluate the TF Lite float model. You'll find that its accurary is identical\n",
    "# to the original TF (Keras) model because they are essentially the same model\n",
    "# stored in different format.\n",
    "float_accuracy = evaluate_tflite_model(float_tflite_model)\n",
    "print('Float model accuracy = %.4f' % float_accuracy)\n",
    "\n",
    "# Evalualte the TF Lite quantized model.\n",
    "# Don't be surprised if you see quantized model accuracy is higher than\n",
    "# the original float model. It happens sometimes :)\n",
    "quantized_accuracy = evaluate_tflite_model(tflite_quantized_model)\n",
    "print('Quantized model accuracy = %.4f' % quantized_accuracy)\n",
    "print('Accuracy drop = %.4f' % (float_accuracy - quantized_accuracy))"
   ]
  },
  {
   "cell_type": "code",
   "execution_count": 24,
   "metadata": {
    "execution": {
     "iopub.execute_input": "2021-10-04T17:02:10.547779Z",
     "iopub.status.busy": "2021-10-04T17:02:10.546779Z",
     "iopub.status.idle": "2021-10-04T17:02:10.562781Z",
     "shell.execute_reply": "2021-10-04T17:02:10.560776Z",
     "shell.execute_reply.started": "2021-10-04T17:02:10.546779Z"
    },
    "tags": []
   },
   "outputs": [],
   "source": [
    "# Save the quantized model to file to the Downloads directory\n",
    "f = open('mit_bih.tflite', \"wb\")\n",
    "f.write(tflite_quantized_model)\n",
    "f.close()"
   ]
  },
  {
   "cell_type": "code",
   "execution_count": 25,
   "metadata": {
    "execution": {
     "iopub.execute_input": "2021-10-04T17:02:10.563780Z",
     "iopub.status.busy": "2021-10-04T17:02:10.562781Z",
     "iopub.status.idle": "2021-10-04T17:02:11.219431Z",
     "shell.execute_reply": "2021-10-04T17:02:11.219431Z",
     "shell.execute_reply.started": "2021-10-04T17:02:10.563780Z"
    }
   },
   "outputs": [],
   "source": [
    "from __future__ import absolute_import\n",
    "from __future__ import division\n",
    "from __future__ import print_function\n",
    "\n",
    "from collections import defaultdict\n",
    "\n",
    "from qkeras import *"
   ]
  },
  {
   "cell_type": "code",
   "execution_count": 26,
   "metadata": {
    "execution": {
     "iopub.execute_input": "2021-10-04T17:02:11.219431Z",
     "iopub.status.busy": "2021-10-04T17:02:11.219431Z",
     "iopub.status.idle": "2021-10-04T17:02:11.235962Z",
     "shell.execute_reply": "2021-10-04T17:02:11.234962Z",
     "shell.execute_reply.started": "2021-10-04T17:02:11.219431Z"
    },
    "tags": []
   },
   "outputs": [
    {
     "data": {
      "text/plain": [
       "(319, 1)"
      ]
     },
     "execution_count": 26,
     "metadata": {},
     "output_type": "execute_result"
    }
   ],
   "source": [
    "X_trn_tf[1,:].shape"
   ]
  },
  {
   "cell_type": "code",
   "execution_count": 27,
   "metadata": {
    "execution": {
     "iopub.execute_input": "2021-10-04T17:02:11.239970Z",
     "iopub.status.busy": "2021-10-04T17:02:11.238966Z",
     "iopub.status.idle": "2021-10-04T17:02:11.252963Z",
     "shell.execute_reply": "2021-10-04T17:02:11.249964Z",
     "shell.execute_reply.started": "2021-10-04T17:02:11.239970Z"
    },
    "tags": []
   },
   "outputs": [],
   "source": [
    "def CreateQModel(X_train,y_train,X_test,y_test):\n",
    "    x = x_in = Input(shape = X_train[1,:].shape)\n",
    "    \n",
    "    x = QConv1D(filters=32, kernel_size=8, strides=1, padding=\"valid\",\n",
    "               kernel_quantizer=\"quantized_bits(4, 0, 1)\", \n",
    "               bias_quantizer=\"quantized_bits(4, 0, 1)\",\n",
    "               name=\"conv1d_1\")(x_in)\n",
    "    x = QActivation(\"quantized_relu(4)\", name=\"act_1\")(x)  \n",
    "    x = QBatchNormalization()(x)\n",
    "    x = Dropout(0.2)(x)\n",
    "    x = MaxPooling1D(pool_size=4, strides=2, padding='same')(x)\n",
    "\n",
    "    x = QConv1D(filters=16, kernel_size=8, strides=1, padding=\"valid\",\n",
    "               kernel_quantizer=\"quantized_bits(4, 0, 1)\", \n",
    "               bias_quantizer=\"quantized_bits(4, 0, 1)\",\n",
    "               name=\"conv1d_2\")(x)\n",
    "    x = QActivation(\"quantized_relu(4)\", name=\"act_2\")(x)  \n",
    "    x = QBatchNormalization()(x)\n",
    "    x = Dropout(0.2)(x)\n",
    "    x = MaxPooling1D(pool_size=4, strides=2, padding='same')(x)\n",
    "\n",
    "    x = QConv1D(filters=8, kernel_size=8, strides=1, padding=\"valid\",\n",
    "               kernel_quantizer=\"quantized_bits(4, 0, 1)\", \n",
    "               bias_quantizer=\"quantized_bits(4, 0, 1)\",\n",
    "               name=\"conv1d_3\")(x)\n",
    "    x = QActivation(\"quantized_relu(4)\", name=\"act_3\")(x)  \n",
    "    x = QBatchNormalization()(x)\n",
    "    x = Dropout(0.2)(x)\n",
    "    x = MaxPooling1D(pool_size=4, strides=2, padding='same')(x)\n",
    "    \n",
    "    x = Flatten(name=\"flatten\")(x)\n",
    "\n",
    "    x = QDense(num_classes,\n",
    "        kernel_quantizer=\"quantized_bits(4,0,1)\",\n",
    "        bias_quantizer=\"quantized_bits(4,0,1)\",\n",
    "        name=\"dense\")(x)\n",
    "    x = Activation(\"softmax\", name=\"softmax\")(x)\n",
    "    \n",
    "    qmodel = Model(inputs=x_in, outputs=x)\n",
    "    \n",
    "    opt = RMSprop(learning_rate=0.001)\n",
    "\n",
    "    qmodel.compile(loss='categorical_crossentropy', optimizer=opt, \n",
    "                  metrics=['accuracy'])\n",
    "\n",
    "    callbacks = [EarlyStopping(monitor='val_loss', patience=10),\n",
    "                 ModelCheckpoint(filepath='./best_qmodel.h5', monitor='val_accuracy', \n",
    "                                 save_best_only=True)]\n",
    "\n",
    "    # fit network\n",
    "    history=qmodel.fit(X_train, y_train, epochs=50,callbacks=callbacks, \n",
    "                      batch_size=500,validation_split=0.2,shuffle=True)\n",
    "\n",
    "    qmodel.load_weights('best_qmodel.h5')\n",
    "    return(qmodel,history)"
   ]
  },
  {
   "cell_type": "code",
   "execution_count": 28,
   "metadata": {
    "execution": {
     "iopub.execute_input": "2021-10-04T17:02:11.258027Z",
     "iopub.status.busy": "2021-10-04T17:02:11.258027Z",
     "iopub.status.idle": "2021-10-04T17:05:40.498529Z",
     "shell.execute_reply": "2021-10-04T17:05:40.497564Z",
     "shell.execute_reply.started": "2021-10-04T17:02:11.258027Z"
    },
    "tags": []
   },
   "outputs": [
    {
     "name": "stdout",
     "output_type": "stream",
     "text": [
      "Epoch 1/50\n",
      "54/54 [==============================] - 11s 117ms/step - loss: 1.4706 - accuracy: 0.4706 - val_loss: 1.4269 - val_accuracy: 0.4352\n",
      "Epoch 2/50\n",
      "54/54 [==============================] - 5s 86ms/step - loss: 0.6699 - accuracy: 0.7841 - val_loss: 0.6804 - val_accuracy: 0.7278\n",
      "Epoch 3/50\n",
      "54/54 [==============================] - 5s 84ms/step - loss: 0.4505 - accuracy: 0.8602 - val_loss: 0.5192 - val_accuracy: 0.8272\n",
      "Epoch 4/50\n",
      "54/54 [==============================] - 4s 81ms/step - loss: 0.3415 - accuracy: 0.9003 - val_loss: 0.4707 - val_accuracy: 0.8424\n",
      "Epoch 5/50\n",
      "54/54 [==============================] - 4s 79ms/step - loss: 0.2877 - accuracy: 0.9113 - val_loss: 0.3340 - val_accuracy: 0.8913\n",
      "Epoch 6/50\n",
      "54/54 [==============================] - 4s 83ms/step - loss: 0.2389 - accuracy: 0.9273 - val_loss: 0.2696 - val_accuracy: 0.9242\n",
      "Epoch 7/50\n",
      "54/54 [==============================] - 4s 81ms/step - loss: 0.2190 - accuracy: 0.9351 - val_loss: 0.2419 - val_accuracy: 0.9253\n",
      "Epoch 8/50\n",
      "54/54 [==============================] - 4s 82ms/step - loss: 0.1926 - accuracy: 0.9406 - val_loss: 0.2240 - val_accuracy: 0.9340\n",
      "Epoch 9/50\n",
      "54/54 [==============================] - 5s 87ms/step - loss: 0.1824 - accuracy: 0.9447 - val_loss: 0.2395 - val_accuracy: 0.9158\n",
      "Epoch 10/50\n",
      "54/54 [==============================] - 4s 83ms/step - loss: 0.1772 - accuracy: 0.9472 - val_loss: 0.1785 - val_accuracy: 0.9448\n",
      "Epoch 11/50\n",
      "54/54 [==============================] - 4s 83ms/step - loss: 0.1767 - accuracy: 0.9483 - val_loss: 0.2547 - val_accuracy: 0.9175\n",
      "Epoch 12/50\n",
      "54/54 [==============================] - 4s 81ms/step - loss: 0.1607 - accuracy: 0.9505 - val_loss: 0.1364 - val_accuracy: 0.9569\n",
      "Epoch 13/50\n",
      "54/54 [==============================] - 4s 81ms/step - loss: 0.1532 - accuracy: 0.9555 - val_loss: 0.1388 - val_accuracy: 0.9551\n",
      "Epoch 14/50\n",
      "54/54 [==============================] - 4s 79ms/step - loss: 0.1520 - accuracy: 0.9549 - val_loss: 0.1417 - val_accuracy: 0.9603\n",
      "Epoch 15/50\n",
      "54/54 [==============================] - 4s 78ms/step - loss: 0.1351 - accuracy: 0.9600 - val_loss: 0.1328 - val_accuracy: 0.9597\n",
      "Epoch 16/50\n",
      "54/54 [==============================] - 4s 81ms/step - loss: 0.1395 - accuracy: 0.9581 - val_loss: 0.1279 - val_accuracy: 0.9597\n",
      "Epoch 17/50\n",
      "54/54 [==============================] - 4s 80ms/step - loss: 0.1283 - accuracy: 0.9598 - val_loss: 0.1336 - val_accuracy: 0.9624\n",
      "Epoch 18/50\n",
      "54/54 [==============================] - 5s 83ms/step - loss: 0.1250 - accuracy: 0.9616 - val_loss: 0.1113 - val_accuracy: 0.9655\n",
      "Epoch 19/50\n",
      "54/54 [==============================] - 4s 79ms/step - loss: 0.1220 - accuracy: 0.9635 - val_loss: 0.0976 - val_accuracy: 0.9701\n",
      "Epoch 20/50\n",
      "54/54 [==============================] - 4s 83ms/step - loss: 0.1191 - accuracy: 0.9634 - val_loss: 0.1043 - val_accuracy: 0.9659\n",
      "Epoch 21/50\n",
      "54/54 [==============================] - 4s 83ms/step - loss: 0.1118 - accuracy: 0.9641 - val_loss: 0.1040 - val_accuracy: 0.9677\n",
      "Epoch 22/50\n",
      "54/54 [==============================] - 4s 81ms/step - loss: 0.1054 - accuracy: 0.9666 - val_loss: 0.1022 - val_accuracy: 0.9682\n",
      "Epoch 23/50\n",
      "54/54 [==============================] - 4s 84ms/step - loss: 0.1107 - accuracy: 0.9644 - val_loss: 0.1596 - val_accuracy: 0.9491\n",
      "Epoch 24/50\n",
      "54/54 [==============================] - 4s 78ms/step - loss: 0.1126 - accuracy: 0.9644 - val_loss: 0.1274 - val_accuracy: 0.9590\n",
      "Epoch 25/50\n",
      "54/54 [==============================] - 4s 81ms/step - loss: 0.1029 - accuracy: 0.9677 - val_loss: 0.1257 - val_accuracy: 0.9627\n",
      "Epoch 26/50\n",
      "54/54 [==============================] - 4s 79ms/step - loss: 0.1063 - accuracy: 0.9669 - val_loss: 0.1146 - val_accuracy: 0.9649\n",
      "Epoch 27/50\n",
      "54/54 [==============================] - 4s 79ms/step - loss: 0.1013 - accuracy: 0.9687 - val_loss: 0.0895 - val_accuracy: 0.9706\n",
      "Epoch 28/50\n",
      "54/54 [==============================] - 4s 80ms/step - loss: 0.1006 - accuracy: 0.9679 - val_loss: 0.1175 - val_accuracy: 0.9642\n",
      "Epoch 29/50\n",
      "54/54 [==============================] - 4s 80ms/step - loss: 0.0983 - accuracy: 0.9704 - val_loss: 0.0999 - val_accuracy: 0.9689\n",
      "Epoch 30/50\n",
      "54/54 [==============================] - 4s 80ms/step - loss: 0.0906 - accuracy: 0.9700 - val_loss: 0.0983 - val_accuracy: 0.9698\n",
      "Epoch 31/50\n",
      "54/54 [==============================] - 4s 80ms/step - loss: 0.1006 - accuracy: 0.9680 - val_loss: 0.1080 - val_accuracy: 0.9679\n",
      "Epoch 32/50\n",
      "54/54 [==============================] - 4s 79ms/step - loss: 0.0918 - accuracy: 0.9719 - val_loss: 0.1046 - val_accuracy: 0.9679\n",
      "Epoch 33/50\n",
      "54/54 [==============================] - 4s 81ms/step - loss: 0.0990 - accuracy: 0.9709 - val_loss: 0.0849 - val_accuracy: 0.9740\n",
      "Epoch 34/50\n",
      "54/54 [==============================] - 4s 80ms/step - loss: 0.0929 - accuracy: 0.9706 - val_loss: 0.0776 - val_accuracy: 0.9771\n",
      "Epoch 35/50\n",
      "54/54 [==============================] - 4s 80ms/step - loss: 0.0877 - accuracy: 0.9724 - val_loss: 0.0728 - val_accuracy: 0.9780\n",
      "Epoch 36/50\n",
      "54/54 [==============================] - 4s 82ms/step - loss: 0.0944 - accuracy: 0.9710 - val_loss: 0.1003 - val_accuracy: 0.9695\n",
      "Epoch 37/50\n",
      "54/54 [==============================] - 4s 84ms/step - loss: 0.0956 - accuracy: 0.9714 - val_loss: 0.1105 - val_accuracy: 0.9636\n",
      "Epoch 38/50\n",
      "54/54 [==============================] - 4s 82ms/step - loss: 0.0901 - accuracy: 0.9715 - val_loss: 0.0962 - val_accuracy: 0.9701\n",
      "Epoch 39/50\n",
      "54/54 [==============================] - 5s 86ms/step - loss: 0.0862 - accuracy: 0.9730 - val_loss: 0.0981 - val_accuracy: 0.9697\n",
      "Epoch 40/50\n",
      "54/54 [==============================] - 5s 86ms/step - loss: 0.0929 - accuracy: 0.9714 - val_loss: 0.0904 - val_accuracy: 0.9731\n",
      "Epoch 41/50\n",
      "54/54 [==============================] - 4s 81ms/step - loss: 0.0807 - accuracy: 0.9742 - val_loss: 0.0916 - val_accuracy: 0.9729\n",
      "Epoch 42/50\n",
      "54/54 [==============================] - 5s 84ms/step - loss: 0.0921 - accuracy: 0.9717 - val_loss: 0.0818 - val_accuracy: 0.9753\n",
      "Epoch 43/50\n",
      "54/54 [==============================] - 4s 80ms/step - loss: 0.0836 - accuracy: 0.9746 - val_loss: 0.0743 - val_accuracy: 0.9780\n",
      "Epoch 44/50\n",
      "54/54 [==============================] - 4s 80ms/step - loss: 0.0887 - accuracy: 0.9718 - val_loss: 0.0799 - val_accuracy: 0.9761\n",
      "Epoch 45/50\n",
      "54/54 [==============================] - 4s 80ms/step - loss: 0.0846 - accuracy: 0.9732 - val_loss: 0.0768 - val_accuracy: 0.9772\n"
     ]
    }
   ],
   "source": [
    "qmodel,history = CreateQModel(X_trn_tf,y_trn_oh,X_tst_tf,y_tst_oh)"
   ]
  },
  {
   "cell_type": "code",
   "execution_count": 29,
   "metadata": {
    "execution": {
     "iopub.execute_input": "2021-10-04T17:05:40.499528Z",
     "iopub.status.busy": "2021-10-04T17:05:40.499528Z",
     "iopub.status.idle": "2021-10-04T17:05:41.650942Z",
     "shell.execute_reply": "2021-10-04T17:05:41.649985Z",
     "shell.execute_reply.started": "2021-10-04T17:05:40.499528Z"
    },
    "tags": []
   },
   "outputs": [
    {
     "name": "stdout",
     "output_type": "stream",
     "text": [
      "Model: \"model\"\n",
      "_________________________________________________________________\n",
      "Layer (type)                 Output Shape              Param #   \n",
      "=================================================================\n",
      "input_1 (InputLayer)         [(None, 319, 1)]          0         \n",
      "_________________________________________________________________\n",
      "conv1d_1 (QConv1D)           (None, 312, 32)           288       \n",
      "_________________________________________________________________\n",
      "act_1 (QActivation)          (None, 312, 32)           0         \n",
      "_________________________________________________________________\n",
      "q_batch_normalization (QBatc (None, 312, 32)           128       \n",
      "_________________________________________________________________\n",
      "dropout_3 (Dropout)          (None, 312, 32)           0         \n",
      "_________________________________________________________________\n",
      "max_pooling1d_3 (MaxPooling1 (None, 156, 32)           0         \n",
      "_________________________________________________________________\n",
      "conv1d_2 (QConv1D)           (None, 149, 16)           4112      \n",
      "_________________________________________________________________\n",
      "act_2 (QActivation)          (None, 149, 16)           0         \n",
      "_________________________________________________________________\n",
      "q_batch_normalization_1 (QBa (None, 149, 16)           64        \n",
      "_________________________________________________________________\n",
      "dropout_4 (Dropout)          (None, 149, 16)           0         \n",
      "_________________________________________________________________\n",
      "max_pooling1d_4 (MaxPooling1 (None, 75, 16)            0         \n",
      "_________________________________________________________________\n",
      "conv1d_3 (QConv1D)           (None, 68, 8)             1032      \n",
      "_________________________________________________________________\n",
      "act_3 (QActivation)          (None, 68, 8)             0         \n",
      "_________________________________________________________________\n",
      "q_batch_normalization_2 (QBa (None, 68, 8)             32        \n",
      "_________________________________________________________________\n",
      "dropout_5 (Dropout)          (None, 68, 8)             0         \n",
      "_________________________________________________________________\n",
      "max_pooling1d_5 (MaxPooling1 (None, 34, 8)             0         \n",
      "_________________________________________________________________\n",
      "flatten (Flatten)            (None, 272)               0         \n",
      "_________________________________________________________________\n",
      "dense (QDense)               (None, 6)                 1638      \n",
      "_________________________________________________________________\n",
      "softmax (Activation)         (None, 6)                 0         \n",
      "=================================================================\n",
      "Total params: 7,294\n",
      "Trainable params: 7,182\n",
      "Non-trainable params: 112\n",
      "_________________________________________________________________\n",
      "WARNING:tensorflow:From C:\\Users\\mmorsy\\AppData\\Roaming\\Python\\Python38\\site-packages\\qkeras-0.9.0-py3.8.egg\\qkeras\\estimate.py:330: Tensor.experimental_ref (from tensorflow.python.framework.ops) is deprecated and will be removed in a future version.\n",
      "Instructions for updating:\n",
      "Use ref() instead.\n"
     ]
    },
    {
     "name": "stderr",
     "output_type": "stream",
     "text": [
      "WARNING:tensorflow:From C:\\Users\\mmorsy\\AppData\\Roaming\\Python\\Python38\\site-packages\\qkeras-0.9.0-py3.8.egg\\qkeras\\estimate.py:330: Tensor.experimental_ref (from tensorflow.python.framework.ops) is deprecated and will be removed in a future version.\n",
      "Instructions for updating:\n",
      "Use ref() instead.\n"
     ]
    },
    {
     "name": "stdout",
     "output_type": "stream",
     "text": [
      "\n",
      "Number of operations in model:\n",
      "    conv1d_1                      : 79872 (smult_4_8)\n",
      "    conv1d_2                      : 610304 (smult_4_4)\n",
      "    conv1d_3                      : 69632 (smult_4_4)\n",
      "    dense                         : 1632  (smult_4_4)\n",
      "\n",
      "Number of operation types in model:\n",
      "    smult_4_4                     : 681568\n",
      "    smult_4_8                     : 79872\n",
      "\n",
      "Weight profiling:\n",
      "    conv1d_1_weights               : 256   (4-bit unit)\n",
      "    conv1d_1_bias                  : 32    (4-bit unit)\n",
      "    conv1d_2_weights               : 4096  (4-bit unit)\n",
      "    conv1d_2_bias                  : 16    (4-bit unit)\n",
      "    conv1d_3_weights               : 1024  (4-bit unit)\n",
      "    conv1d_3_bias                  : 8     (4-bit unit)\n",
      "    dense_weights                  : 1632  (4-bit unit)\n",
      "    dense_bias                     : 6     (4-bit unit)\n",
      "\n",
      "Weight sparsity:\n",
      "... quantizing model\n",
      "    conv1d_1                       : 0.1146\n",
      "    conv1d_2                       : 0.1296\n",
      "    conv1d_3                       : 0.1424\n",
      "    dense                          : 0.2051\n",
      "    ----------------------------------------\n",
      "    Total Sparsity                 : 0.1484\n"
     ]
    }
   ],
   "source": [
    "qmodel.summary()\n",
    "\n",
    "print_qstats(qmodel)"
   ]
  },
  {
   "cell_type": "code",
   "execution_count": 30,
   "metadata": {
    "execution": {
     "iopub.execute_input": "2021-10-04T17:05:41.651943Z",
     "iopub.status.busy": "2021-10-04T17:05:41.651943Z",
     "iopub.status.idle": "2021-10-04T17:05:41.801475Z",
     "shell.execute_reply": "2021-10-04T17:05:41.800469Z",
     "shell.execute_reply.started": "2021-10-04T17:05:41.651943Z"
    },
    "tags": []
   },
   "outputs": [
    {
     "name": "stdout",
     "output_type": "stream",
     "text": [
      "... quantizing model\n"
     ]
    },
    {
     "data": {
      "text/plain": [
       "{'conv1d_1': {'weights': [array([[[-0.25, -0.5 ,  0.5 ,  0.88, -0.62,  0.44, -0.38, -0.25,  0.44,\n",
       "            -0.44,  0.44,  0.5 ,  0.12, -0.88,  0.5 ,  0.38,  0.88,  0.44,\n",
       "             0.  , -0.31, -0.44, -0.5 , -0.38,  0.38, -0.5 ,  0.25,  0.12,\n",
       "            -0.25, -0.44,  0.88,  0.25, -0.62]],\n",
       "   \n",
       "          [[-0.44, -0.25,  0.88, -0.62,  0.  , -0.44,  0.31, -0.5 ,  0.31,\n",
       "            -0.44,  0.  ,  0.5 , -0.25,  0.25,  0.12, -0.5 ,  0.5 , -0.06,\n",
       "             0.12,  0.  ,  0.44,  0.12, -0.25,  0.44, -0.62,  0.38, -0.38,\n",
       "            -0.44,  0.38,  0.  ,  0.12,  0.25]],\n",
       "   \n",
       "          [[-0.31,  0.88,  0.  ,  0.25,  0.25, -0.38,  0.44,  0.5 , -0.31,\n",
       "             0.44,  0.44, -0.88, -0.62,  0.62, -0.88,  0.38,  0.38, -0.44,\n",
       "            -0.88, -0.44,  0.38, -0.38, -0.44,  0.44,  0.38,  0.25,  0.  ,\n",
       "             0.38,  0.38, -0.75,  0.88,  0.38]],\n",
       "   \n",
       "          [[ 0.06,  0.88,  0.25,  0.88, -0.88, -0.12, -0.12,  0.88, -0.06,\n",
       "            -0.06,  0.  , -0.12,  0.75,  0.  , -0.88, -0.12,  0.12,  0.25,\n",
       "             0.38,  0.12,  0.12, -0.5 ,  0.19, -0.38, -0.75,  0.12, -0.75,\n",
       "            -0.44, -0.12,  0.75, -0.25,  0.62]],\n",
       "   \n",
       "          [[ 0.12,  0.5 , -0.12, -0.5 , -0.25, -0.44, -0.38,  0.88,  0.06,\n",
       "            -0.38,  0.44,  0.25,  0.25, -0.38, -0.38,  0.62, -0.38,  0.38,\n",
       "             0.  , -0.06,  0.06, -0.88,  0.44,  0.  ,  0.12, -0.62, -0.12,\n",
       "            -0.19, -0.44,  0.12,  0.12,  0.  ]],\n",
       "   \n",
       "          [[ 0.31,  0.25, -0.38, -0.88,  0.5 ,  0.  ,  0.38, -0.88,  0.12,\n",
       "             0.25,  0.25, -0.25,  0.  , -0.12, -0.25, -0.12,  0.5 , -0.38,\n",
       "            -0.88,  0.  ,  0.  ,  0.75,  0.38, -0.38,  0.88, -0.62, -0.25,\n",
       "             0.12,  0.44, -0.75, -0.5 , -0.88]],\n",
       "   \n",
       "          [[ 0.31,  0.62, -0.88,  0.  ,  0.12,  0.  ,  0.  ,  0.38, -0.25,\n",
       "             0.44, -0.44,  0.5 , -0.62,  0.5 , -0.88, -0.62, -0.88,  0.12,\n",
       "             0.75,  0.12,  0.31,  0.  , -0.19, -0.19,  0.62, -0.88, -0.38,\n",
       "            -0.25, -0.19,  0.25,  0.5 , -0.88]],\n",
       "   \n",
       "          [[-0.19,  0.  , -0.12, -0.38, -0.38,  0.  ,  0.06,  0.12, -0.44,\n",
       "             0.38,  0.06,  0.  , -0.25,  0.5 , -0.62,  0.75, -0.25,  0.06,\n",
       "             0.12,  0.31, -0.44,  0.12,  0.31,  0.44, -0.25,  0.88, -0.88,\n",
       "             0.44, -0.44, -0.5 ,  0.88, -0.5 ]]], dtype=float32),\n",
       "   array([-0.12,  0.25,  0.  , -0.12, -0.12, -0.12, -0.12,  0.  , -0.12,\n",
       "           0.12,  0.  , -0.12, -0.25, -0.12,  0.25, -0.12,  0.12, -0.12,\n",
       "          -0.12, -0.12,  0.  , -0.12,  0.  ,  0.  ,  0.  ,  0.  ,  0.  ,\n",
       "          -0.12, -0.12, -0.12,  0.  , -0.12], dtype=float32)]},\n",
       " 'q_batch_normalization': {'weights': [array([1. , 1. , 1. , 1. , 0.5, 1. , 1. , 1. , 1. , 1. , 1. , 1. , 1. ,\n",
       "          1. , 1. , 1. , 1. , 1. , 1. , 1. , 1. , 1. , 1. , 1. , 1. , 1. ,\n",
       "          1. , 1. , 1. , 1. , 1. , 1. ], dtype=float32),\n",
       "   array([ 0.25,  0.25,  0.12,  0.03,  0.06,  0.25, -0.  ,  0.12, -0.02,\n",
       "           0.25,  0.25,  0.06,  0.25,  0.03,  0.25, -0.06,  0.25, -0.02,\n",
       "           0.12,  0.03,  0.06,  0.12,  0.06,  0.25,  0.12,  0.25,  0.06,\n",
       "           0.25,  0.06,  0.01,  0.01,  0.12], dtype=float32),\n",
       "   array([0.12, 0.5 , 0.12, 0.06, 0.25, 0.25, 0.06, 0.25, 0.03, 0.25, 0.25,\n",
       "          0.06, 0.12, 0.12, 0.5 , 0.12, 0.25, 0.06, 0.06, 0.06, 0.12, 0.25,\n",
       "          0.03, 0.25, 0.12, 0.12, 0.25, 0.12, 0.06, 0.03, 0.5 , 0.25],\n",
       "         dtype=float32),\n",
       "   array([0.06, 0.25, 0.06, 0.06, 0.06, 0.25, 0.02, 0.25, 0.02, 0.06, 0.25,\n",
       "          0.06, 0.06, 0.06, 0.25, 0.06, 0.06, 0.02, 0.06, 0.02, 0.06, 0.06,\n",
       "          0.02, 0.06, 0.06, 0.06, 0.25, 0.06, 0.06, 0.02, 0.25, 0.25],\n",
       "         dtype=float32)]},\n",
       " 'conv1d_2': {'weights': [array([[[ 0.06,  0.  , -0.06, ..., -0.03, -0.06, -0.12],\n",
       "           [-0.09,  0.  ,  0.03, ..., -0.09, -0.16, -0.03],\n",
       "           [-0.12,  0.22, -0.09, ..., -0.09, -0.16,  0.06],\n",
       "           ...,\n",
       "           [-0.03,  0.19,  0.  , ...,  0.22, -0.03,  0.  ],\n",
       "           [-0.03, -0.09,  0.03, ...,  0.03, -0.03,  0.16],\n",
       "           [-0.06,  0.16,  0.03, ..., -0.06,  0.03, -0.03]],\n",
       "   \n",
       "          [[-0.06,  0.09, -0.12, ..., -0.06,  0.09,  0.03],\n",
       "           [ 0.  ,  0.03,  0.06, ..., -0.16, -0.06, -0.16],\n",
       "           [ 0.  ,  0.22, -0.06, ...,  0.03, -0.22,  0.16],\n",
       "           ...,\n",
       "           [ 0.16,  0.06, -0.06, ...,  0.19, -0.03,  0.  ],\n",
       "           [ 0.03,  0.  ,  0.  , ..., -0.12, -0.09,  0.12],\n",
       "           [ 0.  ,  0.03,  0.  , ..., -0.06,  0.19, -0.06]],\n",
       "   \n",
       "          [[-0.03, -0.06, -0.06, ..., -0.12,  0.19, -0.16],\n",
       "           [ 0.09,  0.03, -0.06, ...,  0.06,  0.  ,  0.  ],\n",
       "           [-0.09,  0.12, -0.03, ..., -0.06, -0.06,  0.09],\n",
       "           ...,\n",
       "           [ 0.  ,  0.03,  0.06, ...,  0.09, -0.09,  0.03],\n",
       "           [-0.03, -0.16, -0.06, ...,  0.06,  0.  , -0.03],\n",
       "           [-0.06,  0.  ,  0.03, ...,  0.03,  0.12,  0.19]],\n",
       "   \n",
       "          ...,\n",
       "   \n",
       "          [[-0.03,  0.03,  0.09, ...,  0.09, -0.03, -0.06],\n",
       "           [-0.09,  0.06, -0.19, ...,  0.03,  0.03,  0.03],\n",
       "           [-0.22, -0.03, -0.06, ...,  0.  ,  0.06,  0.06],\n",
       "           ...,\n",
       "           [ 0.03, -0.03,  0.12, ...,  0.06,  0.12, -0.03],\n",
       "           [ 0.09, -0.03,  0.  , ...,  0.16,  0.06, -0.06],\n",
       "           [ 0.06, -0.19, -0.16, ...,  0.03, -0.03,  0.  ]],\n",
       "   \n",
       "          [[ 0.12,  0.03,  0.03, ..., -0.12,  0.06,  0.  ],\n",
       "           [-0.03, -0.09, -0.03, ...,  0.06,  0.  , -0.12],\n",
       "           [-0.16, -0.03,  0.09, ..., -0.09, -0.12,  0.19],\n",
       "           ...,\n",
       "           [ 0.09,  0.  ,  0.03, ...,  0.06, -0.22, -0.09],\n",
       "           [ 0.16,  0.03,  0.09, ..., -0.09,  0.09, -0.06],\n",
       "           [-0.03, -0.16, -0.03, ...,  0.03, -0.09,  0.  ]],\n",
       "   \n",
       "          [[-0.09, -0.09,  0.06, ...,  0.12, -0.16,  0.  ],\n",
       "           [ 0.06, -0.19, -0.09, ...,  0.06, -0.03, -0.09],\n",
       "           [-0.03, -0.06,  0.  , ..., -0.16, -0.09,  0.  ],\n",
       "           ...,\n",
       "           [ 0.  , -0.12,  0.22, ...,  0.03,  0.03, -0.12],\n",
       "           [ 0.09,  0.  ,  0.  , ...,  0.09, -0.09,  0.03],\n",
       "           [-0.03, -0.12, -0.19, ..., -0.03,  0.06,  0.06]]], dtype=float32),\n",
       "   array([-0.38,  0.  , -0.25, -0.12,  0.12, -0.12, -0.12, -0.25,  0.  ,\n",
       "           0.  , -0.12,  0.  ,  0.12, -0.25,  0.25,  0.  ], dtype=float32)]},\n",
       " 'q_batch_normalization_1': {'weights': [array([1., 1., 1., 1., 1., 1., 1., 1., 1., 1., 1., 1., 1., 1., 1., 1.],\n",
       "         dtype=float32),\n",
       "   array([0.25, 0.25, 0.25, 0.5 , 0.5 , 0.12, 0.25, 0.12, 0.5 , 0.12, 0.25,\n",
       "          0.25, 0.25, 0.12, 0.25, 0.25], dtype=float32),\n",
       "   array([0.25, 0.25, 0.25, 0.25, 0.5 , 0.25, 0.25, 0.25, 0.25, 0.5 , 0.25,\n",
       "          0.5 , 0.25, 0.25, 0.5 , 0.5 ], dtype=float32),\n",
       "   array([0.25, 0.25, 0.25, 0.25, 0.25, 0.25, 0.25, 0.25, 0.25, 0.25, 0.25,\n",
       "          0.25, 0.25, 0.25, 0.25, 0.25], dtype=float32)]},\n",
       " 'conv1d_3': {'weights': [array([[[ 0.06,  0.06,  0.06, ...,  0.  ,  0.12,  0.06],\n",
       "           [ 0.19, -0.25, -0.03, ..., -0.25, -0.06,  0.09],\n",
       "           [ 0.  ,  0.  ,  0.  , ...,  0.  ,  0.  ,  0.  ],\n",
       "           ...,\n",
       "           [ 0.12,  0.  ,  0.19, ..., -0.06,  0.19,  0.09],\n",
       "           [ 0.12, -0.25, -0.22, ...,  0.12,  0.19,  0.16],\n",
       "           [ 0.  , -0.12,  0.03, ..., -0.19, -0.06,  0.19]],\n",
       "   \n",
       "          [[ 0.09,  0.  ,  0.06, ...,  0.  ,  0.  , -0.22],\n",
       "           [-0.09,  0.06,  0.09, ...,  0.06, -0.06, -0.06],\n",
       "           [-0.22,  0.06,  0.16, ..., -0.19, -0.12, -0.03],\n",
       "           ...,\n",
       "           [-0.09,  0.12,  0.06, ..., -0.12, -0.19, -0.12],\n",
       "           [ 0.  , -0.25, -0.06, ...,  0.19,  0.06, -0.22],\n",
       "           [-0.09,  0.12,  0.  , ...,  0.  , -0.19,  0.03]],\n",
       "   \n",
       "          [[-0.03, -0.12,  0.  , ...,  0.  ,  0.  , -0.22],\n",
       "           [ 0.19,  0.06,  0.09, ...,  0.06, -0.19,  0.22],\n",
       "           [ 0.06,  0.06,  0.  , ..., -0.19, -0.06, -0.16],\n",
       "           ...,\n",
       "           [-0.19,  0.  ,  0.  , ..., -0.19,  0.12, -0.09],\n",
       "           [ 0.03, -0.06,  0.  , ...,  0.06,  0.06,  0.03],\n",
       "           [-0.09, -0.19,  0.06, ..., -0.06, -0.25,  0.03]],\n",
       "   \n",
       "          ...,\n",
       "   \n",
       "          [[-0.06,  0.06, -0.16, ...,  0.  ,  0.  , -0.06],\n",
       "           [ 0.09,  0.19,  0.03, ..., -0.06, -0.31, -0.09],\n",
       "           [-0.22, -0.19,  0.06, ...,  0.  ,  0.19, -0.22],\n",
       "           ...,\n",
       "           [ 0.09,  0.  ,  0.12, ..., -0.12,  0.06, -0.09],\n",
       "           [ 0.06, -0.19,  0.09, ...,  0.12, -0.06, -0.22],\n",
       "           [-0.16,  0.06,  0.09, ...,  0.  , -0.06, -0.16]],\n",
       "   \n",
       "          [[ 0.16, -0.06,  0.06, ..., -0.31, -0.12, -0.09],\n",
       "           [ 0.03,  0.06,  0.06, ..., -0.19, -0.12, -0.19],\n",
       "           [ 0.16,  0.19, -0.06, ...,  0.06,  0.19,  0.06],\n",
       "           ...,\n",
       "           [ 0.09,  0.  , -0.06, ...,  0.06,  0.12, -0.19],\n",
       "           [ 0.06,  0.12, -0.06, ...,  0.  ,  0.06,  0.19],\n",
       "           [-0.03,  0.  ,  0.  , ...,  0.06, -0.06, -0.06]],\n",
       "   \n",
       "          [[ 0.  ,  0.25,  0.  , ..., -0.44,  0.12, -0.09],\n",
       "           [-0.22,  0.  ,  0.16, ..., -0.06, -0.06, -0.06],\n",
       "           [ 0.22,  0.31, -0.16, ...,  0.06,  0.31, -0.19],\n",
       "           ...,\n",
       "           [ 0.09,  0.25, -0.12, ..., -0.12,  0.  , -0.22],\n",
       "           [-0.09,  0.12, -0.12, ..., -0.06, -0.12,  0.16],\n",
       "           [-0.12, -0.06,  0.09, ...,  0.19,  0.06, -0.16]]], dtype=float32),\n",
       "   array([ 0.  ,  0.  , -0.12,  0.  , -0.12,  0.  ,  0.  ,  0.12],\n",
       "         dtype=float32)]},\n",
       " 'q_batch_normalization_2': {'weights': [array([1., 1., 1., 1., 1., 1., 1., 1.], dtype=float32),\n",
       "   array([0.5 , 0.25, 0.25, 1.  , 0.5 , 0.25, 0.25, 0.5 ], dtype=float32),\n",
       "   array([0.25, 0.25, 0.12, 0.5 , 0.25, 0.25, 0.25, 0.5 ], dtype=float32),\n",
       "   array([0.25, 0.25, 0.06, 0.25, 0.25, 0.25, 0.25, 0.25], dtype=float32)]},\n",
       " 'dense': {'weights': [array([[ 0.  ,  0.  , -0.06, -0.06,  0.19, -0.06],\n",
       "          [ 0.  , -0.12,  0.  , -0.06,  0.06, -0.12],\n",
       "          [-0.31, -0.44, -0.19,  0.19,  0.12,  0.  ],\n",
       "          ...,\n",
       "          [-0.12, -0.06,  0.25,  0.06,  0.06,  0.06],\n",
       "          [ 0.06,  0.25,  0.  , -0.12, -0.19, -0.25],\n",
       "          [ 0.06,  0.12, -0.25,  0.06,  0.06,  0.12]], dtype=float32),\n",
       "   array([ 0.12,  0.  ,  0.  , -0.12,  0.  , -0.12], dtype=float32)]}}"
      ]
     },
     "execution_count": 30,
     "metadata": {},
     "output_type": "execute_result"
    }
   ],
   "source": [
    "from qkeras.utils import *\n",
    "model_save_quantized_weights(qmodel, 'qmodel.h5')\n",
    "#load_qmodel('qmodel.h5', custom_objects=None, compile=True)"
   ]
  },
  {
   "cell_type": "code",
   "execution_count": 31,
   "metadata": {
    "execution": {
     "iopub.execute_input": "2021-10-04T17:05:41.802472Z",
     "iopub.status.busy": "2021-10-04T17:05:41.801475Z",
     "iopub.status.idle": "2021-10-04T17:05:41.817475Z",
     "shell.execute_reply": "2021-10-04T17:05:41.815475Z",
     "shell.execute_reply.started": "2021-10-04T17:05:41.802472Z"
    },
    "tags": []
   },
   "outputs": [
    {
     "name": "stdout",
     "output_type": "stream",
     "text": [
      "Model Sparsity Summary (model)\n",
      "--\n",
      "conv1d_1: (conv1d_1/kernel:0, 0.08984375)\n",
      "conv1d_2: (conv1d_2/kernel:0, 0.12890625)\n",
      "conv1d_3: (conv1d_3/kernel:0, 0.138671875)\n",
      "dense: (dense/kernel:0, 0.20404411764705888)\n",
      "\n",
      "\n"
     ]
    }
   ],
   "source": [
    "print_model_sparsity(qmodel)"
   ]
  },
  {
   "cell_type": "code",
   "execution_count": 32,
   "metadata": {
    "execution": {
     "iopub.execute_input": "2021-10-04T17:05:41.818476Z",
     "iopub.status.busy": "2021-10-04T17:05:41.818476Z",
     "iopub.status.idle": "2021-10-04T17:05:53.482258Z",
     "shell.execute_reply": "2021-10-04T17:05:53.481258Z",
     "shell.execute_reply.started": "2021-10-04T17:05:41.818476Z"
    },
    "tags": []
   },
   "outputs": [
    {
     "name": "stdout",
     "output_type": "stream",
     "text": [
      "input                          -11.5861  14.6682\n",
      "conv1d_1                       -47.1998  37.4535"
     ]
    },
    {
     "name": "stderr",
     "output_type": "stream",
     "text": [
      "C:\\Users\\mmorsy\\AppData\\Roaming\\Python\\Python38\\site-packages\\qkeras-0.9.0-py3.8.egg\\qkeras\\utils.py:994: UserWarning: Matplotlib is currently using agg, which is a non-GUI backend, so cannot show the figure.\n",
      "C:\\Users\\mmorsy\\AppData\\Roaming\\Python\\Python38\\site-packages\\qkeras-0.9.0-py3.8.egg\\qkeras\\utils.py:1019: UserWarning: Matplotlib is currently using agg, which is a non-GUI backend, so cannot show the figure.\n"
     ]
    },
    {
     "name": "stdout",
     "output_type": "stream",
     "text": [
      " ( -0.8750   0.8750) ( -0.2500   0.2500) a(  0.500000   1.000000)\n",
      "act_1                            0.0000   0.9375\n",
      "q_batch_normalization           -0.9902   7.0911 (  0.5000   1.0000) ( -0.0625   0.2500) (  0.0312   0.5000) (  0.0156   0.2500)\n",
      "conv1d_2                       -32.2179  24.1948 ( -0.8750   0.8750) ( -0.3750   0.2500) a(  0.250000   0.250000)\n",
      "act_2                            0.0000   0.9375\n",
      "q_batch_normalization_1         -0.8730   1.8723 (  1.0000   1.0000) (  0.1250   0.5000) (  0.2500   0.5000) (  0.2500   0.2500)\n",
      "conv1d_3                        -9.4911   7.7661 ( -0.8750   0.8750) ( -0.1250   0.1250) a(  0.250000   0.500000)\n",
      "act_3                            0.0000   0.9375\n",
      "q_batch_normalization_2         -0.4980   3.4743 (  1.0000   1.0000) (  0.2500   1.0000) (  0.1250   0.5000) (  0.0625   0.2500)\n",
      "dense                          -15.3895  13.0138 ( -0.8750   0.8750) ( -0.1250   0.1250) a(  0.500000   0.500000)\n"
     ]
    },
    {
     "data": {
      "image/png": "[encoded data removed]",
      "text/plain": [
       "<Figure size 432x288 with 1 Axes>"
      ]
     },
     "metadata": {
      "image/png": {
       "height": 263,
       "width": 362
      },
      "needs_background": "light"
     },
     "output_type": "display_data"
    }
   ],
   "source": [
    "quantized_model_debug(qmodel, X_tst_tf, plot=True)"
   ]
  },
  {
   "cell_type": "code",
   "execution_count": 33,
   "metadata": {
    "execution": {
     "iopub.execute_input": "2021-10-04T17:05:53.483258Z",
     "iopub.status.busy": "2021-10-04T17:05:53.483258Z",
     "iopub.status.idle": "2021-10-04T17:05:54.563557Z",
     "shell.execute_reply": "2021-10-04T17:05:54.562591Z",
     "shell.execute_reply.started": "2021-10-04T17:05:53.483258Z"
    }
   },
   "outputs": [
    {
     "data": {
      "text/plain": [
       "{'conv1d_1': {'type': ('mult', (0, 0), (4, 8), (1, 0)),\n",
       "  'number_of_operations': 79872,\n",
       "  'number_of_weights': 256,\n",
       "  'number_of_bias': 32,\n",
       "  'type_of_weights': (0, 4, 1),\n",
       "  'type_of_bias': (0, 4, 1)},\n",
       " 'conv1d_2': {'type': ('mult', (0, 0), (4, 4), (1, 0)),\n",
       "  'number_of_operations': 610304,\n",
       "  'number_of_weights': 4096,\n",
       "  'number_of_bias': 16,\n",
       "  'type_of_weights': (0, 4, 1),\n",
       "  'type_of_bias': (0, 4, 1)},\n",
       " 'conv1d_3': {'type': ('mult', (0, 0), (4, 4), (1, 0)),\n",
       "  'number_of_operations': 69632,\n",
       "  'number_of_weights': 1024,\n",
       "  'number_of_bias': 8,\n",
       "  'type_of_weights': (0, 4, 1),\n",
       "  'type_of_bias': (0, 4, 1)},\n",
       " 'dense': {'type': ('mult', (0, 0), (4, 4), (1, 0)),\n",
       "  'number_of_operations': 1632,\n",
       "  'number_of_weights': 1632,\n",
       "  'number_of_bias': 6,\n",
       "  'type_of_weights': (0, 4, 1),\n",
       "  'type_of_bias': (0, 4, 1)}}"
      ]
     },
     "execution_count": 33,
     "metadata": {},
     "output_type": "execute_result"
    }
   ],
   "source": [
    "extract_model_operations(qmodel)"
   ]
  },
  {
   "cell_type": "code",
   "execution_count": 34,
   "metadata": {
    "execution": {
     "iopub.execute_input": "2021-10-04T17:05:54.564555Z",
     "iopub.status.busy": "2021-10-04T17:05:54.564555Z",
     "iopub.status.idle": "2021-10-04T17:05:54.608624Z",
     "shell.execute_reply": "2021-10-04T17:05:54.607666Z",
     "shell.execute_reply.started": "2021-10-04T17:05:54.564555Z"
    }
   },
   "outputs": [
    {
     "name": "stdout",
     "output_type": "stream",
     "text": [
      "Saved baseline model to: C:\\Users\\mmorsy\\AppData\\Local\\Temp\\tmpze_7tzma.h5\n"
     ]
    }
   ],
   "source": [
    "_, keras_file = tempfile.mkstemp('.h5')\n",
    "tf.keras.models.save_model(qmodel, keras_file, include_optimizer=False)\n",
    "print('Saved baseline model to:', keras_file)"
   ]
  },
  {
   "cell_type": "code",
   "execution_count": 35,
   "metadata": {
    "execution": {
     "iopub.execute_input": "2021-10-04T17:05:54.610625Z",
     "iopub.status.busy": "2021-10-04T17:05:54.610625Z",
     "iopub.status.idle": "2021-10-04T17:05:54.623618Z",
     "shell.execute_reply": "2021-10-04T17:05:54.622619Z",
     "shell.execute_reply.started": "2021-10-04T17:05:54.610625Z"
    }
   },
   "outputs": [],
   "source": [
    "from tensorflow_model_optimization.python.core.sparsity.keras import prune\n",
    "from tensorflow_model_optimization.python.core.sparsity.keras import pruning_callbacks\n",
    "from tensorflow_model_optimization.python.core.sparsity.keras import pruning_schedule"
   ]
  },
  {
   "cell_type": "code",
   "execution_count": 36,
   "metadata": {
    "execution": {
     "iopub.execute_input": "2021-10-04T17:05:54.624618Z",
     "iopub.status.busy": "2021-10-04T17:05:54.624618Z",
     "iopub.status.idle": "2021-10-04T17:05:56.166657Z",
     "shell.execute_reply": "2021-10-04T17:05:56.165690Z",
     "shell.execute_reply.started": "2021-10-04T17:05:54.624618Z"
    },
    "tags": []
   },
   "outputs": [
    {
     "name": "stderr",
     "output_type": "stream",
     "text": [
      "C:\\Users\\mmorsy\\AppData\\Roaming\\Python\\Python38\\site-packages\\tensorflow\\python\\keras\\engine\\base_layer.py:2281: UserWarning: `layer.add_variable` is deprecated and will be removed in a future version. Please use `layer.add_weight` method instead.\n",
      "  warnings.warn('`layer.add_variable` is deprecated and '\n"
     ]
    },
    {
     "name": "stdout",
     "output_type": "stream",
     "text": [
      "Model: \"model\"\n",
      "_________________________________________________________________\n",
      "Layer (type)                 Output Shape              Param #   \n",
      "=================================================================\n",
      "input_1 (InputLayer)         [(None, 319, 1)]          0         \n",
      "_________________________________________________________________\n",
      "prune_low_magnitude_conv1d_1 (None, 312, 32)           546       \n",
      "_________________________________________________________________\n",
      "prune_low_magnitude_act_1 (P (None, 312, 32)           1         \n",
      "_________________________________________________________________\n",
      "prune_low_magnitude_q_batch_ (None, 312, 32)           129       \n",
      "_________________________________________________________________\n",
      "prune_low_magnitude_dropout_ (None, 312, 32)           1         \n",
      "_________________________________________________________________\n",
      "prune_low_magnitude_max_pool (None, 156, 32)           1         \n",
      "_________________________________________________________________\n",
      "prune_low_magnitude_conv1d_2 (None, 149, 16)           8210      \n",
      "_________________________________________________________________\n",
      "prune_low_magnitude_act_2 (P (None, 149, 16)           1         \n",
      "_________________________________________________________________\n",
      "prune_low_magnitude_q_batch_ (None, 149, 16)           65        \n",
      "_________________________________________________________________\n",
      "prune_low_magnitude_dropout_ (None, 149, 16)           1         \n",
      "_________________________________________________________________\n",
      "prune_low_magnitude_max_pool (None, 75, 16)            1         \n",
      "_________________________________________________________________\n",
      "prune_low_magnitude_conv1d_3 (None, 68, 8)             2058      \n",
      "_________________________________________________________________\n",
      "prune_low_magnitude_act_3 (P (None, 68, 8)             1         \n",
      "_________________________________________________________________\n",
      "prune_low_magnitude_q_batch_ (None, 68, 8)             33        \n",
      "_________________________________________________________________\n",
      "prune_low_magnitude_dropout_ (None, 68, 8)             1         \n",
      "_________________________________________________________________\n",
      "prune_low_magnitude_max_pool (None, 34, 8)             1         \n",
      "_________________________________________________________________\n",
      "prune_low_magnitude_flatten  (None, 272)               1         \n",
      "_________________________________________________________________\n",
      "prune_low_magnitude_dense (P (None, 6)                 3272      \n",
      "_________________________________________________________________\n",
      "prune_low_magnitude_softmax  (None, 6)                 1         \n",
      "=================================================================\n",
      "Total params: 14,324\n",
      "Trainable params: 7,182\n",
      "Non-trainable params: 7,142\n",
      "_________________________________________________________________\n"
     ]
    }
   ],
   "source": [
    "import tensorflow_model_optimization as tfmot\n",
    "\n",
    "prune_low_magnitude = tfmot.sparsity.keras.prune_low_magnitude\n",
    "\n",
    "# Compute end step to finish pruning after 2 epochs.\n",
    "batch_size = 500\n",
    "epochs = 50\n",
    "validation_split = 0.2 # 20% of training set will be used for validation set. \n",
    "\n",
    "num_examples = X_trn_tf.shape[0] * (1 - validation_split)\n",
    "end_step = np.ceil(num_examples / batch_size).astype(np.int32) * epochs\n",
    "\n",
    "# Define model for pruning.\n",
    "pruning_params = {\n",
    "      'pruning_schedule': tfmot.sparsity.keras.PolynomialDecay(initial_sparsity=0.50,\n",
    "                                                               final_sparsity=0.80,\n",
    "                                                               begin_step=0,\n",
    "                                                               end_step=end_step)\n",
    "}\n",
    "\n",
    "model_for_pruning = prune_low_magnitude(qmodel, **pruning_params)\n",
    "\n",
    "opt = RMSprop(learning_rate=0.001)\n",
    "\n",
    "# `prune_low_magnitude` requires a recompile.\n",
    "model_for_pruning.compile(optimizer=opt,\n",
    "              loss='categorical_crossentropy',\n",
    "              metrics=['accuracy'])\n",
    "\n",
    "model_for_pruning.summary()"
   ]
  },
  {
   "cell_type": "code",
   "execution_count": 37,
   "metadata": {
    "execution": {
     "iopub.execute_input": "2021-10-04T17:05:56.166657Z",
     "iopub.status.busy": "2021-10-04T17:05:56.166657Z",
     "iopub.status.idle": "2021-10-04T17:10:22.718504Z",
     "shell.execute_reply": "2021-10-04T17:10:22.718504Z",
     "shell.execute_reply.started": "2021-10-04T17:05:56.166657Z"
    },
    "tags": []
   },
   "outputs": [
    {
     "name": "stdout",
     "output_type": "stream",
     "text": [
      "Epoch 1/50\n",
      " 6/54 [==>...........................] - ETA: 23s - loss: 0.0839 - accuracy: 0.9760WARNING:tensorflow:Callback method `on_train_batch_end` is slow compared to the batch time (batch time: 0.0534s vs `on_train_batch_end` time: 0.3729s). Check your callbacks.\n"
     ]
    },
    {
     "name": "stderr",
     "output_type": "stream",
     "text": [
      "WARNING:tensorflow:Callback method `on_train_batch_end` is slow compared to the batch time (batch time: 0.0534s vs `on_train_batch_end` time: 0.3729s). Check your callbacks.\n"
     ]
    },
    {
     "name": "stdout",
     "output_type": "stream",
     "text": [
      "54/54 [==============================] - 18s 168ms/step - loss: 0.0812 - accuracy: 0.9750 - val_loss: 0.0771 - val_accuracy: 0.9764\n",
      "Epoch 2/50\n",
      "54/54 [==============================] - 5s 94ms/step - loss: 0.0797 - accuracy: 0.9743 - val_loss: 0.2931 - val_accuracy: 0.9115\n",
      "Epoch 3/50\n",
      "54/54 [==============================] - 6s 103ms/step - loss: 0.1311 - accuracy: 0.9579 - val_loss: 0.1514 - val_accuracy: 0.9527\n",
      "Epoch 4/50\n",
      "54/54 [==============================] - 6s 104ms/step - loss: 0.1112 - accuracy: 0.9653 - val_loss: 0.1618 - val_accuracy: 0.9535\n",
      "Epoch 5/50\n",
      "54/54 [==============================] - 5s 101ms/step - loss: 0.1101 - accuracy: 0.9657 - val_loss: 0.1201 - val_accuracy: 0.9664\n",
      "Epoch 6/50\n",
      "54/54 [==============================] - 5s 98ms/step - loss: 0.1038 - accuracy: 0.9676 - val_loss: 0.1082 - val_accuracy: 0.9685\n",
      "Epoch 7/50\n",
      "54/54 [==============================] - 5s 93ms/step - loss: 0.0927 - accuracy: 0.9703 - val_loss: 0.0981 - val_accuracy: 0.9710\n",
      "Epoch 8/50\n",
      "54/54 [==============================] - 5s 91ms/step - loss: 0.1143 - accuracy: 0.9649 - val_loss: 0.1342 - val_accuracy: 0.9601\n",
      "Epoch 9/50\n",
      "54/54 [==============================] - 5s 92ms/step - loss: 0.1117 - accuracy: 0.9646 - val_loss: 0.1206 - val_accuracy: 0.9658\n",
      "Epoch 10/50\n",
      "54/54 [==============================] - 5s 96ms/step - loss: 0.1228 - accuracy: 0.9619 - val_loss: 0.1573 - val_accuracy: 0.9509\n",
      "Epoch 11/50\n",
      "54/54 [==============================] - 5s 90ms/step - loss: 0.1053 - accuracy: 0.9662 - val_loss: 0.1088 - val_accuracy: 0.9674\n",
      "Epoch 12/50\n",
      "54/54 [==============================] - 5s 91ms/step - loss: 0.1177 - accuracy: 0.9645 - val_loss: 0.1118 - val_accuracy: 0.9645\n",
      "Epoch 13/50\n",
      "54/54 [==============================] - 5s 89ms/step - loss: 0.1054 - accuracy: 0.9683 - val_loss: 0.2370 - val_accuracy: 0.9233\n",
      "Epoch 14/50\n",
      "54/54 [==============================] - 5s 90ms/step - loss: 0.1439 - accuracy: 0.9568 - val_loss: 0.1353 - val_accuracy: 0.9570\n",
      "Epoch 15/50\n",
      "54/54 [==============================] - 5s 89ms/step - loss: 0.1098 - accuracy: 0.9659 - val_loss: 0.1558 - val_accuracy: 0.9523\n",
      "Epoch 16/50\n",
      "54/54 [==============================] - 5s 96ms/step - loss: 0.1307 - accuracy: 0.9597 - val_loss: 0.1713 - val_accuracy: 0.9442\n",
      "Epoch 17/50\n",
      "54/54 [==============================] - 5s 98ms/step - loss: 0.1229 - accuracy: 0.9633 - val_loss: 0.1538 - val_accuracy: 0.9569\n",
      "Epoch 18/50\n",
      "54/54 [==============================] - 5s 96ms/step - loss: 0.1323 - accuracy: 0.9599 - val_loss: 0.1137 - val_accuracy: 0.9653\n",
      "Epoch 19/50\n",
      "54/54 [==============================] - 5s 96ms/step - loss: 0.1153 - accuracy: 0.9647 - val_loss: 0.1170 - val_accuracy: 0.9659\n",
      "Epoch 20/50\n",
      "54/54 [==============================] - 5s 99ms/step - loss: 0.1139 - accuracy: 0.9647 - val_loss: 0.1129 - val_accuracy: 0.9673\n",
      "Epoch 21/50\n",
      "54/54 [==============================] - 5s 98ms/step - loss: 0.1204 - accuracy: 0.9623 - val_loss: 0.1458 - val_accuracy: 0.9543\n",
      "Epoch 22/50\n",
      "54/54 [==============================] - 5s 96ms/step - loss: 0.1191 - accuracy: 0.9633 - val_loss: 0.1019 - val_accuracy: 0.9686\n",
      "Epoch 23/50\n",
      "54/54 [==============================] - 5s 92ms/step - loss: 0.1232 - accuracy: 0.9607 - val_loss: 0.1742 - val_accuracy: 0.9454\n",
      "Epoch 24/50\n",
      "54/54 [==============================] - 5s 92ms/step - loss: 0.1193 - accuracy: 0.9624 - val_loss: 0.1224 - val_accuracy: 0.9628\n",
      "Epoch 25/50\n",
      "54/54 [==============================] - 5s 93ms/step - loss: 0.1275 - accuracy: 0.9594 - val_loss: 0.1114 - val_accuracy: 0.9665\n",
      "Epoch 26/50\n",
      "54/54 [==============================] - 5s 92ms/step - loss: 0.1108 - accuracy: 0.9653 - val_loss: 0.1335 - val_accuracy: 0.9619\n",
      "Epoch 27/50\n",
      "54/54 [==============================] - 5s 91ms/step - loss: 0.1097 - accuracy: 0.9668 - val_loss: 0.1115 - val_accuracy: 0.9665\n",
      "Epoch 28/50\n",
      "54/54 [==============================] - 5s 90ms/step - loss: 0.1026 - accuracy: 0.9686 - val_loss: 0.1036 - val_accuracy: 0.9698\n",
      "Epoch 29/50\n",
      "54/54 [==============================] - 5s 91ms/step - loss: 0.0969 - accuracy: 0.9695 - val_loss: 0.1085 - val_accuracy: 0.9691\n",
      "Epoch 30/50\n",
      "54/54 [==============================] - 5s 91ms/step - loss: 0.1027 - accuracy: 0.9692 - val_loss: 0.1546 - val_accuracy: 0.9523\n",
      "Epoch 31/50\n",
      "54/54 [==============================] - 5s 90ms/step - loss: 0.1022 - accuracy: 0.9694 - val_loss: 0.1170 - val_accuracy: 0.9649\n",
      "Epoch 32/50\n",
      "54/54 [==============================] - 5s 89ms/step - loss: 0.0968 - accuracy: 0.9691 - val_loss: 0.1309 - val_accuracy: 0.9634\n",
      "Epoch 33/50\n",
      "54/54 [==============================] - 5s 91ms/step - loss: 0.1119 - accuracy: 0.9649 - val_loss: 0.1532 - val_accuracy: 0.9517\n",
      "Epoch 34/50\n",
      "54/54 [==============================] - 5s 93ms/step - loss: 0.1063 - accuracy: 0.9661 - val_loss: 0.1635 - val_accuracy: 0.9493\n",
      "Epoch 35/50\n",
      "54/54 [==============================] - 5s 92ms/step - loss: 0.1114 - accuracy: 0.9649 - val_loss: 0.1238 - val_accuracy: 0.9618\n",
      "Epoch 36/50\n",
      "54/54 [==============================] - 5s 93ms/step - loss: 0.1045 - accuracy: 0.9675 - val_loss: 0.1140 - val_accuracy: 0.9633\n",
      "Epoch 37/50\n",
      "54/54 [==============================] - 5s 93ms/step - loss: 0.1011 - accuracy: 0.9673 - val_loss: 0.1564 - val_accuracy: 0.9529\n",
      "Epoch 38/50\n",
      "54/54 [==============================] - 5s 93ms/step - loss: 0.1105 - accuracy: 0.9654 - val_loss: 0.1457 - val_accuracy: 0.9532\n",
      "Epoch 39/50\n",
      "54/54 [==============================] - 5s 96ms/step - loss: 0.1026 - accuracy: 0.9681 - val_loss: 0.1350 - val_accuracy: 0.9606\n",
      "Epoch 40/50\n",
      "54/54 [==============================] - 5s 93ms/step - loss: 0.1152 - accuracy: 0.9636 - val_loss: 0.1415 - val_accuracy: 0.9575\n",
      "Epoch 41/50\n",
      "54/54 [==============================] - 5s 92ms/step - loss: 0.1087 - accuracy: 0.9664 - val_loss: 0.1378 - val_accuracy: 0.9576\n",
      "Epoch 42/50\n",
      "54/54 [==============================] - 5s 92ms/step - loss: 0.1073 - accuracy: 0.9678 - val_loss: 0.1160 - val_accuracy: 0.9627\n",
      "Epoch 43/50\n",
      "54/54 [==============================] - 5s 92ms/step - loss: 0.1261 - accuracy: 0.9609 - val_loss: 0.1591 - val_accuracy: 0.9497\n",
      "Epoch 44/50\n",
      "54/54 [==============================] - 5s 92ms/step - loss: 0.1232 - accuracy: 0.9611 - val_loss: 0.1046 - val_accuracy: 0.9682\n",
      "Epoch 45/50\n",
      "54/54 [==============================] - 5s 91ms/step - loss: 0.1050 - accuracy: 0.9676 - val_loss: 0.1258 - val_accuracy: 0.9588\n",
      "Epoch 46/50\n",
      "54/54 [==============================] - 5s 98ms/step - loss: 0.1177 - accuracy: 0.9621 - val_loss: 0.1257 - val_accuracy: 0.9601\n",
      "Epoch 47/50\n",
      "54/54 [==============================] - 5s 94ms/step - loss: 0.1198 - accuracy: 0.9638 - val_loss: 0.1125 - val_accuracy: 0.9653\n",
      "Epoch 48/50\n",
      "54/54 [==============================] - 5s 90ms/step - loss: 0.1184 - accuracy: 0.9628 - val_loss: 0.1137 - val_accuracy: 0.9642\n",
      "Epoch 49/50\n",
      "54/54 [==============================] - 5s 92ms/step - loss: 0.1165 - accuracy: 0.9638 - val_loss: 0.1258 - val_accuracy: 0.9648\n",
      "Epoch 50/50\n",
      "54/54 [==============================] - 5s 93ms/step - loss: 0.1169 - accuracy: 0.9650 - val_loss: 0.9717 - val_accuracy: 0.6499\n"
     ]
    },
    {
     "data": {
      "text/plain": [
       "<tensorflow.python.keras.callbacks.History at 0x1a536c250d0>"
      ]
     },
     "execution_count": 37,
     "metadata": {},
     "output_type": "execute_result"
    }
   ],
   "source": [
    "import tempfile\n",
    "\n",
    "logdir = tempfile.mkdtemp(dir=\"./\")\n",
    "\n",
    "callbacks = [\n",
    "  tfmot.sparsity.keras.UpdatePruningStep(),\n",
    "  tfmot.sparsity.keras.PruningSummaries(log_dir=logdir),\n",
    "]\n",
    "\n",
    "model_for_pruning.fit(X_trn_tf, y_trn_oh,\n",
    "                  batch_size=batch_size, epochs=epochs, validation_split=validation_split,\n",
    "                  callbacks=callbacks)"
   ]
  },
  {
   "cell_type": "code",
   "execution_count": 38,
   "metadata": {
    "execution": {
     "iopub.execute_input": "2021-10-04T17:10:22.718504Z",
     "iopub.status.busy": "2021-10-04T17:10:22.718504Z",
     "iopub.status.idle": "2021-10-04T17:10:28.007003Z",
     "shell.execute_reply": "2021-10-04T17:10:28.006038Z",
     "shell.execute_reply.started": "2021-10-04T17:10:22.718504Z"
    },
    "tags": []
   },
   "outputs": [
    {
     "name": "stdout",
     "output_type": "stream",
     "text": [
      "Pruned test accuracy: 0.6508805155754089\n"
     ]
    }
   ],
   "source": [
    "_, model_for_pruning_accuracy = model_for_pruning.evaluate(X_tst_tf, y_tst_oh, verbose=0)\n",
    "print('Pruned test accuracy:', model_for_pruning_accuracy)"
   ]
  },
  {
   "cell_type": "code",
   "execution_count": 39,
   "metadata": {
    "execution": {
     "iopub.execute_input": "2021-10-04T17:10:28.008000Z",
     "iopub.status.busy": "2021-10-04T17:10:28.008000Z",
     "iopub.status.idle": "2021-10-04T17:10:28.022072Z",
     "shell.execute_reply": "2021-10-04T17:10:28.021073Z",
     "shell.execute_reply.started": "2021-10-04T17:10:28.008000Z"
    },
    "tags": []
   },
   "outputs": [],
   "source": [
    "#!load_ext tensorboard \n",
    "#!tensorboard --logdir=logdir"
   ]
  },
  {
   "cell_type": "code",
   "execution_count": 40,
   "metadata": {
    "execution": {
     "iopub.execute_input": "2021-10-04T17:10:28.023076Z",
     "iopub.status.busy": "2021-10-04T17:10:28.023076Z",
     "iopub.status.idle": "2021-10-04T17:10:29.068691Z",
     "shell.execute_reply": "2021-10-04T17:10:29.067813Z",
     "shell.execute_reply.started": "2021-10-04T17:10:28.023076Z"
    }
   },
   "outputs": [
    {
     "name": "stdout",
     "output_type": "stream",
     "text": [
      "Saved pruned Keras model to: C:\\Users\\mmorsy\\AppData\\Local\\Temp\\tmp69cjdpgi.h5\n"
     ]
    }
   ],
   "source": [
    "model_for_export = tfmot.sparsity.keras.strip_pruning(model_for_pruning)\n",
    "\n",
    "_, pruned_keras_file = tempfile.mkstemp('.h5')\n",
    "tf.keras.models.save_model(model_for_export, pruned_keras_file, include_optimizer=False)\n",
    "print('Saved pruned Keras model to:', pruned_keras_file)"
   ]
  },
  {
   "cell_type": "code",
   "execution_count": 41,
   "metadata": {
    "execution": {
     "iopub.execute_input": "2021-10-04T17:10:29.069690Z",
     "iopub.status.busy": "2021-10-04T17:10:29.069690Z",
     "iopub.status.idle": "2021-10-04T17:11:01.235919Z",
     "shell.execute_reply": "2021-10-04T17:11:01.234954Z",
     "shell.execute_reply.started": "2021-10-04T17:10:29.069690Z"
    }
   },
   "outputs": [
    {
     "name": "stdout",
     "output_type": "stream",
     "text": [
      "INFO:tensorflow:Assets written to: C:\\Users\\mmorsy\\AppData\\Local\\Temp\\tmpjshtvg4g\\assets\n"
     ]
    },
    {
     "name": "stderr",
     "output_type": "stream",
     "text": [
      "INFO:tensorflow:Assets written to: C:\\Users\\mmorsy\\AppData\\Local\\Temp\\tmpjshtvg4g\\assets\n"
     ]
    },
    {
     "name": "stdout",
     "output_type": "stream",
     "text": [
      "Saved pruned TFLite model to: C:\\Users\\mmorsy\\AppData\\Local\\Temp\\tmpioqbl0xj.tflite\n"
     ]
    }
   ],
   "source": [
    "converter = tf.lite.TFLiteConverter.from_keras_model(model_for_export)\n",
    "pruned_tflite_model = converter.convert()\n",
    "\n",
    "_, pruned_tflite_file = tempfile.mkstemp('.tflite')\n",
    "\n",
    "with open(pruned_tflite_file, 'wb') as f:\n",
    "  f.write(pruned_tflite_model)\n",
    "\n",
    "print('Saved pruned TFLite model to:', pruned_tflite_file)"
   ]
  },
  {
   "cell_type": "code",
   "execution_count": 42,
   "metadata": {
    "execution": {
     "iopub.execute_input": "2021-10-04T17:11:01.236912Z",
     "iopub.status.busy": "2021-10-04T17:11:01.236912Z",
     "iopub.status.idle": "2021-10-04T17:11:01.251926Z",
     "shell.execute_reply": "2021-10-04T17:11:01.249954Z",
     "shell.execute_reply.started": "2021-10-04T17:11:01.236912Z"
    }
   },
   "outputs": [],
   "source": [
    "def get_gzipped_model_size(file):\n",
    "  # Returns size of gzipped model, in bytes.\n",
    "  import os\n",
    "  import zipfile\n",
    "\n",
    "  _, zipped_file = tempfile.mkstemp('.zip')\n",
    "  with zipfile.ZipFile(zipped_file, 'w', compression=zipfile.ZIP_DEFLATED) as f:\n",
    "    f.write(file)\n",
    "\n",
    "  return os.path.getsize(zipped_file)"
   ]
  },
  {
   "cell_type": "code",
   "execution_count": 43,
   "metadata": {
    "execution": {
     "iopub.execute_input": "2021-10-04T17:11:01.252950Z",
     "iopub.status.busy": "2021-10-04T17:11:01.251926Z",
     "iopub.status.idle": "2021-10-04T17:11:01.311918Z",
     "shell.execute_reply": "2021-10-04T17:11:01.309939Z",
     "shell.execute_reply.started": "2021-10-04T17:11:01.251926Z"
    },
    "tags": []
   },
   "outputs": [
    {
     "name": "stdout",
     "output_type": "stream",
     "text": [
      "Size of gzipped baseline Keras model: 10163.00 bytes\n",
      "Size of gzipped pruned Keras model: 13673.00 bytes\n",
      "Size of gzipped pruned TFlite model: 7822.00 bytes\n"
     ]
    }
   ],
   "source": [
    "print(\"Size of gzipped baseline Keras model: %.2f bytes\" % (get_gzipped_model_size(keras_file)))\n",
    "print(\"Size of gzipped pruned Keras model: %.2f bytes\" % (get_gzipped_model_size(pruned_keras_file)))\n",
    "print(\"Size of gzipped pruned TFlite model: %.2f bytes\" % (get_gzipped_model_size(pruned_tflite_file)))"
   ]
  },
  {
   "cell_type": "code",
   "execution_count": 44,
   "metadata": {
    "execution": {
     "iopub.execute_input": "2021-10-04T17:11:01.312906Z",
     "iopub.status.busy": "2021-10-04T17:11:01.312906Z",
     "iopub.status.idle": "2021-10-04T17:11:33.177084Z",
     "shell.execute_reply": "2021-10-04T17:11:33.176121Z",
     "shell.execute_reply.started": "2021-10-04T17:11:01.312906Z"
    },
    "tags": []
   },
   "outputs": [
    {
     "name": "stdout",
     "output_type": "stream",
     "text": [
      "INFO:tensorflow:Assets written to: C:\\Users\\mmorsy\\AppData\\Local\\Temp\\tmpypc8dz5n\\assets\n"
     ]
    },
    {
     "name": "stderr",
     "output_type": "stream",
     "text": [
      "INFO:tensorflow:Assets written to: C:\\Users\\mmorsy\\AppData\\Local\\Temp\\tmpypc8dz5n\\assets\n"
     ]
    },
    {
     "name": "stdout",
     "output_type": "stream",
     "text": [
      "Saved quantized and pruned TFLite model to: C:\\Users\\mmorsy\\AppData\\Local\\Temp\\tmpckp1b4ha.tflite\n",
      "Size of gzipped baseline Keras model: 10163.00 bytes\n",
      "Size of gzipped pruned and quantized TFlite model: 7256.00 bytes\n"
     ]
    }
   ],
   "source": [
    "converter = tf.lite.TFLiteConverter.from_keras_model(model_for_export)\n",
    "converter.optimizations = [tf.lite.Optimize.DEFAULT]\n",
    "quantized_and_pruned_tflite_model = converter.convert()\n",
    "\n",
    "_, quantized_and_pruned_tflite_file = tempfile.mkstemp('.tflite')\n",
    "\n",
    "with open(quantized_and_pruned_tflite_file, 'wb') as f:\n",
    "  f.write(quantized_and_pruned_tflite_model)\n",
    "\n",
    "print('Saved quantized and pruned TFLite model to:', quantized_and_pruned_tflite_file)\n",
    "\n",
    "print(\"Size of gzipped baseline Keras model: %.2f bytes\" % (get_gzipped_model_size(keras_file)))\n",
    "print(\"Size of gzipped pruned and quantized TFlite model: %.2f bytes\" % (get_gzipped_model_size(quantized_and_pruned_tflite_file)))"
   ]
  },
  {
   "cell_type": "code",
   "execution_count": 45,
   "metadata": {
    "execution": {
     "iopub.execute_input": "2021-10-04T17:11:33.179118Z",
     "iopub.status.busy": "2021-10-04T17:11:33.178083Z",
     "iopub.status.idle": "2021-10-04T17:11:33.193075Z",
     "shell.execute_reply": "2021-10-04T17:11:33.191087Z",
     "shell.execute_reply.started": "2021-10-04T17:11:33.179118Z"
    },
    "tags": []
   },
   "outputs": [],
   "source": [
    "import numpy as np\n",
    "\n",
    "def evaluate_model(interpreter):\n",
    "  input_index = interpreter.get_input_details()[0][\"index\"]\n",
    "  output_index = interpreter.get_output_details()[0][\"index\"]\n",
    "\n",
    "  # Run predictions on ever y image in the \"test\" dataset.\n",
    "  prediction_results = []\n",
    "  for i, test_example in enumerate(X_tst_tf):\n",
    "    if i % 1000 == 0:\n",
    "      print('Evaluated on {n} results so far.'.format(n=i))\n",
    "    # Pre-processing: add batch dimension and convert to float32 to match with\n",
    "    # the model's input data format.\n",
    "    test_example = np.expand_dims(test_example, axis=0).astype(np.float32)\n",
    "    interpreter.set_tensor(input_index, test_example)\n",
    "\n",
    "    # Run inference.\n",
    "    interpreter.invoke()\n",
    "\n",
    "    # Post-processing: remove batch dimension and find the digit with highest\n",
    "    # probability.\n",
    "    output = interpreter.tensor(output_index)\n",
    "    digit = np.argmax(output()[0])\n",
    "    prediction_results.append(digit)\n",
    "\n",
    "  print('\\n')\n",
    "  # Compare prediction results with ground truth labels to calculate accuracy.\n",
    "  prediction_digits = np.array(prediction_results)\n",
    "  accuracy = (prediction_results == y_tst).mean()\n",
    "  return accuracy"
   ]
  },
  {
   "cell_type": "code",
   "execution_count": 46,
   "metadata": {
    "execution": {
     "iopub.execute_input": "2021-10-04T17:11:33.194075Z",
     "iopub.status.busy": "2021-10-04T17:11:33.194075Z",
     "iopub.status.idle": "2021-10-04T17:12:21.506876Z",
     "shell.execute_reply": "2021-10-04T17:12:21.505879Z",
     "shell.execute_reply.started": "2021-10-04T17:11:33.194075Z"
    },
    "tags": []
   },
   "outputs": [
    {
     "name": "stdout",
     "output_type": "stream",
     "text": [
      "Evaluated on 0 results so far.\n",
      "Evaluated on 1000 results so far.\n",
      "Evaluated on 2000 results so far.\n",
      "Evaluated on 3000 results so far.\n",
      "Evaluated on 4000 results so far.\n",
      "Evaluated on 5000 results so far.\n",
      "Evaluated on 6000 results so far.\n",
      "Evaluated on 7000 results so far.\n",
      "Evaluated on 8000 results so far.\n",
      "\n",
      "\n",
      "Pruned and quantized TFLite test_accuracy: 0.6548072346501665\n",
      "Pruned TF test accuracy: 0.6508805155754089\n"
     ]
    }
   ],
   "source": [
    "interpreter = tf.lite.Interpreter(model_content=quantized_and_pruned_tflite_model)\n",
    "interpreter.allocate_tensors()\n",
    "\n",
    "test_accuracy = evaluate_model(interpreter)\n",
    "\n",
    "print('Pruned and quantized TFLite test_accuracy:', test_accuracy)\n",
    "print('Pruned TF test accuracy:', model_for_pruning_accuracy)"
   ]
  },
  {
   "cell_type": "code",
   "execution_count": null,
   "metadata": {},
   "outputs": [],
   "source": []
  }
 ],
 "metadata": {
  "kernelspec": {
   "display_name": "Python 3",
   "language": "python",
   "name": "python3"
  },
  "language_info": {
   "codemirror_mode": {
    "name": "ipython",
    "version": 3
   },
   "file_extension": ".py",
   "mimetype": "text/x-python",
   "name": "python",
   "nbconvert_exporter": "python",
   "pygments_lexer": "ipython3",
   "version": "3.8.5"
  },
  "metadata": {
   "interpreter": {
    "hash": "1baa965d5efe3ac65b79dfc60c0d706280b1da80fedb7760faf2759126c4f253"
   }
  }
 },
 "nbformat": 4,
 "nbformat_minor": 4
}
